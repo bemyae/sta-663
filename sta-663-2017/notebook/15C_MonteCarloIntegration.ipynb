{
 "cells": [
  {
   "cell_type": "code",
   "execution_count": 1,
   "metadata": {
    "collapsed": true
   },
   "outputs": [],
   "source": [
    "%matplotlib inline\n",
    "import numpy as np\n",
    "import scipy.stats as stats\n",
    "import matplotlib.pyplot as plt\n",
    "import seaborn as sns"
   ]
  },
  {
   "cell_type": "markdown",
   "metadata": {},
   "source": [
    "Numerical Evaluation of Integrals\n",
    "====\n",
    "\n",
    "Integration problems are common in statistics whenever we are dealing with continuous distributions. For example the expectation of a function is an integration problem\n",
    "\n",
    "$$\n",
    "E[f(x)] = \\int{f(x) \\, p(x) \\, dx}\n",
    "$$\n",
    "\n",
    "In Bayesian statistics, we need to solve the integration problem for the marginal likelihood or evidence\n",
    "\n",
    "$$\n",
    "p(X \\mid \\alpha) = \\int{p(X \\mid \\theta) \\, p(\\theta \\mid \\alpha) d\\theta}\n",
    "$$\n",
    "\n",
    "where $\\alpha$ is a hyperparameter and $p(X \\mid \\alpha)$ appears in the denominator of Bayes theorem\n",
    "\n",
    "$$\n",
    "p(\\theta | X) = \\frac{p(X \\mid \\theta) \\, p(\\theta \\mid \\alpha)}{p(X \\mid \\alpha)}\n",
    "$$\n",
    "\n",
    "In general, there is no closed form solution to these integrals, and we have to approximate them numerically. The first step is to check if there is some **reparameterization** that will simplify the problem. Then, the general approaches to solving integration problems are\n",
    "\n",
    "1. Numerical quadrature\n",
    "2. Importance sampling, adaptive importance sampling and variance reduction techniques (Monte Carlo swindles)\n",
    "3. Markov Chain Monte Carlo\n",
    "4. Asymptotic approximations (Laplace method and its modern version in variational inference)\n",
    "\n",
    "This lecture will review the concepts for quadrature and Monte Carlo integration."
   ]
  },
  {
   "cell_type": "markdown",
   "metadata": {},
   "source": [
    "## Quadrature\n",
    "\n",
    "You may recall from Calculus that integrals can be numerically evaluated using quadrature methods such as Trapezoid and Simpson's's rules. This is easy to do in Python, but has the drawback of the complexity growing as $O(n^d)$ where $d$ is the dimensionality of the data, and hence infeasible once $d$ grows beyond a modest number."
   ]
  },
  {
   "cell_type": "markdown",
   "metadata": {},
   "source": [
    "### Integrating functions"
   ]
  },
  {
   "cell_type": "code",
   "execution_count": 2,
   "metadata": {
    "collapsed": true
   },
   "outputs": [],
   "source": [
    "from scipy.integrate import quad"
   ]
  },
  {
   "cell_type": "code",
   "execution_count": 3,
   "metadata": {
    "collapsed": true
   },
   "outputs": [],
   "source": [
    "def f(x):\n",
    "    return x * np.cos(71*x) + np.sin(13*x)"
   ]
  },
  {
   "cell_type": "code",
   "execution_count": 4,
   "metadata": {
    "collapsed": false
   },
   "outputs": [
    {
     "data": {
      "image/png": "[encoded data removed]",
      "text/plain": [
       "<matplotlib.figure.Figure at 0x1207dfd68>"
      ]
     },
     "metadata": {},
     "output_type": "display_data"
    }
   ],
   "source": [
    "x = np.linspace(0, 1, 100)\n",
    "plt.plot(x, f(x))\n",
    "pass"
   ]
  },
  {
   "cell_type": "markdown",
   "metadata": {},
   "source": [
    "#### Exact solution"
   ]
  },
  {
   "cell_type": "code",
   "execution_count": 5,
   "metadata": {
    "collapsed": false
   },
   "outputs": [
    {
     "data": {
      "text/plain": [
       "0.0202549"
      ]
     },
     "execution_count": 5,
     "metadata": {},
     "output_type": "execute_result"
    }
   ],
   "source": [
    "from sympy import sin, cos, symbols, integrate\n",
    "\n",
    "x = symbols('x')\n",
    "integrate(x * cos(71*x) + sin(13*x), (x, 0,1)).evalf(6)"
   ]
  },
  {
   "cell_type": "markdown",
   "metadata": {},
   "source": [
    "#### Using quadrature"
   ]
  },
  {
   "cell_type": "code",
   "execution_count": 6,
   "metadata": {
    "collapsed": false
   },
   "outputs": [
    {
     "data": {
      "text/plain": [
       "0.02025493910239419"
      ]
     },
     "execution_count": 6,
     "metadata": {},
     "output_type": "execute_result"
    }
   ],
   "source": [
    "y, err = quad(f, 0, 1.0)\n",
    "y"
   ]
  },
  {
   "cell_type": "markdown",
   "metadata": {},
   "source": [
    "#### Multiple integration\n",
    "\n",
    "Following the `scipy.integrate` [documentation](http://docs.scipy.org/doc/scipy/reference/tutorial/integrate.html), we integrate\n",
    "\n",
    "$$\n",
    "I=\\int_{y=0}^{1/2}\\int_{x=0}^{1-2y} x y \\, dx\\, dy\n",
    "$$"
   ]
  },
  {
   "cell_type": "code",
   "execution_count": 7,
   "metadata": {
    "collapsed": false
   },
   "outputs": [
    {
     "data": {
      "text/plain": [
       "0.0104166666666667"
      ]
     },
     "execution_count": 7,
     "metadata": {},
     "output_type": "execute_result"
    }
   ],
   "source": [
    "x, y = symbols('x y')\n",
    "integrate(x*y, (x, 0, 1-2*y), (y, 0, 0.5))"
   ]
  },
  {
   "cell_type": "code",
   "execution_count": 8,
   "metadata": {
    "collapsed": false
   },
   "outputs": [
    {
     "data": {
      "text/plain": [
       "0.010416666666666668"
      ]
     },
     "execution_count": 8,
     "metadata": {},
     "output_type": "execute_result"
    }
   ],
   "source": [
    "from scipy.integrate import nquad\n",
    "\n",
    "def f(x, y):\n",
    "    return x*y\n",
    "\n",
    "def bounds_y():\n",
    "    return [0, 0.5]\n",
    "\n",
    "def bounds_x(y):\n",
    "    return [0, 1-2*y]\n",
    "\n",
    "y, err = nquad(f, [bounds_x, bounds_y])\n",
    "y"
   ]
  },
  {
   "cell_type": "markdown",
   "metadata": {},
   "source": [
    "Monte Carlo integration\n",
    "----\n",
    "\n",
    "The basic idea of Monte Carlo integration is very simple and only requires elementary statistics. Suppose we want to find the value of \n",
    "$$\n",
    "I = \\int_a^b f(x) dx\n",
    "$$\n",
    "in some region with volume $V$. Monte Carlo integration estimates this integral by estimating the fraction of random points that fall below $f(x)$ multiplied by $V$. \n",
    "\n",
    "\n",
    "In a statistical context, we use Monte Carlo integration to estimate the expectation\n",
    "$$\n",
    "E[g(X)] = \\int_X g(x) p(x) dx\n",
    "$$\n",
    "\n",
    "with\n",
    "\n",
    "$$\n",
    "\\bar{g_n} = \\frac{1}{n} \\sum_{i=1}^n g(x_i)\n",
    "$$\n",
    "where $x_i \\sim p$ is a draw from the density $p$.\n",
    "\n",
    "We can estimate the Monte Carlo variance of the approximation as\n",
    "$$\n",
    "v_n = \\frac{1}{n^2} \\sum_{o=1}^n (g(x_i) - \\bar{g_n})^2)\n",
    "$$\n",
    "\n",
    "Also, from the Central Limit Theorem,\n",
    "\n",
    "$$\n",
    "\\frac{\\bar{g_n} - E[g(X)]}{\\sqrt{v_n}} \\sim \\mathcal{N}(0, 1)\n",
    "$$\n",
    "\n",
    "The convergence of Monte Carlo integration is $\\mathcal{0}(n^{1/2})$ and independent of the dimensionality. Hence Monte Carlo integration generally beats numerical integration for moderate- and high-dimensional integration since numerical integration (quadrature) converges as $\\mathcal{0}(n^{d})$. Even for low dimensional problems, Monte Carlo integration may have an advantage when the volume to be integrated is concentrated in a very small region and we can use information from the distribution to draw samples more often in the region of importance.\n",
    "\n",
    "An elementary, readable description of Monte Carlo integration and variance reduction techniques can be found [here](https://www.cs.dartmouth.edu/~wjarosz/publications/dissertation/appendixA.pdf)."
   ]
  },
  {
   "cell_type": "markdown",
   "metadata": {},
   "source": [
    "### Intuition behind Monte Carlo integration"
   ]
  },
  {
   "cell_type": "markdown",
   "metadata": {},
   "source": [
    "We want to find some integral \n",
    "\n",
    "$$I = \\int{f(x)} \\, dx$$\n",
    "\n",
    "Consider the expectation of a function $g(x)$ with respect to some distribution $p(x)$. By definition, we have\n",
    "\n",
    "$$\n",
    "E[g(x)] = \\int{g(x) \\, p(x) \\, dx}\n",
    "$$\n",
    "\n",
    "If we choose $g(x) = f(x)/p(x)$, then we have\n",
    "\n",
    "$$\n",
    "\\begin{align}\n",
    "E[g(x)] &= \\int{\\frac{f(x}{p(x)} \\, p(x) \\, dx} \\\\\n",
    "&= \\int{f(x) dx} \\\\\n",
    "&= I\n",
    "\\end{align}\n",
    "$$\n",
    "\n",
    "By the law of large numbers, the average converges on the expectation, so we have\n",
    "\n",
    "$$\n",
    "I \\approx \\bar{g_n} = \\frac{1}{n} \\sum_{i=1}^n g(x_i)\n",
    "$$\n",
    "\n",
    "If $f(x)$ is a proper integral (i.e. bounded), and $p(x)$ is the uniform distribution, then $g(x) = f(x)$ and this is known as ordinary Monte Carlo. If the integral of $f(x)$ is improper, then we need to use another distribution with the same support as $f(x)$."
   ]
  },
  {
   "cell_type": "markdown",
   "metadata": {},
   "source": [
    "### Intuition for error rate\n",
    "\n",
    "We will just work this out for a proper integral $f(x)$ defined in the unit cube and bounded by $|f(x)| \\le 1$. Draw a random uniform vector $x$ in the unit cube. Then\n",
    "\n",
    "$$\n",
    "\\begin{align}\n",
    "E[f(x_i)] &= \\int{f(x) p(x) dx} = I \\\\\n",
    "\\text{Var}[f(x_i)] &= \\int{(f(x_i) - I )^2 p(x) \\, dx} \\\\\n",
    "&= \\int{f(x)^2 \\, p(x) \\, dx} - 2I \\int(f(x) \\, p(x) \\, dx + I^2 \\int{p(x) \\, dx} \\\\\n",
    "& \\le \\int{f(x)^2 \\, p(x) \\, dx}  + I^2 \\\\\n",
    "& \\le \\int{f(x)^2 \\, p(x) \\, dx} \\\\\n",
    "& \\le \\int{p(x) \\, dx} = 1\n",
    "\\end{align}\n",
    "$$\n",
    "\n",
    "Now consider summing over many such IID draws $S_n = f(x_1) + f(x_2) + \\cdots + f(x_n)$. We have\n",
    "\n",
    "$$\n",
    "\\begin{align}\n",
    "E[S_n] &= nI \\\\\n",
    "\\text{Var}[S_n] & \\le n\n",
    "\\end{align}\n",
    "$$\n",
    "\n",
    "and as expected, we see that $I \\approx S_n/n$. From Chebyshev's inequality,\n",
    "\n",
    "$$\n",
    "\\begin{align}\n",
    "P \\left( \\left| \\frac{s_n}{n} - I \\right| \\ge \\epsilon \\right)  &= \n",
    "P \\left( \\left| s_n - nI \\right| \\ge n \\epsilon \\right) & \\le \\frac{\\text{Var}[s_n]}{n^2 \\epsilon^2} & \\le\n",
    "\\frac{1}{n \\epsilon^2} = \\delta\n",
    "\\end{align}\n",
    "$$\n",
    "\n",
    "Suppose we want 1% accuracy and 99% confidence - i.e. set $\\epsilon = \\delta = 0.01$. The above inequality tells us that we can achieve this with just $n = 1/(\\delta \\epsilon^2) = 1,000,000$ samples, regardless of the data dimensionality."
   ]
  },
  {
   "cell_type": "markdown",
   "metadata": {},
   "source": [
    "### Example\n",
    "\n",
    "We want to estimate the following integral $\\int_0^1 e^x dx$. The minimum value of the function is 1 at $x=0$ and $e$ at $x=1$."
   ]
  },
  {
   "cell_type": "code",
   "execution_count": 9,
   "metadata": {
    "collapsed": false
   },
   "outputs": [
    {
     "data": {
      "image/png": "[encoded data removed]",
      "text/plain": [
       "<matplotlib.figure.Figure at 0x1217b2128>"
      ]
     },
     "metadata": {},
     "output_type": "display_data"
    }
   ],
   "source": [
    "x = np.linspace(0, 1, 100)\n",
    "plt.plot(x, np.exp(x))\n",
    "plt.xlim([0,1])\n",
    "plt.ylim([0, np.e])\n",
    "pass"
   ]
  },
  {
   "cell_type": "markdown",
   "metadata": {},
   "source": [
    "#### Analytic solution"
   ]
  },
  {
   "cell_type": "code",
   "execution_count": 10,
   "metadata": {
    "collapsed": false
   },
   "outputs": [
    {
     "data": {
      "text/plain": [
       "1.71828182845905"
      ]
     },
     "execution_count": 10,
     "metadata": {},
     "output_type": "execute_result"
    }
   ],
   "source": [
    "from sympy import symbols, integrate, exp\n",
    "\n",
    "x = symbols('x')\n",
    "expr = integrate(exp(x), (x,0,1))\n",
    "expr.evalf()"
   ]
  },
  {
   "cell_type": "markdown",
   "metadata": {},
   "source": [
    "#### Using quadrature"
   ]
  },
  {
   "cell_type": "code",
   "execution_count": 11,
   "metadata": {
    "collapsed": false
   },
   "outputs": [
    {
     "data": {
      "text/plain": [
       "1.7182818284590453"
      ]
     },
     "execution_count": 11,
     "metadata": {},
     "output_type": "execute_result"
    }
   ],
   "source": [
    "from scipy import integrate\n",
    "\n",
    "y, err = integrate.quad(exp, 0, 1)\n",
    "y"
   ]
  },
  {
   "cell_type": "markdown",
   "metadata": {},
   "source": [
    "#### Monte Carlo integration"
   ]
  },
  {
   "cell_type": "code",
   "execution_count": 12,
   "metadata": {
    "collapsed": false
   },
   "outputs": [
    {
     "name": "stdout",
     "output_type": "stream",
     "text": [
      "        10 1.657995\n",
      "       100 1.736252\n",
      "      1000 1.712426\n",
      "     10000 1.718823\n",
      "    100000 1.718524\n",
      "   1000000 1.718875\n",
      "  10000000 1.718498\n",
      " 100000000 1.718227\n"
     ]
    }
   ],
   "source": [
    "for n in 10**np.array([1,2,3,4,5,6,7,8]):\n",
    "    x = np.random.uniform(0, 1, n)\n",
    "    sol = np.mean(np.exp(x))\n",
    "    print('%10d %.6f' % (n, sol))"
   ]
  },
  {
   "cell_type": "markdown",
   "metadata": {},
   "source": [
    "### Monitoring variance in Monte Carlo integration\n",
    "\n",
    "We are often interested in knowing how many iterations it takes for Monte Carlo integration to \"converge\". To do this, we would like some estimate of the variance, and it is useful to inspect such plots. One simple way to get confidence intervals for the plot of Monte Carlo estimate against number of iterations is simply to do many such simulations.\n",
    "\n",
    "For the example, we will try to estimate the function (again)\n",
    "\n",
    "$$\n",
    "f(x) = x \\cos 71 x + \\sin 13x, \\ \\  0 \\le x \\le 1\n",
    "$$"
   ]
  },
  {
   "cell_type": "code",
   "execution_count": 13,
   "metadata": {
    "collapsed": true
   },
   "outputs": [],
   "source": [
    "def f(x):\n",
    "    return x * np.cos(71*x) + np.sin(13*x)"
   ]
  },
  {
   "cell_type": "code",
   "execution_count": 14,
   "metadata": {
    "collapsed": false
   },
   "outputs": [
    {
     "data": {
      "image/png": "[encoded data removed]",
      "text/plain": [
       "<matplotlib.figure.Figure at 0x1218295c0>"
      ]
     },
     "metadata": {},
     "output_type": "display_data"
    }
   ],
   "source": [
    "x = np.linspace(0, 1, 100)\n",
    "plt.plot(x, f(x))\n",
    "pass"
   ]
  },
  {
   "cell_type": "markdown",
   "metadata": {},
   "source": [
    "#### Single MC integration estimate"
   ]
  },
  {
   "cell_type": "code",
   "execution_count": 15,
   "metadata": {
    "collapsed": false
   },
   "outputs": [
    {
     "data": {
      "text/plain": [
       "-0.13559989390095498"
      ]
     },
     "execution_count": 15,
     "metadata": {},
     "output_type": "execute_result"
    }
   ],
   "source": [
    "n = 100\n",
    "x = f(np.random.random(n))\n",
    "y = 1.0/n * np.sum(x)\n",
    "y"
   ]
  },
  {
   "cell_type": "markdown",
   "metadata": {},
   "source": [
    "#### Using multiple independent sequences to monitor convergence\n",
    "\n",
    "We vary the sample size from 1 to 100 and calculate the value of $y = \\sum{x}/n$ for 1000 replicates. We then plot the 2.5th and 97.5th percentile of the 1000 values of $y$ to see how the variation in $y$ changes with sample size. The blue lines indicate the 2.5th and 97.5th percentiles, and the red line a sample path."
   ]
  },
  {
   "cell_type": "code",
   "execution_count": 16,
   "metadata": {
    "collapsed": true
   },
   "outputs": [],
   "source": [
    "n = 100\n",
    "reps = 1000\n",
    "\n",
    "x = f(np.random.random((n, reps)))\n",
    "y = 1/np.arange(1, n+1)[:, None] * np.cumsum(x, axis=0)\n",
    "upper, lower = np.percentile(y, [2.5, 97.5], axis=1)"
   ]
  },
  {
   "cell_type": "code",
   "execution_count": 17,
   "metadata": {
    "collapsed": false
   },
   "outputs": [
    {
     "data": {
      "image/png": "[encoded data removed]",
      "text/plain": [
       "<matplotlib.figure.Figure at 0x12181d1d0>"
      ]
     },
     "metadata": {},
     "output_type": "display_data"
    }
   ],
   "source": [
    "plt.plot(np.arange(1, n+1), y, c='grey', alpha=0.02)\n",
    "plt.plot(np.arange(1, n+1), y[:, 0], c='red', linewidth=1);\n",
    "plt.plot(np.arange(1, n+1), upper, 'b', np.arange(1, n+1), lower, 'b')\n",
    "pass"
   ]
  },
  {
   "cell_type": "markdown",
   "metadata": {},
   "source": [
    "#### Using bootstrap to monitor convergence\n",
    "\n",
    "If it is too expensive to do 1000 replicates, we can use a bootstrap instead."
   ]
  },
  {
   "cell_type": "code",
   "execution_count": 18,
   "metadata": {
    "collapsed": true
   },
   "outputs": [],
   "source": [
    "xb = np.random.choice(x[:,0], (n, reps), replace=True)\n",
    "yb = 1/np.arange(1, n+1)[:, None] * np.cumsum(xb, axis=0)\n",
    "upper, lower = np.percentile(yb, [2.5, 97.5], axis=1)"
   ]
  },
  {
   "cell_type": "code",
   "execution_count": 19,
   "metadata": {
    "collapsed": false
   },
   "outputs": [
    {
     "data": {
      "image/png": "[encoded data removed]",
      "text/plain": [
       "<matplotlib.figure.Figure at 0x12cf4b5f8>"
      ]
     },
     "metadata": {},
     "output_type": "display_data"
    }
   ],
   "source": [
    "plt.plot(np.arange(1, n+1)[:, None], yb, c='grey', alpha=0.02)\n",
    "plt.plot(np.arange(1, n+1), yb[:, 0], c='red', linewidth=1)\n",
    "plt.plot(np.arange(1, n+1), upper, 'b', np.arange(1, n+1), lower, 'b')\n",
    "pass"
   ]
  },
  {
   "cell_type": "markdown",
   "metadata": {},
   "source": [
    "Variance Reduction\n",
    "----\n",
    "\n",
    "With independent samples, the variance of the Monte Carlo estimate is \n",
    "\n",
    "\n",
    "$$\n",
    "\\begin{align}\n",
    "\\text{Var}[\\bar{g_n}] &= \\text{Var} \\left[ \\frac{1}{N}\\sum_{i=1}^{N} \\frac{f(x_i)}{p(x_i)} \\right] \\\\\n",
    "&= \\frac{1}{N^2} \\sum_{i=1}^{N}  \\text{Var} \\left[ \\frac{f(x_i)}{p(x_i)} \\right] \\\\\n",
    "&= \\frac{1}{N^2} \\sum_{i=1}^{N} \\text{Var}[Y_i] \\\\\n",
    "&= \\frac{1}{N} \\text{Var}[Y_i]\n",
    "\\end{align}\n",
    "$$\n",
    "\n",
    "where $Y_i = f(x_i)/p(x_i)$. The objective of Monte Carlo swindles is to make $\\text{Var}[\\bar{g_n}]$ as small as possible for the same number of samples."
   ]
  },
  {
   "cell_type": "markdown",
   "metadata": {},
   "source": [
    "### Change of variables\n",
    "\n",
    "The Cauchy distribution is given by \n",
    "$$\n",
    "f(x) = \\frac{1}{\\pi (1 + x^2)}, \\ \\ -\\infty \\lt x \\lt \\infty \n",
    "$$\n",
    "\n",
    "Suppose we want to integrate the tail probability $P(X > 3)$ using Monte Carlo. One way to do this is to draw many samples form a Cauchy distribution, and count how many of them are greater than 3, but this is extremely inefficient."
   ]
  },
  {
   "cell_type": "markdown",
   "metadata": {},
   "source": [
    "#### Only 10% of samples will be used"
   ]
  },
  {
   "cell_type": "code",
   "execution_count": 20,
   "metadata": {
    "collapsed": false
   },
   "outputs": [
    {
     "data": {
      "text/plain": [
       "0.10241638234956674"
      ]
     },
     "execution_count": 20,
     "metadata": {},
     "output_type": "execute_result"
    }
   ],
   "source": [
    "import scipy.stats as stats\n",
    "\n",
    "h_true = 1 - stats.cauchy().cdf(3)\n",
    "h_true"
   ]
  },
  {
   "cell_type": "code",
   "execution_count": 21,
   "metadata": {
    "collapsed": false
   },
   "outputs": [
    {
     "data": {
      "text/plain": [
       "(0.14000000000000001, 0.36696880702301304)"
      ]
     },
     "execution_count": 21,
     "metadata": {},
     "output_type": "execute_result"
    }
   ],
   "source": [
    "n = 100\n",
    "\n",
    "x = stats.cauchy().rvs(n)\n",
    "h_mc = 1.0/n * np.sum(x > 3)\n",
    "h_mc, np.abs(h_mc - h_true)/h_true"
   ]
  },
  {
   "cell_type": "markdown",
   "metadata": {},
   "source": [
    "#### A change of variables lets us use 100% of draws\n",
    "\n",
    "We are trying to estimate the quantity\n",
    "\n",
    "$$\n",
    "\\int_3^\\infty \\frac{1}{\\pi (1 + x^2)} dx\n",
    "$$\n",
    "\n",
    "Using the substitution $y = 3/x$ (and a little algebra), we get\n",
    "\n",
    "$$\n",
    "\\int_0^1 \\frac{3}{\\pi(9 + y^2)} dy\n",
    "$$\n",
    "\n",
    "Hence, a much more efficient MC estimator is \n",
    "\n",
    "$$\n",
    "\\frac{1}{n} \\sum_{i=1}^n \\frac{3}{\\pi(9 + y_i^2)}\n",
    "$$\n",
    "\n",
    "where $y_i \\sim \\mathcal{U}(0, 1)$."
   ]
  },
  {
   "cell_type": "code",
   "execution_count": 22,
   "metadata": {
    "collapsed": false
   },
   "outputs": [
    {
     "data": {
      "text/plain": [
       "(0.10213456867129996, 0.0027516464827364996)"
      ]
     },
     "execution_count": 22,
     "metadata": {},
     "output_type": "execute_result"
    }
   ],
   "source": [
    "y = stats.uniform().rvs(n)\n",
    "h_cv = 1.0/n * np.sum(3.0/(np.pi * (9 + y**2)))\n",
    "h_cv, np.abs(h_cv - h_true)/h_true"
   ]
  },
  {
   "cell_type": "markdown",
   "metadata": {},
   "source": [
    "### Monte Carlo swindles \n",
    "\n",
    "Apart from change of variables, there are several general techniques for variance reduction, sometimes known as Monte Carlo swindles since these methods improve the accuracy and convergence rate of Monte Carlo integration without increasing the number of Monte Carlo samples. Some Monte Carlo swindles are:\n",
    "\n",
    "- importance sampling\n",
    "- stratified sampling\n",
    "- control variates\n",
    "- antithetic variates\n",
    "- conditioning swindles including Rao-Blackwellization and independent variance decomposition\n",
    "\n",
    "Most of these techniques are not particularly computational in nature, so we will not cover them in the course. I expect you will learn them elsewhere. We will illustrate importance sampling and antithetic variables here as examples."
   ]
  },
  {
   "cell_type": "markdown",
   "metadata": {},
   "source": [
    "### Antithetic variables\n",
    "\n",
    "The idea behind antithetic variables is to choose two sets of random numbers that are negatively correlated, then take their average, so that the total variance of the estimator is smaller than it would be with two sets of IID random variables."
   ]
  },
  {
   "cell_type": "code",
   "execution_count": 23,
   "metadata": {
    "collapsed": true
   },
   "outputs": [],
   "source": [
    "def f(x):\n",
    "    return x * np.cos(71*x) + np.sin(13*x)"
   ]
  },
  {
   "cell_type": "code",
   "execution_count": 24,
   "metadata": {
    "collapsed": false
   },
   "outputs": [
    {
     "data": {
      "text/plain": [
       "0.02025493910239406"
      ]
     },
     "execution_count": 24,
     "metadata": {},
     "output_type": "execute_result"
    }
   ],
   "source": [
    "from sympy import sin, cos, symbols, integrate\n",
    "\n",
    "x = symbols('x')\n",
    "sol = integrate(x * cos(71*x) + sin(13*x), (x, 0,1)).evalf(16)\n",
    "sol"
   ]
  },
  {
   "cell_type": "markdown",
   "metadata": {},
   "source": [
    "#### Vanilla Monte Carlo"
   ]
  },
  {
   "cell_type": "code",
   "execution_count": 25,
   "metadata": {
    "collapsed": false
   },
   "outputs": [
    {
     "data": {
      "text/plain": [
       "(0.019429826681871879, 0.04073635651783584)"
      ]
     },
     "execution_count": 25,
     "metadata": {},
     "output_type": "execute_result"
    }
   ],
   "source": [
    "n = 10000\n",
    "u = np.random.random(n)\n",
    "x = f(u)\n",
    "y = 1.0/n * np.sum(x)\n",
    "y, abs(y-sol)/sol"
   ]
  },
  {
   "cell_type": "markdown",
   "metadata": {},
   "source": [
    "#### Antithetic variables use first half of `u`  supplemented with `1-u`\n",
    "\n",
    "This works because the random draws are now negatively correlated, and hence the sum of the variances will be less than in the IID case, while the expectation is unchanged."
   ]
  },
  {
   "cell_type": "code",
   "execution_count": 26,
   "metadata": {
    "collapsed": false
   },
   "outputs": [
    {
     "data": {
      "text/plain": [
       "(0.021069877090343692, 0.04023403792180801)"
      ]
     },
     "execution_count": 26,
     "metadata": {},
     "output_type": "execute_result"
    }
   ],
   "source": [
    "u = np.r_[u[:n//2], 1-u[:n//2]]\n",
    "x = f(u)\n",
    "y = 1.0/n * np.sum(x)\n",
    "y, abs(y-sol)/sol"
   ]
  },
  {
   "cell_type": "markdown",
   "metadata": {},
   "source": [
    "### Importance sampling\n",
    "\n",
    "Ordinary Monte Carlo sampling evaluates\n",
    "\n",
    "$$\n",
    "E[g(X)] = \\int_X g(x)\\, p(x) \\, dx\n",
    "$$\n",
    "\n",
    "Using another distribution $h(x)$ - the so-called \"importance function\", we can rewrite the above expression as an expectation with respect to $h$\n",
    "\n",
    "$$\n",
    "E_p[g(x)] \\ = \\  \\int_X g(x) \\frac{p(x)}{h(x)} h(x) dx \\ = \\ E_h\\left[ \\frac{g(X) p(X)}{h(X)} \\right]\n",
    "$$\n",
    "\n",
    "giving us the new estimator\n",
    "\n",
    "$$\n",
    "\\bar{g_n} = \\frac{1}{n} \\sum_{i=1}^n \\frac{p(x_i)}{h(x_i)} g(x_i)\n",
    "$$\n",
    "\n",
    "where $x_i \\sim g$ is a draw from the density $h$. This is helpful if the distribution $h$ has a similar shape as the function $f(x)$ that we are integrating over, since we will draw more samples from places where the integrand makes a larger or more \"important\" contribution. This is very dependent on a good choice for the importance function $h$. Two simple choices for $h$ are scaling\n",
    "\n",
    "$$\n",
    "h(x) = \\frac{1}{a} p(x/a)\n",
    "$$\n",
    "\n",
    "and translation\n",
    "\n",
    "$$\n",
    "h(x) = p*(x - a)\n",
    "$$\n",
    "\n",
    "In these cases, the parameter $a$ is typically chosen using some adaptive algorithm, giving rise to adaptive importance sampling. Alternatively, a different distribution can be chosen as shown in the example below."
   ]
  },
  {
   "cell_type": "markdown",
   "metadata": {},
   "source": [
    "#### Example\n",
    "\n",
    "Suppose we want to estimate the tail probability of $\\mathcal{N}(0, 1)$ for $P(X > 5)$. Regular MC integration using samples from $\\mathcal{N}(0, 1)$ is hopeless since nearly all samples will be rejected. However, we can use the exponential density truncated at 5 as the importance function and use importance sampling."
   ]
  },
  {
   "cell_type": "code",
   "execution_count": 27,
   "metadata": {
    "collapsed": false
   },
   "outputs": [
    {
     "data": {
      "image/png": "[encoded data removed]",
      "text/plain": [
       "<matplotlib.figure.Figure at 0x12184e320>"
      ]
     },
     "metadata": {},
     "output_type": "display_data"
    }
   ],
   "source": [
    "x = np.linspace(4, 10, 100)\n",
    "plt.plot(x, stats.expon(5).pdf(x))\n",
    "plt.plot(x, stats.norm().pdf(x))\n",
    "pass"
   ]
  },
  {
   "cell_type": "markdown",
   "metadata": {},
   "source": [
    "#### Expected answer\n",
    "\n",
    "We expect about 3 draws out of 10,000,000 from $\\mathcal{N}(0, 1)$ to have a value greater than 5. Hence simply sampling from $\\mathcal{N}(0, 1)$ is hopelessly inefficient for Monte Carlo integration."
   ]
  },
  {
   "cell_type": "code",
   "execution_count": 28,
   "metadata": {
    "collapsed": false
   },
   "outputs": [
    {
     "data": {
      "text/plain": [
       "'%.10f'"
      ]
     },
     "execution_count": 28,
     "metadata": {},
     "output_type": "execute_result"
    }
   ],
   "source": [
    "%precision 10"
   ]
  },
  {
   "cell_type": "code",
   "execution_count": 29,
   "metadata": {
    "collapsed": false
   },
   "outputs": [
    {
     "data": {
      "text/plain": [
       "0.0000002867"
      ]
     },
     "execution_count": 29,
     "metadata": {},
     "output_type": "execute_result"
    }
   ],
   "source": [
    "h_true =1 - stats.norm().cdf(5)\n",
    "h_true"
   ]
  },
  {
   "cell_type": "markdown",
   "metadata": {},
   "source": [
    "#### Using direct Monte Carlo integration"
   ]
  },
  {
   "cell_type": "code",
   "execution_count": 30,
   "metadata": {
    "collapsed": false
   },
   "outputs": [
    {
     "data": {
      "text/plain": [
       "(0.0000000000, 1.0000000000)"
      ]
     },
     "execution_count": 30,
     "metadata": {},
     "output_type": "execute_result"
    }
   ],
   "source": [
    "n = 10000\n",
    "y = stats.norm().rvs(n)\n",
    "h_mc = 1.0/n * np.sum(y > 5)\n",
    "# estimate and relative error\n",
    "h_mc, np.abs(h_mc - h_true)/h_true "
   ]
  },
  {
   "cell_type": "markdown",
   "metadata": {},
   "source": [
    "#### Using importance sampling"
   ]
  },
  {
   "cell_type": "code",
   "execution_count": 31,
   "metadata": {
    "collapsed": false
   },
   "outputs": [
    {
     "data": {
      "text/plain": [
       "(0.0000002944, 0.0270524683)"
      ]
     },
     "execution_count": 31,
     "metadata": {},
     "output_type": "execute_result"
    }
   ],
   "source": [
    "n = 10000\n",
    "y = stats.expon(loc=5).rvs(n)\n",
    "h_is = 1.0/n * np.sum(stats.norm().pdf(y)/stats.expon(loc=5).pdf(y))\n",
    "# estimate and relative error\n",
    "h_is, np.abs(h_is- h_true)/h_true"
   ]
  },
  {
   "cell_type": "markdown",
   "metadata": {},
   "source": [
    "Quasi-random numbers\n",
    "----\n",
    "\n",
    "Recall that the convergence of Monte Carlo integration is $\\mathcal{0}(n^{1/2})$. One issue with simple Monte Carlo is that randomly chosen points tend to be clumped. Clumping reduces accuracy since nearby points provide little additional information about the function begin estimated. One way to address this is to split the space into multiple integration regions, then sum them up. This is known as **stratified sampling**. Another alternative is to use quasi-random numbers which fill space more efficiently than random sequences\n",
    "\n",
    "It turns out that if we use quasi-random or low discrepancy sequences, we can get convergence approaching $\\mathcal{0}(1/n)$. There are several such generators, but their use in statistical settings is limited to cases where we are integrating with respect to uniform distributions. The regularity can also give rise to errors when estimating integrals of periodic functions. However, these quasi-Monte Carlo methods are used in computational finance models."
   ]
  },
  {
   "cell_type": "markdown",
   "metadata": {},
   "source": [
    "Run \n",
    "```\n",
    "! pip install ghalton\n",
    "```\n",
    "if `ghalton` is not installed."
   ]
  },
  {
   "cell_type": "code",
   "execution_count": 32,
   "metadata": {
    "collapsed": false
   },
   "outputs": [],
   "source": [
    "import ghalton\n",
    "\n",
    "gen = ghalton.Halton(2)"
   ]
  },
  {
   "cell_type": "code",
   "execution_count": 33,
   "metadata": {
    "collapsed": false
   },
   "outputs": [
    {
     "data": {
      "image/png": "[encoded data removed]",
      "text/plain": [
       "<matplotlib.figure.Figure at 0x121b4f320>"
      ]
     },
     "metadata": {},
     "output_type": "display_data"
    }
   ],
   "source": [
    "plt.figure(figsize=(10,5))\n",
    "plt.subplot(121)\n",
    "xs = np.random.random((100,2))\n",
    "plt.scatter(xs[:, 0], xs[:,1])\n",
    "plt.axis([-0.05, 1.05, -0.05, 1.05])\n",
    "plt.title('Pseudo-random', fontsize=20)\n",
    "plt.subplot(122)\n",
    "ys = np.array(gen.get(100))\n",
    "plt.scatter(ys[:, 0], ys[:,1])\n",
    "plt.axis([-0.05, 1.05, -0.05, 1.05])\n",
    "plt.title('Quasi-random', fontsize=20);"
   ]
  },
  {
   "cell_type": "markdown",
   "metadata": {},
   "source": [
    "#### Quasi-Monte Carlo integration can reduce variance"
   ]
  },
  {
   "cell_type": "code",
   "execution_count": 34,
   "metadata": {
    "collapsed": false
   },
   "outputs": [],
   "source": [
    "h_true = 1 - stats.cauchy().cdf(3)"
   ]
  },
  {
   "cell_type": "code",
   "execution_count": 35,
   "metadata": {
    "collapsed": false
   },
   "outputs": [
    {
     "data": {
      "text/plain": [
       "[(0.0995639331, 2.7851493922),\n",
       " (0.1013519751, 1.0392939477),\n",
       " (0.1018614640, 0.5418257479),\n",
       " (0.1006039674, 1.7696533966),\n",
       " (0.1030816150, 0.6495373689)]"
      ]
     },
     "execution_count": 35,
     "metadata": {},
     "output_type": "execute_result"
    }
   ],
   "source": [
    "n = 10\n",
    "x = stats.uniform().rvs((n, 5))\n",
    "y = 3.0/(np.pi * (9 + x**2))\n",
    "h_mc = np.sum(y, 0)/n\n",
    "list(zip(h_mc, 100*np.abs(h_mc - h_true)/h_true))"
   ]
  },
  {
   "cell_type": "code",
   "execution_count": 36,
   "metadata": {
    "collapsed": false
   },
   "outputs": [
    {
     "data": {
      "text/plain": [
       "[(0.1026632536, 0.2410466633),\n",
       " (0.1023042949, 0.1094428682),\n",
       " (0.1026741252, 0.2516617574),\n",
       " (0.1029118212, 0.4837496311),\n",
       " (0.1026111501, 0.1901724534)]"
      ]
     },
     "execution_count": 36,
     "metadata": {},
     "output_type": "execute_result"
    }
   ],
   "source": [
    "gen1 = ghalton.Halton(1)\n",
    "x = np.reshape(gen1.get(n*5), (n, 5))\n",
    "y = 3.0/(np.pi * (9 + x**2))\n",
    "h_qmc = np.sum(y, 0)/n\n",
    "list(zip(h_qmc, 100*np.abs(h_qmc - h_true)/h_true))"
   ]
  }
 ],
 "metadata": {
  "kernelspec": {
   "display_name": "Python 3",
   "language": "python",
   "name": "python3"
  },
  "language_info": {
   "codemirror_mode": {
    "name": "ipython",
    "version": 3
   },
   "file_extension": ".py",
   "mimetype": "text/x-python",
   "name": "python",
   "nbconvert_exporter": "python",
   "pygments_lexer": "ipython3",
   "version": "3.5.3"
  },
  "latex_envs": {
   "bibliofile": "biblio.bib",
   "cite_by": "apalike",
   "current_citInitial": 1,
   "eqLabelWithNumbers": true,
   "eqNumInitial": 0
  }
 },
 "nbformat": 4,
 "nbformat_minor": 0
}
