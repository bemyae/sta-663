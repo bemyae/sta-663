{
 "cells": [
  {
   "cell_type": "code",
   "execution_count": 1,
   "metadata": {
    "collapsed": true
   },
   "outputs": [],
   "source": [
    "%matplotlib inline"
   ]
  },
  {
   "cell_type": "code",
   "execution_count": 2,
   "metadata": {
    "collapsed": true
   },
   "outputs": [],
   "source": [
    "import matplotlib.pyplot as plt"
   ]
  },
  {
   "cell_type": "markdown",
   "metadata": {},
   "source": [
    "# Functions, loops and branching\n",
    "\n",
    "The following exercises let you practice Python syntax. Do not use any packages not in the [standard library](https://docs.python.org/3/library/) except for `matplotlib.pyplot` which has been imported for you.\n",
    "\n",
    "If you have not done much programming, these exercises will be challenging. Don't give up! For this first exercise, solutions are provided, but try not to refer to them unless you are desperate."
   ]
  },
  {
   "cell_type": "markdown",
   "metadata": {},
   "source": [
    "**1**. Grading (20 points)\n",
    "\n",
    "- Write a function to assign grades to a student such that \n",
    "```\n",
    "A = [90 - 100]\n",
    "B = [80 - 90)\n",
    "C = [65 - 80)\n",
    "D = [0, 65)\n",
    "```\n",
    "\n",
    "where square brackets indicate inclusive boundaries and parentheses indicate exclusive boundaries. However, studens whose attendance is 12 days or fewer get their grade reduced by one (A to B, B to C, C to D, and D stays D). The function should take a score and an attendance as an argument and return A, B, C or D as appropriate.(10 points)\n",
    "- Count the number of students with each grade from the given scores. (10 points)"
   ]
  },
  {
   "cell_type": "code",
   "execution_count": 3,
   "metadata": {
    "collapsed": false
   },
   "outputs": [],
   "source": [
    "scores = [ 84,  76,  67,  23,  83,  23,  50, 100,  32,  84,  22,  41,  27,\n",
    "        29,  71,  85,  47,  77,  39,  25,  85,  69,  22,  66, 100,  92,\n",
    "        97,  46,  81,  88,  67,  20,  52,  62,  39,  36,  79,  54,  74,\n",
    "        64,  33,  68,  85,  69,  84,  30,  68, 100,  71,  33,  21,  95,\n",
    "        92,  72,  53,  50,  31,  82,  53,  68,  49,  37,  40,  21,  94,\n",
    "        30,  54,  58,  92,  95,  73,  80,  81,  56,  44,  22,  69,  70,\n",
    "        25,  50,  59,  32,  65,  79,  27,  62,  27,  31,  78,  88,  68,\n",
    "        53,  79,  69,  89,  38,  80,  55,  92,  55]\n",
    "\n",
    "attendances = [17, 19, 21, 14, 10, 20, 14,  9,  6, 21,  5, 23, 21,  4,  5, 21, 20,\n",
    "        2, 14, 14, 21, 22,  3,  0, 11,  0,  0,  4, 20, 14, 23, 16, 24,  5,\n",
    "       12, 11, 22, 20, 15, 23,  0, 20, 20,  6,  4, 14,  6, 18, 17,  0, 18,\n",
    "        6,  3, 19, 24,  7,  9, 15, 18, 10,  2, 15, 21,  2,  9, 21, 20, 11,\n",
    "       24, 23, 14, 22,  4, 12,  7, 19,  6, 18, 23,  6, 14,  6,  1, 12,  7,\n",
    "       11, 22, 21,  7, 22, 24,  4, 10, 17, 21, 15,  0, 20,  3, 20]"
   ]
  },
  {
   "cell_type": "code",
   "execution_count": 4,
   "metadata": {
    "collapsed": true
   },
   "outputs": [],
   "source": [
    "# Your answer here\n",
    "\n",
    "\n",
    "\n"
   ]
  },
  {
   "cell_type": "markdown",
   "metadata": {},
   "source": [
    "**2**. The Henon map and chaos. (25 points)\n",
    "\n",
    "The Henon map takes a pont $(x_n, y_n)$ in the plane and maps it to \n",
    "$$\n",
    "x_{n+1} = 1 - a x_n^2 + y_n \\\\\n",
    "y_{n+1} = b x_n\n",
    "$$\n",
    "\n",
    "- Write a function for the Henon map. It should take the current (x, y) value and return a new pair of coordinates. Set a=1.4 and b=0.3 as defatult arguments. What is the output for x=1 and y=1? (5 points)\n",
    "- Using a for loop that increments the value of $a$ from 1.1 to 1.4 in steps of 0.01, save the last 50 $x$-terms in the iterated Henon map stopping at $x_{1000}$ for each value of $a$. Use $x_0 = 1$ and $y_0 = 1$ for each value of $a$, leaveing fixed $b = 0.3$.(10 points)\n",
    "- Make a scatter plot of each $(a, x)$ value with $a$ on the horizontal axis and $x$ on the vertical axis. Use the `plt.scatter` function with `s=1` to make the plot. (10 points)"
   ]
  },
  {
   "cell_type": "code",
   "execution_count": 5,
   "metadata": {
    "collapsed": true
   },
   "outputs": [],
   "source": [
    "# Your answer here\n",
    "\n",
    "\n",
    "\n"
   ]
  },
  {
   "cell_type": "markdown",
   "metadata": {},
   "source": [
    "**3**. Collatz numbers - Euler project problem 14. (25 points)\n",
    "\n",
    "The following iterative sequence is defined for the set of positive integers:\n",
    "```\n",
    "n → n/2 (n is even)\n",
    "n → 3n + 1 (n is odd)\n",
    "```\n",
    "Using the rule above and starting with 13, we generate the following sequence:\n",
    "```\n",
    "13 → 40 → 20 → 10 → 5 → 16 → 8 → 4 → 2 → 1\n",
    "```\n",
    "It can be seen that this sequence (starting at 13 and finishing at 1) contains 10 terms. Although it has not been proved yet (Collatz Problem), it is thought that all starting numbers finish at 1.\n",
    "\n",
    "- Write a function to generate the iterative sequence described (15 points)\n",
    "- Which starting number, under one million, produces the longest chain? (10 points)\n",
    "\n",
    "NOTE: Once the chain starts the terms are allowed to go above one million."
   ]
  },
  {
   "cell_type": "code",
   "execution_count": 6,
   "metadata": {
    "collapsed": false
   },
   "outputs": [],
   "source": [
    "# Your answer here\n",
    "\n",
    "\n",
    "\n"
   ]
  },
  {
   "cell_type": "markdown",
   "metadata": {},
   "source": [
    "**4**. Reading Ulysses. (30 points)\n",
    "\n",
    "- Write a program to download the text of [Ulysses](http://www.gutenberg.org/files/4300/4300-0.txt) (5 points)\n",
    "- Open the downloaded file and read the entire sequence into a single string variable called `text`, discarding the header information (i.e. text should start with `\\n\\n*** START OF THIS PROJECT GUTENBERG EBOOK ULYSSES ***\\n\\n\\n\\n\\n`). Also remove the footer information (i.e. text should not include anything from `End of the Project Gutenberg EBook of Ulysses, by James Joyce`). (10 points)\n",
    "- Find and report the starting index (counting from zero) and length of the longest word in `text`. For simplicity, a word is defined here to be any sequence of characters with no space between the characters (i.e. a word may include punctuation or numbers, just not spaces). If there are ties, report the starting index and length of the last word found. For example, in \"the quick brow fox jumps over the lazy dog.\" the longest word is `jumps` which starts at index 19 and has length 5, and 'dog.' would be considered a 4-letter word (15 points)."
   ]
  },
  {
   "cell_type": "code",
   "execution_count": 14,
   "metadata": {
    "collapsed": true
   },
   "outputs": [],
   "source": [
    "# Your answer here\n",
    "\n",
    "\n",
    "\n"
   ]
  }
 ],
 "metadata": {
  "kernelspec": {
   "display_name": "Python 3",
   "language": "python",
   "name": "python3"
  },
  "language_info": {
   "codemirror_mode": {
    "name": "ipython",
    "version": 3
   },
   "file_extension": ".py",
   "mimetype": "text/x-python",
   "name": "python",
   "nbconvert_exporter": "python",
   "pygments_lexer": "ipython3",
   "version": "3.5.2"
  },
  "latex_envs": {
   "bibliofile": "biblio.bib",
   "cite_by": "apalike",
   "current_citInitial": 1,
   "eqLabelWithNumbers": true,
   "eqNumInitial": 0
  }
 },
 "nbformat": 4,
 "nbformat_minor": 1
}
