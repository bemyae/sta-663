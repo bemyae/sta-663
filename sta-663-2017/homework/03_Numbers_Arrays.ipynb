{
 "cells": [
  {
   "cell_type": "code",
   "execution_count": 1,
   "metadata": {
    "collapsed": true
   },
   "outputs": [],
   "source": [
    "%matplotlib inline"
   ]
  },
  {
   "cell_type": "code",
   "execution_count": 2,
   "metadata": {
    "collapsed": false
   },
   "outputs": [],
   "source": [
    "import numpy as np\n",
    "import matplotlib.pyplot as plt\n",
    "from scipy.signal import convolve2d, fftconvolve\n",
    "from numpy.fft import rfft2, irfft2"
   ]
  },
  {
   "cell_type": "code",
   "execution_count": 3,
   "metadata": {
    "collapsed": true
   },
   "outputs": [],
   "source": [
    "from matplotlib import colors\n",
    "import matplotlib.animation as animation\n",
    "from IPython.display import HTML"
   ]
  },
  {
   "cell_type": "markdown",
   "metadata": {},
   "source": [
    "# Numbers, Arrays and Life\n",
    "\n",
    "Cellular automata are discrete-space, discrete-time models of spatio-temporal processes. In these models, signal propagation typically involves updating the state of each cell in a grid based on some function of its local neighbors. We will use a toy example, but the techniques you will implement generalize to useful contexts, e.g. spatial statistics or image processing.\n",
    "\n",
    "We will use John Conway's [Game of Life](https://en.wikipedia.org/wiki/Conway's_Game_of_Life) to practice our manipulation of numerical arrays. In particular, we will see how to use the vectorization, views, convolution and Fourier transform capabilities of `numpy` to solve the same problem in different ways.\n",
    "\n",
    "See Wikipedia for detailed rules. Here is a summary:\n",
    "\n",
    "```\n",
    "Any live cell with fewer than two live neighbors dies, as if caused by under-population.\n",
    "Any live cell with two or three live neighbors lives on to the next generation.\n",
    "Any live cell with more than three live neighbors dies, as if by over-population.\n",
    "Any dead cell with exactly three live neighbors becomes a live cell, as if by reproduction.\n",
    "```\n",
    "\n",
    "There are two common ways to count neighbors for cells that are at the edge of the grid. With periodic boundary conditions, the grid wraps around (so it is a torus), that is, the coordinate -1 is mapped to the max_coord, and max_coord + 1 is mapped to 0. Alternatively, just consider any neighbor outside the grid to be equal to zero. For simplicity, we have chosen a life configuration where both strategies give the same results, so you can implement either strategy."
   ]
  },
  {
   "cell_type": "markdown",
   "metadata": {},
   "source": [
    "### Initial grid configuration"
   ]
  },
  {
   "cell_type": "code",
   "execution_count": 4,
   "metadata": {
    "collapsed": true
   },
   "outputs": [],
   "source": [
    "gun = np.load('gosper_gun.npy')\n",
    "init_grid = np.zeros((64, 64)).astype('int')\n",
    "for y, x in gun:\n",
    "    init_grid[8+x, 8+y] = 1"
   ]
  },
  {
   "cell_type": "markdown",
   "metadata": {},
   "source": [
    "### Utility function to show animation"
   ]
  },
  {
   "cell_type": "code",
   "execution_count": 5,
   "metadata": {
    "collapsed": true
   },
   "outputs": [],
   "source": [
    "def animate(i):\n",
    "    \"\"\"Function to display animation for iteration i.\"\"\"\n",
    "    global grid\n",
    "    grid = step(grid)\n",
    "    im.set_array(grid)\n",
    "    return im,"
   ]
  },
  {
   "cell_type": "markdown",
   "metadata": {},
   "source": [
    "**1**. Write a function to play one step in the Game of Life. The function must be named `step` and take a single argument `grid` which is a `numpy` array containing the initial configuration, and return a new `numpy` array containing the updated configuration. Use for loops to implement this first version of the step function."
   ]
  },
  {
   "cell_type": "code",
   "execution_count": 6,
   "metadata": {
    "collapsed": true
   },
   "outputs": [],
   "source": [
    "# Your solution here \n",
    "\n",
    "\n",
    "\n"
   ]
  },
  {
   "cell_type": "code",
   "execution_count": null,
   "metadata": {
    "collapsed": true
   },
   "outputs": [],
   "source": [
    "fig = plt.figure(figsize=(5, 5))\n",
    "grid = init_grid.copy()\n",
    "im = plt.imshow(grid, animated=True, interpolation='nearest', cmap='gray')\n",
    "plt.close(fig)\n",
    "\n",
    "anim = animation.FuncAnimation(fig, animate, \n",
    "                               frames=60, interval=50, blit=True)\n",
    "HTML(anim.to_html5_video())"
   ]
  },
  {
   "cell_type": "markdown",
   "metadata": {},
   "source": [
    "**2**. Rewrite the step function using vectorization. That is, use eight different views of the grid to calculate the neighbor sum instead of double for loops."
   ]
  },
  {
   "cell_type": "code",
   "execution_count": 9,
   "metadata": {
    "collapsed": true
   },
   "outputs": [],
   "source": [
    "# Your solution here\n",
    "\n",
    "\n",
    "\n"
   ]
  },
  {
   "cell_type": "code",
   "execution_count": null,
   "metadata": {
    "collapsed": true
   },
   "outputs": [],
   "source": [
    "fig = plt.figure(figsize=(5, 5))\n",
    "grid = init_grid.copy()\n",
    "im = plt.imshow(grid, animated=True, interpolation='nearest', cmap='gray')\n",
    "plt.close(fig)\n",
    "\n",
    "anim = animation.FuncAnimation(fig, animate, \n",
    "                               frames=60, interval=50, blit=True)\n",
    "HTML(anim.to_html5_video())"
   ]
  },
  {
   "cell_type": "markdown",
   "metadata": {},
   "source": [
    "**3a**. A discrete 2D convolution generates a weighted sum of a 2D grid, with the weights given by a 2D kernel. For example, the kernel\n",
    "\n",
    "```\n",
    "0 1 0\n",
    "1 1 1\n",
    "0 1 0\n",
    "```\n",
    "\n",
    "would result in summing the current location and the N, E, S, W neighbors.\n",
    "\n",
    "Use the `convolve2d` function from `scipy.signal` (already imported for you in this notebook) to implement the 3rd version of the `step` function with a suitable kernel and with `mode=same` to preserve the grid size across iterations."
   ]
  },
  {
   "cell_type": "code",
   "execution_count": 65,
   "metadata": {
    "collapsed": true
   },
   "outputs": [],
   "source": [
    "# Your solution here\n",
    "\n",
    "\n",
    "\n"
   ]
  },
  {
   "cell_type": "code",
   "execution_count": null,
   "metadata": {
    "collapsed": true
   },
   "outputs": [],
   "source": [
    "fig = plt.figure(figsize=(5, 5))\n",
    "grid = init_grid.copy()\n",
    "im = plt.imshow(grid, animated=True, interpolation='nearest', cmap='gray')\n",
    "plt.close(fig)\n",
    "\n",
    "anim = animation.FuncAnimation(fig, animate, \n",
    "                               frames=60, interval=50, blit=True)\n",
    "HTML(anim.to_html5_video())"
   ]
  },
  {
   "cell_type": "markdown",
   "metadata": {},
   "source": [
    "**3b**. One way to multiply two numbers that you are familiar with is to move to the log domain where addition is equivalent to multiplication. For example, instead of calculating $100 \\times 1000$, we can calculate $\\exp(\\log(100) + \\log(1000))$ to get the same result to roundoff error. In the same way, a convolution is equivalent to multiplication in the Fourier domain.  \n",
    "\n",
    "Implement the fourth version of the `step` function using the `fftconvolve` function for real Fast Fourier Transforms from the `scipy.signal` package. Because of rounding errors, you need to round the results returned by `fftconvolve`."
   ]
  },
  {
   "cell_type": "code",
   "execution_count": 14,
   "metadata": {
    "collapsed": true
   },
   "outputs": [],
   "source": [
    "# Your solution here\n",
    "\n",
    "\n",
    "\n",
    "\n"
   ]
  },
  {
   "cell_type": "code",
   "execution_count": null,
   "metadata": {
    "collapsed": true
   },
   "outputs": [],
   "source": [
    "fig = plt.figure(figsize=(5, 5))\n",
    "grid = init_grid.copy()\n",
    "im = plt.imshow(grid, animated=True, interpolation='nearest', cmap='gray')\n",
    "plt.close(fig)\n",
    "\n",
    "anim = animation.FuncAnimation(fig, animate, \n",
    "                               frames=60, interval=50, blit=True)\n",
    "HTML(anim.to_html5_video())"
   ]
  },
  {
   "cell_type": "markdown",
   "metadata": {
    "collapsed": true
   },
   "source": [
    "**4**. Modify 3a to model the [Forest Fire model](https://en.wikipedia.org/wiki/Forest-fire_model) instead of the Game of Life, with `f=0.001` and `p=0.1`."
   ]
  },
  {
   "cell_type": "code",
   "execution_count": 18,
   "metadata": {
    "collapsed": true
   },
   "outputs": [],
   "source": [
    "# Your solution here\n",
    "\n",
    "\n",
    "\n",
    "\n"
   ]
  },
  {
   "cell_type": "code",
   "execution_count": null,
   "metadata": {
    "collapsed": true
   },
   "outputs": [],
   "source": [
    "cmap = colors.ListedColormap(['black', 'green', 'red'])\n",
    "\n",
    "fig = plt.figure(figsize=(5, 5))\n",
    "grid = init_grid.copy()\n",
    "im = plt.imshow(grid, animated=True, interpolation='nearest', cmap=cmap, vmax=2)\n",
    "plt.close(fig)\n",
    "\n",
    "anim = animation.FuncAnimation(fig, animate, \n",
    "                               frames=100, interval=50, blit=True)\n",
    "HTML(anim.to_html5_video())"
   ]
  }
 ],
 "metadata": {
  "kernelspec": {
   "display_name": "Python 3",
   "language": "python",
   "name": "python3"
  },
  "language_info": {
   "codemirror_mode": {
    "name": "ipython",
    "version": 3
   },
   "file_extension": ".py",
   "mimetype": "text/x-python",
   "name": "python",
   "nbconvert_exporter": "python",
   "pygments_lexer": "ipython3",
   "version": "3.5.2"
  },
  "latex_envs": {
   "bibliofile": "biblio.bib",
   "cite_by": "apalike",
   "current_citInitial": 1,
   "eqLabelWithNumbers": true,
   "eqNumInitial": 0
  }
 },
 "nbformat": 4,
 "nbformat_minor": 1
}
