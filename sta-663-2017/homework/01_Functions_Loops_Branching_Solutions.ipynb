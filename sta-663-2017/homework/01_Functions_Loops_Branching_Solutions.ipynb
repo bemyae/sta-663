{
 "cells": [
  {
   "cell_type": "code",
   "execution_count": 1,
   "metadata": {
    "collapsed": true
   },
   "outputs": [],
   "source": [
    "%matplotlib inline"
   ]
  },
  {
   "cell_type": "code",
   "execution_count": 2,
   "metadata": {
    "collapsed": true
   },
   "outputs": [],
   "source": [
    "import matplotlib.pyplot as plt"
   ]
  },
  {
   "cell_type": "markdown",
   "metadata": {},
   "source": [
    "# Functions, loops and branching\n",
    "\n",
    "The following exercises let you practice Python syntax. Do not use any packages not in the [standard library](https://docs.python.org/3/library/) except for `matplotlib.pyplot` which has been imported for you.\n",
    "\n",
    "If you have not done much programming, these exercises will be challenging. Don't give up! For this first exercise, solutions are provided, but try not to refer to them unless you are desperate."
   ]
  },
  {
   "cell_type": "markdown",
   "metadata": {},
   "source": [
    "**1**. Grading (20 points)\n",
    "\n",
    "- Write a function to assign grades to a student such that \n",
    "```\n",
    "A = [90 - 100]\n",
    "B = [80 - 90)\n",
    "C = [65 - 80)\n",
    "D = [0, 65)\n",
    "```\n",
    "\n",
    "where square brackets indicate inclusive boundaries and parentheses indicate exclusive boundaries. However, studens whose attendance is 12 days or fewer get their grade reduced by one (A to B, B to C, C to D, and D stays D). The function should take a score and an attendance as an argument and return A, B, C or D as appropriate.(10 points)\n",
    "- Count the number of students with each grade from the given scores. (10 points)"
   ]
  },
  {
   "cell_type": "code",
   "execution_count": 3,
   "metadata": {
    "collapsed": false
   },
   "outputs": [],
   "source": [
    "scores = [ 84,  76,  67,  23,  83,  23,  50, 100,  32,  84,  22,  41,  27,\n",
    "        29,  71,  85,  47,  77,  39,  25,  85,  69,  22,  66, 100,  92,\n",
    "        97,  46,  81,  88,  67,  20,  52,  62,  39,  36,  79,  54,  74,\n",
    "        64,  33,  68,  85,  69,  84,  30,  68, 100,  71,  33,  21,  95,\n",
    "        92,  72,  53,  50,  31,  82,  53,  68,  49,  37,  40,  21,  94,\n",
    "        30,  54,  58,  92,  95,  73,  80,  81,  56,  44,  22,  69,  70,\n",
    "        25,  50,  59,  32,  65,  79,  27,  62,  27,  31,  78,  88,  68,\n",
    "        53,  79,  69,  89,  38,  80,  55,  92,  55]\n",
    "\n",
    "attendances = [17, 19, 21, 14, 10, 20, 14,  9,  6, 21,  5, 23, 21,  4,  5, 21, 20,\n",
    "        2, 14, 14, 21, 22,  3,  0, 11,  0,  0,  4, 20, 14, 23, 16, 24,  5,\n",
    "       12, 11, 22, 20, 15, 23,  0, 20, 20,  6,  4, 14,  6, 18, 17,  0, 18,\n",
    "        6,  3, 19, 24,  7,  9, 15, 18, 10,  2, 15, 21,  2,  9, 21, 20, 11,\n",
    "       24, 23, 14, 22,  4, 12,  7, 19,  6, 18, 23,  6, 14,  6,  1, 12,  7,\n",
    "       11, 22, 21,  7, 22, 24,  4, 10, 17, 21, 15,  0, 20,  3, 20]"
   ]
  },
  {
   "cell_type": "code",
   "execution_count": 5,
   "metadata": {
    "collapsed": false
   },
   "outputs": [
    {
     "name": "stdout",
     "output_type": "stream",
     "text": [
      "A 3\n",
      "B 19\n",
      "C 17\n",
      "D 61\n"
     ]
    }
   ],
   "source": [
    "# Your answer here\n",
    "\n",
    "def grade(score, attendance):\n",
    "    \"\"\"Function that returns grade based on score and attendance.\"\"\"\n",
    "    if attendance > 12:\n",
    "        if score >= 90:\n",
    "            return 'A'\n",
    "        elif score >= 80:\n",
    "            return 'B'\n",
    "        elif score >= 65:\n",
    "            return 'C'\n",
    "        else:\n",
    "            return 'D'\n",
    "    else:\n",
    "        if score >= 90:\n",
    "            return 'B'\n",
    "        elif score >= 80:\n",
    "            return 'C'\n",
    "        else:\n",
    "            return 'D'\n",
    "\n",
    "counts = {}\n",
    "for score, attendance in zip(scores, attendances):\n",
    "    g = grade(score, attendance)\n",
    "    counts[g] = counts.get(g, 0) + 1\n",
    "    \n",
    "for g in 'ABCD':\n",
    "    print(g, counts[g])"
   ]
  },
  {
   "cell_type": "markdown",
   "metadata": {},
   "source": [
    "**2**. The Henon map and chaos. (25 points)\n",
    "\n",
    "The Henon map takes a pont $(x_n, y_n)$ in the plane and maps it to \n",
    "$$\n",
    "x_{n+1} = 1 - a x_n^2 + y_n \\\\\n",
    "y_{n+1} = b x_n\n",
    "$$\n",
    "\n",
    "- Write a function for the Henon map. It should take the current (x, y) value and return a new pair of coordinates. Set a=1.4 and b=0.3 as defatult arguments. What is the output for x=1 and y=1? (5 points)\n",
    "- Using a for loop that increments the value of $a$ from 1.1 to 1.4 in steps of 0.01, save the last 50 $x$-terms in the iterated Henon map stopping at $x_{1000}$ for each value of $a$. Use $x_0 = 1$ and $y_0 = 1$ for each value of $a$, leaveing fixed $b = 0.3$.(10 points)\n",
    "- Make a scatter plot of each $(a, x)$ value with $a$ on the horizontal axis and $x$ on the vertical axis. Use the `plt.scatter` function with `s=1` to make the plot. (10 points)"
   ]
  },
  {
   "cell_type": "code",
   "execution_count": 6,
   "metadata": {
    "collapsed": false
   },
   "outputs": [
    {
     "data": {
      "text/plain": [
       "(0.6000000000000001, 0.3)"
      ]
     },
     "execution_count": 6,
     "metadata": {},
     "output_type": "execute_result"
    }
   ],
   "source": [
    "# Your answer here\n",
    "\n",
    "def henon(x, y, a=1.4, b=0.3):\n",
    "    \"\"\"Henon map.\"\"\"\n",
    "    return (1 - a*x**2 + y, b*x)\n",
    "\n",
    "henon(1, 1)"
   ]
  },
  {
   "cell_type": "code",
   "execution_count": 7,
   "metadata": {
    "collapsed": false
   },
   "outputs": [],
   "source": [
    "n = 1000\n",
    "n_store = 50\n",
    "aa = [i/100 for i in range(100, 141)]\n",
    "\n",
    "xxs = []\n",
    "for a in aa:\n",
    "    xs = []\n",
    "    x, y = 1, 1\n",
    "    for i in range(n - n_store):\n",
    "        x, y = henon(x, y, a=a)\n",
    "    for i in range(n_store):\n",
    "        x, y = henon(x, y, a=a)\n",
    "        xs.append(x)\n",
    "    xxs.append(xs)"
   ]
  },
  {
   "cell_type": "code",
   "execution_count": 8,
   "metadata": {
    "collapsed": true
   },
   "outputs": [],
   "source": [
    "%matplotlib inline\n",
    "import matplotlib.pyplot as plt"
   ]
  },
  {
   "cell_type": "code",
   "execution_count": 9,
   "metadata": {
    "collapsed": false
   },
   "outputs": [
    {
     "data": {
      "image/png": "[encoded data removed]",
      "text/plain": [
       "<matplotlib.figure.Figure at 0x7f66095cd3c8>"
      ]
     },
     "metadata": {},
     "output_type": "display_data"
    }
   ],
   "source": [
    "for a, xs in zip(aa, xxs):\n",
    "    plt.scatter([a]*n_store, xs, s=1)"
   ]
  },
  {
   "cell_type": "markdown",
   "metadata": {},
   "source": [
    "**3**. Collatz numbers - Euler project problem 14. (25 points)\n",
    "\n",
    "The following iterative sequence is defined for the set of positive integers:\n",
    "```\n",
    "n → n/2 (n is even)\n",
    "n → 3n + 1 (n is odd)\n",
    "```\n",
    "Using the rule above and starting with 13, we generate the following sequence:\n",
    "```\n",
    "13 → 40 → 20 → 10 → 5 → 16 → 8 → 4 → 2 → 1\n",
    "```\n",
    "It can be seen that this sequence (starting at 13 and finishing at 1) contains 10 terms. Although it has not been proved yet (Collatz Problem), it is thought that all starting numbers finish at 1.\n",
    "\n",
    "- Write a function to generate the iterative sequence described (15 points)\n",
    "- Which starting number, under one million, produces the longest chain? (10 points)\n",
    "\n",
    "NOTE: Once the chain starts the terms are allowed to go above one million."
   ]
  },
  {
   "cell_type": "code",
   "execution_count": 10,
   "metadata": {
    "collapsed": false
   },
   "outputs": [],
   "source": [
    "# Your answer here\n",
    "\n",
    "def collatz(n):\n",
    "    \"\"\"Returns Collatz sequence starting with n.\"\"\"\n",
    "\n",
    "    seq = [n]\n",
    "    while n != 1:\n",
    "        if n % 2 == 0:\n",
    "            n = n // 2\n",
    "        else:\n",
    "            n = 3*n + 1\n",
    "        seq.append(n)\n",
    "    return seq"
   ]
  },
  {
   "cell_type": "markdown",
   "metadata": {},
   "source": [
    "#### Generator version"
   ]
  },
  {
   "cell_type": "code",
   "execution_count": 11,
   "metadata": {
    "collapsed": true
   },
   "outputs": [],
   "source": [
    "def collatz_count(n):\n",
    "    \"\"\"Returns Collatz sequence starting with n.\"\"\"\n",
    "\n",
    "    count  = 1\n",
    "    while n != 1:\n",
    "        if n % 2 == 0:\n",
    "            n = n // 2\n",
    "        else:\n",
    "            n = 3*n + 1\n",
    "        count += 1\n",
    "    return count"
   ]
  },
  {
   "cell_type": "code",
   "execution_count": 12,
   "metadata": {
    "collapsed": false
   },
   "outputs": [
    {
     "name": "stdout",
     "output_type": "stream",
     "text": [
      "837799 525\n",
      "CPU times: user 39 s, sys: 32 ms, total: 39 s\n",
      "Wall time: 39.1 s\n"
     ]
    }
   ],
   "source": [
    "%%time\n",
    "\n",
    "best_n = 1\n",
    "best_length = 1\n",
    "for n in range(2, 1000000):\n",
    "    length = len(collatz(n))\n",
    "    if length > best_length:\n",
    "        best_length  = length\n",
    "        best_n = n    \n",
    "        \n",
    "print(best_n, best_length)"
   ]
  },
  {
   "cell_type": "markdown",
   "metadata": {},
   "source": [
    "#### A simple optimization \n",
    "\n",
    "Ignore starting numbers that have been previously generated since they cannot be longer than the generating sequence."
   ]
  },
  {
   "cell_type": "code",
   "execution_count": 13,
   "metadata": {
    "collapsed": false
   },
   "outputs": [
    {
     "name": "stdout",
     "output_type": "stream",
     "text": [
      "837799 525\n",
      "CPU times: user 21.1 s, sys: 128 ms, total: 21.2 s\n",
      "Wall time: 21.2 s\n"
     ]
    }
   ],
   "source": [
    "%%time\n",
    "\n",
    "best_n = 1\n",
    "best_length = 1\n",
    "seen = set([])\n",
    "\n",
    "for n in range(2, 1000000):\n",
    "    if n in seen:\n",
    "        continue\n",
    " \n",
    "    seq = collatz(n)\n",
    "    seen.update(seq)\n",
    "    length = len(seq)\n",
    "    if length > best_length:\n",
    "        best_length  = length\n",
    "        best_n = n    \n",
    "        \n",
    "print(best_n, best_length)"
   ]
  },
  {
   "cell_type": "markdown",
   "metadata": {},
   "source": [
    "**4**. Reading Ulysses. (30 points)\n",
    "\n",
    "- Write a program to download the text of [Ulysses](http://www.gutenberg.org/files/4300/4300-0.txt) (5 points)\n",
    "- Open the downloaded file and read the entire sequence into a single string variable called `text`, discarding the header information (i.e. text should start with `\\n\\n*** START OF THIS PROJECT GUTENBERG EBOOK ULYSSES ***\\n\\n\\n\\n\\n`). Also remove the footer information (i.e. text should not include anything from `End of the Project Gutenberg EBook of Ulysses, by James Joyce`). (10 points)\n",
    "- Find and report the starting index (counting from zero) and length of the longest word in `text`. For simplicity, a word is defined here to be any sequence of characters with no space between the characters (i.e. a word may include punctuation or numbers, just not spaces). If there are ties, report the starting index and length of the last word found. For example, in \"the quick brow fox jumps over the lazy dog.\" the longest word is `jumps` which starts at index 19 and has length 5, and 'dog.' would be considered a 4-letter word (15 points)."
   ]
  },
  {
   "cell_type": "code",
   "execution_count": 8,
   "metadata": {
    "collapsed": false
   },
   "outputs": [],
   "source": [
    "# Your answer here\n",
    "\n",
    "import urllib.request\n",
    "response = urllib.request.urlopen('http://www.gutenberg.org/files/4300/4300-0.txt')\n",
    "text = response.read().decode()"
   ]
  },
  {
   "cell_type": "markdown",
   "metadata": {
    "collapsed": true
   },
   "source": [
    "```python\n",
    "# Alternative version using requests library\n",
    "# Although not officially part of the standard libaray,\n",
    "# it is so widely used that the standard docs point to it\n",
    "# \"The Requests package is recommended for a higher-level HTTP client interface.\"\n",
    "\n",
    "import requests\n",
    "\n",
    "url = 'http://www.gutenberg.org/files/4300/4300-0.txt'\n",
    "text = requests.get(url).text\n",
    "```"
   ]
  },
  {
   "cell_type": "code",
   "execution_count": 21,
   "metadata": {
    "collapsed": false
   },
   "outputs": [],
   "source": [
    "with open('ulysses.txt', 'w') as f:\n",
    "    f.write(text)"
   ]
  },
  {
   "cell_type": "code",
   "execution_count": 22,
   "metadata": {
    "collapsed": false,
    "scrolled": false
   },
   "outputs": [],
   "source": [
    "with open('ulysses.txt') as f:\n",
    "    text = f.read()\n",
    "\n",
    "start_string = '\\n\\n*** START OF THIS PROJECT GUTENBERG EBOOK ULYSSES ***\\n\\n\\n\\n\\n'\n",
    "stop_string = 'End of the Project Gutenberg EBook of Ulysses, by James Joyce'\n",
    "start_idx = text.find(start_string)\n",
    "stop_idx = text.find(stop_string)\n",
    "text = text[(start_idx + len(start_string)):stop_idx]"
   ]
  },
  {
   "cell_type": "code",
   "execution_count": 23,
   "metadata": {
    "collapsed": false,
    "scrolled": false
   },
   "outputs": [],
   "source": [
    "best_len = 0\n",
    "best_word = ''\n",
    "for word in set(text.split()):\n",
    "    if len(word) > best_len:\n",
    "        best_len = len(word)\n",
    "        best_word = word"
   ]
  },
  {
   "cell_type": "code",
   "execution_count": 24,
   "metadata": {
    "collapsed": false
   },
   "outputs": [
    {
     "data": {
      "text/plain": [
       "'Nationalgymnasiummuseumsanatoriumandsuspensoriumsordinaryprivatdocentgeneralhistoryspecialprofessordoctor'"
      ]
     },
     "execution_count": 24,
     "metadata": {},
     "output_type": "execute_result"
    }
   ],
   "source": [
    "best_word"
   ]
  },
  {
   "cell_type": "markdown",
   "metadata": {},
   "source": [
    "#### We are looking for the last word found, so search backwards from the end with `rfind`"
   ]
  },
  {
   "cell_type": "code",
   "execution_count": 25,
   "metadata": {
    "collapsed": false
   },
   "outputs": [],
   "source": [
    "idx = text.rfind(best_word,)"
   ]
  },
  {
   "cell_type": "code",
   "execution_count": 26,
   "metadata": {
    "collapsed": false
   },
   "outputs": [
    {
     "data": {
      "text/plain": [
       "(602179, 105)"
      ]
     },
     "execution_count": 26,
     "metadata": {},
     "output_type": "execute_result"
    }
   ],
   "source": [
    "idx, best_len"
   ]
  },
  {
   "cell_type": "code",
   "execution_count": 27,
   "metadata": {
    "collapsed": false
   },
   "outputs": [
    {
     "data": {
      "text/plain": [
       "'Nationalgymnasiummuseumsanatoriumandsuspensoriumsordinaryprivatdocentgeneralhistoryspecialprofessordoctor'"
      ]
     },
     "execution_count": 27,
     "metadata": {},
     "output_type": "execute_result"
    }
   ],
   "source": [
    "text[idx:(idx+best_len)]"
   ]
  },
  {
   "cell_type": "code",
   "execution_count": null,
   "metadata": {
    "collapsed": true
   },
   "outputs": [],
   "source": []
  }
 ],
 "metadata": {
  "kernelspec": {
   "display_name": "Python 3",
   "language": "python",
   "name": "python3"
  },
  "language_info": {
   "codemirror_mode": {
    "name": "ipython",
    "version": 3
   },
   "file_extension": ".py",
   "mimetype": "text/x-python",
   "name": "python",
   "nbconvert_exporter": "python",
   "pygments_lexer": "ipython3",
   "version": "3.5.2"
  },
  "latex_envs": {
   "bibliofile": "biblio.bib",
   "cite_by": "apalike",
   "current_citInitial": 1,
   "eqLabelWithNumbers": true,
   "eqNumInitial": 0
  }
 },
 "nbformat": 4,
 "nbformat_minor": 1
}
