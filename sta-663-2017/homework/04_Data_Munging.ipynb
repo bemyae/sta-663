{
 "cells": [
  {
   "cell_type": "code",
   "execution_count": 2,
   "metadata": {
    "collapsed": true
   },
   "outputs": [],
   "source": [
    "%matplotlib inline"
   ]
  },
  {
   "cell_type": "code",
   "execution_count": 3,
   "metadata": {
    "collapsed": true
   },
   "outputs": [],
   "source": [
    "import numpy as np\n",
    "import pandas as pd\n",
    "import matplotlib.pyplot as plt\n",
    "import seaborn as sns"
   ]
  },
  {
   "cell_type": "code",
   "execution_count": 4,
   "metadata": {
    "collapsed": true
   },
   "outputs": [],
   "source": [
    "sns.set_context('notebook', font_scale=1.5)"
   ]
  },
  {
   "cell_type": "markdown",
   "metadata": {},
   "source": [
    "# Data Science Stack\n",
    "\n",
    "The following exercises give practice in the use of the Python data science stack, especially `pandas` for data manipulation and `seaborn` for quick statistical plotting."
   ]
  },
  {
   "cell_type": "markdown",
   "metadata": {},
   "source": [
    "**1**. (40 points) Read in the CSV file `pokemon.csv` in the local directory (Source: Kaggle). Do the following:\n",
    "\n",
    "- Calculate the number of rows and columns in the data frame (5 points)\n",
    "- Drop the column `Type 2` without creating a copy of the data frame i.e. in-place (5 points)\n",
    "- Show a table with 5 rows sampled at random without replacement (5 points)\n",
    "- Sort the data frame in descending order of `Speed` in-place (5 points)\n",
    "- Create a column 'Value' where `value = 3*HP + 2*Attack + 1*Defense` (5 points)\n",
    "- Drop all rows that have the string `Forme` in the `Name` column in-place (5 points)\n",
    "- Find the mean and variance of `Attack` and `Defense` attributes of all the Type 1 AND Generation subgroups. For instance, one such group would be (Grass, 1). (10 points)\n",
    "\n",
    "Note: If you change the data frame, print out the first 3 rows after each change with the `head` method."
   ]
  },
  {
   "cell_type": "code",
   "execution_count": 5,
   "metadata": {
    "collapsed": true
   },
   "outputs": [],
   "source": [
    "# Your answer here\n",
    "\n",
    "\n",
    "\n",
    "\n"
   ]
  },
  {
   "cell_type": "markdown",
   "metadata": {},
   "source": [
    "**2**. (30 points) Using the same Pokemon data frame, do the following:\n",
    "    \n",
    "- Create a new data frame with the following columns `Name`, `Type 1`, `Generation`, `Feature`, `Score` where `Name`, `Type 1`, `Generation` have the same meaning as in the original data frame, `Feature` is a column containing one of the following strings `HP`, `Attack`, `Defense`, `Sp. Atk`, `Sp. Def`, `Speed` and `Score` is the numerical value of the feature. This is known as going from wide-to-tall formats. In R, this operation can be done using the `gatehr` function from the `tidyr` package. (10 points)\n",
    "- Using the new data frame and the `seaborn` package, create a grid of box plots where the x-axis the Features, the y-axis shows the 'Score', the rows are the Type 1 values, and the columns are the Generation values.  (10 points)\n",
    "- Using `seaborn`, make a `cluster map` showing the mean values of `HP`, `Attack`, `Defense`, `Sp. Atk`, `Sp. Def` and \t`Speed`   for each `Type 1` Pokemon. Rotate the Type 1 lables so they are readable. (10 points)"
   ]
  },
  {
   "cell_type": "code",
   "execution_count": 14,
   "metadata": {
    "collapsed": true
   },
   "outputs": [],
   "source": [
    "# Your answer here\n",
    "\n",
    "\n",
    "\n",
    "\n"
   ]
  },
  {
   "cell_type": "markdown",
   "metadata": {},
   "source": [
    "**3**. (30 points) Read in the CSV file `pokemonGo.csv` in the local directory (Source: Kaggle). Do the following:\n",
    "    \n",
    "- Create a new data frame with that combines columns from the `pokemon.csv` and `pokemonGO.csv` files. Drop any row that does not have `Name`, `Type 1` and\t`Type 2` values that are exactly the same in both data frames. (10 points)\n",
    "- Write a loop to download the images of Pokemon whose speed is greater than 120. (10 points)\n",
    "- Display these Pokemon images in the Jupyter notebook. (10 points)"
   ]
  },
  {
   "cell_type": "code",
   "execution_count": 10,
   "metadata": {
    "collapsed": true
   },
   "outputs": [],
   "source": [
    "# Your answer here\n",
    "\n",
    "\n",
    "\n",
    "\n"
   ]
  }
 ],
 "metadata": {
  "kernelspec": {
   "display_name": "Python 3",
   "language": "python",
   "name": "python3"
  },
  "language_info": {
   "codemirror_mode": {
    "name": "ipython",
    "version": 3
   },
   "file_extension": ".py",
   "mimetype": "text/x-python",
   "name": "python",
   "nbconvert_exporter": "python",
   "pygments_lexer": "ipython3",
   "version": "3.5.2"
  },
  "latex_envs": {
   "bibliofile": "biblio.bib",
   "cite_by": "apalike",
   "current_citInitial": 1,
   "eqLabelWithNumbers": true,
   "eqNumInitial": 0
  }
 },
 "nbformat": 4,
 "nbformat_minor": 1
}
