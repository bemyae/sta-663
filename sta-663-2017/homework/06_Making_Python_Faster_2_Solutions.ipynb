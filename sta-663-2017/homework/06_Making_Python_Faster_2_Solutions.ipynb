{
 "cells": [
  {
   "cell_type": "code",
   "execution_count": 1,
   "metadata": {
    "collapsed": true
   },
   "outputs": [],
   "source": [
    "%matplotlib inline"
   ]
  },
  {
   "cell_type": "code",
   "execution_count": 2,
   "metadata": {
    "collapsed": true
   },
   "outputs": [],
   "source": [
    "import os\n",
    "import numpy as np\n",
    "import pandas as pd\n",
    "import matplotlib.pyplot as plt"
   ]
  },
  {
   "cell_type": "markdown",
   "metadata": {},
   "source": [
    "# Parallel Processing and C++ "
   ]
  },
  {
   "cell_type": "markdown",
   "metadata": {},
   "source": [
    "**1**. (25 points) Accelerating network bound procedures.\n",
    "\n",
    "- Print the names of the first 5 PNG images on the URL `http://people.duke.edu/~ccc14/misc/`. (10 points)\n",
    "- Write a function that uses a for loop to download all images and time how long it takes (5 points)\n",
    "- Write a function that uses `concurrent.futures` and a thread pool to download all images and time how long it takes (5 points)\n",
    "- Write a function that uses `multiprocessing` and a process pool to download all images and time how long it takes (5 points)"
   ]
  },
  {
   "cell_type": "code",
   "execution_count": 3,
   "metadata": {
    "collapsed": false
   },
   "outputs": [
    {
     "name": "stdout",
     "output_type": "stream",
     "text": [
      "http://people.duke.edu/~ccc14/misc/250px-002Ivysaur.png\n",
      "http://people.duke.edu/~ccc14/misc/250px-003Venusaur.png\n",
      "http://people.duke.edu/~ccc14/misc/250px-004Charmander.png\n",
      "http://people.duke.edu/~ccc14/misc/250px-005Charmeleon.png\n",
      "http://people.duke.edu/~ccc14/misc/250px-006Charizard.png\n"
     ]
    }
   ],
   "source": [
    "import requests\n",
    "from bs4 import BeautifulSoup\n",
    "\n",
    "def listFD(url, ext=''):\n",
    "    page = requests.get(url).text\n",
    "    soup = BeautifulSoup(page, 'html.parser')\n",
    "    return [url + node.get('href') for node in soup.find_all('a') \n",
    "            if node.get('href').endswith(ext)]\n",
    "\n",
    "site = 'http://people.duke.edu/~ccc14/misc/'\n",
    "ext = 'png'\n",
    "for i, file in enumerate(listFD(site, ext)):\n",
    "    if i == 5:\n",
    "        break\n",
    "    print(file)"
   ]
  },
  {
   "cell_type": "code",
   "execution_count": 4,
   "metadata": {
    "collapsed": true
   },
   "outputs": [],
   "source": [
    "def download_one(url, path):\n",
    "    r = requests.get(url, stream=True)\n",
    "    img = r.raw.read()\n",
    "    with open(path, 'wb') as f:\n",
    "        f.write(img) "
   ]
  },
  {
   "cell_type": "code",
   "execution_count": 5,
   "metadata": {
    "collapsed": false
   },
   "outputs": [
    {
     "name": "stdout",
     "output_type": "stream",
     "text": [
      "CPU times: user 300 ms, sys: 56 ms, total: 356 ms\n",
      "Wall time: 8.38 s\n"
     ]
    }
   ],
   "source": [
    "%%time\n",
    "\n",
    "for url in listFD(site, ext):\n",
    "    filename = os.path.split(url)[-1]\n",
    "    download_one(url, filename)"
   ]
  },
  {
   "cell_type": "code",
   "execution_count": 6,
   "metadata": {
    "collapsed": false
   },
   "outputs": [
    {
     "name": "stdout",
     "output_type": "stream",
     "text": [
      "CPU times: user 264 ms, sys: 84 ms, total: 348 ms\n",
      "Wall time: 2.19 s\n"
     ]
    }
   ],
   "source": [
    "%%time\n",
    "\n",
    "from concurrent.futures import ThreadPoolExecutor\n",
    "\n",
    "args = [(url, os.path.split(url)[-1]) \n",
    "        for url in listFD(site, ext)]\n",
    "with ThreadPoolExecutor(max_workers=4) as pool:\n",
    "    pool.map(lambda x: download_one(x[0], x[1]), args)"
   ]
  },
  {
   "cell_type": "code",
   "execution_count": 7,
   "metadata": {
    "collapsed": false
   },
   "outputs": [
    {
     "name": "stdout",
     "output_type": "stream",
     "text": [
      "CPU times: user 56 ms, sys: 8 ms, total: 64 ms\n",
      "Wall time: 2.5 s\n"
     ]
    }
   ],
   "source": [
    "%%time\n",
    "\n",
    "from multiprocessing import Pool\n",
    "\n",
    "args = [(url, os.path.split(url)[-1]) \n",
    "        for url in listFD(site, ext)]\n",
    "with Pool(processes=4) as pool:\n",
    "    pool.starmap(download_one, args)"
   ]
  },
  {
   "cell_type": "markdown",
   "metadata": {},
   "source": [
    "**2**. (25 points) Accelerating CPU bound procedures\n",
    "\n",
    "- Use the insanely slow [Buffon's needle](https://en.wikipedia.org/wiki/Buffon's_needle) algorithm to estimate $\\pi$.  Suppose the needle is of length 1, and the lines are also 1 unit apart.  Write a function to simulate the dropping of a pin with a random position and random angle, and return 0 if it does not cross a line and 1 if it does. Since the problem is periodic, you can assume that the bottom of the pin falls within (0, 1) and check if it crosses the line `y=0` or `y=1`. (10 points)\n",
    "- Calculate pi from dropping `n=10^6` pins and time it (10 points)\n",
    "- Use `concurrent.futures` and a process pool to parallelize  your solution and time it."
   ]
  },
  {
   "cell_type": "code",
   "execution_count": 8,
   "metadata": {
    "collapsed": true
   },
   "outputs": [],
   "source": [
    "n = 100\n",
    "p = 10\n",
    "xs = np.random.random((n, p))"
   ]
  },
  {
   "cell_type": "code",
   "execution_count": 9,
   "metadata": {
    "collapsed": true
   },
   "outputs": [],
   "source": [
    "# This is the only version necessary. \n",
    "# The numba and numpy versions are just for education.\n",
    "\n",
    "def buffon():\n",
    "    \"\"\"Simulate dropping of one needle.\"\"\"\n",
    "    center = np.random.random()\n",
    "    angle = 2*np.pi*np.random.random()\n",
    "    offset = 0.5 * np.sin(angle)\n",
    "    if (center + offset > 1) or (center - offset < 0):\n",
    "        return 1\n",
    "    else:\n",
    "        return 0\n",
    "\n",
    "def buffon_python(n):\n",
    "    \"\"\"Calcualte π using Buffon's needle method.\"\"\"\n",
    "    crosses = 0\n",
    "    for i in range(n):\n",
    "        crosses += buffon()\n",
    "    return n/crosses   "
   ]
  },
  {
   "cell_type": "code",
   "execution_count": 10,
   "metadata": {
    "collapsed": true
   },
   "outputs": [],
   "source": [
    "def buffon_numpy(n):\n",
    "    \"\"\"Calcualte π using Buffon's needle method.\"\"\"\n",
    "    centers = np.random.uniform(0, 1, n)\n",
    "    angles = np.random.uniform(0, 2*np.pi, n)\n",
    "    offset = 0.5 * np.sin(angles)\n",
    "    crosses = np.sum((centers + offset > 1) | (centers - offset < 0))\n",
    "    return n/crosses    "
   ]
  },
  {
   "cell_type": "code",
   "execution_count": 11,
   "metadata": {
    "collapsed": false
   },
   "outputs": [],
   "source": [
    "import numba\n",
    "\n",
    "@numba.jit(nopython=True)\n",
    "def buffon_():\n",
    "    \"\"\"Simulate dropping of one needle.\"\"\"\n",
    "    center = np.random.random()\n",
    "    angle = 2*np.pi*np.random.random()\n",
    "    offset = 0.5 * np.sin(angle)\n",
    "    if (center + offset > 1) or (center - offset < 0):\n",
    "        return 1\n",
    "    else:\n",
    "        return 0\n",
    "\n",
    "@numba.jit(nopython=True)\n",
    "def buffon_numba(n):\n",
    "    \"\"\"Calcualte π using Buffon's needle method.\"\"\"\n",
    "    crosses = 0\n",
    "    for i in range(n):\n",
    "        crosses += buffon_()\n",
    "    return n/crosses   "
   ]
  },
  {
   "cell_type": "code",
   "execution_count": 12,
   "metadata": {
    "collapsed": false
   },
   "outputs": [
    {
     "name": "stdout",
     "output_type": "stream",
     "text": [
      "3.1473956874384292\n",
      "CPU times: user 2.57 s, sys: 8 ms, total: 2.58 s\n",
      "Wall time: 2.61 s\n"
     ]
    }
   ],
   "source": [
    "%%time\n",
    "n = int(1e6)\n",
    "print(buffon_python(n))"
   ]
  },
  {
   "cell_type": "code",
   "execution_count": 13,
   "metadata": {
    "collapsed": false
   },
   "outputs": [
    {
     "name": "stdout",
     "output_type": "stream",
     "text": [
      "3.0303030303030303\n"
     ]
    }
   ],
   "source": [
    "# force JIT compilation before timing\n",
    "print(buffon_numba(100))"
   ]
  },
  {
   "cell_type": "code",
   "execution_count": 14,
   "metadata": {
    "collapsed": false
   },
   "outputs": [
    {
     "name": "stdout",
     "output_type": "stream",
     "text": [
      "3.141058662411579\n",
      "CPU times: user 80 ms, sys: 0 ns, total: 80 ms\n",
      "Wall time: 89.7 ms\n"
     ]
    }
   ],
   "source": [
    "%%time\n",
    "n = int(1e6)\n",
    "print(buffon_numba(n))"
   ]
  },
  {
   "cell_type": "code",
   "execution_count": 15,
   "metadata": {
    "collapsed": false
   },
   "outputs": [
    {
     "name": "stdout",
     "output_type": "stream",
     "text": [
      "3.13766833591\n",
      "CPU times: user 80 ms, sys: 12 ms, total: 92 ms\n",
      "Wall time: 99.7 ms\n"
     ]
    }
   ],
   "source": [
    "%%time\n",
    "n = int(1e6)\n",
    "print(buffon_numpy(n))"
   ]
  },
  {
   "cell_type": "code",
   "execution_count": 16,
   "metadata": {
    "collapsed": true
   },
   "outputs": [],
   "source": [
    "from concurrent.futures import ProcessPoolExecutor"
   ]
  },
  {
   "cell_type": "code",
   "execution_count": 17,
   "metadata": {
    "collapsed": false
   },
   "outputs": [],
   "source": [
    "def buffon_pool(n, f, k):\n",
    "    with ProcessPoolExecutor(max_workers=k) as pool:\n",
    "        return np.mean(list(pool.map(f, [n//k] * k)))"
   ]
  },
  {
   "cell_type": "code",
   "execution_count": 18,
   "metadata": {
    "collapsed": false
   },
   "outputs": [
    {
     "name": "stdout",
     "output_type": "stream",
     "text": [
      "[250000.0, 250000.0, 250000.0, 250000.0]\n",
      "3.14580161317\n",
      "CPU times: user 0 ns, sys: 20 ms, total: 20 ms\n",
      "Wall time: 938 ms\n"
     ]
    }
   ],
   "source": [
    "%%time\n",
    "n = int(1e6)\n",
    "k = 4\n",
    "print([n/k] * k)\n",
    "print(buffon_pool(n, buffon_python, 4))"
   ]
  },
  {
   "cell_type": "markdown",
   "metadata": {},
   "source": [
    "**3**. (25 points) Use C++ to\n",
    "\n",
    "- Generate 10 $x$-coordinates linearly spaced between 10 and 15\n",
    "- Generate 10 random $y$-values as $y = 3x^2 − 7x + 2 + \\epsilon$ where $\\epsilon∼10N(0,1)$\n",
    "- Find the norm of $x$ and $y$ considered as length 10-vectors\n",
    "- Find the Euclidean distance between $x$ and $y$\n",
    "- Solve the linear system to find a quadratic fit for this data\n",
    "\n",
    "You may wish to use `armadillo` or `eigen` to solve this exercise."
   ]
  },
  {
   "cell_type": "code",
   "execution_count": 19,
   "metadata": {
    "collapsed": false
   },
   "outputs": [
    {
     "name": "stdout",
     "output_type": "stream",
     "text": [
      "Overwriting hw6_ex3.cpp\n"
     ]
    }
   ],
   "source": [
    "%%file hw6_ex3.cpp\n",
    "#include <iostream>\n",
    "#include <fstream>\n",
    "#include <armadillo>\n",
    "using std::cout;\n",
    "using std::ofstream;\n",
    "\n",
    "int main()\n",
    "{\n",
    "    using namespace arma;\n",
    "\n",
    "    vec x = linspace<vec>(10.0,15.0,10);\n",
    "    vec eps = 10*randn<vec>(10);\n",
    "    vec y = 3*x%x - 7*x + 2 + eps;\n",
    "\n",
    "    cout << \"x:\\n\" << x << \"\\n\";\n",
    "    cout << \"y:\\n\" << y << \"\\n\";\n",
    "\n",
    "    cout << \"Lenght of x is: \" << norm(x) << \"\\n\";\n",
    "    cout << \"Lenght of y is: \" << norm(y) << \"\\n\";\n",
    "\n",
    "    cout << \"Distance(x, y) is: \" << norm(x -y) << \"\\n\";\n",
    "\n",
    "    cout << \"Correlation(x, y) is: \" << cor(x, y) << \"\\n\";\n",
    "\n",
    "    mat A = join_rows(ones<vec>(10), x);\n",
    "    A = join_rows(A, x%x);\n",
    "    cout << \"A:\\n\" << A << \"\\n\";\n",
    "\n",
    "    vec b = solve(A, y);\n",
    "    cout << \"b:\\n\" << b << \"\\n\";\n",
    "\n",
    "    ofstream fout1(\"x.txt\");\n",
    "    x.print(fout1);\n",
    "    ofstream fout2(\"y.txt\");\n",
    "    y.print(fout2);\n",
    "    ofstream fout3(\"b.txt\");\n",
    "    b.print(fout3);\n",
    "}"
   ]
  },
  {
   "cell_type": "code",
   "execution_count": 20,
   "metadata": {
    "collapsed": false
   },
   "outputs": [
    {
     "name": "stdout",
     "output_type": "stream",
     "text": [
      "x:\n",
      "   10.0000\n",
      "   10.5556\n",
      "   11.1111\n",
      "   11.6667\n",
      "   12.2222\n",
      "   12.7778\n",
      "   13.3333\n",
      "   13.8889\n",
      "   14.4444\n",
      "   15.0000\n",
      "\n",
      "y:\n",
      "   2.2513e+02\n",
      "   2.7027e+02\n",
      "   2.9660e+02\n",
      "   3.2962e+02\n",
      "   3.6404e+02\n",
      "   3.9959e+02\n",
      "   4.2064e+02\n",
      "   4.8632e+02\n",
      "   5.3136e+02\n",
      "   5.5517e+02\n",
      "\n",
      "Lenght of x is: 39.8493\n",
      "Lenght of y is: 1271.44\n",
      "Distance(x, y) is: 1232\n",
      "Correlation(x, y) is:    0.9956\n",
      "\n",
      "A:\n",
      "   1.0000e+00   1.0000e+01   1.0000e+02\n",
      "   1.0000e+00   1.0556e+01   1.1142e+02\n",
      "   1.0000e+00   1.1111e+01   1.2346e+02\n",
      "   1.0000e+00   1.1667e+01   1.3611e+02\n",
      "   1.0000e+00   1.2222e+01   1.4938e+02\n",
      "   1.0000e+00   1.2778e+01   1.6327e+02\n",
      "   1.0000e+00   1.3333e+01   1.7778e+02\n",
      "   1.0000e+00   1.3889e+01   1.9290e+02\n",
      "   1.0000e+00   1.4444e+01   2.0864e+02\n",
      "   1.0000e+00   1.5000e+01   2.2500e+02\n",
      "\n",
      "b:\n",
      "  -66.5216\n",
      "    5.6618\n",
      "    2.4158\n",
      "\n"
     ]
    }
   ],
   "source": [
    "%%bash\n",
    "g++ -std=c++11 hw6_ex3.cpp -o hw6_ex3 -larmadillo\n",
    "./hw6_ex3"
   ]
  },
  {
   "cell_type": "markdown",
   "metadata": {},
   "source": [
    "**4**. (25 points) **4**. Write a C++ function that uses the `eigen` library to solve the least squares linear problem\n",
    "\n",
    "$$\n",
    "\\beta = (X^TX)^{-1}X^Ty\n",
    "$$\n",
    "\n",
    "for a matrix $X$ and vector $y$ and returns the vector of coefficients $\\beta$. Wrap the function for use in Python and call it like so\n",
    "\n",
    "```\n",
    "beta <- least_squares(X, y)\n",
    "```\n",
    "\n",
    "where $X$ and $y$ are given below. \n",
    "\n",
    "Wrap the function so that it can be called from Python and compare with the `np.linalg.lstsq` solution shown."
   ]
  },
  {
   "cell_type": "code",
   "execution_count": 21,
   "metadata": {
    "collapsed": false
   },
   "outputs": [],
   "source": [
    "n = 10\n",
    "x = np.linspace(0, 10, n)\n",
    "y = 3*x**2 - 7*x + 2 + np.random.normal(0, 10, n)\n",
    "X = np.c_[np.ones(n), x, x**2]"
   ]
  },
  {
   "cell_type": "code",
   "execution_count": 22,
   "metadata": {
    "collapsed": true
   },
   "outputs": [],
   "source": [
    "beta = np.linalg.lstsq(X, y)[0]"
   ]
  },
  {
   "cell_type": "code",
   "execution_count": 23,
   "metadata": {
    "collapsed": false
   },
   "outputs": [
    {
     "data": {
      "text/plain": [
       "array([ 10.86797946,  -7.88477088,   2.84496434])"
      ]
     },
     "execution_count": 23,
     "metadata": {},
     "output_type": "execute_result"
    }
   ],
   "source": [
    "beta"
   ]
  },
  {
   "cell_type": "code",
   "execution_count": 24,
   "metadata": {
    "collapsed": false
   },
   "outputs": [
    {
     "data": {
      "image/png": "[encoded data removed]",
      "text/plain": [
       "<matplotlib.figure.Figure at 0x7f692eabcd30>"
      ]
     },
     "metadata": {},
     "output_type": "display_data"
    }
   ],
   "source": [
    "plt.scatter(x, y)\n",
    "plt.plot(x, X @ beta, 'red')\n",
    "pass"
   ]
  },
  {
   "cell_type": "code",
   "execution_count": 25,
   "metadata": {
    "collapsed": false
   },
   "outputs": [
    {
     "name": "stdout",
     "output_type": "stream",
     "text": [
      "Overwriting wrap.cpp\n"
     ]
    }
   ],
   "source": [
    "%%file wrap.cpp\n",
    "<%\n",
    "cfg['compiler_args'] = ['-std=c++11']\n",
    "cfg['include_dirs'] = ['./eigen']\n",
    "setup_pybind11(cfg)\n",
    "%>\n",
    "\n",
    "#include <pybind11/pybind11.h>\n",
    "#include <pybind11/eigen.h>\n",
    "\n",
    "#include <Eigen/LU>\n",
    "\n",
    "namespace py = pybind11;\n",
    "\n",
    "// Note: This direct translation is not the most stable or efficient way to solve this\n",
    "Eigen::VectorXd least_squares(Eigen::MatrixXd X, Eigen::VectorXd y) {\n",
    "    auto XtX = X.transpose() * X;\n",
    "    auto Xty = X.transpose() * y;\n",
    "    return XtX.inverse() * Xty;\n",
    "}\n",
    "\n",
    "PYBIND11_PLUGIN(wrap) {\n",
    "    pybind11::module m(\"wrap\", \"auto-compiled c++ extension\");\n",
    "    m.def(\"least_squares\", &least_squares);\n",
    "    return m.ptr();\n",
    "}"
   ]
  },
  {
   "cell_type": "code",
   "execution_count": 26,
   "metadata": {
    "collapsed": true
   },
   "outputs": [],
   "source": [
    "n = 10\n",
    "x = np.linspace(0, 10, n)\n",
    "y = 3*x**2 - 7*x + 2 + np.random.normal(0, 10, n)\n",
    "X = np.c_[np.ones(n), x, x**2]"
   ]
  },
  {
   "cell_type": "code",
   "execution_count": 27,
   "metadata": {
    "collapsed": false
   },
   "outputs": [
    {
     "data": {
      "text/plain": [
       "array([ 10.25894816, -10.33297822,   3.27286481])"
      ]
     },
     "execution_count": 27,
     "metadata": {},
     "output_type": "execute_result"
    }
   ],
   "source": [
    "import cppimport\n",
    "\n",
    "m = cppimport.imp(\"wrap\")\n",
    "beta = m.least_squares(X, y)\n",
    "beta"
   ]
  },
  {
   "cell_type": "code",
   "execution_count": 28,
   "metadata": {
    "collapsed": false
   },
   "outputs": [
    {
     "data": {
      "image/png": "[encoded data removed]",
      "text/plain": [
       "<matplotlib.figure.Figure at 0x7f692e807710>"
      ]
     },
     "metadata": {},
     "output_type": "display_data"
    }
   ],
   "source": [
    "plt.scatter(x, y)\n",
    "plt.plot(x, X @ beta, 'red')\n",
    "pass"
   ]
  },
  {
   "cell_type": "code",
   "execution_count": null,
   "metadata": {
    "collapsed": true
   },
   "outputs": [],
   "source": []
  }
 ],
 "metadata": {
  "kernelspec": {
   "display_name": "Python 3",
   "language": "python",
   "name": "python3"
  },
  "language_info": {
   "codemirror_mode": {
    "name": "ipython",
    "version": 3
   },
   "file_extension": ".py",
   "mimetype": "text/x-python",
   "name": "python",
   "nbconvert_exporter": "python",
   "pygments_lexer": "ipython3",
   "version": "3.5.2"
  },
  "latex_envs": {
   "bibliofile": "biblio.bib",
   "cite_by": "apalike",
   "current_citInitial": 1,
   "eqLabelWithNumbers": true,
   "eqNumInitial": 0
  }
 },
 "nbformat": 4,
 "nbformat_minor": 2
}
