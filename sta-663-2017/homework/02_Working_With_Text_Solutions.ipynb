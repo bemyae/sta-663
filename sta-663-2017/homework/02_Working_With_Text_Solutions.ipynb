{
 "cells": [
  {
   "cell_type": "code",
   "execution_count": 1,
   "metadata": {
    "collapsed": true
   },
   "outputs": [],
   "source": [
    "%matplotlib inline"
   ]
  },
  {
   "cell_type": "markdown",
   "metadata": {},
   "source": [
    "# Working with text\n",
    "\n",
    "One of the major reaosns for using Python is its powerful built-in methods for working with text data. Hence Python is often the language of choice for data munging or wrangling. These exercises give you some familiarity with how to work with text data."
   ]
  },
  {
   "cell_type": "markdown",
   "metadata": {},
   "source": [
    "**1**. (25 points) A Caesar cipher is a very simple method of encoding and decoding data. The cipher simply replaces characters with the character offset by $k$ places. For example, if the offset is 3, we replace `a` with `d`, `b` with `e` etc. The cipher wraps around so we replace `y` with `b`, `z` with `c` and so on. Punctuation, spaces and numbers are left unchanged. Note that we don't need a decode function - we can just use a negative offset to reverse the encoding.\n",
    "\n",
    "- Write a function `encode(s, k)` where `s` is the string to be enoded and `k` is the offset. Check that you can encode \n",
    "\n",
    "```\n",
    "If you think Python is hell, try writing this function in R!\n",
    "```\n",
    "with offset 10 as\n",
    "\n",
    "```\n",
    "Sp iye dlsxu Zidryx sc rovv, dbi gbsdsxq drsc pexmdsyx sx B!\n",
    "```\n",
    "\n",
    "and make sure you can recover the original string with offset -10.\n",
    "\n",
    "Hint: Use the following\n",
    "\n",
    "```python\n",
    "chr\n",
    "ord\n",
    "string.ascii_uppercase\n",
    "string.ascii_lowercase\n",
    "str.maketrans\n",
    "str.translate\n",
    "dictionaries\n",
    "```"
   ]
  },
  {
   "cell_type": "code",
   "execution_count": 3,
   "metadata": {
    "collapsed": false
   },
   "outputs": [],
   "source": [
    "def encode(s, k):\n",
    "    \"\"\"Caesar cipher encoding with offset k for string s\"\"\"\n",
    "    import string\n",
    "    \n",
    "    t = {c: chr(ord('A') + (ord(c) - ord('A') + k) % 26) \n",
    "         for c in string.ascii_uppercase}\n",
    "    t1 = {c: chr(ord('a') + (ord(c) - ord('a') + k) % 26) \n",
    "          for c in string.ascii_lowercase}\n",
    "    t.update(t1)\n",
    "\n",
    "    table = str.maketrans(t)\n",
    "    return s.translate(table)"
   ]
  },
  {
   "cell_type": "code",
   "execution_count": 4,
   "metadata": {
    "collapsed": false
   },
   "outputs": [
    {
     "data": {
      "text/plain": [
       "'Sp iye drsxu Zidryx sc rovv, dbi gbsdsxq drsc pexmdsyx sx B!'"
      ]
     },
     "execution_count": 4,
     "metadata": {},
     "output_type": "execute_result"
    }
   ],
   "source": [
    "s1 = encode('If you think Python is hell, try writing this function in R!', 10)\n",
    "s1"
   ]
  },
  {
   "cell_type": "code",
   "execution_count": 5,
   "metadata": {
    "collapsed": false
   },
   "outputs": [
    {
     "data": {
      "text/plain": [
       "'If you think Python is hell, try writing this function in R!'"
      ]
     },
     "execution_count": 5,
     "metadata": {},
     "output_type": "execute_result"
    }
   ],
   "source": [
    "s2 = encode(s1, -10)\n",
    "s2"
   ]
  },
  {
   "cell_type": "markdown",
   "metadata": {},
   "source": [
    "**2**. (50 points) \n",
    "\n",
    "- Read the E coli genomic DNA from the file `ecoli.fas` into a string variable containing only the sequence data with no header information or line breaks. The string should start with `agcttttca` and be 4639675 characters long. (5 points)\n",
    "- Find the CG ratio, defined as (c+g)/(a+c+t+g). (10 points)\n",
    "- Find the average numbers of the letter 'a' in shifting windows of length 10. The first 3 windows are ('agcttttcat', 'gcttttcatt', 'cttttcattc'). (15 points)\n",
    "- Use regular expressions to find all non-overlapping occurrences of the string 'gatt-aca' where the '-' means any number of letters - that is, each string found must begin with 'gatt' and end with 'aca' but it does not matter what is in the middle. For each such string found, print the middle don't-care sequence and the starting position of the string (i.e. position of the first letter g in the full sequence). Restrict the search to the first 10,000 bases in the DNA sequence. (20 points)"
   ]
  },
  {
   "cell_type": "code",
   "execution_count": 7,
   "metadata": {
    "collapsed": false
   },
   "outputs": [],
   "source": [
    "with open('ecoli.fas') as f:\n",
    "    lines = f.readlines()\n",
    "seq = ''.join([line.strip() for line in lines[1:]])"
   ]
  },
  {
   "cell_type": "code",
   "execution_count": 8,
   "metadata": {
    "collapsed": false
   },
   "outputs": [
    {
     "data": {
      "text/plain": [
       "0.5078969970957018"
      ]
     },
     "execution_count": 8,
     "metadata": {},
     "output_type": "execute_result"
    }
   ],
   "source": [
    "(seq.count('c') + seq.count('g'))/len(seq)"
   ]
  },
  {
   "cell_type": "markdown",
   "metadata": {},
   "source": [
    "#### Regular version"
   ]
  },
  {
   "cell_type": "code",
   "execution_count": 9,
   "metadata": {
    "collapsed": false
   },
   "outputs": [
    {
     "data": {
      "text/plain": [
       "2.4618754884511085"
      ]
     },
     "execution_count": 9,
     "metadata": {},
     "output_type": "execute_result"
    }
   ],
   "source": [
    "windows = (seq for i in range(10))\n",
    "sum(s.count('a') for s in zip(*windows))/(len(seq)-9)"
   ]
  },
  {
   "cell_type": "markdown",
   "metadata": {},
   "source": [
    "#### A version using convolution"
   ]
  },
  {
   "cell_type": "code",
   "execution_count": 10,
   "metadata": {
    "collapsed": false
   },
   "outputs": [
    {
     "data": {
      "text/plain": [
       "2.4618726865252802"
      ]
     },
     "execution_count": 10,
     "metadata": {},
     "output_type": "execute_result"
    }
   ],
   "source": [
    "import numpy as np\n",
    "\n",
    "s = np.where(np.array(list(seq)) == 'a', 1, 0)\n",
    "kenrel = np.ones(10)\n",
    "counts = np.convolve(s, kenrel, mode='valid')\n",
    "counts.mean()"
   ]
  },
  {
   "cell_type": "code",
   "execution_count": 11,
   "metadata": {
    "collapsed": false
   },
   "outputs": [
    {
     "name": "stdout",
     "output_type": "stream",
     "text": [
      "42 ('aaaaaaagagtgtctgatagcagcttctgaactggttacctgccgtgagtaaattaaaattttattgacttaggtcactaaatactttaaccaatataggcatagcgc',)\n",
      "485 ('gaaaaaaccattagcggccaggatgctttacccaatatcagcgatgccgaacgtatttttgccgaacttttgacgggactcgccgccgcccagccggggttcccgctggcgcaattgaaaactttcgtcgatcaggaatttgcccaaataaa',)\n",
      "701 ('tgccgtggcgagaaaatgtcgatcgccattatggccggcgtattagaagcgcgcggtc',)\n",
      "996 ('gttgcgagatttggacggacgttgacggggtctatacctgcgacccgcgtcaggtgcccgatgcgaggttgttgaagtcgatgtcctaccaggaagcgatggagctttcctacttcggcgctaaagttcttcacccccgcaccattacccccatcgcccagttccagatcccttgcctgattaaaaataccggaaatcctcaagcaccaggtacgctcattggtgccagccgtgatgaagacgaattaccggtcaagggcatttccaatctgaata',)\n",
      "1379 ('acgcaatcatcttccgaat',)\n",
      "1745 ('ggcgtcggtggcgttggcggtgcgctgctggagcaactgaagcgtcagcaaagctggctgaagaataa',)\n",
      "2094 ('actaccatcagttgcgttatgcggcggaaaaatcgcggcgtaaattcctctatg',)\n",
      "2170 ('accggttattgagaacctgcaaaatctgctcaatgcaggtgatgaattgatgaagttctccggcattctttctggttcgctttcttatatcttcggcaagttagacgaaggcatgagtttctccgaggcgaccacgctggcgcgggaaatgggttataccgaaccggacccgcgagatgatctttctggtatggatgtggcgcgtaaactattgattctcgctcgtgaaacgggacgtgaactggagctggcggatattgaaattgaacctgtgctgcccgcagagtttaacgccgagggtgatgttgccgcttttatggcgaatctgtc',)\n",
      "2609 ('gccgaagtggatggtaatgatccgctgttcaaagtgaaaaatggcgaaaacgccctggccttctatagccactattatcagccgctgccgttggtactgcgcggatatggtgcgggcaatgacgtt',)\n",
      "3336 ('aaagtctcgacggcagaagccagggctattttaccggcgcagtatcgccgccaggattgcattgcgcacgggcg',)\n",
      "3880 ('ttgtcacccgcagtgcgaagatcctctcggcgtttattggtgatgaaatccc',)\n",
      "4054 ('tcggcggtcgctttatggc',)\n",
      "4285 ('tcgatgcctgtcaggcgctggtgaagcaggcgtttgatgatgaagaactgaaagtggcgctagggttaaactcggctaactcgatta',)\n",
      "4398 ('tgctactactttgaagctgttgcgcagctgccgcaggagacgcgcaaccagctggttgtctcggtgccaagcggaaacttcggcgatttgacggcgggtctgctggcgaagtcactcggtctgccggtgaaacgttttattgctgcgaccaacgtgaacgataccgtgccacgtttcctgcacgacggtcagtggtcacccaaagcgactcaggcgacgttatccaacgcgatggacgtgagtcagccga',)\n",
      "4896 ('ctcggtgaaacgttggatctgccaaaagagctggcagaacgtgctgatttacccttgctttc',)\n",
      "4978 ('ttgctgcgttgcgtaaattgatgatgaatcatcagtaaaatctattcattatctcaatcaggccgggtttgcttttatgcagcccggcttttttatgaagaaattatggagaaaaatg',)\n",
      "5143 ('aggattgcggagaata',)\n",
      "5792 ('ttcaataatgaaacgactcatcagaccgcgtgctttcttagcgtagaagctgatgatcttaaatttgccgttcttctcatcgagga',)\n",
      "5926 ('taaaatactcatctgacgccagattaatcacc',)\n",
      "6526 ('actcctgcgaa',)\n",
      "6836 ('gttttcggcataaatgtagttggcaacgatggagctgaaggcaa',)\n",
      "7317 ('atcgccatcaacggg',)\n",
      "7380 ('gccagcagagtaaag',)\n",
      "8368 ('ccggaataccgtaagttgattgatgatgctgtcgcctgggcgaa',)\n",
      "9670 ('cgcaa',)\n"
     ]
    }
   ],
   "source": [
    "import re\n",
    "\n",
    "pattern = re.compile(r'gatt(.*?)aca')\n",
    "for m in pattern.finditer(seq[:10000]):\n",
    "    print(m.start(), m.groups(0))"
   ]
  },
  {
   "cell_type": "markdown",
   "metadata": {},
   "source": [
    "**3**. (25 points) Read in the text of Ulysses by James Joyce from the file `'Ulysses.txt`. \n",
    "\n",
    "- Find the 10 most frequently used words that begin with the letter 'u' in the full text using a generator to read in only one line at a time (this is essential when dealing with huge text files that may otherwise run out of memory). \n",
    "\n",
    "    - A word cannot contain punctuation or the newline character '\\n'\n",
    "    - Ignore case - so ulysses and Ulysses are considered the same word\n",
    "\n",
    "Note: punctuation is any character in string.punctuation from the `string` package"
   ]
  },
  {
   "cell_type": "code",
   "execution_count": 1,
   "metadata": {
    "collapsed": false
   },
   "outputs": [],
   "source": [
    "import string\n",
    "\n",
    "counter = {}\n",
    "with open('Ulysses.txt') as f:\n",
    "    for line in f:\n",
    "        line = line.strip()\n",
    "        line = line.lower()\n",
    "        line = line.translate(str.maketrans({c: None for c in string.punctuation}))\n",
    "        words = line.split()\n",
    "        for word in words:\n",
    "            counter[word] = counter.get(word, 0) + 1"
   ]
  },
  {
   "cell_type": "code",
   "execution_count": 2,
   "metadata": {
    "collapsed": false
   },
   "outputs": [
    {
     "name": "stdout",
     "output_type": "stream",
     "text": [
      "up 833\n",
      "us 257\n",
      "under 230\n",
      "upon 133\n",
      "used 79\n",
      "use 49\n",
      "understand 36\n",
      "usual 32\n",
      "umbrella 22\n",
      "unless 21\n"
     ]
    }
   ],
   "source": [
    "n = 0\n",
    "for word, count in sorted(counter.items(), key=lambda x: x[1], reverse=True):\n",
    "    if word.startswith('u'):\n",
    "        print(word, count)\n",
    "        n += 1\n",
    "    if n == 10:\n",
    "        break"
   ]
  }
 ],
 "metadata": {
  "kernelspec": {
   "display_name": "Python 3",
   "language": "python",
   "name": "python3"
  },
  "language_info": {
   "codemirror_mode": {
    "name": "ipython",
    "version": 3
   },
   "file_extension": ".py",
   "mimetype": "text/x-python",
   "name": "python",
   "nbconvert_exporter": "python",
   "pygments_lexer": "ipython3",
   "version": "3.5.2"
  },
  "latex_envs": {
   "bibliofile": "biblio.bib",
   "cite_by": "apalike",
   "current_citInitial": 1,
   "eqLabelWithNumbers": true,
   "eqNumInitial": 0
  }
 },
 "nbformat": 4,
 "nbformat_minor": 0
}
