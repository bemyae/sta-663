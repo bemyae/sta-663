{
 "cells": [
  {
   "cell_type": "markdown",
   "metadata": {},
   "source": [
    "**1**. Write a Python function using for loops to calculate the pairwise distance matrix given two sets of vectors. The function signature should look like this:\n",
    "\n",
    "```\n",
    "np.ndarray <- cdist(xs, ys, dist)\n",
    "    \n",
    "```\n",
    "\n",
    "where `xs` and `ys` are collections of vectors, and `dist` is some function for a distance metric. Write a function for the Euclidean distance metric with the signature:\n",
    "\n",
    "```\n",
    "float <- euclidean_distance(x, y)\n",
    "```\n",
    "\n",
    "Example of usage:\n",
    "```\n",
    "coords = [(35.0456, -85.2672),\n",
    "          (35.1174, -89.9711),\n",
    "          (35.9728, -83.9422),\n",
    "          (36.1667, -86.7833)]\n",
    "cdist(coords, coords, euclidean_distance)\n",
    "```\n",
    "\n",
    "where `coords` is interpreted as 4 row vectors of dimension 2 each. The result should be\n",
    "\n",
    "Euclidean metric\n",
    "```\n",
    "array([[ 0.        ,  4.70444794,  1.6171966 ,  1.88558331],\n",
    "       [ 4.70444794,  0.        ,  6.0892811 ,  3.35605413],\n",
    "       [ 1.6171966 ,  6.0892811 ,  0.        ,  2.84770898],\n",
    "       [ 1.88558331,  3.35605413,  2.84770898,  0.        ]])\n",
    "```\n",
    "\n",
    "Time the performance of your function for Euclidean distance metric using `%timeit` for the given data sets `XA` and `XB`.\n",
    "\n",
    "Use the library function `scipy.spatial.distance.cdist` to see  how much speed-up is achievable."
   ]
  },
  {
   "cell_type": "code",
   "execution_count": 11,
   "metadata": {
    "collapsed": false
   },
   "outputs": [],
   "source": [
    "import numpy as np\n",
    "\n",
    "np.random.seed(123)\n",
    "\n",
    "n1 = 50\n",
    "n2 = 100\n",
    "p = 10\n",
    "XA = np.random.normal(0, 1, (n1, p))\n",
    "XB = np.random.normal(0, 1, (n2, p))"
   ]
  },
  {
   "cell_type": "code",
   "execution_count": null,
   "metadata": {
    "collapsed": true
   },
   "outputs": [],
   "source": []
  },
  {
   "cell_type": "markdown",
   "metadata": {},
   "source": [
    "**2**. Write a version `cdist_numpy` to speed up calculations using vectorization and broadcasting. Check that it gives the correct answers on `coords` and compare timings."
   ]
  },
  {
   "cell_type": "code",
   "execution_count": null,
   "metadata": {
    "collapsed": true
   },
   "outputs": [],
   "source": []
  },
  {
   "cell_type": "markdown",
   "metadata": {},
   "source": [
    "**3**. Write a verison `cdist_numba` using `numba` JIT. Check that it gives the correct answers on `coords` and compare timings."
   ]
  },
  {
   "cell_type": "code",
   "execution_count": null,
   "metadata": {
    "collapsed": true
   },
   "outputs": [],
   "source": []
  },
  {
   "cell_type": "markdown",
   "metadata": {},
   "source": [
    "**4**. Write a verison `cdist_cython` using `Cython` AIT. Check that it gives the correct answers on `coords` and compare timings."
   ]
  },
  {
   "cell_type": "code",
   "execution_count": null,
   "metadata": {
    "collapsed": true
   },
   "outputs": [],
   "source": []
  }
 ],
 "metadata": {
  "kernelspec": {
   "display_name": "Python 3",
   "language": "python",
   "name": "python3"
  },
  "language_info": {
   "codemirror_mode": {
    "name": "ipython",
    "version": 3
   },
   "file_extension": ".py",
   "mimetype": "text/x-python",
   "name": "python",
   "nbconvert_exporter": "python",
   "pygments_lexer": "ipython3",
   "version": "3.5.2"
  },
  "latex_envs": {
   "bibliofile": "biblio.bib",
   "cite_by": "apalike",
   "current_citInitial": 1,
   "eqLabelWithNumbers": true,
   "eqNumInitial": 0
  }
 },
 "nbformat": 4,
 "nbformat_minor": 2
}
