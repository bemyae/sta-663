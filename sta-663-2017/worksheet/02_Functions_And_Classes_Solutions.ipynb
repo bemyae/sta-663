{
 "cells": [
  {
   "cell_type": "markdown",
   "metadata": {},
   "source": [
    "**1**. Write a function that returns the Pythagorean triplet `(a, b, c)` given any two of the arguments `a`, `b` or `c`.\n",
    "\n",
    "For example, `triplet(a=3, c=5)` will return (3, 4, 5)."
   ]
  },
  {
   "cell_type": "code",
   "execution_count": 1,
   "metadata": {
    "collapsed": true
   },
   "outputs": [],
   "source": [
    "import numpy as np"
   ]
  },
  {
   "cell_type": "code",
   "execution_count": 16,
   "metadata": {
    "collapsed": true
   },
   "outputs": [],
   "source": [
    "def triplet(a=None, b=None, c=None):\n",
    "    \"\"\"Returns the Pythagoraen tripler (a, b, c) given any two arguments.\n",
    "    \n",
    "    Assumes but does not check that two named argumets are called.\n",
    "    Retruns None if no triplet possible with given arguments.\n",
    "    \"\"\"\n",
    "    \n",
    "    if a is None:\n",
    "        q, r = divmod(np.sqrt(c**2 - b**2), 1)\n",
    "        if r == 0:\n",
    "            return int(q), b, c\n",
    "    elif b is None:\n",
    "        q, r = divmod(np.sqrt(c**2 - a**2), 1)\n",
    "        if r == 0:\n",
    "            return a, int(q), c\n",
    "    else:\n",
    "        q, r= divmod(np.sqrt(a**2 + b**2), 1)\n",
    "        if r == 0:\n",
    "            return a, b, int(q)"
   ]
  },
  {
   "cell_type": "code",
   "execution_count": 15,
   "metadata": {
    "collapsed": false
   },
   "outputs": [
    {
     "data": {
      "text/plain": [
       "(3, 4, 5)"
      ]
     },
     "execution_count": 15,
     "metadata": {},
     "output_type": "execute_result"
    }
   ],
   "source": [
    "triplet(a=3, c=5)"
   ]
  },
  {
   "cell_type": "code",
   "execution_count": 17,
   "metadata": {
    "collapsed": true
   },
   "outputs": [],
   "source": [
    "triplet(a=3, b=5)"
   ]
  },
  {
   "cell_type": "markdown",
   "metadata": {},
   "source": [
    "**2**. The $n^\\text{th}$ Catalan number is given by \n",
    "$$\n",
    "C_n = \\prod_{k=2}^n  \\frac{n+k}{k}\n",
    "$$\n",
    "for $n \\ge 0$. \n",
    "\n",
    "Write a function to calculate the $n^\\text{th}$ Catalan number - it should take a single argument $n$ and return $C_n$. Use this function to generate a list of the first 10 **odd** Catalan numbers (i.e., n = 1, 3, 5, ...)."
   ]
  },
  {
   "cell_type": "code",
   "execution_count": 22,
   "metadata": {
    "collapsed": true
   },
   "outputs": [],
   "source": [
    "def catalan(n):\n",
    "    \"\"\"Returns the nth Catalan number.\"\"\"\n",
    "    \n",
    "    ans = 1\n",
    "    for k in range(2, n+1):\n",
    "        ans *= (n+k)/k\n",
    "    return ans"
   ]
  },
  {
   "cell_type": "code",
   "execution_count": 23,
   "metadata": {
    "collapsed": false
   },
   "outputs": [
    {
     "data": {
      "text/plain": [
       "[1, 5.0, 41.99999999999999, 428.99999999999994, 4862.0]"
      ]
     },
     "execution_count": 23,
     "metadata": {},
     "output_type": "execute_result"
    }
   ],
   "source": [
    "[catalan(n) for n in range(1, 10, 2)]"
   ]
  },
  {
   "cell_type": "markdown",
   "metadata": {},
   "source": [
    "**3**. Rewrite the above function as a `lambda` function. This is tricky but introduces you to the functional  style that is very useful in advanced programming. Some imports are done for you as a hint."
   ]
  },
  {
   "cell_type": "code",
   "execution_count": 24,
   "metadata": {
    "collapsed": false
   },
   "outputs": [],
   "source": [
    "from functools import reduce\n",
    "from operator import mul"
   ]
  },
  {
   "cell_type": "code",
   "execution_count": 29,
   "metadata": {
    "collapsed": false
   },
   "outputs": [],
   "source": [
    "catalan_L = lambda n: reduce(mul, ((n+k)/k for k in range(2, n+1)), 1)"
   ]
  },
  {
   "cell_type": "code",
   "execution_count": 30,
   "metadata": {
    "collapsed": false
   },
   "outputs": [
    {
     "data": {
      "text/plain": [
       "[1, 5.0, 41.99999999999999, 428.99999999999994, 4862.0]"
      ]
     },
     "execution_count": 30,
     "metadata": {},
     "output_type": "execute_result"
    }
   ],
   "source": [
    "[catalan_L(n) for n in range(1, 10, 2)]"
   ]
  },
  {
   "cell_type": "markdown",
   "metadata": {},
   "source": [
    "**4**.  Write a class called Matrix that can be initialized with an iterable of numbers, together with the number of rows r and the number of columns c. That is, you should be able to create a matrix `M` by calling `M =  Matrix([1,2,3,4], 2, 2)` (assume the matrix is row ordered). The Matrix class will have a single additional method called `at` that takes a tuple `(r, c)` and returns the value at row `r` and column `c`. For example, `M.at(0,1)` will return 2. Internally, the data should be stored as a list and the `at` method will use indexing to find the right value to return."
   ]
  },
  {
   "cell_type": "code",
   "execution_count": 1,
   "metadata": {
    "collapsed": false
   },
   "outputs": [],
   "source": [
    "class Matrix:\n",
    "    \"\"\"Simple class to represent a matrix.\"\"\"\n",
    "    \n",
    "    def __init__(self, xs, rows, cols):\n",
    "        self.xs = list(xs)\n",
    "        self.rows = rows\n",
    "        self.cols = cols  \n",
    "            \n",
    "    def at(self, i, j):\n",
    "        idx = i*self.cols + j\n",
    "        return self.xs[idx]"
   ]
  },
  {
   "cell_type": "code",
   "execution_count": 49,
   "metadata": {
    "collapsed": true
   },
   "outputs": [],
   "source": [
    "M =  Matrix([1,2,3,4], 2, 2)"
   ]
  },
  {
   "cell_type": "code",
   "execution_count": 50,
   "metadata": {
    "collapsed": false
   },
   "outputs": [
    {
     "data": {
      "text/plain": [
       "2"
      ]
     },
     "execution_count": 50,
     "metadata": {},
     "output_type": "execute_result"
    }
   ],
   "source": [
    "M.at(0,1)"
   ]
  }
 ],
 "metadata": {
  "kernelspec": {
   "display_name": "Python 3",
   "language": "python",
   "name": "python3"
  },
  "language_info": {
   "codemirror_mode": {
    "name": "ipython",
    "version": 3
   },
   "file_extension": ".py",
   "mimetype": "text/x-python",
   "name": "python",
   "nbconvert_exporter": "python",
   "pygments_lexer": "ipython3",
   "version": "3.5.2"
  },
  "latex_envs": {
   "bibliofile": "biblio.bib",
   "cite_by": "apalike",
   "current_citInitial": 1,
   "eqLabelWithNumbers": true,
   "eqNumInitial": 0
  }
 },
 "nbformat": 4,
 "nbformat_minor": 2
}
