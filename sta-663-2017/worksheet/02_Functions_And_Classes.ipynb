{
 "cells": [
  {
   "cell_type": "markdown",
   "metadata": {},
   "source": [
    "**1**. Write a function that returns the Pythagorean triplet `(a, b, c)` given any two of the arguments `a`, `b` or `c`.\n",
    "\n",
    "For example, `triplet(a=3, c=5)` will return (3, 4, 5)."
   ]
  },
  {
   "cell_type": "markdown",
   "metadata": {},
   "source": [
    "**2**. The $n^\\text{th}$ Catalan number is given by \n",
    "$$\n",
    "C_n = \\prod_{k=2}^n  \\frac{n+k}{k}\n",
    "$$\n",
    "for $n \\ge 0$. \n",
    "\n",
    "Write a function to calculate the $n^\\text{th}$ Catalan number - it should take a single argument $n$ and return $C_n$. Use this function to generate a list of the first 10 **odd** Catalan numbers (i.e., n = 1, 3, 5, ...)."
   ]
  },
  {
   "cell_type": "markdown",
   "metadata": {},
   "source": [
    "**3**. Rewrite the above function as a `lambda` function. This is tricky but introduces you to the functional  style that is very useful in advanced programming. Some imports are done for you as a hint."
   ]
  },
  {
   "cell_type": "code",
   "execution_count": 16,
   "metadata": {
    "collapsed": false
   },
   "outputs": [],
   "source": [
    "from functools import reduce\n",
    "from operator import mul"
   ]
  },
  {
   "cell_type": "markdown",
   "metadata": {},
   "source": [
    "**4**.  Write a class called Matrix that can be initialized with an iterable of numbers, together with the number of rows r and the number of columns c. That is, you should be able to create a matrix `M` by calling `M =  Matrix([1,2,3,4], 2, 2)` (assume the matrix is row ordered). The Matrix class will have a single additional method called `at` that takes a tuple `(r, c)` and returns the value at row `r` and column `c`. For example, `M.at(0,1)` will return 2. Internally, the data should be stored as a list and the `at` method will use indexing to find the right value to return."
   ]
  }
 ],
 "metadata": {
  "kernelspec": {
   "display_name": "Python 3",
   "language": "python",
   "name": "python3"
  },
  "language_info": {
   "codemirror_mode": {
    "name": "ipython",
    "version": 3
   },
   "file_extension": ".py",
   "mimetype": "text/x-python",
   "name": "python",
   "nbconvert_exporter": "python",
   "pygments_lexer": "ipython3",
   "version": "3.5.2"
  },
  "latex_envs": {
   "bibliofile": "biblio.bib",
   "cite_by": "apalike",
   "current_citInitial": 1,
   "eqLabelWithNumbers": true,
   "eqNumInitial": 0
  }
 },
 "nbformat": 4,
 "nbformat_minor": 2
}
