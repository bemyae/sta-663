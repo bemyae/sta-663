{
 "cells": [
  {
   "cell_type": "markdown",
   "metadata": {},
   "source": [
    "**1**. Import the files `data/movies.csv` and `data/ratings.csv` as `pandas` DataFrames called `movies` and `ratings` respectively.\n",
    "\n",
    "- Create a new DataFrame `avg_ratings` that contains the average ratings for each movie. This should only have two columns `movieId` and `rating`.\n",
    "- Combine the  `movies` and `avg_ratings` by joining on `movieID`. The resulting DataFrame should contain all named movies even if they were not rated. Call this combined DataFrame `movie_ratings`."
   ]
  },
  {
   "cell_type": "code",
   "execution_count": null,
   "metadata": {
    "collapsed": true
   },
   "outputs": [],
   "source": []
  },
  {
   "cell_type": "markdown",
   "metadata": {},
   "source": [
    "**2**. Convert `movie_ratings` into a tidy DataFrame with the following columns - `movieID`, `title`, `year`, `genre`,  `rating`. Save the `movie_ratings` DataFrame to an `sqlite3` database named `movids.db` with a single table `movie_ratings`."
   ]
  },
  {
   "cell_type": "code",
   "execution_count": null,
   "metadata": {
    "collapsed": true
   },
   "outputs": [],
   "source": []
  },
  {
   "cell_type": "markdown",
   "metadata": {},
   "source": [
    "**3**. Sort the `movie_rating` DataFrame first by year (most recent first), then by genre in increasing alphabetical order, and finally by title in increasing alphabetical order. Display the first 10 rows from this table."
   ]
  },
  {
   "cell_type": "code",
   "execution_count": null,
   "metadata": {
    "collapsed": true
   },
   "outputs": [],
   "source": []
  },
  {
   "cell_type": "markdown",
   "metadata": {},
   "source": [
    "**4**. Create a table showing the average rating of shows in each genre over time, such that rows represent different genres and columns represent different years."
   ]
  },
  {
   "cell_type": "code",
   "execution_count": null,
   "metadata": {
    "collapsed": true
   },
   "outputs": [],
   "source": []
  }
 ],
 "metadata": {
  "kernelspec": {
   "display_name": "Python 3",
   "language": "python",
   "name": "python3"
  },
  "language_info": {
   "codemirror_mode": {
    "name": "ipython",
    "version": 3
   },
   "file_extension": ".py",
   "mimetype": "text/x-python",
   "name": "python",
   "nbconvert_exporter": "python",
   "pygments_lexer": "ipython3",
   "version": "3.5.2"
  },
  "latex_envs": {
   "bibliofile": "biblio.bib",
   "cite_by": "apalike",
   "current_citInitial": 1,
   "eqLabelWithNumbers": true,
   "eqNumInitial": 0
  }
 },
 "nbformat": 4,
 "nbformat_minor": 2
}
