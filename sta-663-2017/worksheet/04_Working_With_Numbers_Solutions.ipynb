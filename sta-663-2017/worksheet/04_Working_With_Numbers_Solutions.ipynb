{
 "cells": [
  {
   "cell_type": "code",
   "execution_count": 1,
   "metadata": {
    "collapsed": true
   },
   "outputs": [],
   "source": [
    "import numpy as np"
   ]
  },
  {
   "cell_type": "markdown",
   "metadata": {},
   "source": [
    "**1**. Write a function to generate square arrays of size $n \\times n$ that increment by one in layers. For example, for n=11, we have\n",
    "```\n",
    "array([[1, 1, 1, 1, 1, 1, 1, 1, 1, 1, 1],\n",
    "       [1, 2, 2, 2, 2, 2, 2, 2, 2, 2, 1],\n",
    "       [1, 2, 3, 3, 3, 3, 3, 3, 3, 2, 1],\n",
    "       [1, 2, 3, 4, 4, 4, 4, 4, 3, 2, 1],\n",
    "       [1, 2, 3, 4, 5, 5, 5, 4, 3, 2, 1],\n",
    "       [1, 2, 3, 4, 5, 6, 5, 4, 3, 2, 1],\n",
    "       [1, 2, 3, 4, 5, 5, 5, 4, 3, 2, 1],\n",
    "       [1, 2, 3, 4, 4, 4, 4, 4, 3, 2, 1],\n",
    "       [1, 2, 3, 3, 3, 3, 3, 3, 3, 2, 1],\n",
    "       [1, 2, 2, 2, 2, 2, 2, 2, 2, 2, 1],\n",
    "       [1, 1, 1, 1, 1, 1, 1, 1, 1, 1, 1]])\n",
    "```\n",
    "\n",
    "Generate a $13 \\times 13$ square."
   ]
  },
  {
   "cell_type": "code",
   "execution_count": 31,
   "metadata": {
    "collapsed": true
   },
   "outputs": [],
   "source": [
    "def f(n):\n",
    "    x = np.ones((n, n)).astype('int')\n",
    "    for i in range(1, (n+1)//2):\n",
    "        x[i:-i, i:-i] += 1\n",
    "    return x"
   ]
  },
  {
   "cell_type": "code",
   "execution_count": 36,
   "metadata": {
    "collapsed": false
   },
   "outputs": [
    {
     "data": {
      "text/plain": [
       "array([[1, 1, 1, 1, 1, 1, 1, 1, 1, 1, 1, 1, 1],\n",
       "       [1, 2, 2, 2, 2, 2, 2, 2, 2, 2, 2, 2, 1],\n",
       "       [1, 2, 3, 3, 3, 3, 3, 3, 3, 3, 3, 2, 1],\n",
       "       [1, 2, 3, 4, 4, 4, 4, 4, 4, 4, 3, 2, 1],\n",
       "       [1, 2, 3, 4, 5, 5, 5, 5, 5, 4, 3, 2, 1],\n",
       "       [1, 2, 3, 4, 5, 6, 6, 6, 5, 4, 3, 2, 1],\n",
       "       [1, 2, 3, 4, 5, 6, 7, 6, 5, 4, 3, 2, 1],\n",
       "       [1, 2, 3, 4, 5, 6, 6, 6, 5, 4, 3, 2, 1],\n",
       "       [1, 2, 3, 4, 5, 5, 5, 5, 5, 4, 3, 2, 1],\n",
       "       [1, 2, 3, 4, 4, 4, 4, 4, 4, 4, 3, 2, 1],\n",
       "       [1, 2, 3, 3, 3, 3, 3, 3, 3, 3, 3, 2, 1],\n",
       "       [1, 2, 2, 2, 2, 2, 2, 2, 2, 2, 2, 2, 1],\n",
       "       [1, 1, 1, 1, 1, 1, 1, 1, 1, 1, 1, 1, 1]])"
      ]
     },
     "execution_count": 36,
     "metadata": {},
     "output_type": "execute_result"
    }
   ],
   "source": [
    "f(13)"
   ]
  },
  {
   "cell_type": "markdown",
   "metadata": {},
   "source": [
    "**2**. Generate the following array starting from `np.arange(1, 25)`\n",
    "\n",
    "```\n",
    "array([[ 1,  5,  9, 13, 17, 21],\n",
    "       [ 2,  6, 10, 14, 18, 22],\n",
    "       [ 3,  7, 11, 15, 19, 23],\n",
    "       [ 4,  8, 12, 16, 20, 24]])\n",
    "```\n",
    "\n",
    "- Find the row sums\n",
    "- Find the column sums\n",
    "- Normalize so that each row sums to 1\n",
    "- Replace all numbers in the matrix with the number modulo 12 (e.g. 9 is unchange but 13 becomes 1)\n",
    "- Extract the 2 by 4 inner sub-block tha starts with 6 and ends with 19"
   ]
  },
  {
   "cell_type": "code",
   "execution_count": 38,
   "metadata": {
    "collapsed": false
   },
   "outputs": [
    {
     "data": {
      "text/plain": [
       "array([[ 1,  5,  9, 13, 17, 21],\n",
       "       [ 2,  6, 10, 14, 18, 22],\n",
       "       [ 3,  7, 11, 15, 19, 23],\n",
       "       [ 4,  8, 12, 16, 20, 24]])"
      ]
     },
     "execution_count": 38,
     "metadata": {},
     "output_type": "execute_result"
    }
   ],
   "source": [
    "x = np.arange(1, 25)\n",
    "x = x.reshape((6,4)).T\n",
    "x"
   ]
  },
  {
   "cell_type": "code",
   "execution_count": 39,
   "metadata": {
    "collapsed": false
   },
   "outputs": [
    {
     "data": {
      "text/plain": [
       "array([66, 72, 78, 84])"
      ]
     },
     "execution_count": 39,
     "metadata": {},
     "output_type": "execute_result"
    }
   ],
   "source": [
    "x.sum(axis=1)"
   ]
  },
  {
   "cell_type": "code",
   "execution_count": 40,
   "metadata": {
    "collapsed": false
   },
   "outputs": [
    {
     "data": {
      "text/plain": [
       "array([10, 26, 42, 58, 74, 90])"
      ]
     },
     "execution_count": 40,
     "metadata": {},
     "output_type": "execute_result"
    }
   ],
   "source": [
    "x.sum(axis=0)"
   ]
  },
  {
   "cell_type": "code",
   "execution_count": 42,
   "metadata": {
    "collapsed": false
   },
   "outputs": [
    {
     "data": {
      "text/plain": [
       "array([ 1.,  1.,  1.,  1.])"
      ]
     },
     "execution_count": 42,
     "metadata": {},
     "output_type": "execute_result"
    }
   ],
   "source": [
    "xn = x/x.sum(axis=1)[:, np.newaxis]\n",
    "np.sum(xn, axis=1)"
   ]
  },
  {
   "cell_type": "code",
   "execution_count": 43,
   "metadata": {
    "collapsed": false
   },
   "outputs": [
    {
     "data": {
      "text/plain": [
       "array([[ 1,  5,  9,  1,  5,  9],\n",
       "       [ 2,  6, 10,  2,  6, 10],\n",
       "       [ 3,  7, 11,  3,  7, 11],\n",
       "       [ 4,  8,  0,  4,  8,  0]])"
      ]
     },
     "execution_count": 43,
     "metadata": {},
     "output_type": "execute_result"
    }
   ],
   "source": [
    "x % 12"
   ]
  },
  {
   "cell_type": "code",
   "execution_count": 44,
   "metadata": {
    "collapsed": false
   },
   "outputs": [
    {
     "data": {
      "text/plain": [
       "array([[ 6, 10, 14, 18],\n",
       "       [ 7, 11, 15, 19]])"
      ]
     },
     "execution_count": 44,
     "metadata": {},
     "output_type": "execute_result"
    }
   ],
   "source": [
    "x[1:3, 1:5]"
   ]
  },
  {
   "cell_type": "markdown",
   "metadata": {},
   "source": [
    "**3**. Create the $12 \\times 12$ multiplicaiton table below using the vector `np.arange(1, 13)` and broadcasting.\n",
    "\n",
    "```\n",
    "array([[  1,   2,   3,   4,   5,   6,   7,   8,   9,  10,  11,  12],\n",
    "       [  2,   4,   6,   8,  10,  12,  14,  16,  18,  20,  22,  24],\n",
    "       [  3,   6,   9,  12,  15,  18,  21,  24,  27,  30,  33,  36],\n",
    "       [  4,   8,  12,  16,  20,  24,  28,  32,  36,  40,  44,  48],\n",
    "       [  5,  10,  15,  20,  25,  30,  35,  40,  45,  50,  55,  60],\n",
    "       [  6,  12,  18,  24,  30,  36,  42,  48,  54,  60,  66,  72],\n",
    "       [  7,  14,  21,  28,  35,  42,  49,  56,  63,  70,  77,  84],\n",
    "       [  8,  16,  24,  32,  40,  48,  56,  64,  72,  80,  88,  96],\n",
    "       [  9,  18,  27,  36,  45,  54,  63,  72,  81,  90,  99, 108],\n",
    "       [ 10,  20,  30,  40,  50,  60,  70,  80,  90, 100, 110, 120],\n",
    "       [ 11,  22,  33,  44,  55,  66,  77,  88,  99, 110, 121, 132],\n",
    "       [ 12,  24,  36,  48,  60,  72,  84,  96, 108, 120, 132, 144]])\n",
    "```"
   ]
  },
  {
   "cell_type": "code",
   "execution_count": 69,
   "metadata": {
    "collapsed": false
   },
   "outputs": [
    {
     "data": {
      "text/plain": [
       "array([[  1,   2,   3,   4,   5,   6,   7,   8,   9,  10,  11,  12],\n",
       "       [  2,   4,   6,   8,  10,  12,  14,  16,  18,  20,  22,  24],\n",
       "       [  3,   6,   9,  12,  15,  18,  21,  24,  27,  30,  33,  36],\n",
       "       [  4,   8,  12,  16,  20,  24,  28,  32,  36,  40,  44,  48],\n",
       "       [  5,  10,  15,  20,  25,  30,  35,  40,  45,  50,  55,  60],\n",
       "       [  6,  12,  18,  24,  30,  36,  42,  48,  54,  60,  66,  72],\n",
       "       [  7,  14,  21,  28,  35,  42,  49,  56,  63,  70,  77,  84],\n",
       "       [  8,  16,  24,  32,  40,  48,  56,  64,  72,  80,  88,  96],\n",
       "       [  9,  18,  27,  36,  45,  54,  63,  72,  81,  90,  99, 108],\n",
       "       [ 10,  20,  30,  40,  50,  60,  70,  80,  90, 100, 110, 120],\n",
       "       [ 11,  22,  33,  44,  55,  66,  77,  88,  99, 110, 121, 132],\n",
       "       [ 12,  24,  36,  48,  60,  72,  84,  96, 108, 120, 132, 144]])"
      ]
     },
     "execution_count": 69,
     "metadata": {},
     "output_type": "execute_result"
    }
   ],
   "source": [
    "x = np.arange(1, 13)\n",
    "x[:, np.newaxis] * x[np.newaxis, :]"
   ]
  },
  {
   "cell_type": "markdown",
   "metadata": {},
   "source": [
    "**4**. Calculate the pairwise distance matrix between the column vectors of the following array (use Euclidean distance). This should be a $6 \\times 6$ array. Try to calculate the distance matrix using different approaches (e.g. loops, broadcasting, `scipy` funcitons).\n",
    "\n",
    "```\n",
    "array([[ 1,  5,  9, 13, 17, 21],\n",
    "       [ 2,  6, 10, 14, 18, 22],\n",
    "       [ 3,  7, 11, 15, 19, 23],\n",
    "       [ 4,  8, 12, 16, 20, 24]])\n",
    "```\n",
    "\n",
    "Plot the resulting distance matrix as a \"heatmap\" using `matlplotlib`."
   ]
  },
  {
   "cell_type": "code",
   "execution_count": 76,
   "metadata": {
    "collapsed": false
   },
   "outputs": [
    {
     "data": {
      "text/plain": [
       "array([[ 1,  2,  3,  4],\n",
       "       [ 5,  6,  7,  8],\n",
       "       [ 9, 10, 11, 12],\n",
       "       [13, 14, 15, 16],\n",
       "       [17, 18, 19, 20],\n",
       "       [21, 22, 23, 24]])"
      ]
     },
     "execution_count": 76,
     "metadata": {},
     "output_type": "execute_result"
    }
   ],
   "source": [
    "x = np.arange(1, 25).reshape((6,4))\n",
    "x"
   ]
  },
  {
   "cell_type": "code",
   "execution_count": 79,
   "metadata": {
    "collapsed": false
   },
   "outputs": [
    {
     "data": {
      "text/plain": [
       "array([[  0.,   8.,  16.,  24.,  32.,  40.],\n",
       "       [  8.,   0.,   8.,  16.,  24.,  32.],\n",
       "       [ 16.,   8.,   0.,   8.,  16.,  24.],\n",
       "       [ 24.,  16.,   8.,   0.,   8.,  16.],\n",
       "       [ 32.,  24.,  16.,   8.,   0.,   8.],\n",
       "       [ 40.,  32.,  24.,  16.,   8.,   0.]])"
      ]
     },
     "execution_count": 79,
     "metadata": {},
     "output_type": "execute_result"
    }
   ],
   "source": [
    "np.sqrt(np.sum((x[np.newaxis, :, :] - x[:, np.newaxis, :])**2, -1))"
   ]
  },
  {
   "cell_type": "code",
   "execution_count": 75,
   "metadata": {
    "collapsed": true
   },
   "outputs": [],
   "source": [
    "from scipy.spatial import distance_matrix"
   ]
  },
  {
   "cell_type": "code",
   "execution_count": 78,
   "metadata": {
    "collapsed": false
   },
   "outputs": [
    {
     "data": {
      "text/plain": [
       "array([[  0.,   8.,  16.,  24.,  32.,  40.],\n",
       "       [  8.,   0.,   8.,  16.,  24.,  32.],\n",
       "       [ 16.,   8.,   0.,   8.,  16.,  24.],\n",
       "       [ 24.,  16.,   8.,   0.,   8.,  16.],\n",
       "       [ 32.,  24.,  16.,   8.,   0.,   8.],\n",
       "       [ 40.,  32.,  24.,  16.,   8.,   0.]])"
      ]
     },
     "execution_count": 78,
     "metadata": {},
     "output_type": "execute_result"
    }
   ],
   "source": [
    "distance_matrix(x, x)"
   ]
  }
 ],
 "metadata": {
  "kernelspec": {
   "display_name": "Python 3",
   "language": "python",
   "name": "python3"
  },
  "language_info": {
   "codemirror_mode": {
    "name": "ipython",
    "version": 3
   },
   "file_extension": ".py",
   "mimetype": "text/x-python",
   "name": "python",
   "nbconvert_exporter": "python",
   "pygments_lexer": "ipython3",
   "version": "3.5.2"
  },
  "latex_envs": {
   "bibliofile": "biblio.bib",
   "cite_by": "apalike",
   "current_citInitial": 1,
   "eqLabelWithNumbers": true,
   "eqNumInitial": 0
  }
 },
 "nbformat": 4,
 "nbformat_minor": 2
}
