{
 "cells": [
  {
   "cell_type": "markdown",
   "metadata": {},
   "source": [
    "**1**. Make a list of all files in the current directory `worksheets` but remove the file extnesions and the leading numbers in the filename."
   ]
  },
  {
   "cell_type": "code",
   "execution_count": 1,
   "metadata": {
    "collapsed": false
   },
   "outputs": [],
   "source": [
    "import os\n",
    "import re\n",
    "import glob\n",
    "\n",
    "pat = re.compile(r'^\\d+_')\n",
    "\n",
    "file_list = []\n",
    "for f in glob.glob('../worksheet/*'):\n",
    "    path, filename = os.path.split(f)\n",
    "    name, ext = os.path.splitext(filename)\n",
    "    short_name = pat.sub('', name)\n",
    "    file_list.append(short_name)"
   ]
  },
  {
   "cell_type": "markdown",
   "metadata": {},
   "source": [
    "**2**. Count how often the word `markdown` occurs in all files in the current directory `worksheets`. "
   ]
  },
  {
   "cell_type": "code",
   "execution_count": 2,
   "metadata": {
    "collapsed": false
   },
   "outputs": [
    {
     "data": {
      "text/plain": [
       "29"
      ]
     },
     "execution_count": 2,
     "metadata": {},
     "output_type": "execute_result"
    }
   ],
   "source": [
    "count = 0\n",
    "for f in glob.glob('../worksheet/*'):\n",
    "    with open(f) as fin:\n",
    "        text = fin.read()\n",
    "        count += text.count('markdown')\n",
    "count"
   ]
  },
  {
   "cell_type": "markdown",
   "metadata": {},
   "source": [
    "**3**. Write the following string to a file called `jabberwocky.txt`.\n",
    "\n",
    "```\n",
    "Twas brillig, and the slithy toves\n",
    "  Did gyre and gimble in the wabe:\n",
    "All mimsy were the borogoves,\n",
    "  And the mome raths outgrabe.\n",
    "```\n",
    "\n",
    "Now read in the file line by line and save only the lines that conatin two or more words starting with the same letter into a new file called `truncated_jabberwocky.txt`."
   ]
  },
  {
   "cell_type": "code",
   "execution_count": 3,
   "metadata": {
    "collapsed": true
   },
   "outputs": [],
   "source": [
    "s = '''Twas brillig, and the slithy toves\n",
    "  Did gyre and gimble in the wabe:\n",
    "All mimsy were the borogoves,\n",
    "  And the mome raths outgrabe.'''"
   ]
  },
  {
   "cell_type": "code",
   "execution_count": 4,
   "metadata": {
    "collapsed": true
   },
   "outputs": [],
   "source": [
    "pat = re.compile(r'.*')"
   ]
  },
  {
   "cell_type": "code",
   "execution_count": 5,
   "metadata": {
    "collapsed": false
   },
   "outputs": [],
   "source": [
    "with open('jabberwocky.txt') as fin:\n",
    "    with open('truncated_jabberwocky.txt', 'w') as fout:\n",
    "        for line in fin:\n",
    "            start_letters = [word[0] for word in line.lower().strip().split()]\n",
    "            counts = [start_letters.count(char) >= 2 for char in set(start_letters)]\n",
    "            if any(counts):\n",
    "                fout.write(line)"
   ]
  },
  {
   "cell_type": "code",
   "execution_count": 6,
   "metadata": {
    "collapsed": false
   },
   "outputs": [
    {
     "name": "stdout",
     "output_type": "stream",
     "text": [
      "Twas brillig, and the slithy toves\r\n",
      "  Did gyre and gimble in the wabe:\r\n"
     ]
    }
   ],
   "source": [
    "cat truncated_jabberwocky.txt"
   ]
  },
  {
   "cell_type": "markdown",
   "metadata": {},
   "source": [
    "**4**. Read the file `jabberwocky.txt` again. Using a regular expression, replace all words containing two or more vowels with the reversed word - e.g. `brillig` would become `gillirb`. "
   ]
  },
  {
   "cell_type": "code",
   "execution_count": 7,
   "metadata": {
    "collapsed": false
   },
   "outputs": [],
   "source": [
    "two_vowel_word = re.compile(r'\\b(\\S*[a|e|i|o|u]\\S*[a|e|i|o|u]\\S*)\\b')"
   ]
  },
  {
   "cell_type": "code",
   "execution_count": 8,
   "metadata": {
    "collapsed": true
   },
   "outputs": [],
   "source": [
    "two_vowel_word = re.compile(r'\\b(\\S*[aeiou]\\S*[aeiou]\\S*)\\b')"
   ]
  },
  {
   "cell_type": "code",
   "execution_count": 9,
   "metadata": {
    "collapsed": false
   },
   "outputs": [
    {
     "name": "stdout",
     "output_type": "stream",
     "text": [
      "Twas gillirb, and the slithy sevot\n",
      "  Did gyre and elbmig in the ebaw:\n",
      "All mimsy erew the sevogorob,\n",
      "  And the emom raths ebargtuo.\n"
     ]
    }
   ],
   "source": [
    "with open('jabberwocky.txt') as fin:\n",
    "    text = fin.read()\n",
    "    for word in two_vowel_word.findall(text):\n",
    "        text = text.replace(word, word[::-1])\n",
    "print(text)"
   ]
  }
 ],
 "metadata": {
  "kernelspec": {
   "display_name": "Python 3",
   "language": "python",
   "name": "python3"
  },
  "language_info": {
   "codemirror_mode": {
    "name": "ipython",
    "version": 3
   },
   "file_extension": ".py",
   "mimetype": "text/x-python",
   "name": "python",
   "nbconvert_exporter": "python",
   "pygments_lexer": "ipython3",
   "version": "3.5.2"
  }
 },
 "nbformat": 4,
 "nbformat_minor": 2
}
