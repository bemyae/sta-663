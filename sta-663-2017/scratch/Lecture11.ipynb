{
 "cells": [
  {
   "cell_type": "markdown",
   "metadata": {},
   "source": [
    "# Using C++\n",
    "\n",
    "- Lecture 11 will cover the baiscs of C++ progamming.\n",
    "- Lecture 12 will cover how to call C++ libraries from Python using `pybind11`\n",
    "\n",
    "Since we are mainly learning C++ to wrap for use in Python, we will ignore C++ I/O."
   ]
  },
  {
   "cell_type": "markdown",
   "metadata": {},
   "source": [
    "## The compilation process"
   ]
  },
  {
   "cell_type": "markdown",
   "metadata": {},
   "source": [
    "![Compilation process](http://www.codingunit.com/images/preprocessor-compiler-linker.jpg)"
   ]
  },
  {
   "cell_type": "markdown",
   "metadata": {},
   "source": [
    "### Hello, world"
   ]
  },
  {
   "cell_type": "code",
   "execution_count": 1,
   "metadata": {
    "collapsed": false
   },
   "outputs": [
    {
     "name": "stdout",
     "output_type": "stream",
     "text": [
      "mkdir: hello: File exists\n",
      "/Users/cliburn/git-teach/sta-663-2017-public/scratch/hello\n"
     ]
    }
   ],
   "source": [
    "%mkdir hello\n",
    "%cd hello"
   ]
  },
  {
   "cell_type": "code",
   "execution_count": 2,
   "metadata": {
    "collapsed": false
   },
   "outputs": [
    {
     "name": "stdout",
     "output_type": "stream",
     "text": [
      "Overwriting hello.cpp\n"
     ]
    }
   ],
   "source": [
    "%%file hello.cpp\n",
    "\n",
    "#include <iostream>\n",
    "using std::cout;\n",
    "using std::endl;\n",
    "                \n",
    "int main() {\n",
    "    cout << \"Hello, world\" << endl;\n",
    "}"
   ]
  },
  {
   "cell_type": "code",
   "execution_count": 3,
   "metadata": {
    "collapsed": false
   },
   "outputs": [],
   "source": [
    "! g++ hello.cpp -o hello"
   ]
  },
  {
   "cell_type": "code",
   "execution_count": 4,
   "metadata": {
    "collapsed": false
   },
   "outputs": [
    {
     "name": "stdout",
     "output_type": "stream",
     "text": [
      "Hello, world\r\n"
     ]
    }
   ],
   "source": [
    "! ./hello"
   ]
  },
  {
   "cell_type": "code",
   "execution_count": 5,
   "metadata": {
    "collapsed": false
   },
   "outputs": [
    {
     "name": "stdout",
     "output_type": "stream",
     "text": [
      "/Users/cliburn/git-teach/sta-663-2017-public/scratch\n"
     ]
    }
   ],
   "source": [
    "%cd .."
   ]
  },
  {
   "cell_type": "markdown",
   "metadata": {},
   "source": [
    "### A simple function"
   ]
  },
  {
   "cell_type": "code",
   "execution_count": 6,
   "metadata": {
    "collapsed": false
   },
   "outputs": [
    {
     "name": "stdout",
     "output_type": "stream",
     "text": [
      "mkdir: add1: File exists\n",
      "/Users/cliburn/git-teach/sta-663-2017-public/scratch/add1\n"
     ]
    }
   ],
   "source": [
    "%mkdir add1\n",
    "%cd add1"
   ]
  },
  {
   "cell_type": "code",
   "execution_count": 7,
   "metadata": {
    "collapsed": false
   },
   "outputs": [
    {
     "name": "stdout",
     "output_type": "stream",
     "text": [
      "Overwriting add.cpp\n"
     ]
    }
   ],
   "source": [
    "%%file add.cpp\n",
    "\n",
    "#include <iostream>\n",
    "using std::cout;\n",
    "using std::endl;\n",
    "        \n",
    "double add(double a, double b) {\n",
    "    return a + b;\n",
    "}\n",
    "\n",
    "int main() {\n",
    "    double a = 1.0, b= 2.0;\n",
    "    \n",
    "    double c = add(a, b);\n",
    "    \n",
    "    cout << a << \" + \" << b << \" = \" << c << endl;\n",
    "}"
   ]
  },
  {
   "cell_type": "code",
   "execution_count": 8,
   "metadata": {
    "collapsed": true
   },
   "outputs": [],
   "source": [
    "! g++ add.cpp -o add"
   ]
  },
  {
   "cell_type": "code",
   "execution_count": 9,
   "metadata": {
    "collapsed": false
   },
   "outputs": [
    {
     "name": "stdout",
     "output_type": "stream",
     "text": [
      "1 + 2 = 3\r\n"
     ]
    }
   ],
   "source": [
    "! ./add"
   ]
  },
  {
   "cell_type": "code",
   "execution_count": 10,
   "metadata": {
    "collapsed": false
   },
   "outputs": [
    {
     "name": "stdout",
     "output_type": "stream",
     "text": [
      "/Users/cliburn/git-teach/sta-663-2017-public/scratch\n"
     ]
    }
   ],
   "source": [
    "%cd .."
   ]
  },
  {
   "cell_type": "markdown",
   "metadata": {},
   "source": [
    "### Using header files"
   ]
  },
  {
   "cell_type": "code",
   "execution_count": 11,
   "metadata": {
    "collapsed": false
   },
   "outputs": [
    {
     "name": "stdout",
     "output_type": "stream",
     "text": [
      "mkdir: add2: File exists\n",
      "/Users/cliburn/git-teach/sta-663-2017-public/scratch/add2\n"
     ]
    }
   ],
   "source": [
    "%mkdir add2\n",
    "%cd add2"
   ]
  },
  {
   "cell_type": "code",
   "execution_count": 12,
   "metadata": {
    "collapsed": false
   },
   "outputs": [
    {
     "name": "stdout",
     "output_type": "stream",
     "text": [
      "Overwriting add.hpp\n"
     ]
    }
   ],
   "source": [
    "%%file add.hpp\n",
    "\n",
    "#pragma once\n",
    "double add(double a, double b);"
   ]
  },
  {
   "cell_type": "code",
   "execution_count": 13,
   "metadata": {
    "collapsed": false
   },
   "outputs": [
    {
     "name": "stdout",
     "output_type": "stream",
     "text": [
      "Overwriting add.cpp\n"
     ]
    }
   ],
   "source": [
    "%%file add.cpp\n",
    "\n",
    "double add(double a, double b) {\n",
    "    return a + b;\n",
    "}"
   ]
  },
  {
   "cell_type": "code",
   "execution_count": 14,
   "metadata": {
    "collapsed": false
   },
   "outputs": [
    {
     "name": "stdout",
     "output_type": "stream",
     "text": [
      "Overwriting add_driver.cpp\n"
     ]
    }
   ],
   "source": [
    "%%file add_driver.cpp\n",
    "\n",
    "#include \"add.hpp\"\n",
    "#include <iostream>\n",
    "using std::cout;\n",
    "using std::endl;\n",
    "        \n",
    "int main() {\n",
    "    double a = 1.0, b = 2.0;\n",
    "    \n",
    "    double c = add(a, b);\n",
    "    \n",
    "    cout << a << \" + \" << b  << \" = \" << c << endl;\n",
    "}"
   ]
  },
  {
   "cell_type": "code",
   "execution_count": 15,
   "metadata": {
    "collapsed": false
   },
   "outputs": [
    {
     "name": "stdout",
     "output_type": "stream",
     "text": [
      "1 + 2 = 3\n"
     ]
    }
   ],
   "source": [
    "%%bash\n",
    "\n",
    "g++ add_driver.cpp add.cpp -o add_driver\n",
    "./add_driver"
   ]
  },
  {
   "cell_type": "code",
   "execution_count": 16,
   "metadata": {
    "collapsed": false
   },
   "outputs": [
    {
     "name": "stdout",
     "output_type": "stream",
     "text": [
      "/Users/cliburn/git-teach/sta-663-2017-public/scratch\n"
     ]
    }
   ],
   "source": [
    "%cd .."
   ]
  },
  {
   "cell_type": "markdown",
   "metadata": {},
   "source": [
    "#### Notes:\n",
    "\n",
    "- `#pragma once` is non-standard but very widely supported\n",
    "- if you want to be pedantic, use traditional guards\n",
    "\n",
    "```c++\n",
    "%%file src/add.hpp\n",
    "\n",
    "#ifndef ADD_HPP\n",
    "#define ADD_HPP\n",
    "double add(double a, double b);\n",
    "#endif /* ADD_HPP */\n",
    "```"
   ]
  },
  {
   "cell_type": "markdown",
   "metadata": {},
   "source": [
    "### Using `make`"
   ]
  },
  {
   "cell_type": "code",
   "execution_count": 17,
   "metadata": {
    "collapsed": false
   },
   "outputs": [
    {
     "name": "stdout",
     "output_type": "stream",
     "text": [
      "mkdir: add3: File exists\n",
      "/Users/cliburn/git-teach/sta-663-2017-public/scratch/add3\n"
     ]
    }
   ],
   "source": [
    "%mkdir add3\n",
    "%cp add2/add.cpp add2/add.hpp add2/add_driver.cpp add3/\n",
    "%cd add3"
   ]
  },
  {
   "cell_type": "code",
   "execution_count": 18,
   "metadata": {
    "collapsed": false
   },
   "outputs": [
    {
     "name": "stdout",
     "output_type": "stream",
     "text": [
      "Overwriting Makefile\n"
     ]
    }
   ],
   "source": [
    "%%file Makefile\n",
    "\n",
    "add_driver: add_driver.o add.o\n",
    "\tg++ add_driver.o add.o -o add_driver\n",
    "    \n",
    "add_driver.o: add_driver.cpp add.hpp\n",
    "\tg++ -c add_driver.cpp\n",
    "\n",
    "add.o: add.cpp\n",
    "\tg++ -c add.cpp\n",
    "    \n",
    ".PHONY: clean\n",
    "clean: \n",
    "\trm add_driver *.o"
   ]
  },
  {
   "cell_type": "code",
   "execution_count": 19,
   "metadata": {
    "collapsed": false
   },
   "outputs": [
    {
     "name": "stdout",
     "output_type": "stream",
     "text": [
      "g++ -c add_driver.cpp\n",
      "g++ -c add.cpp\n",
      "g++ add_driver.o add.o -o add_driver\n"
     ]
    }
   ],
   "source": [
    "! make"
   ]
  },
  {
   "cell_type": "code",
   "execution_count": 20,
   "metadata": {
    "collapsed": false
   },
   "outputs": [
    {
     "name": "stdout",
     "output_type": "stream",
     "text": [
      "rm add_driver *.o\r\n"
     ]
    }
   ],
   "source": [
    "! make clean"
   ]
  },
  {
   "cell_type": "code",
   "execution_count": 21,
   "metadata": {
    "collapsed": false
   },
   "outputs": [
    {
     "name": "stdout",
     "output_type": "stream",
     "text": [
      "g++ -c add_driver.cpp\n",
      "g++ -c add.cpp\n",
      "g++ add_driver.o add.o -o add_driver\n"
     ]
    }
   ],
   "source": [
    "! make"
   ]
  },
  {
   "cell_type": "markdown",
   "metadata": {},
   "source": [
    "### A reusable Makefile"
   ]
  },
  {
   "cell_type": "code",
   "execution_count": 22,
   "metadata": {
    "collapsed": false
   },
   "outputs": [
    {
     "name": "stdout",
     "output_type": "stream",
     "text": [
      "Overwriting Makefile\n"
     ]
    }
   ],
   "source": [
    "%%file Makefile\n",
    "# Declaration of variables\n",
    "CC = g++\n",
    "CC_FLAGS = -Wall -std=c++11\n",
    " \n",
    "# File names\n",
    "EXEC = add_driver\n",
    "SOURCES = $(wildcard *.cpp)\n",
    "OBJECTS = $(SOURCES:.cpp=.o)\n",
    " \n",
    "# Main target\n",
    "$(EXEC): $(OBJECTS)\n",
    "\t$(CC) $(OBJECTS) -o $(EXEC)\n",
    " \n",
    "# To obtain object files\n",
    "%.o: %.cpp\n",
    "\t$(CC) -c $(CC_FLAGS) $< -o $@\n",
    " \n",
    "# To remove generated files\n",
    "clean:\n",
    "\trm -f $(EXEC) $(OBJECTS)"
   ]
  },
  {
   "cell_type": "code",
   "execution_count": 23,
   "metadata": {
    "collapsed": false
   },
   "outputs": [
    {
     "name": "stdout",
     "output_type": "stream",
     "text": [
      "rm -f add_driver add.o add_driver.o\n",
      "g++ -c -Wall -std=c++11 add.cpp -o add.o\n",
      "g++ -c -Wall -std=c++11 add_driver.cpp -o add_driver.o\n",
      "g++ add.o add_driver.o -o add_driver\n",
      "1 + 2 = 3\n"
     ]
    }
   ],
   "source": [
    "%%bash\n",
    "\n",
    "make clean\n",
    "make\n",
    "./add_driver"
   ]
  },
  {
   "cell_type": "code",
   "execution_count": 24,
   "metadata": {
    "collapsed": false
   },
   "outputs": [
    {
     "name": "stdout",
     "output_type": "stream",
     "text": [
      "/Users/cliburn/git-teach/sta-663-2017-public/scratch\n"
     ]
    }
   ],
   "source": [
    "%cd .."
   ]
  },
  {
   "cell_type": "markdown",
   "metadata": {},
   "source": [
    "### Linking to a library"
   ]
  },
  {
   "cell_type": "code",
   "execution_count": 25,
   "metadata": {
    "collapsed": false
   },
   "outputs": [
    {
     "name": "stdout",
     "output_type": "stream",
     "text": [
      "mkdir: linker: File exists\n",
      "/Users/cliburn/git-teach/sta-663-2017-public/scratch/linker\n"
     ]
    }
   ],
   "source": [
    "%mkdir linker\n",
    "%cd linker"
   ]
  },
  {
   "cell_type": "code",
   "execution_count": 26,
   "metadata": {
    "collapsed": false
   },
   "outputs": [
    {
     "name": "stdout",
     "output_type": "stream",
     "text": [
      "Overwriting test_linker.cpp\n"
     ]
    }
   ],
   "source": [
    "%%file test_linker.cpp\n",
    "\n",
    "#include <cmath>\n",
    "#include <iostream>\n",
    "using std::cout;\n",
    "using std::endl;\n",
    "        \n",
    "int main() {\n",
    "    cout << \"2^10 = \" << pow(2, 10) << endl;\n",
    "}"
   ]
  },
  {
   "cell_type": "code",
   "execution_count": 27,
   "metadata": {
    "collapsed": false
   },
   "outputs": [
    {
     "name": "stdout",
     "output_type": "stream",
     "text": [
      "Overwriting Makefile\n"
     ]
    }
   ],
   "source": [
    "%%file Makefile\n",
    "# Declaration of variables\n",
    "CC = g++\n",
    "CC_FLAGS = -Wall -std=c++11\n",
    " \n",
    "# File names\n",
    "EXEC = test_linker\n",
    "SOURCES = $(wildcard *.cpp)\n",
    "OBJECTS = $(SOURCES:.cpp=.o)\n",
    " \n",
    "# Main target\n",
    "$(EXEC): $(OBJECTS)\n",
    "\t$(CC) $(OBJECTS) -o $(EXEC)\n",
    " \n",
    "# To obtain object files\n",
    "%.o: %.cpp\n",
    "\t$(CC) -c $(CC_FLAGS) $< -o $@\n",
    " \n",
    "# To remove generated files\n",
    "clean:\n",
    "\trm -f $(EXEC) $(OBJECTS)"
   ]
  },
  {
   "cell_type": "code",
   "execution_count": 28,
   "metadata": {
    "collapsed": false
   },
   "outputs": [
    {
     "name": "stdout",
     "output_type": "stream",
     "text": [
      "g++ -c -Wall -std=c++11 test_linker.cpp -o test_linker.o\n",
      "g++ test_linker.o -o test_linker\n"
     ]
    }
   ],
   "source": [
    "! make"
   ]
  },
  {
   "cell_type": "code",
   "execution_count": 29,
   "metadata": {
    "collapsed": false
   },
   "outputs": [
    {
     "name": "stdout",
     "output_type": "stream",
     "text": [
      "2^10 = 1024\r\n"
     ]
    }
   ],
   "source": [
    "! ./test_linker"
   ]
  },
  {
   "cell_type": "code",
   "execution_count": 30,
   "metadata": {
    "collapsed": false
   },
   "outputs": [
    {
     "name": "stdout",
     "output_type": "stream",
     "text": [
      "/Users/cliburn/git-teach/sta-663-2017-public/scratch\n"
     ]
    }
   ],
   "source": [
    "%cd .."
   ]
  },
  {
   "cell_type": "markdown",
   "metadata": {},
   "source": [
    "## Arrays, pointers and dereferencing"
   ]
  },
  {
   "cell_type": "code",
   "execution_count": 31,
   "metadata": {
    "collapsed": false
   },
   "outputs": [
    {
     "name": "stdout",
     "output_type": "stream",
     "text": [
      "mkdir: arrays: File exists\n",
      "[Errno 20] Not a directory: 'arrays'\n",
      "/Users/cliburn/git-teach/sta-663-2017-public/scratch\n"
     ]
    }
   ],
   "source": [
    "%mkdir arrays\n",
    "%cd arrays"
   ]
  },
  {
   "cell_type": "code",
   "execution_count": 32,
   "metadata": {
    "collapsed": false
   },
   "outputs": [
    {
     "name": "stdout",
     "output_type": "stream",
     "text": [
      "Overwriting arrays.cpp\n"
     ]
    }
   ],
   "source": [
    "%%file arrays.cpp\n",
    "\n",
    "#include <cmath>\n",
    "#include <iostream>\n",
    "using std::cout;\n",
    "using std::endl;\n",
    "        \n",
    "int main() {\n",
    "    \n",
    "    // pointers and address-of opertor\n",
    "    int a = 1, b = 2;\n",
    "    int *p = &a, *q = &b;\n",
    "    \n",
    "    cout << a << \", \" << b << endl;\n",
    "    cout << *p << \", \" << *q << endl;\n",
    "    cout << p << \", \" << q << endl;\n",
    "\n",
    "    // An array name is just a pointer\n",
    "    int ms[] = {1,2,3,4};\n",
    "    \n",
    "    // using indexing\n",
    "    cout << ms[0] << \", \" << ms[1] << endl;\n",
    "    // using pointer arithmetic\n",
    "    cout << *(ms) << \", \" << *(ms + 0) << \", \" << *(ms + 2) << endl; \n",
    "    cout << 2[ms] << \", \" << 3[ms] << endl; // wait, what??\n",
    "    \n",
    "    // size of an array\n",
    "    cout << sizeof(ms)/sizeof(*ms) << endl;    \n",
    "}"
   ]
  },
  {
   "cell_type": "code",
   "execution_count": 33,
   "metadata": {
    "collapsed": false
   },
   "outputs": [
    {
     "name": "stdout",
     "output_type": "stream",
     "text": [
      "Overwriting Makefile\n"
     ]
    }
   ],
   "source": [
    "%%file Makefile\n",
    "# Declaration of variables\n",
    "CC = g++\n",
    "CC_FLAGS = -Wall -std=c++11\n",
    " \n",
    "# File names\n",
    "EXEC = arrays\n",
    "SOURCES = $(wildcard *.cpp)\n",
    "OBJECTS = $(SOURCES:.cpp=.o)\n",
    " \n",
    "# Main target\n",
    "$(EXEC): $(OBJECTS)\n",
    "\t$(CC) $(OBJECTS) -o $(EXEC)\n",
    " \n",
    "# To obtain object files\n",
    "%.o: %.cpp\n",
    "\t$(CC) -c $(CC_FLAGS) $< -o $@\n",
    " \n",
    "# To remove generated files\n",
    "clean:\n",
    "\trm -f $(EXEC) $(OBJECTS)"
   ]
  },
  {
   "cell_type": "code",
   "execution_count": 34,
   "metadata": {
    "collapsed": false
   },
   "outputs": [
    {
     "name": "stdout",
     "output_type": "stream",
     "text": [
      "g++ -c -Wall -std=c++11 arrays.cpp -o arrays.o\n",
      "g++ arrays.o -o arrays\n",
      "1, 2\n",
      "1, 2\n",
      "0x7fff56a6b4fc, 0x7fff56a6b4f8\n",
      "1, 2\n",
      "1, 1, 3\n",
      "3, 4\n",
      "4\n"
     ]
    }
   ],
   "source": [
    "%%bash\n",
    "\n",
    "make\n",
    "./arrays"
   ]
  },
  {
   "cell_type": "code",
   "execution_count": 35,
   "metadata": {
    "collapsed": false
   },
   "outputs": [
    {
     "name": "stdout",
     "output_type": "stream",
     "text": [
      "/Users/cliburn/git-teach/sta-663-2017-public\n"
     ]
    }
   ],
   "source": [
    "%cd .."
   ]
  },
  {
   "cell_type": "markdown",
   "metadata": {},
   "source": [
    "## Loops in C++"
   ]
  },
  {
   "cell_type": "code",
   "execution_count": 36,
   "metadata": {
    "collapsed": false
   },
   "outputs": [
    {
     "name": "stdout",
     "output_type": "stream",
     "text": [
      "mkdir: loops: File exists\n",
      "/Users/cliburn/git-teach/sta-663-2017-public/loops\n"
     ]
    }
   ],
   "source": [
    "%mkdir loops\n",
    "%cd loops"
   ]
  },
  {
   "cell_type": "code",
   "execution_count": 37,
   "metadata": {
    "collapsed": false
   },
   "outputs": [
    {
     "name": "stdout",
     "output_type": "stream",
     "text": [
      "Overwriting loops.cpp\n"
     ]
    }
   ],
   "source": [
    "%%file loops.cpp\n",
    "\n",
    "#include <cmath>\n",
    "#include <iostream>\n",
    "using std::cout;\n",
    "using std::endl;\n",
    "        \n",
    "int main() {\n",
    "    double xs[] = {0,1,2,3,4,5,6,7,8,9};    \n",
    "   \n",
    "    // looping with an index\n",
    "    for (int i=0; i<sizeof(xs)/sizeof(*xs); i++) {\n",
    "        cout << pow(xs[i], 2) << \" \";\n",
    "    }\n",
    "    cout << endl;\n",
    "    \n",
    "    // looping with an iterator\n",
    "    for (auto it=std::begin(xs); it!=std::end(xs); it++) {\n",
    "        cout << pow(*it, 2) << \" \";\n",
    "    }\n",
    "    cout << endl;\n",
    "    \n",
    "    // ranged for loop\n",
    "    for (auto x : xs) {\n",
    "        cout << pow(x, 2) << \" \";\n",
    "    }\n",
    "    cout << endl;\n",
    "    \n",
    "}"
   ]
  },
  {
   "cell_type": "code",
   "execution_count": 38,
   "metadata": {
    "collapsed": false
   },
   "outputs": [
    {
     "name": "stdout",
     "output_type": "stream",
     "text": [
      "Overwriting Makefile\n"
     ]
    }
   ],
   "source": [
    "%%file Makefile\n",
    "# Declaration of variables\n",
    "CC = g++\n",
    "CC_FLAGS = -Wall -std=c++11\n",
    " \n",
    "# File names\n",
    "EXEC = loops\n",
    "SOURCES = $(wildcard *.cpp)\n",
    "OBJECTS = $(SOURCES:.cpp=.o)\n",
    " \n",
    "# Main target\n",
    "$(EXEC): $(OBJECTS)\n",
    "\t$(CC) $(OBJECTS) -o $(EXEC)\n",
    " \n",
    "# To obtain object files\n",
    "%.o: %.cpp\n",
    "\t$(CC) -c $(CC_FLAGS) $< -o $@\n",
    " \n",
    "# To remove generated files\n",
    "clean:\n",
    "\trm -f $(EXEC) $(OBJECTS)"
   ]
  },
  {
   "cell_type": "code",
   "execution_count": 39,
   "metadata": {
    "collapsed": false
   },
   "outputs": [
    {
     "name": "stdout",
     "output_type": "stream",
     "text": [
      "rm -f loops loops.o\n",
      "g++ -c -Wall -std=c++11 loops.cpp -o loops.o\n",
      "g++ loops.o -o loops\n",
      "0 1 4 9 16 25 36 49 64 81 \n",
      "0 1 4 9 16 25 36 49 64 81 \n",
      "0 1 4 9 16 25 36 49 64 81 \n"
     ]
    }
   ],
   "source": [
    "%%bash\n",
    "\n",
    "make clean\n",
    "make\n",
    "./loops"
   ]
  },
  {
   "cell_type": "code",
   "execution_count": 40,
   "metadata": {
    "collapsed": false
   },
   "outputs": [
    {
     "name": "stdout",
     "output_type": "stream",
     "text": [
      "/Users/cliburn/git-teach/sta-663-2017-public\n"
     ]
    }
   ],
   "source": [
    "%cd .."
   ]
  },
  {
   "cell_type": "markdown",
   "metadata": {},
   "source": [
    "## Functions in C++"
   ]
  },
  {
   "cell_type": "code",
   "execution_count": 41,
   "metadata": {
    "collapsed": false
   },
   "outputs": [
    {
     "name": "stdout",
     "output_type": "stream",
     "text": [
      "mkdir: funcs1: File exists\n",
      "/Users/cliburn/git-teach/sta-663-2017-public/funcs1\n"
     ]
    }
   ],
   "source": [
    "%mkdir funcs1\n",
    "%cd funcs1"
   ]
  },
  {
   "cell_type": "code",
   "execution_count": 42,
   "metadata": {
    "collapsed": false
   },
   "outputs": [
    {
     "name": "stdout",
     "output_type": "stream",
     "text": [
      "Overwriting funcs1.cpp\n"
     ]
    }
   ],
   "source": [
    "%%file funcs1.cpp\n",
    "\n",
    "#include <iostream>\n",
    "using std::cout;\n",
    "using std::endl;\n",
    "        \n",
    "double sum(double *xs, int n) {\n",
    "    double s = 0.0;\n",
    "    \n",
    "    for (int i=0; i<n; i++) {\n",
    "        s += xs[i];\n",
    "    }\n",
    "    return s;\n",
    "}    \n",
    "\n",
    "void triple(double *xs, double * ys, int n) {   \n",
    "     for (int i=0; i<n; i++) {\n",
    "        ys[i] = 3 * xs[i];\n",
    "    }\n",
    "}\n",
    "    \n",
    "int main() {\n",
    "    double xs[] = {1,2,3,4};\n",
    "    int n = sizeof(xs)/sizeof(*xs);\n",
    "    \n",
    "    cout << sum(xs, n) << endl;\n",
    "    \n",
    "    double ys[n];\n",
    "    \n",
    "    triple(xs, ys, n);\n",
    "        for (auto y : ys) {\n",
    "        cout << y << \" \";\n",
    "    }\n",
    "    cout << endl;    \n",
    "}"
   ]
  },
  {
   "cell_type": "code",
   "execution_count": 43,
   "metadata": {
    "collapsed": false
   },
   "outputs": [
    {
     "name": "stdout",
     "output_type": "stream",
     "text": [
      "Overwriting Makefile\n"
     ]
    }
   ],
   "source": [
    "%%file Makefile\n",
    "# Declaration of variables\n",
    "CC = g++\n",
    "CC_FLAGS = -Wall -std=c++11\n",
    " \n",
    "# File names\n",
    "EXEC = funcs1\n",
    "SOURCES = $(wildcard *.cpp)\n",
    "OBJECTS = $(SOURCES:.cpp=.o)\n",
    " \n",
    "# Main target\n",
    "$(EXEC): $(OBJECTS)\n",
    "\t$(CC) $(OBJECTS) -o $(EXEC)\n",
    " \n",
    "# To obtain object files\n",
    "%.o: %.cpp\n",
    "\t$(CC) -c $(CC_FLAGS) $< -o $@\n",
    " \n",
    "# To remove generated files\n",
    "clean:\n",
    "\trm -f $(EXEC) $(OBJECTS)"
   ]
  },
  {
   "cell_type": "code",
   "execution_count": 44,
   "metadata": {
    "collapsed": false
   },
   "outputs": [
    {
     "name": "stdout",
     "output_type": "stream",
     "text": [
      "g++ -c -Wall -std=c++11 funcs1.cpp -o funcs1.o\n",
      "g++ funcs1.o -o funcs1\n",
      "10\n",
      "3 6 9 12 \n"
     ]
    }
   ],
   "source": [
    "%%bash\n",
    "\n",
    "make\n",
    "./funcs1"
   ]
  },
  {
   "cell_type": "code",
   "execution_count": 45,
   "metadata": {
    "collapsed": false
   },
   "outputs": [
    {
     "name": "stdout",
     "output_type": "stream",
     "text": [
      "/Users/cliburn/git-teach/sta-663-2017-public\n"
     ]
    }
   ],
   "source": [
    "%cd .."
   ]
  },
  {
   "cell_type": "markdown",
   "metadata": {},
   "source": [
    "## Anonymous functions"
   ]
  },
  {
   "cell_type": "code",
   "execution_count": 46,
   "metadata": {
    "collapsed": false
   },
   "outputs": [
    {
     "name": "stdout",
     "output_type": "stream",
     "text": [
      "mkdir: funcs2: File exists\n",
      "[Errno 20] Not a directory: 'funcs2'\n",
      "/Users/cliburn/git-teach/sta-663-2017-public\n"
     ]
    }
   ],
   "source": [
    "%mkdir funcs2\n",
    "%cd funcs2"
   ]
  },
  {
   "cell_type": "code",
   "execution_count": 47,
   "metadata": {
    "collapsed": false
   },
   "outputs": [
    {
     "name": "stdout",
     "output_type": "stream",
     "text": [
      "Overwriting funcs2.cpp\n"
     ]
    }
   ],
   "source": [
    "%%file funcs2.cpp\n",
    "\n",
    "#include <iostream>\n",
    "using std::cout;\n",
    "using std::endl;\n",
    "        \n",
    "int main() {\n",
    "    double k = 5.0;\n",
    "    double a = 1.0, b = 2.0;\n",
    "    \n",
    "    auto add1 = [](int a, int b) { return a + b; };\n",
    "    auto add2 = [k](int a, int b) { return a + b + k; };\n",
    "    auto add3 = [&k](int a, int b) { return a + b + k; };\n",
    "\n",
    "    k *= 2;\n",
    "    \n",
    "    cout << \"Lambda: \" << add1(a, b) << endl;\n",
    "    cout << \"Lambda with capture by value: \" << add2(a, b) << endl;\n",
    "    cout << \"Lmabda with capture by reference: \" << add3(a, b) << endl;\n",
    "}"
   ]
  },
  {
   "cell_type": "code",
   "execution_count": 48,
   "metadata": {
    "collapsed": false
   },
   "outputs": [
    {
     "name": "stdout",
     "output_type": "stream",
     "text": [
      "Overwriting Makefile\n"
     ]
    }
   ],
   "source": [
    "%%file Makefile\n",
    "# Declaration of variables\n",
    "CC = g++\n",
    "CC_FLAGS = -Wall -std=c++11\n",
    " \n",
    "# File names\n",
    "EXEC = funcs2\n",
    "SOURCES = $(wildcard *.cpp)\n",
    "OBJECTS = $(SOURCES:.cpp=.o)\n",
    " \n",
    "# Main target\n",
    "$(EXEC): $(OBJECTS)\n",
    "\t$(CC) $(OBJECTS) -o $(EXEC)\n",
    " \n",
    "# To obtain object files\n",
    "%.o: %.cpp\n",
    "\t$(CC) -c $(CC_FLAGS) $< -o $@\n",
    " \n",
    "# To remove generated files\n",
    "clean:\n",
    "\trm -f $(EXEC) $(OBJECTS)"
   ]
  },
  {
   "cell_type": "code",
   "execution_count": 49,
   "metadata": {
    "collapsed": false
   },
   "outputs": [
    {
     "name": "stdout",
     "output_type": "stream",
     "text": [
      "rm -f funcs2 funcs2.o\n",
      "g++ -c -Wall -std=c++11 funcs2.cpp -o funcs2.o\n",
      "g++ funcs2.o -o funcs2\n",
      "Lambda: 3\n",
      "Lambda with capture by value: 8\n",
      "Lmabda with capture by reference: 13\n"
     ]
    }
   ],
   "source": [
    "%%bash\n",
    "\n",
    "make clean\n",
    "make\n",
    "./funcs2"
   ]
  },
  {
   "cell_type": "code",
   "execution_count": 50,
   "metadata": {
    "collapsed": false
   },
   "outputs": [
    {
     "name": "stdout",
     "output_type": "stream",
     "text": [
      "/Users/cliburn/git-teach\n"
     ]
    }
   ],
   "source": [
    "%cd .."
   ]
  },
  {
   "cell_type": "markdown",
   "metadata": {},
   "source": [
    "## Templates"
   ]
  },
  {
   "cell_type": "code",
   "execution_count": 51,
   "metadata": {
    "collapsed": false
   },
   "outputs": [
    {
     "name": "stdout",
     "output_type": "stream",
     "text": [
      "mkdir: templates: File exists\n",
      "/Users/cliburn/git-teach/templates\n"
     ]
    }
   ],
   "source": [
    "%mkdir templates\n",
    "%cd templates"
   ]
  },
  {
   "cell_type": "code",
   "execution_count": 52,
   "metadata": {
    "collapsed": false
   },
   "outputs": [
    {
     "name": "stdout",
     "output_type": "stream",
     "text": [
      "Overwriting templates.cpp\n"
     ]
    }
   ],
   "source": [
    "%%file templates.cpp\n",
    "\n",
    "#include <iostream>\n",
    "#include <vector>\n",
    "#include <list>\n",
    "#include <numeric>\n",
    "using std::cout;\n",
    "using std::endl;\n",
    "using std::list;\n",
    "using std::vector;\n",
    "\n",
    "template<typename T>\n",
    "T sum(vector<T> xs) {\n",
    "    T s = 0.0;\n",
    "    for (auto x : xs) {\n",
    "        s += x;\n",
    "    }\n",
    "    return s;\n",
    "}\n",
    "\n",
    "int main(){\n",
    "    vector<int> ns = {1,2,3};\n",
    "    vector<double> xs = {4.5, 6.4, 7.8};\n",
    "    \n",
    "    // sum works with integers\n",
    "    cout << \"Sum of ints: \" << sum(ns) << endl;\n",
    "    \n",
    "    // sum works with doubles\n",
    "    cout << \"Sum of doubles: \" << sum(xs) << endl;\n",
    "    \n",
    "    // iota from the numeric library behaves like range\n",
    "    list<int> ys(10);\n",
    "    std::iota(ys.begin(), ys.end(), -3);\n",
    "    \n",
    "    // accumulate from the numeric library behavses like reduce with default operation of addition   \n",
    "    cout << \"Sum from iota: \" << std::accumulate(ys.begin(), ys.end(), 6.0) << endl;\n",
    "\n",
    "    // Note that the initial value determines the template type\n",
    "    cout << \"Sum of doubles using accumulate: \" << std::accumulate(xs.begin(), xs.end(), 0.0) << endl;\n",
    "    cout << \"Surpise: \" << std::accumulate(xs.begin(), xs.end(), 0) << endl;\n",
    "\n",
    "\n",
    "    // The binary operation can be user-defined\n",
    "    auto op = std::multiplies<int>();\n",
    "    cout << \"Product of ints: \" << std::accumulate(ns.begin(), ns.end(), 1, op) << endl;\n",
    "}"
   ]
  },
  {
   "cell_type": "code",
   "execution_count": 53,
   "metadata": {
    "collapsed": false
   },
   "outputs": [
    {
     "name": "stdout",
     "output_type": "stream",
     "text": [
      "Overwriting Makefile\n"
     ]
    }
   ],
   "source": [
    "%%file Makefile\n",
    "# Declaration of variables\n",
    "CC = g++\n",
    "CC_FLAGS = -Wall -std=c++11\n",
    " \n",
    "# File names\n",
    "EXEC = templates\n",
    "SOURCES = $(wildcard *.cpp)\n",
    "OBJECTS = $(SOURCES:.cpp=.o)\n",
    " \n",
    "# Main target\n",
    "$(EXEC): $(OBJECTS)\n",
    "\t$(CC) $(OBJECTS) -o $(EXEC)\n",
    " \n",
    "# To obtain object files\n",
    "%.o: %.cpp\n",
    "\t$(CC) -c $(CC_FLAGS) $< -o $@\n",
    " \n",
    "# To remove generated files\n",
    "clean:\n",
    "\trm -f $(EXEC) $(OBJECTS)"
   ]
  },
  {
   "cell_type": "code",
   "execution_count": 54,
   "metadata": {
    "collapsed": false
   },
   "outputs": [
    {
     "name": "stdout",
     "output_type": "stream",
     "text": [
      "rm -f templates templates.o\n",
      "g++ -c -Wall -std=c++11 templates.cpp -o templates.o\n",
      "g++ templates.o -o templates\n",
      "Sum of ints: 6\n",
      "Sum of doubles: 18.7\n",
      "Sum from iota: 21\n",
      "Sum of doubles using accumulate: 18.7\n",
      "Surpise: 17\n",
      "Product of ints: 6\n"
     ]
    }
   ],
   "source": [
    "%%bash\n",
    "\n",
    "make clean\n",
    "make\n",
    "./templates"
   ]
  },
  {
   "cell_type": "code",
   "execution_count": 55,
   "metadata": {
    "collapsed": false
   },
   "outputs": [
    {
     "name": "stdout",
     "output_type": "stream",
     "text": [
      "/Users/cliburn/git-teach\n"
     ]
    }
   ],
   "source": [
    "%cd .."
   ]
  },
  {
   "cell_type": "markdown",
   "metadata": {},
   "source": [
    "## Function pointers"
   ]
  },
  {
   "cell_type": "code",
   "execution_count": 56,
   "metadata": {
    "collapsed": false
   },
   "outputs": [
    {
     "name": "stdout",
     "output_type": "stream",
     "text": [
      "mkdir: func_ptrs: File exists\n",
      "/Users/cliburn/git-teach/func_ptrs\n"
     ]
    }
   ],
   "source": [
    "%mkdir func_ptrs\n",
    "%cd func_ptrs"
   ]
  },
  {
   "cell_type": "code",
   "execution_count": 57,
   "metadata": {
    "collapsed": false
   },
   "outputs": [
    {
     "name": "stdout",
     "output_type": "stream",
     "text": [
      "Overwriting func_ptrs.cpp\n"
     ]
    }
   ],
   "source": [
    "%%file func_ptrs.cpp\n",
    "\n",
    "#include <numeric>\n",
    "#include <functional>\n",
    "#include <iostream>\n",
    "#include <vector>\n",
    "using std::cout;\n",
    "using std::endl;\n",
    "using std::vector;\n",
    "    \n",
    "double sum(vector<double> xs) {\n",
    "    return std::accumulate(xs.begin(), xs.end(), 0.0);\n",
    "}\n",
    "\n",
    "double prod(vector<double> xs) {\n",
    "    return std::accumulate(xs.begin(), xs.end(), 1.0, std::multiplies<double>());\n",
    "}\n",
    " \n",
    "// funciton pointers in C++ are easy    \n",
    "using func = std::function<double(double)>;\n",
    "      \n",
    "// now you can pass in a funciton as an argument\n",
    "double mystery(double x, func f) {\n",
    "    return f(x);\n",
    "}\n",
    "\n",
    "double foo(double x) {\n",
    "    return 2*x + 1;\n",
    "}\n",
    "\n",
    "double bar(double x) {\n",
    "    return 42*x;\n",
    "}\n",
    "\n",
    "int main() {\n",
    "    vector<double> xs = {1.2, 2.3};\n",
    "    cout << sum(xs) << endl;\n",
    "    cout << prod(xs) << endl;  \n",
    "    \n",
    "    // auto can crate iterables of functions!\n",
    "    auto funcs = {sum, prod};    \n",
    "    for (auto f: funcs) {\n",
    "        cout << f(xs) << endl;   \n",
    "    }\n",
    "    \n",
    "    int x = 2;    \n",
    "    cout << mystery(x, foo) << endl;\n",
    "    cout << mystery(x, bar) << endl;\n",
    "    cout << mystery(x, [](double x) {return x*x;}) << endl;\n",
    "    \n",
    "}"
   ]
  },
  {
   "cell_type": "code",
   "execution_count": 58,
   "metadata": {
    "collapsed": false
   },
   "outputs": [
    {
     "name": "stdout",
     "output_type": "stream",
     "text": [
      "Overwriting Makefile\n"
     ]
    }
   ],
   "source": [
    "%%file Makefile\n",
    "# Declaration of variables\n",
    "CC = g++\n",
    "CC_FLAGS = -Wall -std=c++11\n",
    " \n",
    "# File names\n",
    "EXEC = func_ptrs\n",
    "SOURCES = $(wildcard *.cpp)\n",
    "OBJECTS = $(SOURCES:.cpp=.o)\n",
    " \n",
    "# Main target\n",
    "$(EXEC): $(OBJECTS)\n",
    "\t$(CC) $(OBJECTS) -o $(EXEC)\n",
    " \n",
    "# To obtain object files\n",
    "%.o: %.cpp\n",
    "\t$(CC) -c $(CC_FLAGS) $< -o $@\n",
    " \n",
    "# To remove generated files\n",
    "clean:\n",
    "\trm -f $(EXEC) $(OBJECTS)"
   ]
  },
  {
   "cell_type": "code",
   "execution_count": 59,
   "metadata": {
    "collapsed": false
   },
   "outputs": [
    {
     "name": "stdout",
     "output_type": "stream",
     "text": [
      "rm -f func_ptrs func_ptrs.o\n",
      "g++ -c -Wall -std=c++11 func_ptrs.cpp -o func_ptrs.o\n",
      "g++ func_ptrs.o -o func_ptrs\n",
      "3.5\n",
      "2.76\n",
      "3.5\n",
      "2.76\n",
      "5\n",
      "84\n",
      "4\n"
     ]
    }
   ],
   "source": [
    "%%bash\n",
    "\n",
    "make clean\n",
    "make\n",
    "./func_ptrs"
   ]
  },
  {
   "cell_type": "code",
   "execution_count": 60,
   "metadata": {
    "collapsed": false
   },
   "outputs": [
    {
     "name": "stdout",
     "output_type": "stream",
     "text": [
      "/Users/cliburn/git-teach\n"
     ]
    }
   ],
   "source": [
    "%cd .."
   ]
  },
  {
   "cell_type": "markdown",
   "metadata": {},
   "source": [
    "## Using a numeric library\n",
    "\n",
    "We show the Armadillo numeric library here; in the next lecture, we will show the competing Eigen libary."
   ]
  },
  {
   "cell_type": "code",
   "execution_count": 61,
   "metadata": {
    "collapsed": false
   },
   "outputs": [
    {
     "name": "stdout",
     "output_type": "stream",
     "text": [
      "mkdir: numeric: File exists\n",
      "/Users/cliburn/git-teach/numeric\n"
     ]
    }
   ],
   "source": [
    "%mkdir numeric\n",
    "%cd numeric"
   ]
  },
  {
   "cell_type": "code",
   "execution_count": 62,
   "metadata": {
    "collapsed": false
   },
   "outputs": [
    {
     "name": "stdout",
     "output_type": "stream",
     "text": [
      "Overwriting numeric.cpp\n"
     ]
    }
   ],
   "source": [
    "%%file numeric.cpp\n",
    "\n",
    "#include <iostream>\n",
    "#include <fstream>\n",
    "#include <armadillo>\n",
    "using std::cout;\n",
    "using std::ofstream;\n",
    "        \n",
    "int main() \n",
    "{\n",
    "    using namespace arma;\n",
    "\n",
    "    vec u = linspace<vec>(0,1,5);\n",
    "    vec v = ones<vec>(5);\n",
    "    mat A = randu<mat>(4,5); // uniform random deviates\n",
    "    mat B = randn<mat>(4,5); // normal random deviates\n",
    "\n",
    "    cout << \"\\nVecotrs in Armadillo\\n\";\n",
    "    cout << u << endl;\n",
    "    cout << v << endl;\n",
    "    cout << u.t() * v << endl;\n",
    "\n",
    "    cout << \"\\nRandom matrices in Armadillo\\n\";\n",
    "    cout << A << endl;\n",
    "    cout << B << endl;\n",
    "    cout << A * B.t() << endl;\n",
    "    cout << A * v << endl;\n",
    "\n",
    "    cout << \"\\nQR in Armadillo\\n\";\n",
    "    mat Q, R;\n",
    "    qr(Q, R, A.t() * A);\n",
    "    cout << Q << endl;\n",
    "    cout << R << endl;\n",
    "}"
   ]
  },
  {
   "cell_type": "code",
   "execution_count": 63,
   "metadata": {
    "collapsed": false
   },
   "outputs": [
    {
     "name": "stdout",
     "output_type": "stream",
     "text": [
      "Overwriting Makefile\n"
     ]
    }
   ],
   "source": [
    "%%file Makefile\n",
    "# Declaration of variables\n",
    "CC = g++\n",
    "CC_FLAGS = -Wall -std=c++11\n",
    "LD_FLAGS = -larmadillo # Add library for linking\n",
    "\n",
    "# File names\n",
    "EXEC = numeric\n",
    "SOURCES = $(wildcard *.cpp)\n",
    "OBJECTS = $(SOURCES:.cpp=.o)\n",
    " \n",
    "# Main target\n",
    "$(EXEC): $(OBJECTS)\n",
    "\t$(CC) $(LD_FLAGS) $(OBJECTS) -o $(EXEC)\n",
    " \n",
    "# To obtain object files\n",
    "%.o: %.cpp\n",
    "\t$(CC) -c $(CC_FLAGS) $< -o $@\n",
    " \n",
    "# To remove generated files\n",
    "clean:\n",
    "\trm -f $(EXEC) $(OBJECTS)"
   ]
  },
  {
   "cell_type": "code",
   "execution_count": 64,
   "metadata": {
    "collapsed": false
   },
   "outputs": [
    {
     "name": "stdout",
     "output_type": "stream",
     "text": [
      "rm -f numeric numeric.o\n",
      "g++ -c -Wall -std=c++11 numeric.cpp -o numeric.o\n",
      "g++ -larmadillo  numeric.o -o numeric\n",
      "\n",
      "Vecotrs in Armadillo\n",
      "        0\n",
      "   0.2500\n",
      "   0.5000\n",
      "   0.7500\n",
      "   1.0000\n",
      "\n",
      "   1.0000\n",
      "   1.0000\n",
      "   1.0000\n",
      "   1.0000\n",
      "   1.0000\n",
      "\n",
      "   2.5000\n",
      "\n",
      "\n",
      "Random matrices in Armadillo\n",
      "   7.8264e-06   5.3277e-01   6.7930e-01   8.3097e-01   6.7115e-01\n",
      "   1.3154e-01   2.1896e-01   9.3469e-01   3.4572e-02   7.6982e-03\n",
      "   7.5561e-01   4.7045e-02   3.8350e-01   5.3462e-02   3.8342e-01\n",
      "   4.5865e-01   6.7886e-01   5.1942e-01   5.2970e-01   6.6842e-02\n",
      "\n",
      "  -0.7649   1.2041  -0.7020   1.1862   0.8284\n",
      "   1.7313   0.0937   1.6814  -0.8631   0.9426\n",
      "   0.1454  -0.6920   0.2742   0.6810   0.2091\n",
      "   0.7032   0.2610   0.1752   1.3165  -0.5897\n",
      "\n",
      "   1.7063   1.1075   0.5238   0.9563\n",
      "  -0.4457   1.7973   0.1490   0.3544\n",
      "  -0.4095   2.2726   0.2990   0.4551\n",
      "   0.7857   1.3368   0.1140   1.2487\n",
      "\n",
      "   2.7142\n",
      "   1.3275\n",
      "   1.6230\n",
      "   2.2535\n",
      "\n",
      "\n",
      "QR in Armadillo\n",
      "  -0.6776   0.6377   0.3253   0.0944  -0.1395\n",
      "  -0.3188  -0.4409   0.3521   0.4177   0.6368\n",
      "  -0.5524  -0.2366  -0.7774   0.1504  -0.1092\n",
      "  -0.2443  -0.5816   0.4071  -0.1709  -0.6380\n",
      "  -0.2727  -0.0688  -0.0099  -0.8745   0.3950\n",
      "\n",
      "  -1.1785e+00  -1.3394e+00  -2.1015e+00  -1.3527e+00  -1.0229e+00\n",
      "        0e+00  -8.3421e-01  -9.7607e-01  -9.9515e-01  -5.3245e-01\n",
      "        0e+00        0e+00  -4.6336e-01   7.6793e-02  -4.0376e-03\n",
      "        0e+00        0e+00        0e+00  -2.0273e-01  -3.2745e-01\n",
      "        0e+00        0e+00        0e+00        0e+00   1.1102e-16\n",
      "\n"
     ]
    }
   ],
   "source": [
    "%%bash\n",
    "\n",
    "make clean\n",
    "make\n",
    "./numeric"
   ]
  },
  {
   "cell_type": "code",
   "execution_count": 65,
   "metadata": {
    "collapsed": false
   },
   "outputs": [
    {
     "name": "stdout",
     "output_type": "stream",
     "text": [
      "/Users/cliburn/git-teach\n"
     ]
    }
   ],
   "source": [
    "%cd .."
   ]
  }
 ],
 "metadata": {
  "kernelspec": {
   "display_name": "Python 2",
   "language": "python",
   "name": "python2"
  },
  "language_info": {
   "codemirror_mode": {
    "name": "ipython",
    "version": 2
   },
   "file_extension": ".py",
   "mimetype": "text/x-python",
   "name": "python",
   "nbconvert_exporter": "python",
   "pygments_lexer": "ipython2",
   "version": "2.7.11"
  },
  "latex_envs": {
   "bibliofile": "biblio.bib",
   "cite_by": "apalike",
   "current_citInitial": 1,
   "eqLabelWithNumbers": true,
   "eqNumInitial": 0
  }
 },
 "nbformat": 4,
 "nbformat_minor": 2
}
