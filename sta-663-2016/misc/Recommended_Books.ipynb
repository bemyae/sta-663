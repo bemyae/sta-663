{
 "cells": [
  {
   "cell_type": "markdown",
   "metadata": {},
   "source": [
    "Further Reading\n",
    "====\n",
    "\n",
    "Much of the material for learning Python for statistics and data science can be found online, but some of us still enjoy reading books ... For those of us diehard bibliophiles, these are books that I referred to for the course and enjoyed reading. They are lister in roughly the same order as the course lectures.\n",
    "\n",
    "- Python in a Nutshell by Steve Holden, Anna Ravenscroft and Alex Martelli (3rd edition)\n",
    "\n",
    "> A really nice reference for Python 3. \n",
    "\n",
    "- Python Cookbook:  Recipes for Mastering Python 3 by David Beazley, Brian K. Jones (3rd Edition)\n",
    "\n",
    "> When you want are stuck on a specific task and Stack Overflow is not working for you.\n",
    "\n",
    "- Learning IPython for Interactive Computing and Data Visualization by Cyrille Rossant  (2nd edition)\n",
    "\n",
    "> If you want to master Jupyter.\n",
    "\n",
    "- Fluent Python by Luciano Ramalho\n",
    "\n",
    "> Awesome resource for learning how to code in idiomatic Python like a Pythonista.\n",
    "\n",
    "- Python for Data Analysis: Data Wrangling with Pandas, NumPy, and IPython by Wes McKinney\n",
    "\n",
    "> Pandas by the developer. A little dated but you can supplement with the online material.\n",
    "\n",
    "- Python Data Science Handbook by Jake VanderPlas\n",
    "\n",
    "> Still a work in progress, but it looks like the single best book for this course.\n",
    "\n",
    "- Bayesian Methods for Hackers: Probabilistic Programming and Bayesian Inference by Cameron Davidson-Pilon\n",
    "\n",
    "> Examples of how to use PyMC3.\n",
    "\n",
    "- High Performance Python by Micha Gorelick and Ian Ozsvald\n",
    "\n",
    "> Make your Python code faster.\n",
    "\n",
    "- Cython: A Guide for Python Programmers by Kurt W Smith\n",
    "\n",
    "> If you want to master Cython, this book is your guide.\n",
    "\n",
    "- 21st Century C: C Tips from the New School by Ben Klemens (2nd edition)\n",
    "\n",
    "> Modern C for statisticians.\n",
    "\n",
    "- Discovering Modern C++: An Intensive Course for Scientists, Engineers, and Programmers by Peter Gottschling\n",
    "\n",
    "> Awesome introduction to modern C++ (C++11 and C++14) for numerical work. Possibly too dense if you don't already have some familiarity with C/C++. \n",
    "\n",
    "- Learning Spark: Lightning-Fast Big Data Analysis by Holden Karau, Andy Konwinski, Patrick Wendell, Matei Zaharia (unfortunately Spark books tend to be outdated the moment they are printed - this edition covers Spark 1.3 and we are already at Spark 1.6)\n",
    "\n",
    "> Introduction to Spark with Java, Scala and Python examples.\n",
    "\n",
    "- Data Algorithms: Recipes for Scaling Up with Hadoop and Spark by Mahmoud Parsian\n",
    "\n",
    "> Sort of a cookbook with examples in Hadoop and Spark. Emphasis on biomedical applications. \n",
    "\n",
    "- Data Visualization with Python and JavaScript: Scrape, Clean, Explore & Transform Your Data by Kyran Dale\n",
    "\n",
    "> Still in early stages, but looks very promising. If I ever include lectures on data visualization, I suspect this book will be my reference."
   ]
  },
  {
   "cell_type": "code",
   "execution_count": null,
   "metadata": {
    "collapsed": true
   },
   "outputs": [],
   "source": []
  }
 ],
 "metadata": {
  "kernelspec": {
   "display_name": "Python 3",
   "language": "python",
   "name": "python3"
  },
  "language_info": {
   "codemirror_mode": {
    "name": "ipython",
    "version": 3
   },
   "file_extension": ".py",
   "mimetype": "text/x-python",
   "name": "python",
   "nbconvert_exporter": "python",
   "pygments_lexer": "ipython3",
   "version": "3.5.1"
  }
 },
 "nbformat": 4,
 "nbformat_minor": 0
}
