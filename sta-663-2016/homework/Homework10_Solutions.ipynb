{
 "cells": [
  {
   "cell_type": "markdown",
   "metadata": {},
   "source": [
    "**Due: 4 PM on Wednesday, 20 Apr 2016**"
   ]
  },
  {
   "cell_type": "markdown",
   "metadata": {},
   "source": [
    "Instructions\n",
    "-----\n",
    "\n",
    "Write code to solve all problems. The grading rubric includes the following criteria:\n",
    "\n",
    "- Correctness\n",
    "- Readability\n",
    "- Efficiency\n",
    "\n",
    "Please do not copy answers found on the web or elsewhere as it will not benefit your learning. Searching the web for general references etc. is OK. Some discussion with friends is fine too - but again, do not just copy their answer. \n",
    "\n",
    "**Honor Code: By submitting this assignment, you certify that this is your original work.**"
   ]
  },
  {
   "cell_type": "markdown",
   "metadata": {},
   "source": [
    "**Exercise 1 (25 points)**\n",
    "\n",
    "Use Simple Monte Carlo Integration to estimate the function\n",
    "\n",
    "$$\n",
    "f(x) = x \\cos 7x + \\sin 13x, \\ \\  0 \\le x \\le 1\n",
    "$$\n",
    "\n",
    "Python code to do this is provided. \n",
    "\n",
    "Write parallel code to speed up this calculation using `ProcessPoolExecutor` with `concurrent.futures` or `multiprocessing` and as many cores as are available. Calculate the speed-up relative to the single processor version."
   ]
  },
  {
   "cell_type": "code",
   "execution_count": 1,
   "metadata": {
    "collapsed": true
   },
   "outputs": [],
   "source": [
    "import numpy as np\n",
    "import matplotlib.pyplot as plt\n",
    "%matplotlib inline"
   ]
  },
  {
   "cell_type": "code",
   "execution_count": 2,
   "metadata": {
    "collapsed": true
   },
   "outputs": [],
   "source": [
    "def f(x):\n",
    "    return x * np.cos(71*x) + np.sin(13*x)"
   ]
  },
  {
   "cell_type": "code",
   "execution_count": 3,
   "metadata": {
    "collapsed": false
   },
   "outputs": [
    {
     "data": {
      "image/png": "[encoded data removed]",
      "text/plain": [
       "<matplotlib.figure.Figure at 0x7fef5039a240>"
      ]
     },
     "metadata": {},
     "output_type": "display_data"
    }
   ],
   "source": [
    "x = np.linspace(0, 1, 100)\n",
    "plt.plot(x, f(x))\n",
    "pass"
   ]
  },
  {
   "cell_type": "code",
   "execution_count": 4,
   "metadata": {
    "collapsed": true
   },
   "outputs": [],
   "source": [
    "n = 10000000\n",
    "x = np.random.random(n)"
   ]
  },
  {
   "cell_type": "code",
   "execution_count": 5,
   "metadata": {
    "collapsed": false
   },
   "outputs": [
    {
     "name": "stdout",
     "output_type": "stream",
     "text": [
      "0.0205676875889\n",
      "CPU times: user 1.34 s, sys: 290 ms, total: 1.63 s\n",
      "Wall time: 1.64 s\n"
     ]
    }
   ],
   "source": [
    "%%time\n",
    "y = 1.0/n * np.sum(f(x))\n",
    "print(y)"
   ]
  },
  {
   "cell_type": "code",
   "execution_count": 6,
   "metadata": {
    "collapsed": true
   },
   "outputs": [],
   "source": [
    "import multiprocessing\n",
    "workers = multiprocessing.cpu_count()"
   ]
  },
  {
   "cell_type": "code",
   "execution_count": 7,
   "metadata": {
    "collapsed": false
   },
   "outputs": [
    {
     "name": "stdout",
     "output_type": "stream",
     "text": [
      "0.0205676875889\n",
      "CPU times: user 120 ms, sys: 160 ms, total: 280 ms\n",
      "Wall time: 2.85 s\n"
     ]
    }
   ],
   "source": [
    "%%time\n",
    "\n",
    "def g(x):\n",
    "    return np.sum(f(x))\n",
    "\n",
    "parts = np.array_split(x, workers)\n",
    "with multiprocessing.Pool() as pool:\n",
    "    y = 1.0/n * np.sum(pool.map(g, parts))\n",
    "print(y)"
   ]
  },
  {
   "cell_type": "markdown",
   "metadata": {},
   "source": [
    "**Exercise 2 (25 points)**\n",
    "\n",
    "Write a `numba` GUFunc to calculate $Ax + b$, where $A$ is a $m \\times n$ matrix, $x$ is a $n \\times 1$ vector, and $b$ is a $m \\times 1$ vector. Show that it works by applying to the followng data sets. The operation done without using GUFuncs is given."
   ]
  },
  {
   "cell_type": "code",
   "execution_count": 5,
   "metadata": {
    "collapsed": false
   },
   "outputs": [],
   "source": [
    "m = 5\n",
    "n = 4\n",
    "k = 10\n",
    "\n",
    "A = np.random.random((k,m,n))\n",
    "x = np.random.random((k,n))\n",
    "b = np.random.random((k,m))"
   ]
  },
  {
   "cell_type": "code",
   "execution_count": 6,
   "metadata": {
    "collapsed": false
   },
   "outputs": [],
   "source": [
    "res = np.zeros_like(b)\n",
    "for i in range(k):\n",
    "    res[i] = A[i].dot(x[i]) + b[i]"
   ]
  },
  {
   "cell_type": "code",
   "execution_count": 7,
   "metadata": {
    "collapsed": false
   },
   "outputs": [
    {
     "data": {
      "text/plain": [
       "array([[ 1.88895695,  0.67592373,  0.99505008,  1.13362638,  0.87496415],\n",
       "       [ 2.64940574,  2.03850419,  1.17483419,  1.43091379,  2.11274614],\n",
       "       [ 2.44751628,  2.32025629,  1.99801138,  1.44941395,  1.87505693],\n",
       "       [ 2.27767813,  2.00220485,  2.33836989,  1.94588846,  2.30113717],\n",
       "       [ 1.92085933,  1.55896103,  0.68014893,  1.35547352,  1.49351938],\n",
       "       [ 0.79619681,  1.61079005,  2.07460837,  1.13612248,  3.09438642],\n",
       "       [ 1.28381144,  1.23755547,  1.19201473,  1.5762673 ,  1.75991416],\n",
       "       [ 1.13035407,  1.54085211,  0.68884784,  1.09118856,  1.03824675],\n",
       "       [ 1.71644564,  1.71199299,  2.48625019,  1.3570273 ,  1.67044827],\n",
       "       [ 1.04393049,  1.30157517,  1.62809334,  1.58666131,  1.68681667]])"
      ]
     },
     "execution_count": 7,
     "metadata": {},
     "output_type": "execute_result"
    }
   ],
   "source": [
    "res"
   ]
  },
  {
   "cell_type": "code",
   "execution_count": 8,
   "metadata": {
    "collapsed": false
   },
   "outputs": [],
   "source": [
    "from numba import guvectorize, float64"
   ]
  },
  {
   "cell_type": "code",
   "execution_count": 9,
   "metadata": {
    "collapsed": false
   },
   "outputs": [],
   "source": [
    "@guvectorize([(float64[:, :], float64[:], float64[:], float64[:])], \n",
    "             '(m,n), (n), (m)->(m)')\n",
    "def g(A, x, b, res):\n",
    "    res += A.dot(x) + b"
   ]
  },
  {
   "cell_type": "code",
   "execution_count": 13,
   "metadata": {
    "collapsed": false
   },
   "outputs": [
    {
     "data": {
      "text/plain": [
       "array([[ 1.88895695,  0.67592373,  0.99505008,  1.13362638,  0.87496415],\n",
       "       [ 2.64940574,  2.03850419,  1.17483419,  1.43091379,  2.11274614],\n",
       "       [ 2.44751628,  2.32025629,  1.99801138,  1.44941395,  1.87505693],\n",
       "       [ 2.27767813,  2.00220485,  2.33836989,  1.94588846,  2.30113717],\n",
       "       [ 1.92085933,  1.55896103,  0.68014893,  1.35547352,  1.49351938],\n",
       "       [ 0.79619681,  1.61079005,  2.07460837,  1.13612248,  3.09438642],\n",
       "       [ 1.28381144,  1.23755547,  1.19201473,  1.5762673 ,  1.75991416],\n",
       "       [ 1.13035407,  1.54085211,  0.68884784,  1.09118856,  1.03824675],\n",
       "       [ 1.71644564,  1.71199299,  2.48625019,  1.3570273 ,  1.67044827],\n",
       "       [ 1.04393049,  1.30157517,  1.62809334,  1.58666131,  1.68681667]])"
      ]
     },
     "execution_count": 13,
     "metadata": {},
     "output_type": "execute_result"
    }
   ],
   "source": [
    "res = np.zeros_like(b)\n",
    "g(A, x, b)"
   ]
  },
  {
   "cell_type": "markdown",
   "metadata": {},
   "source": [
    "**Exercise 3 (50 points)**\n",
    "\n",
    "Wrtie a pyspark program to find the top 10 words in the English Wikipedia dump in the `data` folder, using only articles from the directories that begin with `C`. Words should be converted to lowercase, stripped of all punctuation, and exclude strings consisting of all numbers. Exclude the following stop words:\n",
    "\n",
    "```\n",
    "a,able,about,across,after,all,almost,also,am,among,an,and,any,are,as,at,be,because,been,but,by,can,cannot,could,dear,did,do,does,either,else,ever,every,for,from,get,got,had,has,have,he,her,hers,him,his,how,however,i,if,in,into,is,it,its,just,least,let,like,likely,may,me,might,most,must,my,neither,no,nor,not,of,off,often,on,only,or,other,our,own,rather,said,say,says,she,should,since,so,some,than,that,the,their,them,then,there,these,they,this,tis,to,too,twas,us,wants,was,we,were,what,when,where,which,while,who,whom,why,will,with,would,yet,you,your\n",
    "```"
   ]
  },
  {
   "cell_type": "code",
   "execution_count": 14,
   "metadata": {
    "collapsed": true
   },
   "outputs": [],
   "source": [
    "stop = set('a,able,about,across,after,all,almost,also,am,among,an,and,any,are,as,at,be,because,been,but,by,can,cannot,could,dear,did,do,does,either,else,ever,every,for,from,get,got,had,has,have,he,her,hers,him,his,how,however,i,if,in,into,is,it,its,just,least,let,like,likely,may,me,might,most,must,my,neither,no,nor,not,of,off,often,on,only,or,other,our,own,rather,said,say,says,she,should,since,so,some,than,that,the,their,them,then,there,these,they,this,tis,to,too,twas,us,wants,was,we,were,what,when,where,which,while,who,whom,why,will,with,would,yet,you,your'.split(','))"
   ]
  },
  {
   "cell_type": "code",
   "execution_count": 25,
   "metadata": {
    "collapsed": false
   },
   "outputs": [],
   "source": [
    "from pyspark import SparkContext\n",
    "sc = SparkContext(master = 'local[*]')"
   ]
  },
  {
   "cell_type": "code",
   "execution_count": 30,
   "metadata": {
    "collapsed": false
   },
   "outputs": [],
   "source": [
    "text = sc.textFile('data/C*/wiki*')"
   ]
  },
  {
   "cell_type": "code",
   "execution_count": 31,
   "metadata": {
    "collapsed": false
   },
   "outputs": [],
   "source": [
    "import string\n",
    "\n",
    "def tokenize(line):\n",
    "    table = dict.fromkeys(map(ord, string.punctuation))\n",
    "    return line.translate(table).lower().strip().split()"
   ]
  },
  {
   "cell_type": "code",
   "execution_count": 32,
   "metadata": {
    "collapsed": false
   },
   "outputs": [],
   "source": [
    "freqs = (text.flatMap(lambda line: tokenize(line))\n",
    "         .filter(lambda word: word not in stop)\n",
    "         .filter(lambda word: not word.isnumeric())\n",
    "         .map(lambda word: (word, 1))\n",
    "         .reduceByKey(lambda x, y: x+y))"
   ]
  },
  {
   "cell_type": "code",
   "execution_count": 33,
   "metadata": {
    "collapsed": false
   },
   "outputs": [
    {
     "data": {
      "text/plain": [
       "PythonRDD[13] at RDD at PythonRDD.scala:43"
      ]
     },
     "execution_count": 33,
     "metadata": {},
     "output_type": "execute_result"
    }
   ],
   "source": [
    "freqs.cache()"
   ]
  },
  {
   "cell_type": "code",
   "execution_count": 34,
   "metadata": {
    "collapsed": false
   },
   "outputs": [
    {
     "data": {
      "text/plain": [
       "[('doc', 124923),\n",
       " ('first', 36136),\n",
       " ('one', 32562),\n",
       " ('new', 31637),\n",
       " ('two', 24565),\n",
       " ('school', 22103),\n",
       " ('during', 19674),\n",
       " ('time', 19179),\n",
       " ('more', 18006),\n",
       " ('years', 16832)]"
      ]
     },
     "execution_count": 34,
     "metadata": {},
     "output_type": "execute_result"
    }
   ],
   "source": [
    "freqs.takeOrdered(10, key=lambda x: -x[1])"
   ]
  },
  {
   "cell_type": "code",
   "execution_count": 22,
   "metadata": {
    "collapsed": true
   },
   "outputs": [],
   "source": [
    "sc.stop()"
   ]
  }
 ],
 "metadata": {
  "kernelspec": {
   "display_name": "Python 3",
   "language": "python",
   "name": "python3"
  },
  "language_info": {
   "codemirror_mode": {
    "name": "ipython",
    "version": 3
   },
   "file_extension": ".py",
   "mimetype": "text/x-python",
   "name": "python",
   "nbconvert_exporter": "python",
   "pygments_lexer": "ipython3",
   "version": "3.5.1"
  }
 },
 "nbformat": 4,
 "nbformat_minor": 0
}
