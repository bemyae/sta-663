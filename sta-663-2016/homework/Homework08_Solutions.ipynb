{
 "cells": [
  {
   "cell_type": "markdown",
   "metadata": {},
   "source": [
    "**Due: 4 PM on Wednesday, 30 Mar 2016**"
   ]
  },
  {
   "cell_type": "markdown",
   "metadata": {},
   "source": [
    "Instructions\n",
    "-----\n",
    "\n",
    "Write code to solve all problems. The grading rubric includes the following criteria:\n",
    "\n",
    "- Correctness\n",
    "- Readability\n",
    "- Efficiency\n",
    "\n",
    "Please do not copy answers found on the web or elsewhere as it will not benefit your learning. Searching the web for general references etc. is OK. Some discussion with friends is fine too - but again, do not just copy their answer. \n",
    "\n",
    "**Honor Code: By submitting this assignment, you certify that this is your original work.**"
   ]
  },
  {
   "cell_type": "markdown",
   "metadata": {},
   "source": [
    "**Exercise 1 (25 points)**\n",
    "\n",
    "- Write a function in C that calculates the mean of an array of doubles, putting the function declaration and function definition in separate files (10 points)\n",
    "- Write a driver program to call the function with the inputs being an array containing the numbers 1,2,3,4,5 and print the results to standard output (5 pints)\n",
    "- Write a `makefile` that compiles the executable upon calling `make` at the command line and removes all generated files upon calling `make clean`  (10 points)"
   ]
  },
  {
   "cell_type": "code",
   "execution_count": 1,
   "metadata": {
    "collapsed": false
   },
   "outputs": [
    {
     "name": "stdout",
     "output_type": "stream",
     "text": [
      "Writing ex1.h\n"
     ]
    }
   ],
   "source": [
    "%%file ex1.h\n",
    "\n",
    "#pragma once\n",
    "\n",
    "double mean(double xs[], int n);"
   ]
  },
  {
   "cell_type": "code",
   "execution_count": 2,
   "metadata": {
    "collapsed": false
   },
   "outputs": [
    {
     "name": "stdout",
     "output_type": "stream",
     "text": [
      "Writing ex1.c\n"
     ]
    }
   ],
   "source": [
    "%%file ex1.c\n",
    "\n",
    "double mean(double* xs, int n) {\n",
    "    double s = 0.0;\n",
    "    for (int i=0; i<n; i++) {\n",
    "        s += xs[i];\n",
    "    }\n",
    "    return s/n;\n",
    "}"
   ]
  },
  {
   "cell_type": "code",
   "execution_count": 8,
   "metadata": {
    "collapsed": false
   },
   "outputs": [
    {
     "name": "stdout",
     "output_type": "stream",
     "text": [
      "Overwriting main.c\n"
     ]
    }
   ],
   "source": [
    "%%file main.c\n",
    "\n",
    "#include <stdio.h>\n",
    "#include \"ex1.h\"\n",
    "\n",
    "int main() \n",
    "{\n",
    "    double xs[] = {1, 2, 3, 4, 5};\n",
    "    int n = sizeof(xs)/sizeof(xs[0]);\n",
    "    printf(\"%.2f\", mean(xs, n));\n",
    "}"
   ]
  },
  {
   "cell_type": "code",
   "execution_count": 9,
   "metadata": {
    "collapsed": false
   },
   "outputs": [
    {
     "name": "stdout",
     "output_type": "stream",
     "text": [
      "Overwriting Makefile\n"
     ]
    }
   ],
   "source": [
    "%%file Makefile\n",
    "\n",
    "main: main.o ex1.o\n",
    "\t gcc -o main main.o ex1.o\n",
    "\n",
    "main.o: main.c ex1.h\n",
    "\t gcc -c main.c \n",
    "\n",
    "ex1.o: ex1.c ex1.h\n",
    "\t gcc -c ex1.c\n",
    "\n",
    "clean:\n",
    "\t rm *.o"
   ]
  },
  {
   "cell_type": "code",
   "execution_count": 10,
   "metadata": {
    "collapsed": false
   },
   "outputs": [
    {
     "name": "stdout",
     "output_type": "stream",
     "text": [
      "gcc -c main.c \n",
      "gcc -c ex1.c\n",
      "gcc -o main main.o ex1.o\n"
     ]
    }
   ],
   "source": [
    "%%bash\n",
    "\n",
    "make"
   ]
  },
  {
   "cell_type": "code",
   "execution_count": 11,
   "metadata": {
    "collapsed": false
   },
   "outputs": [
    {
     "name": "stdout",
     "output_type": "stream",
     "text": [
      "3.00"
     ]
    }
   ],
   "source": [
    "%%bash\n",
    "\n",
    "./main"
   ]
  },
  {
   "cell_type": "markdown",
   "metadata": {},
   "source": [
    "**Exercise 2 (25 points)**\n",
    "\n",
    "- Write a function `matrix_multiply` in C with the following function signature \n",
    "```\n",
    "void matrix_multiply(double** A, double **B, double **C, int m, int n, int p)\n",
    "```\n",
    "The function multiples an $m \\times n$ matrix $A$ with an $n \\times p$ matrix $B$ and gives the result in the matrix $C$ (10 points)\n",
    "- Write a function to pretty print a matrix to standard output, and use it to display $A$ and $B$. The output should look something like this (5 point):\n",
    "```\n",
    "[[3.0, 0.1, 5.0, 18.1],\n",
    "   [7.8, 7.9, 3.2, 1.0],\n",
    "   [6.1, 5.5, 8.9, 4.1]]\n",
    "```\n",
    "\n",
    "- Write a driver program to test it with the following matrices. Matrices should be generated using dynamic memory allocation, freeing up the memory when done (10 points)\n",
    "\n",
    "$$\n",
    "A = \\pmatrix{1 & 2 & 3\\\\4 & 5 & 6}, B = \\pmatrix{1 & 2 & 3 & 4\\\\5 & 6 & 7 & 8\\\\9 & 0 & 1 & 2}\n",
    "$$"
   ]
  },
  {
   "cell_type": "markdown",
   "metadata": {},
   "source": [
    "### A note on dynamic memory allocation\n",
    "\n",
    "If we know the size of the array that we want to create, we can use automatic memory management and do not have to worry about pointers, `malloc` and `free`. Such arrays are said to be allocated on the `stack`, which comprises a small percentage of total memory. If you can, use automatic memory management - variables allocated on the stack are faster and cannot lead to memory leaks.\n",
    "\n",
    "However, if we do not know the size before compilation, we need to use pointers to memory allocated using `malloc` or `calloc`, and remember to free up these pointers with `free` when we are done with them. This is known as dynamic memory management and the arrays are allocated on the `heap`, which is the bulk of total memory."
   ]
  },
  {
   "cell_type": "markdown",
   "metadata": {},
   "source": [
    "#### Automatic memory management on the stack"
   ]
  },
  {
   "cell_type": "code",
   "execution_count": 68,
   "metadata": {
    "collapsed": false
   },
   "outputs": [
    {
     "name": "stdout",
     "output_type": "stream",
     "text": [
      "Overwriting ex2a.c\n"
     ]
    }
   ],
   "source": [
    "%%file ex2a.c\n",
    "\n",
    "#include <stdio.h>\n",
    "#include <stdlib.h>\n",
    "\n",
    "// We need to give the size of xs since xs is just a pointer\n",
    "int sum0(int xs[], int n) {\n",
    "    int s = 0;\n",
    "    for (int i=0; i<n; i++) {\n",
    "        s += xs[i];\n",
    "    }\n",
    "    return s;\n",
    "}\n",
    "\n",
    "// Same thing as sum0\n",
    "int sum1(int *xs, int n) {\n",
    "    int s = 0;\n",
    "    for (int i=0; i<n; i++) {\n",
    "        s += *(xs + i);\n",
    "    }\n",
    "    return s;\n",
    "}\n",
    "\n",
    "// Same thing as sum0\n",
    "int sum2(int *xs, int n) {\n",
    "    int s = 0;\n",
    "    for (int i=0; i<n; i++) {\n",
    "        s += xs[i];\n",
    "    }\n",
    "    return s;\n",
    "}\n",
    "\n",
    "// 2D version\n",
    "int array_sum1(int m, int n, int matrix[m][n]) {\n",
    "    int s = 0;\n",
    "    for (int i=0; i<m; i++) {\n",
    "        for (int j=0; j<n; j++) {\n",
    "                s += matrix[i][j];\n",
    "        }\n",
    "    }\n",
    "    return s;\n",
    "}\n",
    "\n",
    "int main(int argc, char* argv[2])\n",
    "{\n",
    "    /***\n",
    "    When you know how many elements are in the array before compilation.\n",
    "    ***/\n",
    "\n",
    "    // intialize - storage automatically calculated\n",
    "    int v1[] = {1, 2, 3};\n",
    "\n",
    "    // allocate storage for 5 ints\n",
    "    int v2[5];\n",
    "\n",
    "    // fill array v2\n",
    "    for (int i=0; i<5; i++) {\n",
    "        v2[i] = i;\n",
    "    }\n",
    "    \n",
    "    // 2D array intialized\n",
    "    int v3[3][3] = {{1,2,3}, {4,5,6}, {7,8,9}};\n",
    "\n",
    "    // In modern C, we can even use automatic memory management\n",
    "    // for variables created at run-time!\n",
    "    if (argc == 3) {\n",
    "        int m = atoi(argv[1]);\n",
    "        int n = atoi(argv[2]);\n",
    "\n",
    "        int v4[m][n]; // this is actually OK!\n",
    "        for (int i=0; i<m; i++) {\n",
    "            for (int j=0; j<n; j++) {\n",
    "                v4[i][j] = i*j;\n",
    "            }\n",
    "        }\n",
    "\n",
    "        printf(\"%d\\n\", array_sum1(m, n, v4));\n",
    "    }\n",
    "\n",
    "    // Callling various versions of sum\n",
    "    printf(\"%d\\n%d\\n%d\\n\", sum0(v2, 5), sum1(v2, 5), sum2(v2, 5));\n",
    "    printf(\"%d\\n\", array_sum1(3, 3, v3));\n",
    "}"
   ]
  },
  {
   "cell_type": "code",
   "execution_count": 69,
   "metadata": {
    "collapsed": false
   },
   "outputs": [],
   "source": [
    "%%bash\n",
    "gcc -std=c99 -o ex2a ex2a.c"
   ]
  },
  {
   "cell_type": "code",
   "execution_count": 70,
   "metadata": {
    "collapsed": false
   },
   "outputs": [
    {
     "name": "stdout",
     "output_type": "stream",
     "text": [
      "10\n",
      "10\n",
      "10\n",
      "45\n"
     ]
    }
   ],
   "source": [
    "%%bash\n",
    "./ex2a"
   ]
  },
  {
   "cell_type": "code",
   "execution_count": 71,
   "metadata": {
    "collapsed": false
   },
   "outputs": [
    {
     "name": "stdout",
     "output_type": "stream",
     "text": [
      "18\n",
      "10\n",
      "10\n",
      "10\n",
      "45\n"
     ]
    }
   ],
   "source": [
    "%%bash\n",
    "./ex2a 3 4"
   ]
  },
  {
   "cell_type": "markdown",
   "metadata": {},
   "source": [
    "#### Dynamic memory allocation\n",
    "\n",
    "Sometimes however, you have no choice but to use dynamic memory allocation, for example, when the array is too big for the stack. "
   ]
  },
  {
   "cell_type": "code",
   "execution_count": 86,
   "metadata": {
    "collapsed": false
   },
   "outputs": [
    {
     "name": "stdout",
     "output_type": "stream",
     "text": [
      "Overwriting ex2b.c\n"
     ]
    }
   ],
   "source": [
    "%%file ex2b.c\n",
    "\n",
    "#include <stdio.h>\n",
    "#include <stdlib.h>\n",
    "\n",
    "// Same thing as sum0\n",
    "int sum(int *xs, int n) {\n",
    "    int s = 0;\n",
    "    for (int i=0; i<n; i++) {\n",
    "        s += xs[i];\n",
    "    }\n",
    "    return s;\n",
    "}\n",
    "\n",
    "// Using pointer arithmetic to simulate 2D array\n",
    "// This is probably easier to desl with than true 2D arrays\n",
    "int array_sum(int m, int n, int *matrix) {\n",
    "    int s = 0;\n",
    "    for (int i=0; i<m; i++) {\n",
    "        for (int j=0; j<n; j++) {\n",
    "            s += matrix[i*n + j];\n",
    "        }\n",
    "    }\n",
    "    return s;\n",
    "}\n",
    "\n",
    "int main(int argc, char* argv[2])\n",
    "{\n",
    "    /***\n",
    "    When you know how many elements are in the array before compilation.\n",
    "    ***/\n",
    "\n",
    "    // v1 contents are garbage before assignment\n",
    "    int *v1 = malloc(sizeof(int) * 3);\n",
    "    for (int i=0; i<3; i++) {\n",
    "        v1[i] = i;\n",
    "    }\n",
    "\n",
    "    // v2 contents are zero before assignment\n",
    "    int *v2 = calloc(sizeof(int), 5);\n",
    "    for (int i=0; i<5; i++) {\n",
    "        v2[i] = i;\n",
    "    }\n",
    "\n",
    "    // allocate storage for a matrix as a vector\n",
    "    int rows = 3;\n",
    "    int cols = 4;\n",
    "    int *v3 = calloc(sizeof(int), rows*cols);\n",
    "    for (int i=0; i<rows; i++) {\n",
    "        for (int j=0; j<cols; j++) {\n",
    "            v3[i*cols + j] = i*j;\n",
    "        }\n",
    "    }\n",
    "\n",
    "    // Callling various versions of sum\n",
    "    printf(\"%d\\n%d\\n\", sum(v1, 3), sum(v2, 5));\n",
    "    printf(\"%d\\n\", array_sum(3, 4, v3));\n",
    "\n",
    "    // free up stroage\n",
    "    free(v1);\n",
    "    free(v2);\n",
    "    free(v3);\n",
    "}"
   ]
  },
  {
   "cell_type": "code",
   "execution_count": 87,
   "metadata": {
    "collapsed": false
   },
   "outputs": [],
   "source": [
    "%%bash\n",
    "gcc -std=c99 -o ex2b ex2b.c"
   ]
  },
  {
   "cell_type": "code",
   "execution_count": 88,
   "metadata": {
    "collapsed": false
   },
   "outputs": [
    {
     "name": "stdout",
     "output_type": "stream",
     "text": [
      "3\n",
      "10\n",
      "18\n"
     ]
    }
   ],
   "source": [
    "%%bash\n",
    "./ex2b"
   ]
  },
  {
   "cell_type": "markdown",
   "metadata": {},
   "source": [
    "#### Solution to homework exercise\n",
    "\n",
    "Pointers to pointers can be confusing. One way to think about them is to treat `*int` as `int[]` - i.e. a pointer to `int` is the same as an array of `int`. Then `**int` is `int[][]` - i.e. a pinter to a pointer to `int` is an array of arrays of `int`. The form `**int` as `*int[]` is also helpful - interpret as a pointer to an array of `int`."
   ]
  },
  {
   "cell_type": "code",
   "execution_count": 4,
   "metadata": {
    "collapsed": false
   },
   "outputs": [
    {
     "name": "stdout",
     "output_type": "stream",
     "text": [
      "Overwriting ex2.c\n"
     ]
    }
   ],
   "source": [
    "%%file ex2.c\n",
    "#include <stdio.h>\n",
    "#include <stdlib.h>\n",
    "\n",
    "void matrix_multiply(double** A, double** B, double** C, int m, int n, int p) {\n",
    "    for (int i = 0; i < m; i++) {\n",
    "        for (int j = 0; j < p; j++) {\n",
    "            for (int k = 0; k < n; k++) {\n",
    "                C[i][j] += A[i][k] * B[k][j];\n",
    "            }\n",
    "        }\n",
    "    }\n",
    "}\n",
    "\n",
    "int main()\n",
    "{\n",
    "    int m=2, n=3, p=4;   \n",
    "\n",
    "    // A points to an array of pointers, each of which points to an array of doubles\n",
    "    double **A = malloc(m * sizeof(double*));\n",
    "    // Allocate memory to A[i] which points to an array of doubles\n",
    "    for(int i = 0; i < m; i++) {\n",
    "        A[i] = malloc(n * sizeof(double));\n",
    "    }\n",
    "\n",
    "    double **B = malloc(n * sizeof(double*));\n",
    "    for(int i = 0; i < n; i++) {\n",
    "        B[i] = malloc(p * sizeof(double));\n",
    "    }\n",
    "\n",
    "    double **C = malloc(m * sizeof(double*));\n",
    "    for(int i = 0; i < m; i++) {\n",
    "        C[i] = calloc(sizeof(double), p);\n",
    "    }\n",
    "\n",
    "\n",
    "    A[0][0] = 1;\n",
    "    A[0][1] = 2;\n",
    "    A[0][2] = 3;\n",
    "    A[1][0] = 4;\n",
    "    A[1][1] = 5;\n",
    "    A[1][2] = 6;\n",
    "\n",
    "    B[0][0] = 1;\n",
    "    B[0][1] = 2;\n",
    "    B[0][2] = 3;\n",
    "    B[0][3] = 4;\n",
    "    B[1][0] = 5;\n",
    "    B[1][1] = 6;\n",
    "    B[1][2] = 7;\n",
    "    B[1][3] = 8;\n",
    "    B[2][0] = 9;\n",
    "    B[2][1] = 0;\n",
    "    B[2][2] = 1;\n",
    "    B[2][3] = 2;\n",
    "    \n",
    "    matrix_multiply(A, B, C, m, n, p);\n",
    "\n",
    "    for (int i = 0; i < m; i++) {\n",
    "        for (int j = 0; j < p; j++) {\n",
    "            printf(\"%6.1f\", C[i][j]);\n",
    "        }\n",
    "        printf(\"\\n\");\n",
    "    }\n",
    "\n",
    "    for (int i = 0; i < m; i++) {\n",
    "        free(A[i]);\n",
    "    }\n",
    "    free(A);\n",
    "\n",
    "    for (int i = 0; i < n; i++) {\n",
    "        free(B[i]);\n",
    "    }\n",
    "    free(B);\n",
    "\n",
    "    for (int i = 0; i < m; i++) {\n",
    "        free(C[i]);\n",
    "    }\n",
    "    free(C);\n",
    "\n",
    "}"
   ]
  },
  {
   "cell_type": "code",
   "execution_count": 5,
   "metadata": {
    "collapsed": false
   },
   "outputs": [],
   "source": [
    "%%bash\n",
    "gcc -o ex2 ex2.c"
   ]
  },
  {
   "cell_type": "code",
   "execution_count": 6,
   "metadata": {
    "collapsed": false
   },
   "outputs": [
    {
     "name": "stdout",
     "output_type": "stream",
     "text": [
      "  38.0  14.0  20.0  26.0\n",
      "  83.0  38.0  53.0  68.0\n"
     ]
    }
   ],
   "source": [
    "%%bash\n",
    "./ex2"
   ]
  },
  {
   "cell_type": "markdown",
   "metadata": {},
   "source": [
    "**Exercise 3 (25 points)**\n",
    "\n",
    "- Implement the secant method in 1D for root finding in C++. Pass in the function as a generalized function pointer. Use the method to find all roots of the polynomial equation $f(x) = x^3 - 7x - 6$ (20 points)\n",
    "- Write the roots to a text file that can be read in Python and plot the roots and polynomial using Python (5 points)"
   ]
  },
  {
   "cell_type": "code",
   "execution_count": 7,
   "metadata": {
    "collapsed": false
   },
   "outputs": [
    {
     "name": "stdout",
     "output_type": "stream",
     "text": [
      "Writing ex3.cpp\n"
     ]
    }
   ],
   "source": [
    "%%file ex3.cpp\n",
    "#include <iostream>\n",
    "#include <vector>\n",
    "#include <numeric>\n",
    "#include <iomanip>\n",
    "#include <cmath>\n",
    "using std::vector;\n",
    "using std::cout;\n",
    "using std::function;\n",
    "\n",
    "using func = function<double(double)>;\n",
    "\n",
    "double secant(double x0, double x1, func f, int max_iter=100) {\n",
    "    double x = x1;\n",
    "    for (int i=0; i<max_iter; i++) {\n",
    "        x -= f(x) * (x - x0)/(f(x) - f(x0));\n",
    "        x0 = x1;\n",
    "    }\n",
    "    return x;\n",
    "}\n",
    "\n",
    "int main()\n",
    "{\n",
    "    \n",
    "    auto f = [](double x) { return pow(x, 3) - 7*x - 6; };\n",
    "    \n",
    "    vector<double> x = {-5, -1, 5};\n",
    "    for (auto& x0: x) {\n",
    "        cout << std::setw(2) << x0 << \": \" << std::setw(3) << secant(x0, x0+1, f) << \"\\n\";\n",
    "    }\n",
    "}"
   ]
  },
  {
   "cell_type": "code",
   "execution_count": 8,
   "metadata": {
    "collapsed": false
   },
   "outputs": [],
   "source": [
    "%%bash\n",
    "g++ -std=c++11 ex3.cpp -o ex3"
   ]
  },
  {
   "cell_type": "code",
   "execution_count": 9,
   "metadata": {
    "collapsed": false
   },
   "outputs": [
    {
     "name": "stdout",
     "output_type": "stream",
     "text": [
      "-5:  -2\n",
      "-1:  -1\n",
      " 5:   3\n"
     ]
    }
   ],
   "source": [
    "%%bash\n",
    "./ex3"
   ]
  },
  {
   "cell_type": "markdown",
   "metadata": {},
   "source": [
    "**Exercise 4 (25 points)**\n",
    "\n",
    "You are given the following set of data\n",
    "\n",
    "$$\n",
    "x = \\pmatrix{0 \\\\ 1 \\\\ 2 \\\\ 3 \\\\ 4 \\\\ 5 \\\\ 6 \\\\ 7 \\\\ 8 \\\\ 9}, \n",
    "y = \\pmatrix{1.5 \\\\ 7.5 \\\\ 10.7 \\\\ 7.9 \\\\ -2.0 \\\\ -12.4 \\\\ -28.6 \\\\ -46.3 \\\\ -68.1 \\\\ -97.1}\n",
    "$$\n",
    "\n",
    "- Write your own **gradient descent** optimization function in C++ to find the least squares solution for the coefficients $\\beta$ of a quadratic polynomial. Use a starting value of $\\hat{\\beta} = \\pmatrix{0 \\\\0 \\\\ 0}$, learning rate $\\alpha = 0.000001$ and run for 1000000 iterations. You may use the `armadillo` library (20 points)\n",
    "- Write the solution to a text file that can be read in Python and plot the least squares quadratic fit together with the data points using Python (5 points)"
   ]
  },
  {
   "cell_type": "code",
   "execution_count": 10,
   "metadata": {
    "collapsed": false
   },
   "outputs": [
    {
     "name": "stdout",
     "output_type": "stream",
     "text": [
      "Writing ex4.cpp\n"
     ]
    }
   ],
   "source": [
    "%%file ex4.cpp\n",
    "#include <iostream>\n",
    "#include <fstream>\n",
    "#include <armadillo>\n",
    "using std::cout;\n",
    "using std::ofstream;\n",
    "using std::function;\n",
    "using namespace arma;\n",
    "\n",
    "using func = function<vec(mat, vec, vec)>;\n",
    "\n",
    "vec gd(mat x, vec y, vec b0, func grad, double alpha=0.001, int max_iters=100) {\n",
    "    vec b = b0;\n",
    "    for (int i=0; i<max_iters; i++) {\n",
    "        b -= alpha * grad(x, y, b);\n",
    "    }\n",
    "    return b;\n",
    "}\n",
    "\n",
    "vec grad(mat x, vec y, vec b) {\n",
    "    return x.t()*x*b - x.t()*y;\n",
    "}\n",
    "\n",
    "int main() \n",
    "{\n",
    "\n",
    "    vec x = linspace<vec>(10.0,15.0,10);\n",
    "    vec eps = 10*randn<vec>(10);\n",
    "    vec y = 3*x%x - 7*x + 2 + eps; \n",
    "\n",
    "    cout << \"x:\\n\" << x << \"\\n\";\n",
    "    cout << \"y:\\n\" << y << \"\\n\";\n",
    "\n",
    "    cout << \"Lenght of x is: \" << norm(x) << \"\\n\";\n",
    "    cout << \"Lenght of y is: \" << norm(y) << \"\\n\";\n",
    "\n",
    "    cout << \"Distance(x, y) is: \" << norm(x -y) << \"\\n\";\n",
    "\n",
    "    cout << \"Correlation(x, y) is: \" << cor(x, y) << \"\\n\";\n",
    "\n",
    "    mat A = join_rows(ones<vec>(10), x);\n",
    "    A = join_rows(A, x%x);\n",
    "    cout << \"A:\\n\" << A << \"\\n\";\n",
    "\n",
    "    vec b = {0.0, 0.0, 0.0};\n",
    "    b = gd(A, y, b, grad, 0.000001, 1000000);\n",
    "    cout << \"b:\\n\" << b << \"\\n\";\n",
    "\n",
    "    ofstream fout1(\"x.txt\");\n",
    "    x.print(fout1);\n",
    "    ofstream fout2(\"y.txt\");\n",
    "    y.print(fout2);\n",
    "    ofstream fout3(\"b.txt\");\n",
    "    b.print(fout3);\n",
    "}"
   ]
  },
  {
   "cell_type": "code",
   "execution_count": 11,
   "metadata": {
    "collapsed": false
   },
   "outputs": [],
   "source": [
    "%%bash\n",
    "g++ -std=c++11 ex4.cpp -o ex4 -larmadillo "
   ]
  },
  {
   "cell_type": "code",
   "execution_count": 12,
   "metadata": {
    "collapsed": false
   },
   "outputs": [
    {
     "name": "stdout",
     "output_type": "stream",
     "text": [
      "x:\n",
      "   10.0000\n",
      "   10.5556\n",
      "   11.1111\n",
      "   11.6667\n",
      "   12.2222\n",
      "   12.7778\n",
      "   13.3333\n",
      "   13.8889\n",
      "   14.4444\n",
      "   15.0000\n",
      "\n",
      "y:\n",
      "   2.4802e+02\n",
      "   2.6412e+02\n",
      "   2.9157e+02\n",
      "   3.3056e+02\n",
      "   3.4089e+02\n",
      "   3.9573e+02\n",
      "   4.4029e+02\n",
      "   4.7583e+02\n",
      "   5.2827e+02\n",
      "   5.8404e+02\n",
      "\n",
      "Lenght of x is: 39.8493\n",
      "Lenght of y is: 1280.16\n",
      "Distance(x, y) is: 1240.76\n",
      "Correlation(x, y) is:    0.9887\n",
      "\n",
      "A:\n",
      "   1.0000e+00   1.0000e+01   1.0000e+02\n",
      "   1.0000e+00   1.0556e+01   1.1142e+02\n",
      "   1.0000e+00   1.1111e+01   1.2346e+02\n",
      "   1.0000e+00   1.1667e+01   1.3611e+02\n",
      "   1.0000e+00   1.2222e+01   1.4938e+02\n",
      "   1.0000e+00   1.2778e+01   1.6327e+02\n",
      "   1.0000e+00   1.3333e+01   1.7778e+02\n",
      "   1.0000e+00   1.3889e+01   1.9290e+02\n",
      "   1.0000e+00   1.4444e+01   2.0864e+02\n",
      "   1.0000e+00   1.5000e+01   2.2500e+02\n",
      "\n",
      "b:\n",
      "   0.1041\n",
      "  -6.8666\n",
      "   2.9947\n",
      "\n"
     ]
    }
   ],
   "source": [
    "%%bash\n",
    "./ex4"
   ]
  },
  {
   "cell_type": "code",
   "execution_count": 171,
   "metadata": {
    "collapsed": false
   },
   "outputs": [
    {
     "data": {
      "image/png": "[encoded data removed]",
      "text/plain": [
       "<matplotlib.figure.Figure at 0x11b310048>"
      ]
     },
     "metadata": {},
     "output_type": "display_data"
    }
   ],
   "source": [
    "x = np.loadtxt('x.txt')\n",
    "y = np.loadtxt('y.txt')\n",
    "b = np.loadtxt('b.txt')\n",
    "\n",
    "plt.scatter(x, y, s=40)\n",
    "plt.plot(x, b[0] + b[1]*x + b[2]*x**2, c='red')\n",
    "pass"
   ]
  },
  {
   "cell_type": "code",
   "execution_count": null,
   "metadata": {
    "collapsed": true
   },
   "outputs": [],
   "source": []
  }
 ],
 "metadata": {
  "kernelspec": {
   "display_name": "Python 3",
   "language": "python",
   "name": "python3"
  },
  "language_info": {
   "codemirror_mode": {
    "name": "ipython",
    "version": 3
   },
   "file_extension": ".py",
   "mimetype": "text/x-python",
   "name": "python",
   "nbconvert_exporter": "python",
   "pygments_lexer": "ipython3",
   "version": "3.5.1"
  }
 },
 "nbformat": 4,
 "nbformat_minor": 0
}
