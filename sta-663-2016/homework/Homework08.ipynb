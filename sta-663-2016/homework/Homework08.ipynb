{
 "cells": [
  {
   "cell_type": "markdown",
   "metadata": {},
   "source": [
    "**Due: 4 PM on Wednesday, 30 Mar 2016**"
   ]
  },
  {
   "cell_type": "markdown",
   "metadata": {},
   "source": [
    "Instructions\n",
    "-----\n",
    "\n",
    "Write code to solve all problems. The grading rubric includes the following criteria:\n",
    "\n",
    "- Correctness\n",
    "- Readability\n",
    "- Efficiency\n",
    "\n",
    "Please do not copy answers found on the web or elsewhere as it will not benefit your learning. Searching the web for general references etc. is OK. Some discussion with friends is fine too - but again, do not just copy their answer. \n",
    "\n",
    "**Honor Code: By submitting this assignment, you certify that this is your original work.**"
   ]
  },
  {
   "cell_type": "markdown",
   "metadata": {},
   "source": [
    "**Exercise 1 (25 points)**\n",
    "\n",
    "- Write a function in C that calculates the mean of an array of doubles, putting the function declaration and function definition in separate files (10 points)\n",
    "- Write a driver program to call the function with the inputs being an array containing the numbers 1,2,3,4,5 and print the results to standard output (5 pints)\n",
    "- Write a `makefile` that compiles the executable upon calling `make` at the command line and removes all generated files upon calling `make clean`  (10 points)"
   ]
  },
  {
   "cell_type": "code",
   "execution_count": null,
   "metadata": {
    "collapsed": true
   },
   "outputs": [],
   "source": [
    "\n",
    "\n",
    "\n"
   ]
  },
  {
   "cell_type": "markdown",
   "metadata": {},
   "source": [
    "**Exercise 2 (25 points)**\n",
    "\n",
    "- Write a function `matrix_multiply` in C with the following function signature \n",
    "```\n",
    "void matrix_multiply(double** A, double **B, double **C, int m, int n, int p)\n",
    "```\n",
    "The function multiples an $m \\times n$ matrix $A$ with an $n \\times p$ matrix $B$ and gives the result in the matrix $C$ (10 points)\n",
    "- Write a function to pretty print a matrix to standard output, and use it to display $A$ and $B$. The output should look something like this (5 point):\n",
    "```\n",
    "[[3.0, 0.1, 5.0, 18.1],\n",
    "   [7.8, 7.9, 3.2, 1.0],\n",
    "   [6.1, 5.5, 8.9, 4.1]]\n",
    "```\n",
    "\n",
    "- Write a driver program to test it with the following matrices. Matrices should be generated using dynamic memory allocation, freeing up the memory when done (10 points)\n",
    "\n",
    "$$\n",
    "A = \\pmatrix{1 & 2 & 3\\\\4 & 5 & 6}, B = \\pmatrix{1 & 2 & 3 & 4\\\\5 & 6 & 7 & 8\\\\9 & 0 & 1 & 2}\n",
    "$$"
   ]
  },
  {
   "cell_type": "code",
   "execution_count": null,
   "metadata": {
    "collapsed": true
   },
   "outputs": [],
   "source": [
    "\n",
    "\n",
    "\n"
   ]
  },
  {
   "cell_type": "markdown",
   "metadata": {},
   "source": [
    "**Exercise 3 (25 points)**\n",
    "\n",
    "- Implement the secant method in 1D for root finding in C++. Pass in the function as a generalized function pointer. Use the method to find all roots of the polynomial equation $f(x) = x^3 - 7x - 6$ (20 points)\n",
    "- Write the roots to a text file that can be read in Python and plot the roots and polynomial using Python (5 points)"
   ]
  },
  {
   "cell_type": "code",
   "execution_count": null,
   "metadata": {
    "collapsed": true
   },
   "outputs": [],
   "source": [
    "\n",
    "\n",
    "\n"
   ]
  },
  {
   "cell_type": "markdown",
   "metadata": {},
   "source": [
    "**Exercise 4 (25 points)**\n",
    "\n",
    "You are given the following set of data\n",
    "\n",
    "$$\n",
    "x = \\pmatrix{0 \\\\ 1 \\\\ 2 \\\\ 3 \\\\ 4 \\\\ 5 \\\\ 6 \\\\ 7 \\\\ 8 \\\\ 9}, \n",
    "y = \\pmatrix{1.5 \\\\ 7.5 \\\\ 10.7 \\\\ 7.9 \\\\ -2.0 \\\\ -12.4 \\\\ -28.6 \\\\ -46.3 \\\\ -68.1 \\\\ -97.1}\n",
    "$$\n",
    "\n",
    "- Write your own **gradient descent** optimization function in C++ to find the least squares solution for the coefficients $\\beta$ of a quadratic polynomial. You may use the `armadillo` library (20 points)\n",
    "- Write the solution to a text file that can be read in Python and plot the least squares quadratic fit together with the data points using Python (5 points)"
   ]
  },
  {
   "cell_type": "code",
   "execution_count": null,
   "metadata": {
    "collapsed": true
   },
   "outputs": [],
   "source": [
    "\n",
    "\n",
    "\n"
   ]
  }
 ],
 "metadata": {
  "kernelspec": {
   "display_name": "Python 3",
   "language": "python",
   "name": "python3"
  },
  "language_info": {
   "codemirror_mode": {
    "name": "ipython",
    "version": 3
   },
   "file_extension": ".py",
   "mimetype": "text/x-python",
   "name": "python",
   "nbconvert_exporter": "python",
   "pygments_lexer": "ipython3",
   "version": "3.5.1"
  }
 },
 "nbformat": 4,
 "nbformat_minor": 0
}
