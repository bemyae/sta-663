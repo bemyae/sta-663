{
 "cells": [
  {
   "cell_type": "markdown",
   "metadata": {},
   "source": [
    "**Due: 4 PM on Wednesday, 24 Mar 2016**"
   ]
  },
  {
   "cell_type": "markdown",
   "metadata": {},
   "source": [
    "Instructions\n",
    "-----\n",
    "\n",
    "Write code to solve all problems. The grading rubric includes the following criteria:\n",
    "\n",
    "- Correctness\n",
    "- Readability\n",
    "- Efficiency\n",
    "\n",
    "Please do not copy answers found on the web or elsewhere as it will not benefit your learning. Searching the web for general references etc. is OK. Some discussion with friends is fine too - but again, do not just copy their answer. \n",
    "\n",
    "**Honor Code: By submitting this assignment, you certify that this is your original work.**"
   ]
  },
  {
   "cell_type": "markdown",
   "metadata": {},
   "source": [
    "**Exercise 1 (50 points)**\n",
    "\n",
    "#### Gibbs sampler example from [Robert and Casella, 10.17](http://www.springer.com/statistics/statistical+theory+and+methods/book/978-0-387-21239-5)\n",
    "\n",
    "Suppose we have data of the number of failures ($y_i$) for each of 10 pumps in a nuclear plant. We also have the times ($t_i$) at which each pump was observed. We want to model the number of failures with a Poisson likelihood, where the expected number of failure $\\lambda_i$ differs for each pump. Since the time which we observed each pump is different, we need to scale each $\\lambda_i$ by its observed time $t_i$. To be explicit, we assume that $y_i$ has a Poisson distribution with rate $\\mu_i = \\lambda_i t_i$.\n",
    "\n",
    "The likelihood $f$ is \n",
    "$$\n",
    "\\prod_{i=1}^{10} \\text{Poisson}(\\mu_i)\n",
    "$$\n",
    "\n",
    "We let the prior $g$ for $\\lambda$ be \n",
    "\n",
    "$$\n",
    "\\lambda \\sim \\text{Gamma}(\\alpha_\\mu, \\beta_\\mu)\n",
    "$$\n",
    "\n",
    "and let the hyperprior $h$ for $\\alpha$ to be \n",
    "\n",
    "$$\n",
    "\\alpha \\sim \\text{Gamma}(\\alpha_\\alpha, \\beta_\\alpha)\n",
    "$$\n",
    "\n",
    "with $\\alpha_\\alpha = 1.8$ and $\\beta_\\alpha = 1.0$.\n",
    "\n",
    "and let the hyperprior $h$ for $\\beta$ to be \n",
    "\n",
    "$$\n",
    "\\beta \\sim \\text{Gamma}(\\alpha_\\beta, \\beta_\\beta)\n",
    "$$\n",
    "\n",
    "with $\\alpha_\\beta = 10.0$ and $\\beta_\\beta = 1.0$.\n",
    "\n",
    "There are 12 unknown parameters (10 $\\lambda$s, $\\alpha$ and $\\beta$) in this hierarchical model. Do th following using `pymc3` and some plotting package.\n",
    "\n",
    "- Wrtie the model and run for 10,000 iterations using the No U-Turn Sampler (30 points)\n",
    "- plot the traces and distributions of the last 10% for $\\lambda_i$, $\\alpha$ and $\\beta$ (there should be 12 sets of plots) (10 points)\n",
    "- Gnnerate 1,000 samples of the number of failures $y_i$ from the prior distribution and plot the histogram or density. That is, for each of the 10 pumps, we want to see the distribtuion of 1,000 draws of the number of failures (5 points).\n",
    "- Generate 1,000 posterior predictive samples of the number of failures $y_i$ and plot the histogram or density. This is similar to the previous question but using draws from the posterior  (5 points)\n",
    "\n",
    "Use the following data\n",
    "```python\n",
    "y = np.array([5, 1, 5, 14, 3, 19, 1, 1, 4, 22])\n",
    "t = np.array([94.32, 15.72, 62.88, 125.76, 5.24, 31.44, 1.05, 1.05, 2.10, 10.48])\n",
    "```"
   ]
  },
  {
   "cell_type": "code",
   "execution_count": 2,
   "metadata": {
    "collapsed": true
   },
   "outputs": [],
   "source": [
    "import pymc3 as pm"
   ]
  },
  {
   "cell_type": "code",
   "execution_count": 23,
   "metadata": {
    "collapsed": true
   },
   "outputs": [],
   "source": [
    "y = np.array([5, 1, 5, 14, 3, 19, 1, 1, 4, 22])\n",
    "t = np.array([94.32, 15.72, 62.88, 125.76, 5.24, 31.44, 1.05, 1.05, 2.10, 10.48])"
   ]
  },
  {
   "cell_type": "code",
   "execution_count": null,
   "metadata": {
    "collapsed": true
   },
   "outputs": [],
   "source": [
    "\n",
    "\n",
    "\n",
    "\n"
   ]
  },
  {
   "cell_type": "markdown",
   "metadata": {},
   "source": [
    "**Exercise 2 (50 points)**\n",
    "\n",
    "Repeat Exercise 1 using `pystan`."
   ]
  },
  {
   "cell_type": "code",
   "execution_count": null,
   "metadata": {
    "collapsed": true
   },
   "outputs": [],
   "source": [
    "\n",
    "\n",
    "\n",
    "\n"
   ]
  }
 ],
 "metadata": {
  "kernelspec": {
   "display_name": "Python 3",
   "language": "python",
   "name": "python3"
  },
  "language_info": {
   "codemirror_mode": {
    "name": "ipython",
    "version": 3
   },
   "file_extension": ".py",
   "mimetype": "text/x-python",
   "name": "python",
   "nbconvert_exporter": "python",
   "pygments_lexer": "ipython3",
   "version": "3.5.1"
  }
 },
 "nbformat": 4,
 "nbformat_minor": 0
}
