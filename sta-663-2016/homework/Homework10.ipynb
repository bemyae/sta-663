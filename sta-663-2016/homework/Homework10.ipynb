{
 "cells": [
  {
   "cell_type": "markdown",
   "metadata": {},
   "source": [
    "**Due: 4 PM on Wednesday, 20 Apr 2016**"
   ]
  },
  {
   "cell_type": "markdown",
   "metadata": {},
   "source": [
    "Instructions\n",
    "-----\n",
    "\n",
    "Write code to solve all problems. The grading rubric includes the following criteria:\n",
    "\n",
    "- Correctness\n",
    "- Readability\n",
    "- Efficiency\n",
    "\n",
    "Please do not copy answers found on the web or elsewhere as it will not benefit your learning. Searching the web for general references etc. is OK. Some discussion with friends is fine too - but again, do not just copy their answer. \n",
    "\n",
    "**Honor Code: By submitting this assignment, you certify that this is your original work.**"
   ]
  },
  {
   "cell_type": "markdown",
   "metadata": {},
   "source": [
    "**Exercise 1 (25 points)**\n",
    "\n",
    "Use Simple Monte Carlo Integration to estimate the function\n",
    "\n",
    "$$\n",
    "f(x) = x \\cos 7x + \\sin 13x, \\ \\  0 \\le x \\le 1\n",
    "$$\n",
    "\n",
    "Python code to do this is provided. \n",
    "\n",
    "Write parallel code to speed up this calculation using `ProcessPoolExecutor` with `concurrent.futures` or `multiprocessing` and as many cores as are available. Calculate the speed-up relative to the single processor version."
   ]
  },
  {
   "cell_type": "code",
   "execution_count": null,
   "metadata": {
    "collapsed": true
   },
   "outputs": [],
   "source": [
    "def f(x):\n",
    "    return x * np.cos(71*x) + np.sin(13*x)"
   ]
  },
  {
   "cell_type": "code",
   "execution_count": 2,
   "metadata": {
    "collapsed": false
   },
   "outputs": [
    {
     "data": {
      "image/png": "[encoded data removed]",
      "text/plain": [
       "<matplotlib.figure.Figure at 0x11a42b5c0>"
      ]
     },
     "metadata": {},
     "output_type": "display_data"
    }
   ],
   "source": [
    "x = np.linspace(0, 1, 100)\n",
    "plt.plot(x, f(x))\n",
    "pass"
   ]
  },
  {
   "cell_type": "code",
   "execution_count": 6,
   "metadata": {
    "collapsed": false
   },
   "outputs": [
    {
     "name": "stdout",
     "output_type": "stream",
     "text": [
      "0.0206429660391\n",
      "CPU times: user 1.12 s, sys: 294 ms, total: 1.41 s\n",
      "Wall time: 1.41 s\n"
     ]
    }
   ],
   "source": [
    "%%time\n",
    "n = 10000000\n",
    "x = f(np.random.random(n))\n",
    "y = 1.0/n * np.sum(x)\n",
    "print(y)"
   ]
  },
  {
   "cell_type": "code",
   "execution_count": null,
   "metadata": {
    "collapsed": true
   },
   "outputs": [],
   "source": [
    "\n",
    "\n",
    "\n"
   ]
  },
  {
   "cell_type": "markdown",
   "metadata": {},
   "source": [
    "**Exercise 2 (25 points)**\n",
    "\n",
    "Write a `numba` GUFunc to calculate $Ax + b$, where $A$ is a $m \\times n$ matrix, $x$ is a $n \\times 1$ vector, and $b$ is a $m \\times 1$ vector. Show that it works by applying to the followng data sets. The operation done without using GUFuncs is given."
   ]
  },
  {
   "cell_type": "code",
   "execution_count": 14,
   "metadata": {
    "collapsed": false
   },
   "outputs": [
    {
     "name": "stdout",
     "output_type": "stream",
     "text": [
      "[ 0.58652194  1.52954634  1.31413025  0.81224489  1.3229399 ]\n",
      "[ 1.33266914  2.39131731  1.76424481  2.18475058  2.34178884]\n",
      "[ 0.72361559  1.55917151  0.26459967  0.92263731  0.23204147]\n",
      "[ 0.89639604  2.17564338  1.12019565  1.2042532   1.13893343]\n",
      "[ 2.07707642  2.25804084  1.01482411  0.39107074  1.08606996]\n",
      "[ 1.19304489  1.36529161  0.88697774  1.13022133  0.45933287]\n",
      "[ 1.34251888  1.59933455  1.630729    2.0700424   1.382506  ]\n",
      "[ 1.74398981  1.66932255  1.63371065  1.88526005  2.41578891]\n",
      "[ 1.65004242  1.41414463  0.97330151  1.03208207  1.68916298]\n",
      "[ 1.47932596  2.7067318   1.90861838  2.50126424  2.17164071]\n"
     ]
    }
   ],
   "source": [
    "m = 5\n",
    "n = 4\n",
    "k = 10\n",
    "\n",
    "A = np.random.random((k,m,n))\n",
    "x = np.random.random((k,n))\n",
    "b = np.random.random((k,m))\n",
    "\n",
    "for i in range(k):\n",
    "    print(np.ravel(A[i] @ x[i] + b[i]))"
   ]
  },
  {
   "cell_type": "code",
   "execution_count": null,
   "metadata": {
    "collapsed": true
   },
   "outputs": [],
   "source": [
    "\n",
    "\n",
    "\n"
   ]
  },
  {
   "cell_type": "markdown",
   "metadata": {},
   "source": [
    "**Exercise 3 (50 points)**\n",
    "\n",
    "Wrtie a pyspark program to find the top 10 words in the English Wikipedia dump, using only articles from the directories that begin with `C`. Words should be converted to lowercase, stripped of all punctuation, and exclude strings consisting of all numbers. Exclude the following stop words:\n",
    "\n",
    "```\n",
    "a,able,about,across,after,all,almost,also,am,among,an,and,any,are,as,at,be,because,been,but,by,can,cannot,could,dear,did,do,does,either,else,ever,every,for,from,get,got,had,has,have,he,her,hers,him,his,how,however,i,if,in,into,is,it,its,just,least,let,like,likely,may,me,might,most,must,my,neither,no,nor,not,of,off,often,on,only,or,other,our,own,rather,said,say,says,she,should,since,so,some,than,that,the,their,them,then,there,these,they,this,tis,to,too,twas,us,wants,was,we,were,what,when,where,which,while,who,whom,why,will,with,would,yet,you,your\n",
    "```\n",
    "\n",
    "Note: The dataset can be found in Sakai Resources in the folder Wiki Data Set as the zipped file `wiki_C.zip`. It is almost 1 GB compressed so might take a while to download."
   ]
  },
  {
   "cell_type": "code",
   "execution_count": null,
   "metadata": {
    "collapsed": true
   },
   "outputs": [],
   "source": [
    "\n",
    "\n",
    "\n"
   ]
  }
 ],
 "metadata": {
  "kernelspec": {
   "display_name": "Python 3",
   "language": "python",
   "name": "python3"
  },
  "language_info": {
   "codemirror_mode": {
    "name": "ipython",
    "version": 3
   },
   "file_extension": ".py",
   "mimetype": "text/x-python",
   "name": "python",
   "nbconvert_exporter": "python",
   "pygments_lexer": "ipython3",
   "version": "3.5.1"
  }
 },
 "nbformat": 4,
 "nbformat_minor": 0
}
