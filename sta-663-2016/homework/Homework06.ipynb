{
 "cells": [
  {
   "cell_type": "code",
   "execution_count": 17,
   "metadata": {
    "collapsed": true
   },
   "outputs": [],
   "source": [
    "import os\n",
    "import sys\n",
    "import glob\n",
    "import operator as op\n",
    "import itertools as it\n",
    "from functools import reduce, partial\n",
    "import numpy as np\n",
    "import pandas as pd\n",
    "from pandas import DataFrame, Series\n",
    "import matplotlib.pyplot as plt\n",
    "import seaborn as sns\n",
    "sns.set_context(\"notebook\", font_scale=1.5)\n",
    "%matplotlib inline"
   ]
  },
  {
   "cell_type": "markdown",
   "metadata": {},
   "source": [
    "**Due: 4 PM on Wednesday, 2 Mar 2016**\n",
    "\n",
    "The usual warnings apply - the homework is not officially released until 25 Feb 2016, and we may make changes till then."
   ]
  },
  {
   "cell_type": "markdown",
   "metadata": {},
   "source": [
    "Instructions\n",
    "-----\n",
    "\n",
    "Write code to solve all problems. The grading rubric includes the following criteria:\n",
    "\n",
    "- Correctness\n",
    "- Readability\n",
    "- Efficiency\n",
    "\n",
    "Please do not copy answers found on the web or elsewhere as it will not benefit your learning. Searching the web for general references etc. is OK. Some discussion with friends is fine too - but again, do not just copy their answer. \n",
    "\n",
    "**Honor Code: By submitting this assignment, you certify that this is your original work.**"
   ]
  },
  {
   "cell_type": "markdown",
   "metadata": {
    "collapsed": true
   },
   "source": [
    "Background for Exercises 1 and 2\n",
    "----\n",
    "\n",
    "The first 2 exercises are about using Newton's method to find the cube roots of unity - find $z$ such that $z^3 = 1$. From the fundamental theorem of algebra, we know there must be exactly 3 complex roots since this is a degree 3 polynomial.\n",
    "\n",
    "We start with Euler's fabulous equation\n",
    "$$\n",
    "e^{ix} = \\cos x + i \\sin x\n",
    "$$\n",
    "\n",
    "Raising $e^{ix}$ to the $n$th power where $n$ is an integer, we get from Euler's formula with $nx$ substituting for $x$\n",
    "$$\n",
    "(e^{ix})^n = e^{i(nx)} = \\cos nx + i \\sin nx\n",
    "$$\n",
    "\n",
    "Whenever $nx$ is an integer multiple of $2\\pi$ (i.e. $n=2\\pi k$), we have\n",
    "$$\n",
    "\\cos nx + i \\sin nx = 1\n",
    "$$\n",
    "\n",
    "So\n",
    "$$\n",
    "e^{2\\pi i \\frac{k}{n}}\n",
    "$$\n",
    "is a root of 1 whenever $k/n = 0, 1, 2, \\ldots$.\n",
    "\n",
    "So the cube roots of unity are $1, e^{2\\pi i/3}, e^{4\\pi i/3}$. \n",
    "\n",
    "While we can do this analytically, the idea is to use Newton's method to find the basins of attraction for these roots, and in the process, discover some rather perplexing behavior of Newton's method.\n"
   ]
  },
  {
   "cell_type": "code",
   "execution_count": 18,
   "metadata": {
    "collapsed": true
   },
   "outputs": [],
   "source": [
    "from sympy import Symbol, exp, I, pi, N, expand\n",
    "from sympy import init_printing \n",
    "init_printing()"
   ]
  },
  {
   "cell_type": "code",
   "execution_count": 19,
   "metadata": {
    "collapsed": false
   },
   "outputs": [
    {
     "data": {
      "image/png": "[encoded data removed]",
      "text/latex": [
       "$$- \\frac{1}{2} + \\frac{\\sqrt{3} i}{2}$$"
      ],
      "text/plain": [
       "        ___  \n",
       "  1   ╲╱ 3 ⋅ⅈ\n",
       "- ─ + ───────\n",
       "  2      2   "
      ]
     },
     "execution_count": 19,
     "metadata": {},
     "output_type": "execute_result"
    }
   ],
   "source": [
    "expand(exp(2*pi*I/3), complex=True)"
   ]
  },
  {
   "cell_type": "code",
   "execution_count": 20,
   "metadata": {
    "collapsed": false
   },
   "outputs": [
    {
     "data": {
      "image/png": "[encoded data removed]",
      "text/latex": [
       "$$- \\frac{1}{2} - \\frac{\\sqrt{3} i}{2}$$"
      ],
      "text/plain": [
       "        ___  \n",
       "  1   ╲╱ 3 ⋅ⅈ\n",
       "- ─ - ───────\n",
       "  2      2   "
      ]
     },
     "execution_count": 20,
     "metadata": {},
     "output_type": "execute_result"
    }
   ],
   "source": [
    "expand(exp(4*pi*I/3), complex=True)"
   ]
  },
  {
   "cell_type": "code",
   "execution_count": 21,
   "metadata": {
    "collapsed": false
   },
   "outputs": [
    {
     "data": {
      "image/png": "[encoded data removed]",
      "text/plain": [
       "<matplotlib.figure.Figure at 0x7f4df8c65d68>"
      ]
     },
     "metadata": {},
     "output_type": "display_data"
    }
   ],
   "source": [
    "plt.figure(figsize=(4,4))\n",
    "roots = np.array([[1,0], [-0.5, np.sqrt(3)/2], [-0.5, -np.sqrt(3)/2]])\n",
    "plt.scatter(roots[:,0], roots[:,1], s=50, c='red')\n",
    "xp = np.linspace(0, 2*np.pi, 100)\n",
    "plt.plot(np.cos(xp), np.sin(xp), c='blue');"
   ]
  },
  {
   "cell_type": "markdown",
   "metadata": {},
   "source": [
    "**Exercise 1 (20 points)**. Netwon's method for functions of complex variables - stability and basins of attraction.\n",
    "\n",
    "1. Write a function with the following function signature `newton(z, f, fprime, max_iter=100, tol=1e-6)` where\n",
    "    - `z` is a starting value (a complex number e.g.` 3 + 4j`)\n",
    "    - `f` is a function of `z`\n",
    "    - `fprime` is the derivative of  `f`\n",
    "The function will run until either max_iter is reached or the absolute value of the Newton step is less than tol. In either case, the function should return the number of iterations taken and the final value of `z` as a tuple (`i`, `z`). \n",
    "\n",
    "2. Define the function `f` and `fprime` that will result in Newton's method finding the cube roots of 1. Find 3 starting points that will give different roots, and print both the start and end points. "
   ]
  },
  {
   "cell_type": "code",
   "execution_count": null,
   "metadata": {
    "collapsed": false
   },
   "outputs": [],
   "source": []
  },
  {
   "cell_type": "markdown",
   "metadata": {},
   "source": [
    "  **Exercise 2 (20 points)**. Write the following two plotting functions to see some (pretty) aspects of Newton's algorithm in the complex plane.\n",
    "  \n",
    "  1. The first function `plot_newton_iters(f, fprime, n=200, extent=[-1,1,-1,1], cmap='hsv')` calculates and stores the number of iterations taken for convergence (or max_iter) for each point in a 2D array. The 2D array limits are given by `extent` - for example, when `extent = [-1,1,-1,1]` the corners of the plot are `(-i, -i), (1, -i), (1, i), (-1, i)`. There are `n` grid points in both the real and imaginary axes. The argument `cmap` specifies the color map to use - the suggested defaults are fine. Finally plot the image using `plt.imshow` - make sure the axis ticks are correctly scaled. Make a plot for the cube roots of 1.\n",
    "\n",
    "2. The second function `plot_newton_basins(f, fprime, n=200, extent=[-1,1,-1,1], cmap='jet')` has the same arguments, but this time the grid stores the identity of the root that the starting point convered to. Make a plot for the cube roots of 1 - since there are 3 roots, there should be only 3 colors in the plot.\n"
   ]
  },
  {
   "cell_type": "code",
   "execution_count": null,
   "metadata": {
    "collapsed": true
   },
   "outputs": [],
   "source": []
  },
  {
   "cell_type": "markdown",
   "metadata": {},
   "source": [
    "**Exercise 3 (30 points)**. Create your own steepest descent optimizer.\n",
    "\n",
    "1. Your optimizer should take as arguments a function $f$, its gradient, an initial guess, a step size, a tolerance (to determine convergence), and a maximum number of steps. It should output convergence status, total number of steps, and the value of the input variable that optimizes $f$.\n",
    "\n",
    "2. Setting $\\alpha = -0.05$, use your optimizer to find the minimum of\n",
    "$$f(x,y) = x^2 + 2y^2$$\n",
    "   using an initial guess of $(0.1,0.1)$, a tolerance of $0.001$ and a max of $100$ interations.\n",
    "\n",
    "3. In this case, it is possible to (analytically) determine the optimal step size. Compute the optimal step size  $\\alpha^*$ for the initial point of $(0.1,0.1)$ and run the optimizer using step sizes $\\alpha = \\alpha^*/2$ and $\\alpha = 2\\alpha^*$. What do you observe about the behavior of the optimizer as step size is varied?"
   ]
  },
  {
   "cell_type": "code",
   "execution_count": null,
   "metadata": {
    "collapsed": true
   },
   "outputs": [],
   "source": []
  },
  {
   "cell_type": "markdown",
   "metadata": {},
   "source": [
    "**Exercise 4 (30 points)**. Conjugate Gradient. \n",
    "\n",
    "Consider the function:\n",
    "\n",
    "$$f:\\mathbb{R}^2\\rightarrow \\mathbb{R}$$\n",
    "$$(x,y) \\mapsto x^2 +2y^2 -2x+y$$\n",
    "\n",
    "The following is intended to help you understand the conjugate gradient method, by computing the first two steps by hand ('by hand' means that you write code to explicitly compute each of the values requested).\n",
    "\n",
    "1. Express the function $f$ in matrix form.\n",
    "\n",
    "2. Starting at some initial point $x_0\\in \\mathbb{R}^2$, compute $\\alpha_0,p_0,x_1,\\alpha_1,p_1$ and $x_2$ as defined in the notes on Newton-CG."
   ]
  },
  {
   "cell_type": "code",
   "execution_count": null,
   "metadata": {
    "collapsed": true
   },
   "outputs": [],
   "source": []
  }
 ],
 "metadata": {
  "kernelspec": {
   "display_name": "Python 3",
   "language": "python",
   "name": "python3"
  },
  "language_info": {
   "codemirror_mode": {
    "name": "ipython",
    "version": 3
   },
   "file_extension": ".py",
   "mimetype": "text/x-python",
   "name": "python",
   "nbconvert_exporter": "python",
   "pygments_lexer": "ipython3",
   "version": "3.5.1"
  }
 },
 "nbformat": 4,
 "nbformat_minor": 0
}
