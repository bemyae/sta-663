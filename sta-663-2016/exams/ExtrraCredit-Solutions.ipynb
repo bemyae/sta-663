{
 "cells": [
  {
   "cell_type": "markdown",
   "metadata": {},
   "source": [
    "Extra Credit Assignment (up to 30 points to be added to mid-terms)\n",
    "----\n",
    "\n",
    "**Deadline**: 31 March 2016.\n",
    "\n",
    "This is an extra credit assignment. Quesions 1-10 are worth 2 points each. Questison 11 and 12 are worth 12 points each. Points (max 30) will be added to the mid-term exam grade, but the ceiling will still be 100. Hence if you already scored 100 on the mid-terms, this extra credit assignemtn will not be necessary (You are sitll welcome to do it if you wish).\n",
    "\n",
    "**As usual, by submitting this assignment, you agree to abide by the Duke Honor Code that the solutions are your own work.**"
   ]
  },
  {
   "cell_type": "markdown",
   "metadata": {},
   "source": [
    "**Q1.** Find the longest sequence of repated letters (e.g. 'AAA') in the string below. Print 1) the index of the starting location, 2) the actual sequence.\n",
    "\n",
    "```\n",
    "TGTAGTCCATGCGGAATTCCACAGGGGCTCTGGGGACAGATTCGGACCTTTCTGTCAACGCCAATCATGGAGGTAGTGTGAGGTATAAATTTGGTCGGCGTAGGTCAAGAAAACCCACCTGCGCTGCTGTACGACACATGGCCGAGGCTTCAAGGGCATTCCACGAAGAGGCTCATGGCAACGCCTCTCGAAAGCTGGCGCTCAGGAAGGTACGATCACCCTCGAAATCAAAGATTTCATCTGAAATAAAAGTTAGTACGCCACTTTAGGGTATCGAGTACTTACCCATTTATAACGGAGGCTGAGCGAACGCTTGGCTGATGAAAAAACAACACTCGGTATAAACGGCGATTTCCACTGATCCAGGTAAAGCATGTTTGTGGATAGCAAGGGCAAGTAGTATGCAGCGAGTTTCGTGACAGTATAGCTCGACATGTATATCTCTGTGGGCGCATTTGGATGCTGTATACTGTAGAAGCAGTATATTCCCTGATGACCGAACTTACTACAAGTTGTTGTCTCGACAGGTAGTACGTGTGATCTGTGTCTGAGACCTGCAACTGGTGCGCATTGAAACTTCGTACATAAACCTACCGACTTCACCGTTTCGGCGTCGGCTTGTAACTGGAGAGTGTTGTTGCGTCATGGTCGATTGAGGATTTGGCCTAAATGTAGCGCGTATACACTGCATTATTAGCGGCTTCGAGGAACATGTAATGGGCGAGGACAGAGAATTGTATGAGATTCAAACTGCCAGGTTTTATGGCGGACCCCTGCTCCCATTGTAATCGACCGGCGGCTGGGGTACGCCCGCACGAGGGTATCGGTAGTATATCTAGCTAAGCTCCGGTGTATGCTGTTGAGACACCATTCATGCGCAAAGCCCCACCGTGCACGCATGCGATGATAAATAAGGATGACTATGGCTTACAGAGATCTTTTTCAGGGGCGTCTTGCAATAATGGTTGATAAATGTGTTTTGCCGAATCAACTGCGCGGC\n",
    "```"
   ]
  },
  {
   "cell_type": "code",
   "execution_count": 15,
   "metadata": {
    "collapsed": false
   },
   "outputs": [],
   "source": [
    "s= '''TGTAGTCCATGCGGAATTCCACAGGGGCTCTGGGGACAGATTCGGACCTTTCTGTCAACGCCAATCATGGAGGTAGTGTGAGGTATAAATTTGGTCGGCGTAGGTCAAGAAAACCCACCTGCGCTGCTGTACGACACATGGCCGAGGCTTCAAGGGCATTCCACGAAGAGGCTCATGGCAACGCCTCTCGAAAGCTGGCGCTCAGGAAGGTACGATCACCCTCGAAATCAAAGATTTCATCTGAAATAAAAGTTAGTACGCCACTTTAGGGTATCGAGTACTTACCCATTTATAACGGAGGCTGAGCGAACGCTTGGCTGATGAAAAAACAACACTCGGTATAAACGGCGATTTCCACTGATCCAGGTAAAGCATGTTTGTGGATAGCAAGGGCAAGTAGTATGCAGCGAGTTTCGTGACAGTATAGCTCGACATGTATATCTCTGTGGGCGCATTTGGATGCTGTATACTGTAGAAGCAGTATATTCCCTGATGACCGAACTTACTACAAGTTGTTGTCTCGACAGGTAGTACGTGTGATCTGTGTCTGAGACCTGCAACTGGTGCGCATTGAAACTTCGTACATAAACCTACCGACTTCACCGTTTCGGCGTCGGCTTGTAACTGGAGAGTGTTGTTGCGTCATGGTCGATTGAGGATTTGGCCTAAATGTAGCGCGTATACACTGCATTATTAGCGGCTTCGAGGAACATGTAATGGGCGAGGACAGAGAATTGTATGAGATTCAAACTGCCAGGTTTTATGGCGGACCCCTGCTCCCATTGTAATCGACCGGCGGCTGGGGTACGCCCGCACGAGGGTATCGGTAGTATATCTAGCTAAGCTCCGGTGTATGCTGTTGAGACACCATTCATGCGCAAAGCCCCACCGTGCACGCATGCGATGATAAATAAGGATGACTATGGCTTACAGAGATCTTTTTCAGGGGCGTCTTGCAATAATGGTTGATAAATGTGTTTTGCCGAATCAACTGCGCGGC'''"
   ]
  },
  {
   "cell_type": "markdown",
   "metadata": {},
   "source": [
    "### Solution using regular expressions"
   ]
  },
  {
   "cell_type": "code",
   "execution_count": 16,
   "metadata": {
    "collapsed": false
   },
   "outputs": [
    {
     "data": {
      "text/plain": [
       "(323, 'AAAAAA')"
      ]
     },
     "execution_count": 16,
     "metadata": {},
     "output_type": "execute_result"
    }
   ],
   "source": [
    "import re\n",
    "\n",
    "longest = 0\n",
    "seqeunce = None\n",
    "for c in 'ACTG':\n",
    "    m = max(re.findall(r'[%s]+' % 'A', s), key=len)\n",
    "    if len(m) > longest:\n",
    "        longest = len(m)\n",
    "        seqeunce = m\n",
    "\n",
    "s.index(seqeunce), seqeunce"
   ]
  },
  {
   "cell_type": "markdown",
   "metadata": {},
   "source": [
    "#### Solution without regular expressions"
   ]
  },
  {
   "cell_type": "code",
   "execution_count": 21,
   "metadata": {
    "collapsed": false
   },
   "outputs": [],
   "source": [
    "def find_seq(s, t):\n",
    "    \"\"\"Find the longest continuous sequence of target t in string s.\"\"\"\n",
    "\n",
    "    if t not in s:\n",
    "        return (None, None, t)\n",
    "    \n",
    "    max_index = 0\n",
    "    max_count = 0\n",
    "    count = 0\n",
    "    i = 0\n",
    "    while i < len(s):\n",
    "        char = s[i]\n",
    "        if char in t:\n",
    "            count +=1\n",
    "        else:\n",
    "            if count > max_count:\n",
    "                max_count = count\n",
    "                max_index = i - count\n",
    "            count = 0\n",
    "\n",
    "        i += 1\n",
    "    return s[max_index:(max_index+max_count)]"
   ]
  },
  {
   "cell_type": "code",
   "execution_count": 22,
   "metadata": {
    "collapsed": false
   },
   "outputs": [
    {
     "data": {
      "text/plain": [
       "(323, 'AAAAAA')"
      ]
     },
     "execution_count": 22,
     "metadata": {},
     "output_type": "execute_result"
    }
   ],
   "source": [
    "longest = 0\n",
    "seqeunce = None\n",
    "for c in 'ACTG':\n",
    "    m = find_seq(s, c)\n",
    "    if len(m) > longest:\n",
    "        longest = len(m)\n",
    "        seqeunce = m\n",
    "\n",
    "s.index(seqeunce), seqeunce"
   ]
  },
  {
   "cell_type": "markdown",
   "metadata": {},
   "source": [
    "**Q2.** Write a function that when given $m$ vectors of length $k$ and another $n$ vectos of length $k$, returns an $m \\times n$ matrix of the cosine distance between each pair of vecotrs. Take the cosine distance to be \n",
    "$$\n",
    "\\frac{A \\cdot B}{\\|A\\} \\|B\\|}\n",
    "$$\n",
    "for any two vectors $A$ and $B$. "
   ]
  },
  {
   "cell_type": "code",
   "execution_count": 92,
   "metadata": {
    "collapsed": false
   },
   "outputs": [],
   "source": [
    "import scipy.linalg as la\n",
    "\n",
    "def cosine_dist(u, v):\n",
    "    \"\"\"Returns cosine of angle betwwen two vectors.\"\"\"\n",
    "    return 1 - np.dot(u, v)/(la.norm(u)*la.norm(v))\n",
    "\n",
    "def pdist(U, V, f):\n",
    "    \"\"\"Returns pairwise-distance matrix assuming U and V.\"\"\"\n",
    "    m = np.zeros((U.shape[0], V.shape[0]))\n",
    "    for i, u in enumerate(U):\n",
    "        for j, v in enumerate(V):\n",
    "            m[i, j] = f(u, v)\n",
    "    return m"
   ]
  },
  {
   "cell_type": "code",
   "execution_count": 93,
   "metadata": {
    "collapsed": false
   },
   "outputs": [
    {
     "data": {
      "text/plain": [
       "array([[ 0.32103084,  0.27153231,  0.07224812,  0.4296358 ,  0.08300021],\n",
       "       [ 0.2171661 ,  0.12360186,  0.02421176,  0.23440477,  0.20817264],\n",
       "       [ 0.01971018,  0.04556457,  0.05548481,  0.09719687,  0.13431472],\n",
       "       [ 0.09057264,  0.03839012,  0.0059342 ,  0.11566592,  0.18390536]])"
      ]
     },
     "execution_count": 93,
     "metadata": {},
     "output_type": "execute_result"
    }
   ],
   "source": [
    "u = np.random.random((4,3))\n",
    "v = np.random.random((5,3))\n",
    "pdist(u, v, cosine_dist)"
   ]
  },
  {
   "cell_type": "markdown",
   "metadata": {},
   "source": [
    "**Q3.** For the given $x, y$ points given\n",
    "```python\n",
    "x = np.arange(10)\n",
    "y = np.array([  1.58873597,   7.55101533,  10.71372171,   7.90123225,\n",
    "                -2.05877605, -12.40257359, -28.64568712, -46.39822281,\n",
    "                -68.15488905, -97.16032044])\n",
    "```\n",
    "Fnd the errors $\\hat{y_i} - y_i$, where $\\hat{y_i}$ is the least squares estimate for a qadratic polynomial fit at $x_i$. Do this by using `scipy.linalg.solve` and some suitable set of matrices and vectors."
   ]
  },
  {
   "cell_type": "code",
   "execution_count": 95,
   "metadata": {
    "collapsed": true
   },
   "outputs": [],
   "source": [
    "x = np.arange(10)\n",
    "y = np.array([  1.58873597,   7.55101533,  10.71372171,   7.90123225,\n",
    "                -2.05877605, -12.40257359, -28.64568712, -46.39822281,\n",
    "                -68.15488905, -97.16032044])"
   ]
  },
  {
   "cell_type": "code",
   "execution_count": 100,
   "metadata": {
    "collapsed": false
   },
   "outputs": [
    {
     "data": {
      "text/plain": [
       "array([ 0.96206401,  0.27337758, -1.69811458, -1.77678962,  1.20967548,\n",
       "        0.4975511 ,  1.602364  ,  0.13422035, -1.41217147,  0.20782315])"
      ]
     },
     "execution_count": 100,
     "metadata": {},
     "output_type": "execute_result"
    }
   ],
   "source": [
    "A = np.c_[np.ones(10), x, x**2]\n",
    "I = np.eye(10)\n",
    "xhat = la.solve(A.T@A, A.T@y)\n",
    "A@xhat - y"
   ]
  },
  {
   "cell_type": "markdown",
   "metadata": {},
   "source": [
    "**Q4.** Find the coordinates of the vector $\\pmatrix{1\\\\ 2 \\\\3}$ with respect to the eigenvectors of the following matrix.\n",
    "```\n",
    "array([[ 0.18673654,  0.20037016,  0.47406091],\n",
    "       [ 0.21715108,  0.44708353,  0.79204575],\n",
    "       [ 0.24299882,  0.51936745,  0.3061621 ]])\n",
    "```"
   ]
  },
  {
   "cell_type": "code",
   "execution_count": 102,
   "metadata": {
    "collapsed": false
   },
   "outputs": [],
   "source": [
    "M = np.array([[ 0.18673654,  0.20037016,  0.47406091],\n",
    "       [ 0.21715108,  0.44708353,  0.79204575],\n",
    "       [ 0.24299882,  0.51936745,  0.3061621 ]])"
   ]
  },
  {
   "cell_type": "code",
   "execution_count": 105,
   "metadata": {
    "collapsed": false
   },
   "outputs": [
    {
     "data": {
      "text/plain": [
       "array([ 2.6810072 ,  5.19541716, -1.14257169])"
      ]
     },
     "execution_count": 105,
     "metadata": {},
     "output_type": "execute_result"
    }
   ],
   "source": [
    "v = np.array([1,2,3])\n",
    "w = la.solve(M, v)\n",
    "w"
   ]
  },
  {
   "cell_type": "markdown",
   "metadata": {},
   "source": [
    "**Q5.** Find all solutions to the following system of equations:\n",
    "\n",
    "$$\\begin{eqnarray*}\n",
    "x+2y-z+w &=& 2\\\\\n",
    "3x-4y+2 w &=& 3\\\\\n",
    "2y+z &=& 4\\\\\n",
    "2x+2y-3z+2w&=&0\\\\\n",
    "-2x+6y-z-w&=&-1\n",
    "\\end{eqnarray*}$$\n",
    "\n",
    "Hint: Use some thougth and pencil and paper to find the number of solutions.  Then use Python to find numerical soluions if any."
   ]
  },
  {
   "cell_type": "code",
   "execution_count": 115,
   "metadata": {
    "collapsed": false
   },
   "outputs": [
    {
     "data": {
      "text/plain": [
       "array([[ 1,  2, -1,  1],\n",
       "       [ 3, -4,  0,  2],\n",
       "       [ 0,  2,  1,  0],\n",
       "       [ 2,  2, -3,  2],\n",
       "       [-2,  6, -1, -1]])"
      ]
     },
     "execution_count": 115,
     "metadata": {},
     "output_type": "execute_result"
    }
   ],
   "source": [
    "A = np.array([[1,2,-1,1], [3,-4,0,2], [0,2,1,0], [2,2,-3,2], [-2,6,-1,-1]])\n",
    "b = np.array([2,3,4,0,-1])\n",
    "A"
   ]
  },
  {
   "cell_type": "markdown",
   "metadata": {},
   "source": [
    "There are 5 equations with 4 unknowns. So there will be no solutions unless $b$ is in the column space of $A$. We create the augmented matrix and find that it is consistnet after Gaussian elimination. So there is one solution. We can use least squares to find this solution."
   ]
  },
  {
   "cell_type": "code",
   "execution_count": 130,
   "metadata": {
    "collapsed": false
   },
   "outputs": [
    {
     "data": {
      "text/plain": [
       "array([ 1.875  ,  0.90625,  2.1875 ,  0.5    ])"
      ]
     },
     "execution_count": 130,
     "metadata": {},
     "output_type": "execute_result"
    }
   ],
   "source": [
    "x = la.solve(A.T @ A, A.T @ b)\n",
    "x"
   ]
  },
  {
   "cell_type": "code",
   "execution_count": 131,
   "metadata": {
    "collapsed": false
   },
   "outputs": [
    {
     "data": {
      "text/plain": [
       "array([ 2.,  3.,  4.,  0., -1.])"
      ]
     },
     "execution_count": 131,
     "metadata": {},
     "output_type": "execute_result"
    }
   ],
   "source": [
    "A@x"
   ]
  },
  {
   "cell_type": "markdown",
   "metadata": {},
   "source": [
    "**Q6**. Let $f(x)$ be a linear transformation of $\\mathbb{R}^3$ such that\n",
    "$$\\begin{eqnarray*}\n",
    "f(e_1) &=& (1,1,3)\\\\\n",
    "f(e_2) &=& (1,0,4)\\\\\n",
    "f(e_3) &=& (0,2,1)\n",
    "\\end{eqnarray*}$$\n",
    "\n",
    "* Find a matrix representation for $f$. \n",
    "* Compute the matrix representation for $f$ in the basis$$\\begin{eqnarray*}\n",
    "v_1 &=& (2,3,3)\\\\\n",
    "v_2 &=& (8,5,2)\\\\\n",
    "v_3 &=& (1,0,5)\n",
    "\\end{eqnarray*}$$"
   ]
  },
  {
   "cell_type": "code",
   "execution_count": 132,
   "metadata": {
    "collapsed": false
   },
   "outputs": [
    {
     "data": {
      "text/plain": [
       "array([[1, 1, 0],\n",
       "       [1, 0, 2],\n",
       "       [3, 4, 1]])"
      ]
     },
     "execution_count": 132,
     "metadata": {},
     "output_type": "execute_result"
    }
   ],
   "source": [
    "A = np.array([[1,1,3],[1,0,4],[0,2,1]]).T\n",
    "A"
   ]
  },
  {
   "cell_type": "code",
   "execution_count": 133,
   "metadata": {
    "collapsed": false
   },
   "outputs": [
    {
     "data": {
      "text/plain": [
       "array([[2, 8, 1],\n",
       "       [3, 5, 0],\n",
       "       [3, 2, 5]])"
      ]
     },
     "execution_count": 133,
     "metadata": {},
     "output_type": "execute_result"
    }
   ],
   "source": [
    "C = np.array([[2,3,3],[8,5,2],[1,0,5]]).T\n",
    "C"
   ]
  },
  {
   "cell_type": "code",
   "execution_count": 138,
   "metadata": {
    "collapsed": false
   },
   "outputs": [
    {
     "data": {
      "text/plain": [
       "array([[ 3.59493671,  4.56962025,  5.48101266],\n",
       "       [-0.55696203, -0.34177215, -1.08860759],\n",
       "       [ 2.26582278,  6.59493671, -1.25316456]])"
      ]
     },
     "execution_count": 138,
     "metadata": {},
     "output_type": "execute_result"
    }
   ],
   "source": [
    "la.solve(C, A @ C)"
   ]
  },
  {
   "cell_type": "markdown",
   "metadata": {},
   "source": [
    "**Q7.** Perform PCA on the following data using an SVD decomposition set and plot the 10 points projected onto the two largest principal compoennts. Only use routines from `numpy` and `scipy.linalg` - that is, do not use `sklearn` or `statsmodels` etc.\n",
    "```python\n",
    "array([[ 0.94355549,  2.7180393 ,  0.89029696,  2.8180393 ],\n",
    "       [ 0.16132502,  0.77487034,  0.02602576,  0.87487034],\n",
    "       [ 0.66260104,  2.14337301,  0.43904014,  2.24337301],\n",
    "       [ 0.57911438,  1.87477094,  0.33537346,  1.97477094],\n",
    "       [ 0.11982661,  0.76629115,  0.01435842,  0.86629115],\n",
    "       [ 0.74043078,  2.57093441,  0.54823774,  2.67093441],\n",
    "       [ 0.91977487,  2.48573684,  0.84598582,  2.58573684],\n",
    "       [ 0.76492319,  2.08640765,  0.58510748,  2.18640765],\n",
    "       [ 0.10102148,  0.55861296,  0.01020534,  0.65861296],\n",
    "       [ 0.88044825,  2.67604717,  0.77518912,  2.77604717]])\n",
    "``` "
   ]
  },
  {
   "cell_type": "code",
   "execution_count": 141,
   "metadata": {
    "collapsed": true
   },
   "outputs": [],
   "source": [
    "xs = np.array([[ 0.94355549,  2.7180393 ,  0.89029696,  2.8180393 ],\n",
    "       [ 0.16132502,  0.77487034,  0.02602576,  0.87487034],\n",
    "       [ 0.66260104,  2.14337301,  0.43904014,  2.24337301],\n",
    "       [ 0.57911438,  1.87477094,  0.33537346,  1.97477094],\n",
    "       [ 0.11982661,  0.76629115,  0.01435842,  0.86629115],\n",
    "       [ 0.74043078,  2.57093441,  0.54823774,  2.67093441],\n",
    "       [ 0.91977487,  2.48573684,  0.84598582,  2.58573684],\n",
    "       [ 0.76492319,  2.08640765,  0.58510748,  2.18640765],\n",
    "       [ 0.10102148,  0.55861296,  0.01020534,  0.65861296],\n",
    "       [ 0.88044825,  2.67604717,  0.77518912,  2.77604717]])"
   ]
  },
  {
   "cell_type": "code",
   "execution_count": 274,
   "metadata": {
    "collapsed": false
   },
   "outputs": [],
   "source": [
    "ws = xs - xs.mean(0)\n",
    "U, s, V = la.svd(ws)"
   ]
  },
  {
   "cell_type": "code",
   "execution_count": 283,
   "metadata": {
    "collapsed": false
   },
   "outputs": [],
   "source": [
    "ys = xs @ V.T"
   ]
  },
  {
   "cell_type": "code",
   "execution_count": 284,
   "metadata": {
    "collapsed": false
   },
   "outputs": [
    {
     "data": {
      "image/png": "[encoded data removed]",
      "text/plain": [
       "<matplotlib.figure.Figure at 0x117a1db00>"
      ]
     },
     "metadata": {},
     "output_type": "display_data"
    }
   ],
   "source": [
    "plt.scatter(ys[:,0], ys[:,1])\n",
    "pass"
   ]
  },
  {
   "cell_type": "markdown",
   "metadata": {},
   "source": [
    "#### Check"
   ]
  },
  {
   "cell_type": "code",
   "execution_count": 202,
   "metadata": {
    "collapsed": false
   },
   "outputs": [
    {
     "data": {
      "image/png": "[encoded data removed]",
      "text/plain": [
       "<matplotlib.figure.Figure at 0x117a38c18>"
      ]
     },
     "metadata": {},
     "output_type": "display_data"
    }
   ],
   "source": [
    "from sklearn.decomposition import PCA\n",
    "\n",
    "pca = PCA()\n",
    "zs = pca.fit_transform(xs)\n",
    "plt.scatter(zs[:,0], zs[:,1])\n",
    "pass"
   ]
  },
  {
   "cell_type": "markdown",
   "metadata": {},
   "source": [
    "**Q8.** Implement a Pyhton function to find roots using the bisection method. Use it to find solutions to $x^3 + 4x^2 -3 = x$. Do not use the standard library `bisect` method - the idea is to develop the algorihtm using only basic Python langauge contructs."
   ]
  },
  {
   "cell_type": "code",
   "execution_count": 312,
   "metadata": {
    "collapsed": false
   },
   "outputs": [],
   "source": [
    "def bisect(f, low, high, tol=1e-6):\n",
    "    i = 0\n",
    "    while high - low > tol:\n",
    "        assert f(low) * f(high) < 0\n",
    "\n",
    "        mid = (low + high)/2\n",
    "        if f(mid) == 0:\n",
    "            return mid\n",
    "\n",
    "        if f(mid) * f(low) > 0:\n",
    "            low = mid\n",
    "        else:\n",
    "            high = mid\n",
    "    return mid"
   ]
  },
  {
   "cell_type": "code",
   "execution_count": 313,
   "metadata": {
    "collapsed": false
   },
   "outputs": [
    {
     "data": {
      "image/png": "[encoded data removed]",
      "text/plain": [
       "<matplotlib.figure.Figure at 0x11858e8d0>"
      ]
     },
     "metadata": {},
     "output_type": "display_data"
    }
   ],
   "source": [
    "low, high = -4.5, 2\n",
    "xs = np.linspace(low, high, 100)\n",
    "plt.plot(xs, f(xs))\n",
    "plt.axhline(0, c='red')\n",
    "pass"
   ]
  },
  {
   "cell_type": "code",
   "execution_count": 314,
   "metadata": {
    "collapsed": false
   },
   "outputs": [
    {
     "data": {
      "text/plain": [
       "(-4.064435005187988, -0.827519416809082, 0.8919553756713867)"
      ]
     },
     "execution_count": 314,
     "metadata": {},
     "output_type": "execute_result"
    }
   ],
   "source": [
    "f = lambda x: x**3 + 4*x**2 -x - 3\n",
    "\n",
    "r1 = bisect(f, -5, -3)\n",
    "r2 = bisect(f, -2, 0)\n",
    "r3 = bisect(f, 0, 2)\n",
    "r1, r2, r3"
   ]
  },
  {
   "cell_type": "code",
   "execution_count": 315,
   "metadata": {
    "collapsed": false
   },
   "outputs": [
    {
     "data": {
      "image/png": "[encoded data removed]",
      "text/plain": [
       "<matplotlib.figure.Figure at 0x1186c6e48>"
      ]
     },
     "metadata": {},
     "output_type": "display_data"
    }
   ],
   "source": [
    "low, high = -4.5, 2\n",
    "xs = np.linspace(low, high, 100)\n",
    "plt.plot(xs, f(xs))\n",
    "plt.axhline(0, c='red')\n",
    "plt.scatter([r1, r2, r3], [0,0,0], s=50)\n",
    "pass"
   ]
  },
  {
   "cell_type": "markdown",
   "metadata": {},
   "source": [
    "**Q9.** Given the positive definite matrix\n",
    "\n",
    "$$A = \\left(\\begin{matrix} 3 & 4 & 7 & 0\\\\\n",
    "  4 &15 &11 & 3\\\\\n",
    "  7 &11 &21 & 0\\\\\n",
    "  0 & 3 & 0 & 1\\end{matrix}\\right)$$\n",
    "  \n",
    "Construct a basis for $\\mathbb{R}^4$ that is conjugate under $A$"
   ]
  },
  {
   "cell_type": "code",
   "execution_count": null,
   "metadata": {
    "collapsed": true
   },
   "outputs": [],
   "source": [
    "\n",
    "\n",
    "\n"
   ]
  },
  {
   "cell_type": "markdown",
   "metadata": {},
   "source": [
    "**Q10.** Given a positive definite matrix $A$ and some vector $b$, what is the most-efficient way to solve the equation:\n",
    "\n",
    "$$Ax = b$$\n",
    "\n",
    "Explain your answer by comparing the efficiency of your chosen method to the other decomposition methods we have discussed in class."
   ]
  },
  {
   "cell_type": "code",
   "execution_count": null,
   "metadata": {
    "collapsed": true
   },
   "outputs": [],
   "source": [
    "\n",
    "\n",
    "\n"
   ]
  },
  {
   "cell_type": "markdown",
   "metadata": {},
   "source": [
    "**Q11**\n",
    "\n",
    "Implement stochastic gradient descent.  In this method, gradient descent is used essentially by fitting *one data point at a time*.  Recall the usual gradient descent step:\n",
    "\n",
    "$$\\beta_{i+1} = \\beta_i - \\nabla \\ell(\\beta_i)$$\n",
    "\n",
    "where\n",
    "\n",
    "$$\\nabla \\ell(\\beta_i) = \\sum\\limits_{j=1}^n \\nabla\\ell(\\beta_i,x_j,y_j)$$\n",
    "\n",
    "and $\\ell$ is the log-likelihood function.  All of the data is used to make the next step toward the optimal $\\beta$.  In stochastic gradient descent, only one point at a time is used to determine the next $\\beta$:\n",
    "\n",
    "$$\\beta_{i+1} = \\beta_i - \\alpha\\nabla \\ell(\\beta_i,x_j,y_j)$$\n",
    "\n",
    "where $\\alpha$ is the step size.  For simplicity, we'll take a constant $\\alpha=1$.\n",
    "\n",
    "Implement the following stochastic gradient algorithm:\n",
    " \n",
    "- Shuffle data points (i.e. randomly permute the order of the $(x_j,y_j)$\n",
    "- Refine beta using the iterative formula above over each data point. \n",
    "- Repeat a and b until convergence is reached.\n",
    "\n",
    "[Wikipedia](https://en.wikipedia.org/w/index.php?title=Stochastic_gradient_descent&action=edit&section=3) gives the following exmaple of how to do least squares minimization: Let's suppose we want to fit a straight line $y = \\! w_1 + w_2 x$ to a training set of two-dimensional points $\\! (x_1, y_1), \\ldots, (x_n, y_n)$ using least squares. The objective function to be minimized is:\n",
    "\n",
    "$$\n",
    "Q(w) = \\sum_{i=1}^n Q_i(w) = \\sum_{i=1}^n \\left(w_1 + w_2 x_i - y_i\\right)^2\n",
    "$$\n",
    "\n",
    "The update step in the sttochastic gradeint descent is:\n",
    "\n",
    "$$\n",
    "\\begin{bmatrix} w_1 \\\\ w_2 \\end{bmatrix} :=\n",
    "    \\begin{bmatrix} w_1 \\\\ w_2 \\end{bmatrix}\n",
    "    -  \\eta  \\begin{bmatrix} 2 (w_1 + w_2 x_i - y_i) \\\\ 2 x_i(w_1 + w_2 x_i - y_i) \\end{bmatrix}\n",
    "$$\n",
    "\n",
    "Implement stocahstic grdaident descent and see if you can recover the coefficients for the following data set\n",
    "```python\n",
    "np.random.seed(123)\n",
    "x = np.linspace(0, 10, 11)\n",
    "y = 3 + 6*x + np.random.normal(0, 5, 11)\n",
    "```\n",
    "\n",
    "Use $\\alpha = 0.001$ and `max_iter` = 1000. Compare the answers with a model fit using the `statsmodels` package."
   ]
  },
  {
   "cell_type": "code",
   "execution_count": 157,
   "metadata": {
    "collapsed": false
   },
   "outputs": [
    {
     "data": {
      "image/png": "[encoded data removed]",
      "text/plain": [
       "<matplotlib.figure.Figure at 0x11bf0acc0>"
      ]
     },
     "metadata": {},
     "output_type": "display_data"
    }
   ],
   "source": [
    "np.random.seed(123)\n",
    "x = np.linspace(0, 10, 11)\n",
    "y = 3 + 6*x + np.random.normal(0, 5, 11)\n",
    "plt.scatter(x, y)\n",
    "pass"
   ]
  },
  {
   "cell_type": "code",
   "execution_count": 158,
   "metadata": {
    "collapsed": false
   },
   "outputs": [],
   "source": [
    "def sgd(b, x, y, max_iter, alpha):\n",
    "    for i in range(max_iter):\n",
    "        n = len(y)\n",
    "        idx = np.arange(n)\n",
    "        np.random.shuffle(idx)    \n",
    "        for j in idx:\n",
    "            b[0] = b[0] - alpha * (2*(b[0] + b[1]*x[j] - y[j]))\n",
    "            b[1] = b[1] - alpha * (2*x[j] * (b[0] + b[1]*x[j] - y[j]))\n",
    "    return b"
   ]
  },
  {
   "cell_type": "code",
   "execution_count": 159,
   "metadata": {
    "collapsed": true
   },
   "outputs": [],
   "source": [
    "b = np.random.random(2)"
   ]
  },
  {
   "cell_type": "code",
   "execution_count": 170,
   "metadata": {
    "collapsed": false
   },
   "outputs": [
    {
     "data": {
      "text/plain": [
       "array([ 1.96458644,  5.91389571])"
      ]
     },
     "execution_count": 170,
     "metadata": {},
     "output_type": "execute_result"
    }
   ],
   "source": [
    "sgd(b, x, y, 1000, 0.001)"
   ]
  },
  {
   "cell_type": "code",
   "execution_count": 171,
   "metadata": {
    "collapsed": false
   },
   "outputs": [
    {
     "data": {
      "image/png": "[encoded data removed]",
      "text/plain": [
       "<matplotlib.figure.Figure at 0x11bf4b518>"
      ]
     },
     "metadata": {},
     "output_type": "display_data"
    }
   ],
   "source": [
    "np.random.seed(123)\n",
    "yhat = b[0] + b[1]*x \n",
    "plt.scatter(x, y)\n",
    "plt.plot(x, yhat, c='red')\n",
    "pass"
   ]
  },
  {
   "cell_type": "markdown",
   "metadata": {},
   "source": [
    "### Check"
   ]
  },
  {
   "cell_type": "code",
   "execution_count": 163,
   "metadata": {
    "collapsed": true
   },
   "outputs": [],
   "source": [
    "df = DataFrame(dict(x=x, y=y))"
   ]
  },
  {
   "cell_type": "code",
   "execution_count": 169,
   "metadata": {
    "collapsed": false
   },
   "outputs": [
    {
     "data": {
      "text/html": [
       "<table class=\"simpletable\">\n",
       "<caption>Generalized Linear Model Regression Results</caption>\n",
       "<tr>\n",
       "  <th>Dep. Variable:</th>          <td>y</td>        <th>  No. Observations:  </th>    <td>    11</td>    \n",
       "</tr>\n",
       "<tr>\n",
       "  <th>Model:</th>                 <td>GLM</td>       <th>  Df Residuals:      </th>    <td>     9</td>    \n",
       "</tr>\n",
       "<tr>\n",
       "  <th>Model Family:</th>       <td>Gaussian</td>     <th>  Df Model:          </th>    <td>     1</td>    \n",
       "</tr>\n",
       "<tr>\n",
       "  <th>Link Function:</th>      <td>identity</td>     <th>  Scale:             </th> <td>42.7615338601</td>\n",
       "</tr>\n",
       "<tr>\n",
       "  <th>Method:</th>               <td>IRLS</td>       <th>  Log-Likelihood:    </th>   <td> -35.161</td>   \n",
       "</tr>\n",
       "<tr>\n",
       "  <th>Date:</th>           <td>Wed, 23 Mar 2016</td> <th>  Deviance:          </th>   <td>  384.85</td>   \n",
       "</tr>\n",
       "<tr>\n",
       "  <th>Time:</th>               <td>10:11:11</td>     <th>  Pearson chi2:      </th>    <td>  385.</td>    \n",
       "</tr>\n",
       "<tr>\n",
       "  <th>No. Iterations:</th>         <td>4</td>        <th>                     </th>       <td> </td>      \n",
       "</tr>\n",
       "</table>\n",
       "<table class=\"simpletable\">\n",
       "<tr>\n",
       "      <td></td>         <th>coef</th>     <th>std err</th>      <th>z</th>      <th>P>|z|</th> <th>[95.0% Conf. Int.]</th> \n",
       "</tr>\n",
       "<tr>\n",
       "  <th>Intercept</th> <td>    1.9589</td> <td>    3.689</td> <td>    0.531</td> <td> 0.595</td> <td>   -5.271     9.188</td>\n",
       "</tr>\n",
       "<tr>\n",
       "  <th>x</th>         <td>    5.9015</td> <td>    0.623</td> <td>    9.465</td> <td> 0.000</td> <td>    4.679     7.124</td>\n",
       "</tr>\n",
       "</table>"
      ],
      "text/plain": [
       "<class 'statsmodels.iolib.summary.Summary'>\n",
       "\"\"\"\n",
       "                 Generalized Linear Model Regression Results                  \n",
       "==============================================================================\n",
       "Dep. Variable:                      y   No. Observations:                   11\n",
       "Model:                            GLM   Df Residuals:                        9\n",
       "Model Family:                Gaussian   Df Model:                            1\n",
       "Link Function:               identity   Scale:                   42.7615338601\n",
       "Method:                          IRLS   Log-Likelihood:                -35.161\n",
       "Date:                Wed, 23 Mar 2016   Deviance:                       384.85\n",
       "Time:                        10:11:11   Pearson chi2:                     385.\n",
       "No. Iterations:                     4                                         \n",
       "==============================================================================\n",
       "                 coef    std err          z      P>|z|      [95.0% Conf. Int.]\n",
       "------------------------------------------------------------------------------\n",
       "Intercept      1.9589      3.689      0.531      0.595        -5.271     9.188\n",
       "x              5.9015      0.623      9.465      0.000         4.679     7.124\n",
       "==============================================================================\n",
       "\"\"\""
      ]
     },
     "execution_count": 169,
     "metadata": {},
     "output_type": "execute_result"
    }
   ],
   "source": [
    "import statsmodels.api as sm\n",
    "\n",
    "model = sm.GLM.from_formula('y ~ x',  data=df)\n",
    "fit = model.fit()\n",
    "fit.summary()"
   ]
  },
  {
   "cell_type": "markdown",
   "metadata": {},
   "source": [
    "**Q12** Write a Metropolis MCMC routine \"by hand\" to find the parameters of a a robust linear regression using a T distribuiton on the following data set. In other words, replicat the following analyis without using PyMC3 or PyStan.\n",
    "```python\n",
    "niter = 1000\n",
    "with pm.Model() as robust_linreg:\n",
    "    beta = pm.Normal('beta', 0, 10, shape=2)\n",
    "    nu = pm.Exponential('nu', 1/len(x))\n",
    "    sigma = pm.HalfCauchy('sigma', beta=1)\n",
    "\n",
    "    y_est = beta[0] + beta[1]*x\n",
    "    y_obs = pm.StudentT('y_obs', mu=y_est, sd=sigma, nu=nu, observed=y)\n",
    "\n",
    "    step = pm.Metropolis()\n",
    "    trace = pm.sample(niter, step)\n",
    "```\n",
    "\n",
    "Use the following dataset\n",
    "```python\n",
    "df = pd.read_csv('xy.csv')\n",
    "```"
   ]
  },
  {
   "cell_type": "code",
   "execution_count": null,
   "metadata": {
    "collapsed": true
   },
   "outputs": [],
   "source": [
    "\n",
    "\n",
    "\n"
   ]
  }
 ],
 "metadata": {
  "kernelspec": {
   "display_name": "Python 3",
   "language": "python",
   "name": "python3"
  },
  "language_info": {
   "codemirror_mode": {
    "name": "ipython",
    "version": 3
   },
   "file_extension": ".py",
   "mimetype": "text/x-python",
   "name": "python",
   "nbconvert_exporter": "python",
   "pygments_lexer": "ipython3",
   "version": "3.5.1"
  }
 },
 "nbformat": 4,
 "nbformat_minor": 0
}
