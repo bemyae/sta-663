{
 "cells": [
  {
   "cell_type": "markdown",
   "metadata": {},
   "source": [
    "![texte](http://imgs.xkcd.com/comics/matrix_transform.png )"
   ]
  },
  {
   "cell_type": "code",
   "execution_count": 2,
   "metadata": {
    "collapsed": false
   },
   "outputs": [],
   "source": [
    "import os\n",
    "import sys\n",
    "import glob\n",
    "import matplotlib.pyplot as plt\n",
    "import matplotlib.patches as patch\n",
    "import numpy as np\n",
    "import pandas as pd\n",
    "%matplotlib inline\n",
    "%precision 4\n",
    "plt.style.use('ggplot')\n",
    "from scipy import linalg\n",
    "np.set_printoptions(suppress=True)\n",
    "\n",
    "def plot_vectors(vs):\n",
    "    \"\"\"Plot vectors in vs assuming origin at (0,0).\"\"\"\n",
    "    n = len(vs)\n",
    "    X, Y = np.zeros((n, 2))\n",
    "    U, V = np.vstack(vs).T\n",
    "    plt.quiver(X, Y, U, V, range(n), angles='xy', scale_units='xy', scale=1)\n",
    "    xmin, xmax = np.min([U, X]), np.max([U, X])\n",
    "    ymin, ymax = np.min([V, Y]), np.max([V, Y])\n",
    "    xrng = xmax - xmin\n",
    "    yrng = ymax - ymin\n",
    "    xmin -= 0.05*xrng\n",
    "    xmax += 0.05*xrng\n",
    "    ymin -= 0.05*yrng\n",
    "    ymax += 0.05*yrng\n",
    "    plt.axis([xmin, xmax, ymin, ymax])"
   ]
  },
  {
   "cell_type": "markdown",
   "metadata": {},
   "source": [
    "# Linear Algebra and Linear Systems"
   ]
  },
  {
   "cell_type": "markdown",
   "metadata": {},
   "source": [
    "A lot of problems in statistical computing can be described mathematically using linear algebra.  This lecture is meant to serve as a review of concepts you have covered in linear algebra courses."
   ]
  },
  {
   "cell_type": "markdown",
   "metadata": {},
   "source": [
    "## Motivation - Simultaneous Equations"
   ]
  },
  {
   "cell_type": "markdown",
   "metadata": {},
   "source": [
    "Consider a set of $m$ linear equations in $n$ unknowns:\n",
    "\n"
   ]
  },
  {
   "cell_type": "markdown",
   "metadata": {},
   "source": [
    "\n",
    "\\begin{align*}\n",
    "a_{11} x_1 + &a_{12} x_2& +& ... + &a_{1n} x_n &=& b_1\\\\\n",
    "\\vdots  && &&\\vdots &= &\\vdots\\\\\n",
    "a_{m1} x_1 + &a_{m2} x_2& +& ... + &a_{mn} x_n &=&b_m \n",
    "\\end{align*}\n"
   ]
  },
  {
   "cell_type": "markdown",
   "metadata": {
    "collapsed": false
   },
   "source": [
    "\n",
    "We can let:\n",
    "\n"
   ]
  },
  {
   "cell_type": "code",
   "execution_count": 3,
   "metadata": {
    "collapsed": false
   },
   "outputs": [
    {
     "data": {
      "text/latex": [
       "$$\\begin{align*}\n",
       "    A=\\left[\\begin{matrix}a_{11}&\\cdots&a_{1n}\\\\\n",
       "               \\vdots & &\\vdots\\\\\n",
       "               a_{m1}&\\cdots&a_{mn}\\end{matrix}\\right], & & \n",
       "\n",
       "x = \\left[\\begin{matrix}x_1\\\\\n",
       "               \\vdots\\\\\n",
       "               x_n\\end{matrix}\\right] & \\;\\;\\;\\;\\textrm{   and } &\n",
       "b =  \\left[\\begin{matrix}b_1\\\\\n",
       "               \\vdots\\\\\n",
       "               b_m\\end{matrix}\\right]\n",
       "\\end{align*}$$\n"
      ],
      "text/plain": [
       "<IPython.core.display.Latex object>"
      ]
     },
     "metadata": {},
     "output_type": "display_data"
    }
   ],
   "source": [
    "%%latex\n",
    "$$\\begin{align*}\n",
    "    A=\\left[\\begin{matrix}a_{11}&\\cdots&a_{1n}\\\\\n",
    "               \\vdots & &\\vdots\\\\\n",
    "               a_{m1}&\\cdots&a_{mn}\\end{matrix}\\right], & & \n",
    "\n",
    "x = \\left[\\begin{matrix}x_1\\\\\n",
    "               \\vdots\\\\\n",
    "               x_n\\end{matrix}\\right] & \\;\\;\\;\\;\\textrm{   and } &\n",
    "b =  \\left[\\begin{matrix}b_1\\\\\n",
    "               \\vdots\\\\\n",
    "               b_m\\end{matrix}\\right]\n",
    "\\end{align*}$$\n",
    "\n"
   ]
  },
  {
   "cell_type": "markdown",
   "metadata": {},
   "source": [
    "\n",
    "And re-write the system:\n",
    "    \n",
    "$$ Ax = b$$"
   ]
  },
  {
   "cell_type": "markdown",
   "metadata": {},
   "source": [
    "This reduces the problem to a matrix equation, and now solving the system amounts to finding $A^{-1}$ (or sort of).  Certain properies of the matrix $A$ yield important information about the linear system."
   ]
  },
  {
   "cell_type": "markdown",
   "metadata": {},
   "source": [
    "Most students in elementary linear algebra courses learn to use Gaussian elimination to solve systems such as the one above. To understand more advanced techniques and matrix decompositions (more on those later), we'll need to recall some mathematical concepts."
   ]
  },
  {
   "cell_type": "markdown",
   "metadata": {},
   "source": [
    "## Vector Spaces"
   ]
  },
  {
   "cell_type": "markdown",
   "metadata": {},
   "source": [
    "Technically, a vector space is a field of coefficients $\\mathbb{F}$, together with a commutative group (over addition) $V$ such that\n",
    "\n",
    "* If $c\\in \\mathbb{F}$ and $v\\in V$, then $cv\\in V$\n",
    "* If $v_1,v_2 V$ and $c\\in \\mathbb{F}$ then \n",
    "     $c(v_1+v_2) = c v_1 + c v_2$\n",
    "* If $c_1,c_2\\in \\mathbb{F}$ and $v\\in V$, then\n",
    "     $(c_1+c_2)v = c_1v + c_2v$\n",
    "* If $c_1,c_2\\in \\mathbb{F}$ and $v\\in V$, then\n",
    "     $(c_1c_2)v = c_1(c_2v)$\n",
    "* If $1$ is the multiplicative identity in $\\mathbb{F}$, then \n",
    "     $1\\cdot v = v$"
   ]
  },
  {
   "cell_type": "markdown",
   "metadata": {},
   "source": [
    "That may not seem to be particularly useful for the purposes of this course, and for many of our purposes we can simplify this a bit. We are mostly interested in finite dimensional 'real' vector spaces. So our vectors will be elements of $\\mathbb{R}^n$, i.e. points in $n$ dimensional space. The 'coefficents' are also real numbers. This leads to the idea that vectors are simply $n$-tuples of numbers. This is a nice, concrete way of seeing things, but it is a little oversimplified. It obscures a bit the need for a basis, and what 'coordinates' actually are. It also doesn't help much when we want to consider vector spaces of things that are not numbers, such as functions (yes - we can do that!! and it is helpful *even in statistics*)\n",
    "\n",
    "Therefore, I hope you will indulge me and first think of the 'vectors' (usually denoted $u,v,w,x,y$) and the 'coefficients' (usually denoted $a,b,c$) and *fundamentally different objects*. \n",
    "\n",
    "### Conceptually: Think of vectors as *linear combinations* of Things(Tm). Think of the $v's$ as objects of some sort (functions, apples, cookies) and the $c's$ as numbers (real, complex, quaternions...)"
   ]
  },
  {
   "cell_type": "markdown",
   "metadata": {},
   "source": [
    "### Linear Independence and Basis"
   ]
  },
  {
   "cell_type": "markdown",
   "metadata": {},
   "source": [
    "A collection of vectors $v_1,...,v_n$ is said to be *linearly independent* if\n",
    "\n",
    "$$c_1v_1 + \\cdots c_nv_n = 0$$\n",
    "$$\\iff$$\n",
    "$$c_1=\\cdots=c_n=0$$\n",
    "\n",
    "In other words, any linear combination of the vectors that results in a zero vector is trivial."
   ]
  },
  {
   "cell_type": "markdown",
   "metadata": {},
   "source": [
    "Another interpretation of this is that no vector in the set may be expressed as a linear combination of the others.  In this sense, linear independence is an expression of non-redundancy in a set of vectors.\n",
    "\n",
    "\n",
    "###Fact: Any linearly independent set of $n$ vectors spans an $n$-dimensional space. (I.e. the collection of all possible linear combinations is $V$ - this is actually the definition of dimension)  Such a set of vectors is said to be a *basis* of $V$.  Another term for basis is *minimal spanning set*. "
   ]
  },
  {
   "cell_type": "markdown",
   "metadata": {},
   "source": [
    "### Example"
   ]
  },
  {
   "cell_type": "markdown",
   "metadata": {},
   "source": [
    "We can consider the vector space of polynomials of degree $\\leq 2$ over $\\mathbb{R}$. A basis for this space is\n",
    "\n",
    "$$\\left\\{1,x,x^2\\right\\}$$\n",
    "\n",
    "Any vector may be written\n",
    "\n",
    "$$c_1\\cdot 1 + c_2x + c_3 x^2 = c_1 + c_2 x +c_ 3 x^2$$\n",
    "\n",
    "where $c_1,c_2,c_3\\in \\mathbb{R}$"
   ]
  },
  {
   "cell_type": "markdown",
   "metadata": {},
   "source": [
    "### Coordinates\n",
    "\n",
    "When we have a set of basis vectors $\\left\\{v_1,...,v_n\\right\\}$ for a vector space, as we have said, any vector may be represented as:\n",
    "\n",
    "$$c_1v_1+...+c_nv_n$$\n",
    "\n",
    "The $c_i's$ are called *coordinates*. For example, in the space of $2^{nd}$ degree polynomials, the vector:\n",
    "\n",
    "$$2 x +\\pi x^2$$\n",
    "\n",
    "has coordinates $(0,2,\\pi)$.\n",
    "\n",
    "You probably think of coordinates in terms of the coordinate plane, and equate the coordinates with the $n$-tuples that label the points. This is all true - but skips a step. Now that we have separated our basis vectors from their coordinates, let's see how this applies in the case of the real vector spaces you are accustomed to."
   ]
  },
  {
   "cell_type": "markdown",
   "metadata": {},
   "source": [
    "The coordinates of the pictured vector (below) are $(2,3)$. But what does that mean? It means we have assumed the *standard basis*, $\\left\\{e_1,e_2\\right\\}$, and the vector $(2,3)$ really means:\n",
    "\n",
    "$$2e_1 + 3e_2$$\n",
    "\n",
    "where $e_1$ is a unit vector (length = 1) on the horizontal axis and $e_2$ is a unit vector along the vertical axis. This is a *choice of coordinates*. We could equally well choose the basis $\\left\\{v,e_2\\right\\}$ where $v$ is any vector that is linearly independent of $e_1$. Then all vectors would be considered of the form:\n",
    "\n",
    "$$c_1 v + c_2 e_1$$.\n",
    "\n"
   ]
  },
  {
   "cell_type": "code",
   "execution_count": 4,
   "metadata": {
    "collapsed": false
   },
   "outputs": [
    {
     "data": {
      "image/png": "[encoded data removed]",
      "text/plain": [
       "<matplotlib.figure.Figure at 0x7fa98856f6a0>"
      ]
     },
     "metadata": {},
     "output_type": "display_data"
    }
   ],
   "source": [
    "a1 = np.array([3,0])         # axis\n",
    "a2 = np.array([0,3])\n",
    "\n",
    "plt.figure(figsize=(8,4))\n",
    "plt.subplot(1,2,1)\n",
    "plot_vectors([a1, a2])\n",
    "v1 = np.array([2,3])\n",
    "plot_vectors([a1,v1])\n",
    "plt.text(2,3,\"(2,3)\",fontsize=16)\n",
    "plt.tight_layout()\n"
   ]
  },
  {
   "cell_type": "markdown",
   "metadata": {},
   "source": [
    "Note that in the standard basis, the coordinates of $e_1$ are $(1,0)$. This is because:\n",
    "\n",
    "$$e_1 = 1\\cdot e_1 + 0\\cdot e_2$$\n",
    "\n",
    "Similarly, the coordinates of $e_2$ are $(0,1)$ because\n",
    "\n",
    "$$e_2 = 0\\cdot e_1 + 1\\cdot e_2$$\n",
    "\n",
    "In the basis $\\left\\{v,e_1\\right\\}$, the coordinates of $e_1$ are $(0,1)$, because\n",
    "\n",
    "$$e_1 = 0\\cdot v + 1\\cdot e_1$$\n",
    "\n",
    "and the coordinates of $v$ are $(1,0)$.\n",
    "\n",
    "Well need these concepts in a moment when we talk about change of basis."
   ]
  },
  {
   "cell_type": "markdown",
   "metadata": {},
   "source": [
    "## Matrices and Linear Transformations"
   ]
  },
  {
   "cell_type": "markdown",
   "metadata": {},
   "source": [
    "So we have this vector space and it consists of linear combinations of vectors. It's not terribly interesting just sitting there. So let's do something with it.\n",
    "\n",
    "This is mathematics, and once mathematicians have objects collected into some set or 'space', we like to send them to other spaces, or back into the space itself, but changing one object into another. This is called a 'transformation'.\n",
    "\n",
    "Let's suppose we have two vector spaces, $V$ and $W$. We'd like to define a transformation - but there is a catch. We want our transformation to act on all the vectors. Let's suppose $V=W=\\mathbb{R}^2$. That seems simple enough. But there are still infinitely many vectors. Defining a transformation sounds laborious.\n",
    "\n",
    "Ah, but we are clever. We have defined our space in such a way that for *certain* transformations, we need only define our transformation on a finite set (in the case of finite dimensional vector spaces).\n",
    "\n",
    "### Linear Transformations\n",
    "\n",
    "A linear transformation $f:V\\rightarrow W$ is a map from $V$ to $W$ such that\n",
    "\n",
    "$$f(c_1 v_1+c_2v_2) = c_1f(v_1)+c_2f(v_2)$$\n",
    "\n",
    "Now, recall that a basis essentially generates the entire vector space via linear combinations. So, once we define a linear transformation $f$ on a basis, we have it for the whole space.\n",
    "\n",
    "\n",
    "### Matrices, Transformations and Geometric Interpretation\n",
    "Thinking back to real vector spaces, what does a matrix *do* to a vector?  Matrix multiplication has a *geometric* interpretation.  When we multiply a vector, we either rotate, reflect, dilate or some combination of those three. So multiplying by a matrix *transforms* one vector into another vector.  These are *linear transformations*. \n",
    "\n",
    "See the cell below for an example of a vector ($v_1 = (2,3)$) transformed by a matrix \n",
    "\n",
    "$$A = \\left(\\begin{matrix}2 & 1\\\\1&1\\end{matrix}\\right)$$\n",
    "\n",
    "so that \n",
    "\n",
    "$$v_2 = Av_1$$\n",
    "\n"
   ]
  },
  {
   "cell_type": "code",
   "execution_count": 5,
   "metadata": {
    "collapsed": false
   },
   "outputs": [
    {
     "name": "stdout",
     "output_type": "stream",
     "text": [
      "5\n"
     ]
    },
    {
     "data": {
      "image/png": "[encoded data removed]",
      "text/plain": [
       "<matplotlib.figure.Figure at 0x7fa95fe2a748>"
      ]
     },
     "metadata": {},
     "output_type": "display_data"
    }
   ],
   "source": [
    "a1 = np.array([7,0])         # axis\n",
    "a2 = np.array([0,5])\n",
    "\n",
    "A = np.array([[2,1],[1,1]])  # transformation f in standard basis\n",
    "v2 =np.dot(A,v1)\n",
    "plt.figure(figsize=(8,8))\n",
    "plot_vectors([a1, a2])\n",
    "v1 = np.array([2,3])\n",
    "plot_vectors([v1,v2])\n",
    "plt.text(2,3,\"v1 =(2,3)\",fontsize=16)\n",
    "plt.text(6,5,\"Av1 = \", fontsize=16)\n",
    "plt.text(v2[0],v2[1],\"(7,5)\",fontsize=16)\n",
    "print(v2[1])"
   ]
  },
  {
   "cell_type": "markdown",
   "metadata": {},
   "source": [
    "Important Facts: \n",
    "\n",
    "* Any matrix defines a linear transformation\n",
    "* The matrix form of a linear transformation is NOT unique\n",
    "* We need only define a transformation by saying what it does to a *basis*\n",
    "\n",
    "Suppose we have a matrix $A$ that defines some transformation.  We can take any invertible matrix $B$ and\n",
    "\n",
    "$$B^{-1}AB$$\n",
    "\n",
    "defines the same transformation.  This operation is called a *change of basis*, because we are simply expressing the transformation with respect to a different basis.\n",
    "\n",
    "This is an important concept in matrix decompositions."
   ]
  },
  {
   "cell_type": "markdown",
   "metadata": {},
   "source": [
    "### Example - Find *a* Matrix Representation of a Linear Transformation\n",
    "\n",
    "Note that we say find 'a' matrix representation - not 'the' matrix representation. That is because the matrix representation is dependent on the *choice of basis*.\n",
    "\n",
    "Let $f(x)$ be the linear transformation that takes $e_1=(1,0)$ to $f(e_1)=(2,3)$ and $e_2=(0,1)$ to $f(e_2) = (1,1)$.  A matrix representation of $f$ would be given by:\n",
    "\n",
    "$$A = \\left(\\begin{matrix}2 & 1\\\\3&1\\end{matrix}\\right)$$\n",
    "\n",
    "This is the matrix we use if we consider the vectors of $\\mathbb{R}^2$ to be linear combinations of the form \n",
    "\n",
    "$$c_1 e_1 + c_2 e_2$$\n",
    "\n",
    "\n",
    "### Example - Change to a Different Basis\n",
    "\n",
    "Now, consider a second pair of (linearly independent) vectors in $\\mathbb{R}^2$, say $v_1=(1,3)$ and $v_2=(4,1)$. We first find the transformation that takes $e_1$ to $v_1$ and $e_2$ to $v_2$.  A matrix representation for this is:\n",
    "\n",
    "$$B = \\left(\\begin{matrix}1 & 4\\\\3&1\\end{matrix}\\right)$$\n",
    "\n",
    "\n",
    "Our original transformation $f$ can be expressed with respect to the basis $v_1, v_2$ via\n",
    "\n",
    "$$B^{-1}AB$$\n",
    "\n",
    "Here is what the new basis looks like:"
   ]
  },
  {
   "cell_type": "code",
   "execution_count": 6,
   "metadata": {
    "collapsed": false
   },
   "outputs": [
    {
     "data": {
      "text/plain": [
       "<matplotlib.patches.Circle at 0x7fa95fe14048>"
      ]
     },
     "execution_count": 6,
     "metadata": {},
     "output_type": "execute_result"
    },
    {
     "data": {
      "image/png": "[encoded data removed]",
      "text/plain": [
       "<matplotlib.figure.Figure at 0x7fa95fe2ada0>"
      ]
     },
     "metadata": {},
     "output_type": "display_data"
    }
   ],
   "source": [
    "e1 = np.array([1,0])\n",
    "e2 = np.array([0,1])\n",
    "A = np.array([[2,1],[3,1]])\n",
    "plt.figure(figsize=(8,4))\n",
    "plt.subplot(1,2,1)\n",
    "plot_vectors([e1, e2])\n",
    "plt.subplot(1,2,2)\n",
    "plot_vectors([A.dot(e1), A.dot(e2)])\n",
    "plt.Circle((0,0),2)\n",
    "#plt.show()\n",
    "#plt.tight_layout()"
   ]
  },
  {
   "cell_type": "markdown",
   "metadata": {},
   "source": [
    "Let's see what the new matrix looks like:"
   ]
  },
  {
   "cell_type": "code",
   "execution_count": 7,
   "metadata": {
    "collapsed": false
   },
   "outputs": [
    {
     "name": "stdout",
     "output_type": "stream",
     "text": [
      "[2 3]\n",
      "[1 1]\n",
      "Av1: \n",
      "[5 6]\n",
      "Av2: \n",
      "[ 9 13]\n",
      "[[1 4]\n",
      " [3 1]]\n",
      "B B_inv \n",
      "[[ 1. -0.]\n",
      " [ 0.  1.]]\n",
      "[[ 1.7273  3.9091]\n",
      " [ 0.8182  1.2727]]\n"
     ]
    },
    {
     "data": {
      "text/plain": [
       "array([ 5.,  6.])"
      ]
     },
     "execution_count": 7,
     "metadata": {},
     "output_type": "execute_result"
    }
   ],
   "source": [
    "A = np.array([[2,1],[3,1]])  # transformation f in standard basis\n",
    "e1 = np.array([1,0])         # standard basis vectors e1,e2\n",
    "e2 = np.array([0,1])\n",
    "\n",
    "print(A.dot(e1))             # demonstrate that Ae1 is (2,3)\n",
    "print(A.dot(e2))             # demonstrate that Ae2 is (1,1) \n",
    "                              \n",
    "# new basis vectors\n",
    "v1 = np.array([1,3])         \n",
    "v2 = np.array([4,1])\n",
    "\n",
    "# How v1 and v2 are transformed by A\n",
    "print(\"Av1: \")\n",
    "print(A.dot(v1))   \n",
    "print(\"Av2: \")\n",
    "print(A.dot(v2))\n",
    "\n",
    "# Change of basis from standard to v1,v2\n",
    "B = np.array([[1,4],[3,1]])\n",
    "print(B)\n",
    "B_inv = linalg.inv(B)\n",
    "\n",
    "print(\"B B_inv \")\n",
    "print(B.dot(B_inv))   # check inverse\n",
    "\n",
    "# Matrix of the transformation with respect to the new basis\n",
    "T = B_inv.dot(A.dot(B))        # B^{-1} A B \n",
    "\n",
    "print(T)\n",
    "\n",
    "T.dot(e1)[0]*v1 + T.dot(e1)[1]*v2\n",
    "\n"
   ]
  },
  {
   "cell_type": "markdown",
   "metadata": {},
   "source": [
    "## What does all this have to do with linear systems?"
   ]
  },
  {
   "cell_type": "markdown",
   "metadata": {},
   "source": [
    "\n",
    "\n",
    "#### Linear Independence:\n",
    "\n",
    "* If $A$ is an $m\\times n$ matrix and $m>n$, if all $m$ rows are linearly independent, then the system is *overdetermined* and *inconsistent*.  The system cannot be solved exactly.  This is the usual case in data analysis, and why least squares is so important.\n",
    " \n",
    "* If $A$ is an $m\\times n$ matrix and $m<n$, if all $m$ rows are linearly independent, then the system is *underdetermined* and there are *infinite* solutions.\n",
    "\n",
    "* If $A$ is an $m\\times n$ matrix and some of its rows are linearly dependent, then the system is *reducible*.  We can get rid of some equations.\n",
    "\n",
    "* If $A$ is a square matrix and its rows are linearly independent, the system has a unique solution. ($A$ is invertible.)\n",
    "\n",
    "#### Change of Basis\n",
    "\n",
    "* We can often transform a linear system into a simpler form, simply via a change of basis."
   ]
  },
  {
   "cell_type": "markdown",
   "metadata": {},
   "source": [
    "## More Properties of Vectors, Vector Spaces and Matrices\n",
    "\n",
    "Linear algebra has a whole lot more to tell us about linear systems, so we'll review a few basics."
   ]
  },
  {
   "cell_type": "markdown",
   "metadata": {},
   "source": [
    "### Norms and Distance of Vectors"
   ]
  },
  {
   "cell_type": "markdown",
   "metadata": {},
   "source": [
    "You probably learned that the 'norm' of a vector $v \\in \\mathbb{R}^n$, denoted $||v||$ is simply its length. For a vector with components \n",
    "$$v = \\left(v_1,...,v_n\\right)$$\n",
    "the norm of $v$ is given by:\n",
    "    \n",
    "$$||v|| = \\sqrt{v_1^2+...+v_n^2}$$\n",
    "\n",
    "This *natural* definition of a norm comes from the distance formula. Recall that for two points $(x_1,y_1),(x_0,y_0)$ in the plane, the distance between them is given by:\n",
    "\n",
    "$$D = \\sqrt{(x_1-x_0)^2+(y_1-y_0)^2}$$\n",
    "\n",
    "The length of a vector in $\\mathbb{R}^n$ is the distance from the origin, so\n",
    "\n",
    "$$||v|| = \\sqrt{(v_1 -0 )^2 +...+(v_n-0)^2} = \\sqrt{v_1^2+...+v_n^2}$$"
   ]
  },
  {
   "cell_type": "markdown",
   "metadata": {},
   "source": [
    "The distance between two vectors is the length of their difference:\n",
    "    \n",
    "$$d(v,w) = ||v-w||$$"
   ]
  },
  {
   "cell_type": "markdown",
   "metadata": {},
   "source": [
    "#### Examples"
   ]
  },
  {
   "cell_type": "code",
   "execution_count": 12,
   "metadata": {
    "collapsed": false
   },
   "outputs": [
    {
     "data": {
      "text/plain": [
       "2.2361"
      ]
     },
     "execution_count": 12,
     "metadata": {},
     "output_type": "execute_result"
    }
   ],
   "source": [
    "# norm of a vector\n",
    "# Note: The numpy linalg package is imported at the top of this notebook\n",
    "\n",
    "\n",
    "v = np.array([1,2])\n",
    "linalg.norm(v)"
   ]
  },
  {
   "cell_type": "code",
   "execution_count": 13,
   "metadata": {
    "collapsed": false
   },
   "outputs": [
    {
     "data": {
      "text/plain": [
       "1.0000"
      ]
     },
     "execution_count": 13,
     "metadata": {},
     "output_type": "execute_result"
    }
   ],
   "source": [
    "# distance between two vectors\n",
    "\n",
    "w = np.array([1,1])\n",
    "linalg.norm(v-w)"
   ]
  },
  {
   "cell_type": "markdown",
   "metadata": {},
   "source": []
  },
  {
   "cell_type": "markdown",
   "metadata": {},
   "source": [
    "## Inner Products\n",
    "\n",
    "Inner products are closely related to norms and distance.  The (standard) inner product (or dot product) of two $n$ dimensional vectors $v$ and $w$ is given by:\n",
    "\n",
    "$$<v,w> = v_1w_1+...+v_nw_n$$\n",
    "\n",
    "I.e. the inner product is just the sum of the product of the components.  Certain 'special' matrices also define inner products, and we will see some of those later.\n",
    "\n",
    "The standard inner product is related to the standard norm via:\n",
    "\n",
    "$$||v|| = <v,v>^{\\frac12}$$\n",
    "\n",
    "\n",
    "#### Geometric Interpretation:\n",
    "\n",
    "The inner product of two vectors is proportional to the cosine of the angle between them. In fact:\n",
    "\n",
    "$$<v,w> = ||v|| ||w|| \\cos(\\theta)$$\n",
    "\n",
    "where $\\theta$ is the angle between $v$ and $w$.\n",
    "\n",
    "\n",
    "\n"
   ]
  },
  {
   "cell_type": "code",
   "execution_count": 9,
   "metadata": {
    "collapsed": false
   },
   "outputs": [
    {
     "data": {
      "text/plain": [
       "<function matplotlib.artist.allow_rasterization.<locals>.draw_wrapper>"
      ]
     },
     "execution_count": 9,
     "metadata": {},
     "output_type": "execute_result"
    },
    {
     "data": {
      "image/png": "[encoded data removed]",
      "text/plain": [
       "<matplotlib.figure.Figure at 0x7f010a7031d0>"
      ]
     },
     "metadata": {},
     "output_type": "display_data"
    }
   ],
   "source": [
    "e1 = np.array([1,0])\n",
    "e2 = np.array([0,1])\n",
    "A = np.array([[2,3],[3,1]])\n",
    "v1=A.dot(e1)\n",
    "v2=A.dot(e2)\n",
    "plt.figure(figsize=(8,4))\n",
    "plt.subplot(1,2,1)\n",
    "plot_vectors([e1, e2])\n",
    "plt.subplot(1,2,2)\n",
    "plot_vectors([v1,v2])\n",
    "plt.tight_layout()\n",
    "#help(plt.Circle)\n",
    "plt.Circle(np.array([0,0]),radius=1)\n",
    "plt.Circle.draw"
   ]
  },
  {
   "cell_type": "markdown",
   "metadata": {},
   "source": [
    "\n",
    "There is a more abstract formulation of an inner product, that is useful when considering more general vector spaces, especially function vector spaces:\n",
    "\n",
    "### General Inner Product\n",
    "\n",
    "We'll state the definition for vector spaces over $\\mathbb{R}$, but note that all may be extended for any field of coefficients.\n",
    "\n",
    "An inner product on a vector space $V$ is a symmetric, positive definite, bilinear form. This means an inner product is any map $<,>_A$ (the A is just to make the point that this is different from the standard inner product).\n",
    "\n",
    "$$<,>_A: V\\times V:\\rightarrow \\mathbb{R}$$\n",
    "\n",
    "with the following properties:\n",
    "\n",
    "* Symmetric: For any $v_1,v_2\\in V\\times V$, \n",
    "  $$<v_1,v_2>_A = <v_2,v_1>_A$$\n",
    "* Positive Definite: For any $v\\in V$,\n",
    "  $$<v,v>_A \\geq 0$$\n",
    "  with equality *only* when $v=0$ (note that $0$ means the zero *vector*).\n",
    "* Bilinear: For any $c_1,c_2\\in\\mathbb{R}$ and $v_1,v_2,v\\in V$,\n",
    "  $$<c(v_1+v_2),v>_A = c<v_1,v> + c<v_2,v>$$\n",
    "  Note that symmetry gives that this is true for the second component. This means that the inner product is linear   in each of its two components.\n",
    "  \n",
    "##### Important: Any inner product defines a norm via\n",
    "$$||v|| = <v,v>^{\\frac12}$$\n",
    "\n",
    "We will discuss this a bit more when we learn about positive-definite matrices!\n",
    "\n",
    "### General Norms\n",
    "\n",
    "There is also a more abstract definition of a norm - a norm is function from a vector space to the real numbers, that is positive definite, absolutely scalable and satisfies the triangle inequality.\n",
    "\n",
    "We'll mostly be dealing with norms that come from inner products, but it is good to note that not all norms *must* come from an inner product."
   ]
  },
  {
   "cell_type": "markdown",
   "metadata": {},
   "source": [
    "### Outer Products"
   ]
  },
  {
   "cell_type": "markdown",
   "metadata": {},
   "source": [
    "Note that the inner product is just matrix multiplication of a $1\\times n$ vector with an $n\\times 1$ vector.  In fact, we may write:\n",
    "\n",
    "$$<v,w> = v^tw$$\n",
    "\n",
    "The *outer product* of two vectors is just the opposite. It is given by:\n",
    "\n",
    "$$v\\otimes w = vw^t$$\n",
    "\n",
    "Note that I am considering $v$ and $w$ as *column* vectors.  The result of the inner product is a *scalar*. The result of the outer product is a *matrix*."
   ]
  },
  {
   "cell_type": "markdown",
   "metadata": {},
   "source": [
    "#### Example"
   ]
  },
  {
   "cell_type": "code",
   "execution_count": 10,
   "metadata": {
    "collapsed": false
   },
   "outputs": [
    {
     "data": {
      "text/plain": [
       "array([[1, 1],\n",
       "       [2, 2]])"
      ]
     },
     "execution_count": 10,
     "metadata": {},
     "output_type": "execute_result"
    }
   ],
   "source": [
    "np.outer(v,w)"
   ]
  },
  {
   "cell_type": "markdown",
   "metadata": {},
   "source": [
    "**Extended example**: the covariance matrix is an outer proudct."
   ]
  },
  {
   "cell_type": "code",
   "execution_count": 11,
   "metadata": {
    "collapsed": false
   },
   "outputs": [],
   "source": [
    "# We have n observations of p variables \n",
    "n, p = 10, 4\n",
    "v = np.random.random((p,n))"
   ]
  },
  {
   "cell_type": "code",
   "execution_count": 12,
   "metadata": {
    "collapsed": false
   },
   "outputs": [
    {
     "data": {
      "text/plain": [
       "array([[ 0.1049, -0.0084,  0.0121, -0.0046],\n",
       "       [-0.0084,  0.1234, -0.028 , -0.0836],\n",
       "       [ 0.0121, -0.028 ,  0.0899,  0.0075],\n",
       "       [-0.0046, -0.0836,  0.0075,  0.0832]])"
      ]
     },
     "execution_count": 12,
     "metadata": {},
     "output_type": "execute_result"
    }
   ],
   "source": [
    "# The covariance matrix is a p by p matrix\n",
    "np.cov(v)"
   ]
  },
  {
   "cell_type": "code",
   "execution_count": 13,
   "metadata": {
    "collapsed": false
   },
   "outputs": [
    {
     "data": {
      "text/plain": [
       "array([[ 0.1049, -0.0084,  0.0121, -0.0046],\n",
       "       [-0.0084,  0.1234, -0.028 , -0.0836],\n",
       "       [ 0.0121, -0.028 ,  0.0899,  0.0075],\n",
       "       [-0.0046, -0.0836,  0.0075,  0.0832]])"
      ]
     },
     "execution_count": 13,
     "metadata": {},
     "output_type": "execute_result"
    }
   ],
   "source": [
    "# From the definition, the covariance matrix \n",
    "# is just the outer product of the normalized \n",
    "# matrix where every variable has zero mean\n",
    "# divided by the number of degrees of freedom\n",
    "w = v - v.mean(1)[:, np.newaxis]\n",
    "w.dot(w.T)/(n - 1)"
   ]
  },
  {
   "cell_type": "markdown",
   "metadata": {},
   "source": [
    "### Trace and Determinant of Matrices"
   ]
  },
  {
   "cell_type": "markdown",
   "metadata": {},
   "source": [
    "The trace of a matrix $A$ is the sum of its diagonal elements.  It is important for a couple of reasons:\n",
    "\n",
    "* It is an *invariant* of a matrix under change of basis (more on this later).\n",
    "* It defines a matrix norm (more on that later)\n",
    "\n",
    "The determinant of a matrix is defined to be the alternating sum of the product of permutations of the elements of a matrix.  \n",
    "\n",
    "$$\\det(A) = \\sum_{\\sigma \\in S_n} sgn(\\sigma) \\prod_{i=1}^n a_{i,\\sigma_i}$$\n",
    "\n",
    "Let's not dwell on that though. It is important to know that the determinant of a $2\\times 2$ matrix is\n",
    "\n",
    "$$\\left|\\begin{matrix}a_{11} & a_{12}\\\\a_{21} & a_{22}\\end{matrix}\\right| = a_{11}a_{22} - a_{12}a_{21}$$\n",
    "\n",
    "This may be extended to an $n\\times n$ matrix by minor expansion.  I will leave that for you to google.  We will be computing determinants using tools such as:\n",
    "\n",
    "``np.linalg.det(A)``\n",
    "\n",
    "What is most important about the determinant:\n",
    "\n",
    "* Like the trace, it is also invariant under change of basis\n",
    "* An $n\\times n$ matrix $A$ is invertible $\\iff$ det$(A)\\neq 0$ \n",
    "* The rows(columns) of an $n\\times n$ matrix $A$ are linearly independent $\\iff$ det$(A)\\neq 0$"
   ]
  },
  {
   "cell_type": "code",
   "execution_count": 14,
   "metadata": {
    "collapsed": false
   },
   "outputs": [
    {
     "name": "stdout",
     "output_type": "stream",
     "text": [
      "[[ 4 58 15 71 89 88]\n",
      " [56 28 19 91  7 50]\n",
      " [88 78  7 45 16  9]\n",
      " [47 47 96 34 17 69]\n",
      " [67 65 82 96  2  7]\n",
      " [32 59  6 97 41 49]]\n"
     ]
    },
    {
     "data": {
      "text/plain": [
       "60549512901.9999"
      ]
     },
     "execution_count": 14,
     "metadata": {},
     "output_type": "execute_result"
    }
   ],
   "source": [
    "n = 6\n",
    "M = np.random.randint(100,size=(n,n))\n",
    "print(M)\n",
    "np.linalg.det(M)"
   ]
  },
  {
   "cell_type": "markdown",
   "metadata": {},
   "source": [
    "### Column space, Row space, Rank and Kernel"
   ]
  },
  {
   "cell_type": "markdown",
   "metadata": {},
   "source": [
    "Let $A$ be an $m\\times n$ matrix.  We can view the columns of $A$ as vectors, say $\\textbf{a_1},...,\\textbf{a_n}$. The space of all linear combinations of the $\\textbf{a_i}$ are the *column space* of the matrix $A$.  Now, if $\\textbf{a_1},...,\\textbf{a_n}$ are *linearly independent*, then the column space is of dimension $n$.  Otherwise, the dimension of the column space is the size of the maximal set of linearly independent $\\textbf{a_i}$.  Row space is exactly analogous, but the vectors are the *rows* of $A$.\n",
    "\n",
    "The *rank* of a matrix *A* is the dimension of its column space - and - the dimension of its row space.  These are equal for any matrix.  Rank can be thought of as a measure of non-degeneracy of a system of linear equations, in that it is the *dimension of the image of the linear transformation* determined by $A$. \n",
    "\n",
    "The *kernel* of a matrix *A* is the dimension of the space mapped to zero under the linear transformation that $A$ represents. The dimension of the kernel of a linear transformation is called the *nullity*. \n",
    "\n",
    "Index theorem: For an $m\\times n$ matrix $A$, \n",
    "\n",
    "rank($A$) + nullity($A$) = $n$.\n"
   ]
  },
  {
   "cell_type": "markdown",
   "metadata": {},
   "source": [
    "\n",
    "\n"
   ]
  },
  {
   "cell_type": "markdown",
   "metadata": {},
   "source": [
    "### Matrix Norms"
   ]
  },
  {
   "cell_type": "markdown",
   "metadata": {},
   "source": [
    "We can extend the notion of a norm of a vector to a norm of a matrix.  Matrix norms are used in determining the *condition* of a matrix (we will define this in the next lecture.)  There are many matrix norms, but three of the most common are so called 'p' norms, and they are based on p-norms of vectors.  So, for an $n$-dimensional vector $v$ and for $1\\leq p <\\infty$\n",
    "\n",
    "$$||v||_p = \\left(\\sum\\limits_{i=1}^n |v_i|^p\\right)^\\frac1p$$\n",
    "\n",
    "and for $p =\\infty$:\n",
    "\n",
    "$$||v||_\\infty = \\max{|v_i|}$$\n",
    "\n",
    "Similarly, the corresponding matrix norms are:\n",
    "\n",
    "$$||A||_p = \\sup_x \\frac{||Ax||_p}{||x||_p}$$\n",
    "\n",
    "$$||A||_{1} = \\max_j\\left(\\sum\\limits_{i=1}^n|a_{ij}|\\right)$$ \n",
    "(column sum)\n",
    "\n",
    "$$||A||_{\\infty} = \\max_i\\left(\\sum\\limits_{j=1}^n|a_{ij}|\\right)$$ \n",
    "(row sum)\n",
    "\n",
    "FACT: The matrix 2-norm, $||A||_2$ is given by the largest eigenvalue of $\\left(A^TA\\right)^\\frac12$ - otherwise known as the largest singular value of $A$.  We will define eigenvalues and singular values formally in the next lecture.\n",
    "\n",
    "\n",
    "Another norm that is often used is called the Frobenius norm.  It one of the simplests to compute:\n",
    "\n",
    "$$||A||_F = \\left(\\sum\\sum \\left(a_{ij}\\right)^2\\right)^\\frac12$$"
   ]
  },
  {
   "cell_type": "markdown",
   "metadata": {},
   "source": [
    "### Special Matrices"
   ]
  },
  {
   "cell_type": "markdown",
   "metadata": {},
   "source": [
    "Some matrices have interesting properties that allow us either simplify the underlying linear system or to understand more about it. "
   ]
  },
  {
   "cell_type": "markdown",
   "metadata": {},
   "source": [
    "#### Square Matrices"
   ]
  },
  {
   "cell_type": "markdown",
   "metadata": {},
   "source": [
    "Square matrices have the same number of columns (usually denoted $n$).  We refer to an arbitrary square matrix as and $n\\times n$ or we refer to it as a 'square matrix of dimension $n$'.  If an $n\\times n$ matrix $A$ has *full rank* (i.e. it has rank $n$), then $A$ is invertible, and its inverse is unique.  This is a situation that leads to a unique solution to a linear system."
   ]
  },
  {
   "cell_type": "markdown",
   "metadata": {},
   "source": [
    "#### Diagonal Matrices"
   ]
  },
  {
   "cell_type": "markdown",
   "metadata": {},
   "source": [
    "A diagonal matrix is a matrix with all entries off the diagonal equal to zero.  Strictly speaking, such a matrix should be square, but we can also consider rectangular matrices of size $m\\times n$ to be diagonal, if all entries $a_{ij}$ are zero for $i\\neq j$"
   ]
  },
  {
   "cell_type": "markdown",
   "metadata": {},
   "source": [
    "#### Symmetric and Skew Symmetric"
   ]
  },
  {
   "cell_type": "markdown",
   "metadata": {},
   "source": [
    "A matrix $A$ is (skew) symmetric iff $a_{ij} = (-)a_{ji}$.\n",
    "\n",
    "Equivalently, $A$ is (skew) symmetric iff\n",
    "\n",
    "$$A = (-)A^T$$"
   ]
  },
  {
   "cell_type": "markdown",
   "metadata": {},
   "source": [
    "#### Upper and Lower Triangular"
   ]
  },
  {
   "cell_type": "markdown",
   "metadata": {},
   "source": [
    "A matrix $A$ is (upper|lower) triangular if $a_{ij} = 0$ for all $i (>|<) j$"
   ]
  },
  {
   "cell_type": "markdown",
   "metadata": {},
   "source": [
    "#### Banded and Sparse Matrices"
   ]
  },
  {
   "cell_type": "markdown",
   "metadata": {},
   "source": [
    "These are matrices with lots of zero entries. Banded matrices have non-zero 'bands', and this structure can be exploited to simplify computations.  Sparse matrices are matrices where there are 'few' non-zero entries, but there is no pattern to where non-zero entries are found."
   ]
  },
  {
   "cell_type": "markdown",
   "metadata": {},
   "source": [
    "#### Orthogonal and Orthonormal"
   ]
  },
  {
   "cell_type": "markdown",
   "metadata": {},
   "source": [
    "A matrix $A$ is *orthogonal* iff\n",
    "\n",
    "$$A A^T = I$$\n",
    "\n",
    "In other words, $A$ is orthogonal iff \n",
    "\n",
    "$$A^T=A^{-1}$$\n",
    "\n",
    "Facts: \n",
    "\n",
    "* The rows and columns of an orthogonal matrix are an orthonormal set of vectors.\n",
    "* Geometrically speaking, orthogonal transformations preserve lengths and angles between vectors\n"
   ]
  },
  {
   "cell_type": "markdown",
   "metadata": {},
   "source": [
    "#### Positive Definite"
   ]
  },
  {
   "cell_type": "markdown",
   "metadata": {},
   "source": [
    "Positive definite matrices are an important class of matrices with very desirable properties. A square matrix $A$ is positive definite if\n",
    "\n",
    "$$u^TA u > 0$$\n",
    "\n",
    "for any non-zero n-dimensional vector $u$.\n",
    "\n",
    "A symmetric, positive-definite matrix $A$ is a positive-definite matrix such that\n",
    "\n",
    "$$A = A^T$$\n",
    "\n",
    "IMPORTANT: \n",
    "\n",
    "* Symmetric, positive-definite matrices have 'square-roots' (in a sense)\n",
    "* Any symmetric, positive-definite matrix is *diagonizable*!!!\n",
    "* Co-variance matrices are symmetric and positive-definite\n"
   ]
  },
  {
   "cell_type": "markdown",
   "metadata": {},
   "source": [
    "Now that we have the basics down, we can move on to numerical methods for solving systems - aka matrix decompositions."
   ]
  },
  {
   "cell_type": "markdown",
   "metadata": {},
   "source": [
    "<font color=red>Exercises</font>\n",
    "----"
   ]
  },
  {
   "cell_type": "markdown",
   "metadata": {},
   "source": [
    "**1**. Determine whether the following system of equations has no solution, infinite solutions or a unique solution *without solving the system*\n",
    "\n",
    "$$\\begin{eqnarray*}\n",
    "x+2y-z+w &=& 2\\\\\n",
    "3x-4y+2 w &=& 3\\\\\n",
    "2y+z &=& 4\\\\\n",
    "2x+2y-3z+2w&=&0\\\\\n",
    "-2x+6y-z-w&=&-1\n",
    "\\end{eqnarray*}$$"
   ]
  },
  {
   "cell_type": "code",
   "execution_count": 15,
   "metadata": {
    "collapsed": false
   },
   "outputs": [
    {
     "data": {
      "text/plain": [
       "-0.0000"
      ]
     },
     "execution_count": 15,
     "metadata": {},
     "output_type": "execute_result"
    }
   ],
   "source": [
    "A = np.array([[1,2,-1,1,2],[3,-4,0,2,3],[0,2,1,0,4],[2,2,-3,2,0],[-2,6,-1,-1,-1]])\n",
    "\n",
    "np.linalg.matrix_rank(A)\n",
    "np.linalg.det(A)"
   ]
  },
  {
   "cell_type": "markdown",
   "metadata": {},
   "source": [
    "**2**. Let $f(x)$ be a linear transformation of $\\mathbb{R}^3$ such that\n",
    "$$\\begin{eqnarray*}\n",
    "f(e_1) &=& (1,1,3)\\\\\n",
    "f(e_2) &=& (1,0,4)\\\\\n",
    "f(e_3) &=& (0,2,1)\n",
    "\\end{eqnarray*}$$\n",
    "\n",
    "* Find a matrix representation for $f$. \n",
    "* Compute the matrix representation for $f$ in the basis$$\\begin{eqnarray*}\n",
    "v_1 &=& (2,3,3)\\\\\n",
    "v_2 &=& (8,5,2)\\\\\n",
    "v_3 &=& (1,0,5)\n",
    "\\end{eqnarray*}$$\n"
   ]
  },
  {
   "cell_type": "code",
   "execution_count": null,
   "metadata": {
    "collapsed": false
   },
   "outputs": [],
   "source": []
  }
 ],
 "metadata": {
  "kernelspec": {
   "display_name": "Python 3",
   "language": "python",
   "name": "python3"
  },
  "language_info": {
   "codemirror_mode": {
    "name": "ipython",
    "version": 3
   },
   "file_extension": ".py",
   "mimetype": "text/x-python",
   "name": "python",
   "nbconvert_exporter": "python",
   "pygments_lexer": "ipython3",
   "version": "3.5.1"
  }
 },
 "nbformat": 4,
 "nbformat_minor": 0
}
