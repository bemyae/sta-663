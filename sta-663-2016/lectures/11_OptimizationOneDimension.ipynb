{
 "cells": [
  {
   "cell_type": "code",
   "execution_count": 95,
   "metadata": {
    "collapsed": false
   },
   "outputs": [],
   "source": [
    "%matplotlib inline\n",
    "import matplotlib.pyplot as plt\n",
    "import numpy as np\n",
    "import scipy as scipy\n",
    "from scipy.interpolate import interp1d\n"
   ]
  },
  {
   "cell_type": "markdown",
   "metadata": {},
   "source": [
    "# Optimization and Root Finding"
   ]
  },
  {
   "cell_type": "markdown",
   "metadata": {},
   "source": [
    "## Example: Maximum Likelihood Estimation (MLE)"
   ]
  },
  {
   "cell_type": "markdown",
   "metadata": {},
   "source": [
    "Recall that in MLE, we are interested in estimating the value of a parameter $\\theta$ that maximizes a log-likelihood function $\\ell(X;\\theta)$.  Let $X_1,...,X_n$ be an iid set of random variables with pdf $f(x;\\theta)$, where $\\theta \\in \\mathbb{R}^k$ is a parameter.  The likelihood function is:\n",
    "\n",
    "\n",
    "\n",
    "$$L(X;\\theta) = \\prod_{i=1}^n f(X_i;\\theta)$$\n"
   ]
  },
  {
   "cell_type": "markdown",
   "metadata": {},
   "source": [
    "We want the value of $\\theta$ that maximizes $L$.  We can accomplish this by taking the first derivative (or gradient) of $L$ with respect to $\\theta$, setting it to zero and solving for $\\theta$.  However, this is more easily accomplished if we first take $\\log(L)$, as $L$ is a product of densities, and taking the log of a product yields a sum.  Because $log$ is a monotonically increasing function, any value of $\\theta$ that maximizes $\\log(L)$ also maximizes $L$."
   ]
  },
  {
   "cell_type": "markdown",
   "metadata": {},
   "source": [
    "$$\n",
    "\\begin{eqnarray*}\n",
    "\\ell(X;\\theta) &=& \\log(L(X;\\theta)) \\\\\\\\\n",
    "&=& \\log\\left(\\prod_{i=1}^n f(X_i;\\theta)\\right)\\\\\\\\\n",
    "&=&\\sum_{i=1}^n \\log(f(X_i;\\theta)\n",
    "\\end{eqnarray*}\n",
    "$$"
   ]
  },
  {
   "cell_type": "markdown",
   "metadata": {},
   "source": [
    "Optimization then amounts to finding the zeros of"
   ]
  },
  {
   "cell_type": "markdown",
   "metadata": {},
   "source": [
    "$$\n",
    "\\begin{eqnarray*}\n",
    "\\frac{\\partial\\ell}{\\partial \\theta} &=& \\frac{\\partial}{\\partial \\theta} \\left(\\sum_{i=1}^n\\log(f(X_i;\\theta)\\right)\\\\\\\\\n",
    "&=& \\sum_{i=1}^n \\frac{\\partial\\log(f(X_i;\\theta)}{\\partial \\theta}\n",
    "\\end{eqnarray*}\n",
    "$$"
   ]
  },
  {
   "cell_type": "markdown",
   "metadata": {},
   "source": [
    "## Optimization in one dimension usually  means finding roots of the derivative."
   ]
  },
  {
   "cell_type": "markdown",
   "metadata": {},
   "source": [
    "The MLE problem above is one circumstance where optimization (in the case of one parameter - single variable optimization) is required. Mostly, we will be interested in multivariate optimization. We begin with the single variable case to develop the main ideas."
   ]
  },
  {
   "cell_type": "markdown",
   "metadata": {},
   "source": [
    "## Main Issues in Root Finding in One Dimension\n",
    "\n",
    "* Separating close roots\n",
    "* Numerical Stability\n",
    "* Rate of Convergence\n",
    "* Continuity and Differentiability"
   ]
  },
  {
   "cell_type": "markdown",
   "metadata": {},
   "source": [
    "## Bisection Method"
   ]
  },
  {
   "cell_type": "markdown",
   "metadata": {},
   "source": [
    "The bisection method is one of the simplest methods for finding zeroes of a non-linear function.  It is guaranteed to find a root - but it can be slow. The main idea comes from the intermediate value theorem:  If $f(a)$ and $f(b)$ have different signs and $f$ is continous, then $f$ must have a zero between $a$ and $b$.  We evaluate the function at the midpoint, $c = \\frac12(a+b)$. $f(c)$ is either zero, has the same sign as $f(a)$ or the same sign as $f(b)$.  Suppose $f(c)$ has the same sign as $f(a)$ (as pictured below).  We then repeat the process on the interval $[c,b]$.   "
   ]
  },
  {
   "cell_type": "code",
   "execution_count": 3,
   "metadata": {
    "collapsed": false
   },
   "outputs": [
    {
     "data": {
      "image/png": "[encoded data removed]",
      "text/plain": [
       "<matplotlib.figure.Figure at 0x7ff434796a10>"
      ]
     },
     "metadata": {},
     "output_type": "display_data"
    }
   ],
   "source": [
    "def f(x):\n",
    "    return x**3 + 4*x**2 -3\n",
    "\n",
    "x = np.linspace(-3.1, 0, 100)\n",
    "plt.plot(x, x**3 + 4*x**2 -3)\n",
    "\n",
    "a = -3.0\n",
    "b = -0.5\n",
    "c = 0.5*(a+b)\n",
    "\n",
    "plt.text(a,-1,\"a\")\n",
    "plt.text(b,-1,\"b\")\n",
    "plt.text(c,-1,\"c\")\n",
    "\n",
    "plt.scatter([a,b,c], [f(a), f(b),f(c)], s=50, facecolors='none')\n",
    "plt.scatter([a,b,c], [0,0,0], s=50, c='red')\n",
    "\n",
    "xaxis = plt.axhline(0);"
   ]
  },
  {
   "cell_type": "code",
   "execution_count": 4,
   "metadata": {
    "collapsed": false
   },
   "outputs": [
    {
     "data": {
      "image/png": "[encoded data removed]",
      "text/plain": [
       "<matplotlib.figure.Figure at 0x7ff41c443150>"
      ]
     },
     "metadata": {},
     "output_type": "display_data"
    }
   ],
   "source": [
    "\n",
    "x = np.linspace(-3.1, 0, 100)\n",
    "plt.plot(x, x**3 + 4*x**2 -3)\n",
    "\n",
    "d = 0.5*(b+c)\n",
    "\n",
    "plt.text(d,-1,\"d\")\n",
    "plt.text(b,-1,\"b\")\n",
    "plt.text(c,-1,\"c\")\n",
    "\n",
    "plt.scatter([d,b,c], [f(d), f(b),f(c)], s=50, facecolors='none')\n",
    "plt.scatter([d,b,c], [0,0,0], s=50, c='red')\n",
    "\n",
    "xaxis = plt.axhline(0);"
   ]
  },
  {
   "cell_type": "markdown",
   "metadata": {},
   "source": [
    "We can terminate the process whenever the function evaluated at the new midpoint is 'close enough' to zero. This method is an example of what are known as 'bracketed methods'. This means the root is 'bracketed' by the end-points (it is somewhere in between). Another class of methods are 'open methods' - the root need not be somewhere in between the end-points (but it usually needs to be close!)"
   ]
  },
  {
   "cell_type": "markdown",
   "metadata": {},
   "source": [
    "## Secant Method"
   ]
  },
  {
   "cell_type": "markdown",
   "metadata": {},
   "source": [
    "The secant method also begins with two initial points, but without the constraint that the function values are of opposite signs.  We use the secant line to extrapolate the next candidate point."
   ]
  },
  {
   "cell_type": "code",
   "execution_count": 5,
   "metadata": {
    "collapsed": false
   },
   "outputs": [
    {
     "data": {
      "image/png": "[encoded data removed]",
      "text/plain": [
       "<matplotlib.figure.Figure at 0x7f9ca15c4ed0>"
      ]
     },
     "metadata": {},
     "output_type": "display_data"
    }
   ],
   "source": [
    "def f(x):\n",
    "    return (x**3-2*x+7)/(x**4+2)\n",
    "\n",
    "x = np.arange(-3,5, 0.1);\n",
    "y = f(x)\n",
    "\n",
    "p1=plt.plot(x, y)\n",
    "plt.xlim(-3, 4)\n",
    "plt.ylim(-.5, 4)\n",
    "plt.xlabel('x')\n",
    "plt.axhline(0)\n",
    "t = np.arange(-10, 5., 0.1)\n",
    "\n",
    "x0=-1.2\n",
    "x1=-0.5\n",
    "xvals = []\n",
    "xvals.append(x0)\n",
    "xvals.append(x1)\n",
    "notconverge = 1\n",
    "count = 0\n",
    "cols=['r--','b--','g--','y--']\n",
    "while (notconverge==1 and count <  3):\n",
    "    slope=(f(xvals[count+1])-f(xvals[count]))/(xvals[count+1]-xvals[count])\n",
    "    intercept=-slope*xvals[count+1]+f(xvals[count+1])\n",
    "    plt.plot(t, slope*t + intercept, cols[count])\n",
    "    nextval = -intercept/slope\n",
    "    if abs(f(nextval)) < 0.001:\n",
    "        notconverge=0\n",
    "    else:\n",
    "        xvals.append(nextval)\n",
    "    count = count+1\n",
    "\n",
    "plt.show()"
   ]
  },
  {
   "cell_type": "markdown",
   "metadata": {},
   "source": [
    "The secant method has the advantage of fast convergence.  While the bisection method has a linear convergence rate (i.e. error goes to zero at the rate that $h(x) = x$ goes to zero, the secant method has a convergence rate that is faster than linear, but not quite quadratic (i.e. $\\sim x^\\alpha$, where $\\alpha = \\frac{1+\\sqrt{5}}2 \\approx 1.6$)"
   ]
  },
  {
   "cell_type": "markdown",
   "metadata": {},
   "source": [
    "## Newton-Rhapson Method"
   ]
  },
  {
   "cell_type": "code",
   "execution_count": 5,
   "metadata": {
    "collapsed": false
   },
   "outputs": [],
   "source": []
  },
  {
   "cell_type": "markdown",
   "metadata": {},
   "source": [
    "We want to find the value $\\theta$ so that some (differentiable) function $g(\\theta)=0$. \n",
    "Idea: start with a guess, $\\theta_0$.  Let $\\tilde{\\theta}$ denote the value of $\\theta$ for which $g(\\theta) = 0$ and define $h = \\tilde{\\theta} - \\theta_0$.  Then:\n",
    "\n",
    "$$\n",
    "\\begin{eqnarray*}\n",
    "g(\\tilde{\\theta}) &=& 0 \\\\\\\\\n",
    "&=&g(\\theta_0 + h) \\\\\\\\\n",
    "&\\approx& g(\\theta_0) + hg'(\\theta_0)\n",
    "\\end{eqnarray*}\n",
    "$$\n",
    "\n",
    "This implies that \n",
    "\n",
    "$$ h\\approx \\frac{g(\\theta_0)}{g'(\\theta_0)}$$\n",
    "\n",
    "So that\n",
    "\n",
    "$$\\tilde{\\theta}\\approx \\theta_0 - \\frac{g(\\theta_0)}{g'(\\theta_0)}$$\n",
    "\n",
    "Thus, we set our next approximation:\n",
    "\n",
    "$$\\theta_1 = \\theta_0 - \\frac{g(\\theta_0)}{g'(\\theta_0)}$$\n",
    "\n",
    "and we have developed an interative procedure with:\n",
    "\n",
    "$$\\theta_n = \\theta_{n-1} - \\frac{g(\\theta_{n-1})}{g'(\\theta_{n-1})}$$"
   ]
  },
  {
   "cell_type": "markdown",
   "metadata": {},
   "source": [
    "#### Example:"
   ]
  },
  {
   "cell_type": "markdown",
   "metadata": {},
   "source": [
    "Let $$g(x) = \\frac{x^3-2x+7}{x^4+2}$$\n"
   ]
  },
  {
   "cell_type": "markdown",
   "metadata": {},
   "source": [
    "The graph of this function is:"
   ]
  },
  {
   "cell_type": "code",
   "execution_count": 6,
   "metadata": {
    "collapsed": false
   },
   "outputs": [
    {
     "data": {
      "image/png": "[encoded data removed]",
      "text/plain": [
       "<matplotlib.figure.Figure at 0x7f9ca147f190>"
      ]
     },
     "metadata": {},
     "output_type": "display_data"
    }
   ],
   "source": [
    "x = np.arange(-5,5, 0.1);\n",
    "y = (x**3-2*x+7)/(x**4+2)\n",
    "\n",
    "p1=plt.plot(x, y)\n",
    "plt.xlim(-4, 4)\n",
    "plt.ylim(-.5, 4)\n",
    "plt.xlabel('x')\n",
    "plt.axhline(0)\n",
    "plt.title('Example Function')\n",
    "plt.show()"
   ]
  },
  {
   "cell_type": "code",
   "execution_count": 7,
   "metadata": {
    "collapsed": false
   },
   "outputs": [
    {
     "data": {
      "image/png": "[encoded data removed]",
      "text/plain": [
       "<matplotlib.figure.Figure at 0x7f9ca11fda90>"
      ]
     },
     "metadata": {},
     "output_type": "display_data"
    }
   ],
   "source": [
    "\n",
    "x = np.arange(-5,5, 0.1);\n",
    "y = (x**3-2*x+7)/(x**4+2)\n",
    "\n",
    "p1=plt.plot(x, y)\n",
    "plt.xlim(-4, 4)\n",
    "plt.ylim(-.5, 4)\n",
    "plt.xlabel('x')\n",
    "plt.axhline(0)\n",
    "plt.title('Good Guess')\n",
    "t = np.arange(-5, 5., 0.1)\n",
    "\n",
    "x0=-1.5\n",
    "xvals = []\n",
    "xvals.append(x0)\n",
    "notconverge = 1\n",
    "count = 0\n",
    "cols=['r--','b--','g--','y--','c--','m--','k--','w--']\n",
    "while (notconverge==1 and count <  6):\n",
    "    funval=(xvals[count]**3-2*xvals[count]+7)/(xvals[count]**4+2)\n",
    "    slope=-((4*xvals[count]**3 *(7 - 2 *xvals[count] + xvals[count]**3))/(2 + xvals[count]**4)**2) + (-2 + 3 *xvals[count]**2)/(2 + xvals[count]**4)\n",
    "   \n",
    "    intercept=-slope*xvals[count]+(xvals[count]**3-2*xvals[count]+7)/(xvals[count]**4+2)\n",
    "\n",
    "    plt.plot(t, slope*t + intercept, cols[count])\n",
    "    nextval = -intercept/slope\n",
    "    if abs(funval) < 0.01:\n",
    "        notconverge=0\n",
    "    else:\n",
    "        xvals.append(nextval)\n",
    "    count = count+1\n",
    "\n",
    "plt.show()\n",
    "\n"
   ]
  },
  {
   "cell_type": "markdown",
   "metadata": {},
   "source": [
    "From the graph, we see the zero is near -2.  We make an initial guess of $$x=-1.5$$"
   ]
  },
  {
   "cell_type": "markdown",
   "metadata": {},
   "source": [
    "We have made an excellent choice for our first guess, and we can see rapid convergence!"
   ]
  },
  {
   "cell_type": "code",
   "execution_count": 8,
   "metadata": {
    "collapsed": false
   },
   "outputs": [
    {
     "data": {
      "text/plain": [
       "0.007591996330867034"
      ]
     },
     "execution_count": 8,
     "metadata": {},
     "output_type": "execute_result"
    }
   ],
   "source": [
    "funval"
   ]
  },
  {
   "cell_type": "markdown",
   "metadata": {},
   "source": [
    "In fact, the Newton-Rhapson method converges quadratically.  However, NR (and the secant method) have a fatal flaw:"
   ]
  },
  {
   "cell_type": "code",
   "execution_count": 9,
   "metadata": {
    "collapsed": false
   },
   "outputs": [
    {
     "data": {
      "image/png": "[encoded data removed]",
      "text/plain": [
       "<matplotlib.figure.Figure at 0x7f9ca12151d0>"
      ]
     },
     "metadata": {},
     "output_type": "display_data"
    }
   ],
   "source": [
    "\n",
    "x = np.arange(-5,5, 0.1);\n",
    "y = (x**3-2*x+7)/(x**4+2)\n",
    "\n",
    "p1=plt.plot(x, y)\n",
    "plt.xlim(-4, 4)\n",
    "plt.ylim(-.5, 4)\n",
    "plt.xlabel('x')\n",
    "plt.axhline(0)\n",
    "plt.title('Bad Guess')\n",
    "t = np.arange(-5, 5., 0.1)\n",
    "\n",
    "x0=-0.5\n",
    "xvals = []\n",
    "xvals.append(x0)\n",
    "notconverge = 1\n",
    "count = 0\n",
    "cols=['r--','b--','g--','y--','c--','m--','k--','w--']\n",
    "while (notconverge==1 and count <  6):\n",
    "    funval=(xvals[count]**3-2*xvals[count]+7)/(xvals[count]**4+2)\n",
    "    slope=-((4*xvals[count]**3 *(7 - 2 *xvals[count] + xvals[count]**3))/(2 + xvals[count]**4)**2) + (-2 + 3 *xvals[count]**2)/(2 + xvals[count]**4)\n",
    "   \n",
    "    intercept=-slope*xvals[count]+(xvals[count]**3-2*xvals[count]+7)/(xvals[count]**4+2)\n",
    "\n",
    "    plt.plot(t, slope*t + intercept, cols[count])\n",
    "    nextval = -intercept/slope\n",
    "    if abs(funval) < 0.01:\n",
    "        notconverge = 0\n",
    "    else:\n",
    "        xvals.append(nextval)\n",
    "    count = count+1\n",
    "\n",
    "plt.show()\n"
   ]
  },
  {
   "cell_type": "markdown",
   "metadata": {},
   "source": [
    "We have stumbled on the horizontal asymptote.  The algorithm fails to converge. "
   ]
  },
  {
   "cell_type": "markdown",
   "metadata": {},
   "source": [
    "### Basins of Attraction Can Be 'Close'"
   ]
  },
  {
   "cell_type": "code",
   "execution_count": 54,
   "metadata": {
    "collapsed": false
   },
   "outputs": [
    {
     "data": {
      "image/png": "[encoded data removed]",
      "text/plain": [
       "<matplotlib.figure.Figure at 0x7f9c9b0eba10>"
      ]
     },
     "metadata": {},
     "output_type": "display_data"
    },
    {
     "data": {
      "text/plain": [
       "-3.1713324128480282"
      ]
     },
     "execution_count": 54,
     "metadata": {},
     "output_type": "execute_result"
    }
   ],
   "source": [
    "def f(x):\n",
    "    return x**3 - 2*x**2 - 11*x +12\n",
    "def s(x):\n",
    "    return 3*x**2 - 4*x - 11\n",
    "\n",
    "x = np.arange(-5,5, 0.1);\n",
    "\n",
    "p1=plt.plot(x, f(x))\n",
    "plt.xlim(-4, 5)\n",
    "plt.ylim(-20, 22)\n",
    "plt.xlabel('x')\n",
    "plt.axhline(0)\n",
    "plt.title('Basin of Attraction')\n",
    "t = np.arange(-5, 5., 0.1)\n",
    "\n",
    "x0=2.43\n",
    "xvals = []\n",
    "xvals.append(x0)\n",
    "notconverge = 1\n",
    "count = 0\n",
    "cols=['r--','b--','g--','y--','c--','m--','k--','w--']\n",
    "while (notconverge==1 and count <  6):\n",
    "    funval = f(xvals[count])\n",
    "    slope = s(xvals[count])\n",
    "   \n",
    "    intercept=-slope*xvals[count]+funval\n",
    "\n",
    "    plt.plot(t, slope*t + intercept, cols[count])\n",
    "    nextval = -intercept/slope\n",
    "    if abs(funval) < 0.01:\n",
    "        notconverge = 0\n",
    "    else:\n",
    "        xvals.append(nextval)\n",
    "    count = count+1\n",
    "\n",
    "plt.show()\n",
    "xvals[count-1]"
   ]
  },
  {
   "cell_type": "code",
   "execution_count": 59,
   "metadata": {
    "collapsed": false
   },
   "outputs": [
    {
     "data": {
      "image/png": "[encoded data removed]",
      "text/plain": [
       "<matplotlib.figure.Figure at 0x7f9c9b022f50>"
      ]
     },
     "metadata": {},
     "output_type": "display_data"
    },
    {
     "data": {
      "text/plain": [
       "0.9991912395651094"
      ]
     },
     "execution_count": 59,
     "metadata": {},
     "output_type": "execute_result"
    }
   ],
   "source": [
    "p1=plt.plot(x, f(x))\n",
    "plt.xlim(-4, 5)\n",
    "plt.ylim(-20, 22)\n",
    "plt.xlabel('x')\n",
    "plt.axhline(0)\n",
    "plt.title('Basin of Attraction')\n",
    "t = np.arange(-5, 5., 0.1)\n",
    "\n",
    "x0=2.349\n",
    "xvals = []\n",
    "xvals.append(x0)\n",
    "notconverge = 1\n",
    "count = 0\n",
    "cols=['r--','b--','g--','y--','c--','m--','k--','w--']\n",
    "while (notconverge==1 and count <  6):\n",
    "    funval = f(xvals[count])\n",
    "    slope = s(xvals[count])\n",
    "   \n",
    "    intercept=-slope*xvals[count]+funval\n",
    "\n",
    "    plt.plot(t, slope*t + intercept, cols[count])\n",
    "    nextval = -intercept/slope\n",
    "    if abs(funval) < 0.01:\n",
    "        notconverge = 0\n",
    "    else:\n",
    "        xvals.append(nextval)\n",
    "    count = count+1\n",
    "\n",
    "plt.show()\n",
    "xvals[count-1]"
   ]
  },
  {
   "cell_type": "markdown",
   "metadata": {},
   "source": [
    "### Convergence Rate"
   ]
  },
  {
   "cell_type": "markdown",
   "metadata": {},
   "source": [
    "\n",
    "The following is a derivation of the convergence rate of the NR method:\n",
    "\n",
    "\n",
    "Suppose $x_k \\; \\rightarrow \\; x^*$ and $g'(x^*) \\neq 0$.  Then we may write:\n",
    "\n",
    "$$x_k = x^* + \\epsilon_k$$.\n",
    "\n",
    "Now expand $g$ at $x^*$:\n",
    "\n",
    "$$g(x_k) = g(x^*) + g'(x^*)\\epsilon_k + \\frac12 g''(x^*)\\epsilon_k^2 + ...$$\n",
    "$$g'(x_k)=g'(x^*) + g''(x^*)\\epsilon_k$$\n",
    "\n",
    "We have that\n",
    "\n",
    "\n",
    "\\begin{eqnarray}\n",
    "\\epsilon_{k+1} &=& \\epsilon_k + \\left(x_{k-1}-x_k\\right)\\\\\n",
    "&=& \\epsilon_k -\\frac{g(x_k)}{g'(x_k)}\\\\\n",
    "&\\approx & \\frac{g'(x^*)\\epsilon_k + \\frac12g''(x^*)\\epsilon_k^2}{g'(x^*)+g''(x^*)\\epsilon_k}\\\\\n",
    "&\\approx & \\frac{g''(x^*)}{2g'(x^*)}\\epsilon_k^2\n",
    "\\end{eqnarray}"
   ]
  },
  {
   "cell_type": "markdown",
   "metadata": {},
   "source": [
    "## Gauss-Newton"
   ]
  },
  {
   "cell_type": "markdown",
   "metadata": {},
   "source": [
    "For 1D, the Newton method is\n",
    "$$\n",
    "x_{n+1} = x_n - \\frac{f(x_n)}{f'(x_n)}\n",
    "$$\n",
    "\n",
    "We can generalize to $k$ dimensions by \n",
    "$$\n",
    "x_{n+1} = x_n - J^{-1} f(x_n)\n",
    "$$\n",
    "where $x$ and $f(x)$ are now vectors, and $J^{-1}$ is the inverse Jacobian matrix. In general, the Jacobian is not a square matrix, and we use the generalized inverse $(J^TJ)^{-1}J^T$ instead, giving\n",
    "$$\n",
    "x_{n+1} = x_n - (J^TJ)^{-1}J^T f(x_n)\n",
    "$$\n",
    "\n",
    "In multivariate nonlinear estimation problems, we can find the vector of parameters $\\beta$ by minimizing the residuals $r(\\beta)$, \n",
    "$$\n",
    "\\beta_{n+1} = \\beta_n - (J^TJ)^{-1}J^T r(\\beta_n)\n",
    "$$\n",
    "where the entries of the Jacobian matrix $J$ are\n",
    "$$\n",
    "J_{ij} = \\frac{\\partial r_i(\\beta)}{\\partial \\beta_j}\n",
    "$$"
   ]
  },
  {
   "cell_type": "markdown",
   "metadata": {},
   "source": [
    "## Inverse Quadratic Interpolation"
   ]
  },
  {
   "cell_type": "markdown",
   "metadata": {},
   "source": [
    "Inverse quadratic interpolation is a type of polynomial interpolation.  Polynomial interpolation simply means we find the polynomial of least degree that fits a set of points.  In quadratic interpolation, we use three points, and find the quadratic polynomial that passes through those three points.  \n",
    "\n"
   ]
  },
  {
   "cell_type": "code",
   "execution_count": 94,
   "metadata": {
    "collapsed": false
   },
   "outputs": [
    {
     "name": "stdout",
     "output_type": "stream",
     "text": [
      "[-1.18481848 -1.18481848]\n"
     ]
    },
    {
     "data": {
      "image/png": "[encoded data removed]",
      "text/plain": [
       "<matplotlib.figure.Figure at 0x7fe31a361d90>"
      ]
     },
     "metadata": {},
     "output_type": "display_data"
    }
   ],
   "source": [
    "\n",
    "def f(x):\n",
    "    return (x - 2) * x * (x + 2)**2\n",
    "\n",
    "\n",
    "x = np.arange(-5,5, 0.1);\n",
    "plt.plot(x, f(x))\n",
    "plt.xlim(-3.5, 0.5)\n",
    "plt.ylim(-5, 16)\n",
    "plt.xlabel('x')\n",
    "plt.axhline(0)\n",
    "plt.title(\"Quadratic Interpolation\")\n",
    "\n",
    "#First Interpolation\n",
    "x0=np.array([-3,-2.5,-1.0])\n",
    "y0=f(x0)\n",
    "f2 = interp1d(x0, y0,kind='quadratic')\n",
    "\n",
    "#Plot parabola\n",
    "xs = np.linspace(-3, -1, num=10000, endpoint=True)\n",
    "plt.plot(xs, f2(xs))\n",
    "\n",
    "#Plot first triplet\n",
    "plt.plot(x0, f(x0),'ro');\n",
    "plt.scatter(x0, f(x0), s=50, c='yellow');\n",
    "\n",
    "#New x value\n",
    "xnew=xs[np.where(abs(f2(xs))==min(abs(f2(xs))))]\n",
    "\n",
    "plt.scatter(np.append(xnew,xnew), np.append(0,f(xnew)), c='black');\n",
    "\n",
    "#New triplet\n",
    "x1=np.append([-3,-2.5],xnew)\n",
    "y1=f(x1)\n",
    "f2 = interp1d(x1, y1,kind='quadratic')\n",
    "\n",
    "#New Parabola\n",
    "xs = np.linspace(min(x1), max(x1), num=100, endpoint=True)\n",
    "plt.plot(xs, f2(xs))\n",
    "\n",
    "xnew=xs[np.where(abs(f2(xs))==min(abs(f2(xs))))]\n",
    "plt.scatter(np.append(xnew,xnew), np.append(0,f(xnew)), c='green');\n"
   ]
  },
  {
   "cell_type": "markdown",
   "metadata": {},
   "source": [
    "So that's the idea behind quadratic interpolation. Use a quadratic approximation, find the zero of interest, use that as a new point for the next quadratic approximation.\n",
    "\n",
    "\n",
    "Inverse quadratic interpolation means we do quadratic interpolation on the *inverse function*.  So, if we are looking for a root of $f$, we approximate $f^{-1}(x)$ using quadratic interpolation. Note that the secant method can be viewed as a *linear* interpolation on the inverse of $f$. We can write:\n",
    "\n",
    "$$f^{-1}(y) = \\frac{(y-f(x_n))(y-f(x_{n-1}))}{(f(x_{n-2})-f(x_{n-1}))(f(x_{n-2})-f(x_{n}))}x_{n-2} + \\frac{(y-f(x_n))(y-f(x_{n-2}))}{(f(x_{n-1})-f(x_{n-2}))(f(x_{n-1})-f(x_{n}))}x_{n-1} + \\frac{(y-f(x_{n-2}))(y-f(x_{n-1}))}{(f(x_{n})-f(x_{n-2}))(f(x_{n})-f(x_{n-1}))}x_{n-1}$$\n",
    "\n",
    "We use the above formula to find the next guess $x_{n+1}$ for a zero of $f$ (so $y=0$):\n",
    "\n",
    "$$x_{n+1} = \\frac{f(x_n)f(x_{n-1})}{(f(x_{n-2})-f(x_{n-1}))(f(x_{n-2})-f(x_{n}))}x_{n-2} + \\frac{f(x_n)f(x_{n-2})}{(f(x_{n-1})-f(x_{n-2}))(f(x_{n-1})-f(x_{n}))}x_{n-1} + \\frac{f(x_{n-2})f(x_{n-1})}{(f(x_{n})-f(x_{n-2}))(f(x_{n})-f(x_{n-1}))}x_{n}$$\n",
    "\n",
    "We aren't so much interested in deriving this as we are understanding the procedure:\n",
    "\n",
    "\n"
   ]
  },
  {
   "cell_type": "code",
   "execution_count": 120,
   "metadata": {
    "collapsed": false
   },
   "outputs": [
    {
     "data": {
      "image/png": "[encoded data removed]",
      "text/plain": [
       "<matplotlib.figure.Figure at 0x7fe31a3d12d0>"
      ]
     },
     "metadata": {},
     "output_type": "display_data"
    }
   ],
   "source": [
    "x = np.arange(-5,5, 0.1);\n",
    "plt.plot(x, f(x))\n",
    "plt.xlim(-3.5, 0.5)\n",
    "plt.ylim(-5, 16)\n",
    "plt.xlabel('x')\n",
    "plt.axhline(0)\n",
    "plt.title(\"Inverse Quadratic Interpolation\")\n",
    "\n",
    "#First Interpolation\n",
    "x0=np.array([-3,-2.5,1])\n",
    "y0=f(x0)\n",
    "f2 = interp1d(y0, x0,kind='quadratic')\n",
    "\n",
    "#Plot parabola\n",
    "xs = np.linspace(min(f(x0)), max(f(x0)), num=10000, endpoint=True)\n",
    "plt.plot(f2(xs), xs)\n",
    "\n",
    "#Plot first triplet\n",
    "plt.plot(x0, f(x0),'ro');\n",
    "plt.scatter(x0, f(x0), s=50, c='yellow');\n"
   ]
  },
  {
   "cell_type": "markdown",
   "metadata": {},
   "source": [
    "Convergence rate is approximately $1.8$. The advantage of the inverse method is that we will *always* have a real root (the parabola will always cross the x-axis). A serious disadvantage is that the initial points must be very close to the root or the method may not converge.\n",
    "\n",
    "That is why it is usually used in conjunction with other methods.\n"
   ]
  },
  {
   "cell_type": "markdown",
   "metadata": {},
   "source": [
    "## Brent's Method"
   ]
  },
  {
   "cell_type": "markdown",
   "metadata": {},
   "source": [
    "Brent's method is a combination of bisection, secant and inverse quadratic interpolation.  Like bisection, it is a 'bracketed' method (starts with points $(a,b)$ such that $f(a)f(b)<0$.   "
   ]
  },
  {
   "cell_type": "markdown",
   "metadata": {},
   "source": [
    "Roughly speaking, the method begins by using the secant method to obtain a third point $c$, then uses inverse quadratic interpolation to generate the next possible root. Without going into too much detail, the algorithm attempts to assess when interpolation will go awry, and if so, performs a bisection step. Also, it has certain criteria to reject an iterate. If that happens, the next step will be linear interpolation (secant method). "
   ]
  },
  {
   "cell_type": "markdown",
   "metadata": {},
   "source": [
    "#### The Brent method is the default method that scypy uses to minimize a univariate function:"
   ]
  },
  {
   "cell_type": "code",
   "execution_count": 11,
   "metadata": {
    "collapsed": false
   },
   "outputs": [
    {
     "data": {
      "text/plain": [
       "1.2807764040333458"
      ]
     },
     "execution_count": 11,
     "metadata": {},
     "output_type": "execute_result"
    }
   ],
   "source": [
    "from scipy.optimize import minimize_scalar\n",
    "\n",
    "def f(x):\n",
    "    return (x - 2) * x * (x + 2)**2\n",
    "\n",
    "res = minimize_scalar(f)\n",
    "res.x"
   ]
  },
  {
   "cell_type": "code",
   "execution_count": 12,
   "metadata": {
    "collapsed": false
   },
   "outputs": [
    {
     "data": {
      "text/plain": [
       "<matplotlib.lines.Line2D at 0x7f9c9b232bd0>"
      ]
     },
     "execution_count": 12,
     "metadata": {},
     "output_type": "execute_result"
    },
    {
     "data": {
      "image/png": "[encoded data removed]",
      "text/plain": [
       "<matplotlib.figure.Figure at 0x7f9c9b6b6910>"
      ]
     },
     "metadata": {},
     "output_type": "display_data"
    }
   ],
   "source": [
    "x = np.arange(-5,5, 0.1);\n",
    "p1=plt.plot(x, f(x))\n",
    "plt.xlim(-4, 4)\n",
    "plt.ylim(-10, 20)\n",
    "plt.xlabel('x')\n",
    "plt.axhline(0)"
   ]
  },
  {
   "cell_type": "markdown",
   "metadata": {},
   "source": [
    "To find zeroes, use \n"
   ]
  },
  {
   "cell_type": "code",
   "execution_count": 13,
   "metadata": {
    "collapsed": false
   },
   "outputs": [
    {
     "data": {
      "text/plain": [
       "-7.864845203343107e-19"
      ]
     },
     "execution_count": 13,
     "metadata": {},
     "output_type": "execute_result"
    }
   ],
   "source": [
    "scipy.optimize.brentq(f,-1,.5)"
   ]
  },
  {
   "cell_type": "code",
   "execution_count": 14,
   "metadata": {
    "collapsed": false
   },
   "outputs": [
    {
     "data": {
      "text/plain": [
       "2.0"
      ]
     },
     "execution_count": 14,
     "metadata": {},
     "output_type": "execute_result"
    }
   ],
   "source": [
    "scipy.optimize.brentq(f,.5,3)"
   ]
  },
  {
   "cell_type": "code",
   "execution_count": 15,
   "metadata": {
    "collapsed": false
   },
   "outputs": [
    {
     "data": {
      "text/plain": [
       "-2.0000000172499592"
      ]
     },
     "execution_count": 15,
     "metadata": {},
     "output_type": "execute_result"
    }
   ],
   "source": [
    "scipy.optimize.newton(f,-3)"
   ]
  },
  {
   "cell_type": "code",
   "execution_count": 15,
   "metadata": {
    "collapsed": false
   },
   "outputs": [],
   "source": []
  }
 ],
 "metadata": {
  "kernelspec": {
   "display_name": "Python 2",
   "language": "python",
   "name": "python2"
  },
  "language_info": {
   "codemirror_mode": {
    "name": "ipython",
    "version": 2
   },
   "file_extension": ".py",
   "mimetype": "text/x-python",
   "name": "python",
   "nbconvert_exporter": "python",
   "pygments_lexer": "ipython2",
   "version": "2.7.9"
  }
 },
 "nbformat": 4,
 "nbformat_minor": 0
}
