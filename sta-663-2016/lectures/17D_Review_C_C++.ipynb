{
 "cells": [
  {
   "cell_type": "markdown",
   "metadata": {},
   "source": [
    "What you should know about C\n",
    "----\n",
    "\n",
    "- Write, compile and run a simple program in C\n",
    "- Static types\n",
    "- Control flow especially `for` loop\n",
    "- Using functions\n",
    "- Using structs\n",
    "- Pointers and arrays\n",
    "- Function pointers\n",
    "- Dynamic memory allocation\n",
    "- Separate compilation and `make`"
   ]
  },
  {
   "cell_type": "markdown",
   "metadata": {},
   "source": [
    "### Structs"
   ]
  },
  {
   "cell_type": "markdown",
   "metadata": {},
   "source": [
    "**Exercise 1**\n",
    "\n",
    "Write and use a `struct` to represent dates."
   ]
  },
  {
   "cell_type": "code",
   "execution_count": null,
   "metadata": {
    "collapsed": true
   },
   "outputs": [],
   "source": [
    "\n",
    "\n",
    "\n",
    "\n"
   ]
  },
  {
   "cell_type": "markdown",
   "metadata": {},
   "source": [
    "**Solution**"
   ]
  },
  {
   "cell_type": "code",
   "execution_count": null,
   "metadata": {
    "collapsed": false
   },
   "outputs": [],
   "source": [
    "%%file ex1.c\n",
    "#include <stdio.h>\n",
    "\n",
    "typedef struct {\n",
    "    int day;\n",
    "    int month;\n",
    "    int year;\n",
    "} date;\n",
    "\n",
    "int main(int argc, char* argv[])\n",
    "{\n",
    "    date d1;\n",
    "    d1.day = 29;\n",
    "    d1.month = 3;\n",
    "    d1.year = 2016;\n",
    "\n",
    "    date d2 = {30, 3, 2016};\n",
    "\n",
    "    date d3 = {.year = 2016, .month = 3, .day = 31};\n",
    "\n",
    "    printf(\"%d-%d-%d\\n\", d1.month, d1.day, d1.year);\n",
    "    printf(\"%d-%d-%d\\n\", d2.month, d2.day, d2.year);\n",
    "    printf(\"%d-%d-%d\\n\", d3.month, d3.day, d3.year);\n",
    "}"
   ]
  },
  {
   "cell_type": "code",
   "execution_count": null,
   "metadata": {
    "collapsed": false
   },
   "outputs": [],
   "source": [
    "%%bash\n",
    "gcc -std=c99 -o ex1 ex1.c"
   ]
  },
  {
   "cell_type": "code",
   "execution_count": null,
   "metadata": {
    "collapsed": false
   },
   "outputs": [],
   "source": [
    "%%bash\n",
    "./ex1"
   ]
  },
  {
   "cell_type": "markdown",
   "metadata": {},
   "source": [
    "### Pointers"
   ]
  },
  {
   "cell_type": "markdown",
   "metadata": {},
   "source": [
    "**Exercise 2**\n",
    "\n",
    "Write and use pointers for working with\n",
    "\n",
    "- (a) doubles\n",
    "- (b) the date struct\n",
    "- (c) vector of doubles\n",
    "- (d) 2D array of doubles"
   ]
  },
  {
   "cell_type": "code",
   "execution_count": null,
   "metadata": {
    "collapsed": true
   },
   "outputs": [],
   "source": [
    "\n",
    "\n",
    "\n"
   ]
  },
  {
   "cell_type": "code",
   "execution_count": null,
   "metadata": {
    "collapsed": true
   },
   "outputs": [],
   "source": [
    "\n",
    "\n",
    "\n"
   ]
  },
  {
   "cell_type": "code",
   "execution_count": null,
   "metadata": {
    "collapsed": true
   },
   "outputs": [],
   "source": [
    "\n",
    "\n",
    "\n"
   ]
  },
  {
   "cell_type": "code",
   "execution_count": null,
   "metadata": {
    "collapsed": true
   },
   "outputs": [],
   "source": [
    "\n",
    "\n",
    "\n"
   ]
  },
  {
   "cell_type": "markdown",
   "metadata": {},
   "source": [
    "**Solution**"
   ]
  },
  {
   "cell_type": "code",
   "execution_count": null,
   "metadata": {
    "collapsed": false
   },
   "outputs": [],
   "source": [
    "%%file ex2a.c\n",
    "#include <stdio.h>\n",
    "#include <stdlib.h>\n",
    "\n",
    "int main(int argc, char* argv[])\n",
    "{\n",
    "    double x1 = 2.78;\n",
    "    double x2 = 3.14;\n",
    "\n",
    "    double *p1 = malloc(sizeof(double));\n",
    "    if (p1 == NULL) return -1;\n",
    "\n",
    "    double *p2 = calloc(sizeof(double), 1);\n",
    "    if (p2 == NULL) return -1;\n",
    "\n",
    "    printf(\"%p: %.2f\\n\", p1, *p1);\n",
    "    printf(\"%p: %.2f\\n\\n\", p2, *p2);\n",
    "\n",
    "    p1 = &x1;\n",
    "    *p2 = x2;\n",
    "\n",
    "    printf(\"%p: %.2f\\n\", p1, *p1);\n",
    "    printf(\"%p: %.2f\\n\", p2, *p2);\n",
    "\n",
    "    // free(p1);\n",
    "    // free(p2);\n",
    "}"
   ]
  },
  {
   "cell_type": "code",
   "execution_count": null,
   "metadata": {
    "collapsed": false
   },
   "outputs": [],
   "source": [
    "%%bash\n",
    "gcc -std=c99 -o ex2a ex2a.c"
   ]
  },
  {
   "cell_type": "code",
   "execution_count": null,
   "metadata": {
    "collapsed": false
   },
   "outputs": [],
   "source": [
    "%%bash\n",
    "./ex2a"
   ]
  },
  {
   "cell_type": "markdown",
   "metadata": {},
   "source": [
    "**Solution**"
   ]
  },
  {
   "cell_type": "code",
   "execution_count": null,
   "metadata": {
    "collapsed": false
   },
   "outputs": [],
   "source": [
    "%%file ex2b.c\n",
    "#include <stdio.h>\n",
    "#include <stdlib.h>\n",
    "\n",
    "typedef struct {\n",
    "    int day;\n",
    "    int month;\n",
    "    int year;\n",
    "} date;\n",
    "\n",
    "int main(int argc, char* argv[])\n",
    "{\n",
    "    date *d1 = malloc(sizeof(date));\n",
    "    if (d1 == NULL) return -1;\n",
    "\n",
    "    d1->day = 29;\n",
    "    d1->month = 3;\n",
    "    d1->year = 2016;\n",
    "\n",
    "    printf(\"%d-%d-%d\\n\", d1->month, d1->day, d1->year);\n",
    "    printf(\"%d-%d-%d\\n\", (*d1).month, (*d1).day, (*d1).year);\n",
    "\n",
    "    free(d1);\n",
    "}"
   ]
  },
  {
   "cell_type": "code",
   "execution_count": null,
   "metadata": {
    "collapsed": false
   },
   "outputs": [],
   "source": [
    "%%bash\n",
    "gcc -std=c99 -o ex2b ex2b.c"
   ]
  },
  {
   "cell_type": "code",
   "execution_count": null,
   "metadata": {
    "collapsed": false
   },
   "outputs": [],
   "source": [
    "%%bash\n",
    "./ex2b"
   ]
  },
  {
   "cell_type": "markdown",
   "metadata": {},
   "source": [
    "**Solution**"
   ]
  },
  {
   "cell_type": "code",
   "execution_count": null,
   "metadata": {
    "collapsed": false
   },
   "outputs": [],
   "source": [
    "%%file ex2c.c\n",
    "#include <stdio.h>\n",
    "#include <stdlib.h>\n",
    "\n",
    "int main(int argc, char* argv[])\n",
    "{\n",
    "    int n = atoi(argv[1]);\n",
    "    double *xs = calloc(sizeof(double), n);\n",
    "    if (xs == NULL) return -1;\n",
    "    \n",
    "    for (int i=0; i<n; i++) {\n",
    "        xs[i] = i*i;\n",
    "    }\n",
    "\n",
    "    printf(\"%.2f\\n\", *(xs));\n",
    "    printf(\"%.2f\\n\", *(xs + 2));\n",
    "    printf(\"%.2f\\n\", xs[0]);\n",
    "    printf(\"%.2f\\n\", xs[2]);\n",
    "\n",
    "    free(xs);\n",
    "}"
   ]
  },
  {
   "cell_type": "code",
   "execution_count": null,
   "metadata": {
    "collapsed": false
   },
   "outputs": [],
   "source": [
    "%%bash\n",
    "gcc -std=c99 -o ex2c ex2c.c"
   ]
  },
  {
   "cell_type": "code",
   "execution_count": null,
   "metadata": {
    "collapsed": false
   },
   "outputs": [],
   "source": [
    "%%bash\n",
    "./ex2c 10"
   ]
  },
  {
   "cell_type": "markdown",
   "metadata": {},
   "source": [
    "**Solution**"
   ]
  },
  {
   "cell_type": "code",
   "execution_count": null,
   "metadata": {
    "collapsed": false
   },
   "outputs": [],
   "source": [
    "%%file ex2d.c\n",
    "#include <stdio.h>\n",
    "#include <stdlib.h>\n",
    "\n",
    "int main(int argc, char* argv[])\n",
    "{\n",
    "    int rows = 2;;\n",
    "    int cols = 3;\n",
    "    double **xs = malloc(sizeof(double) * rows);\n",
    "    for (int i=0; i < rows; i++) {\n",
    "        xs[i] = calloc(sizeof(double), cols);\n",
    "    }\n",
    "    \n",
    "    for (int i=0; i<rows; i++) {\n",
    "        for (int j=0; j<cols; j++) {\n",
    "            xs[i][j] = i+j;\n",
    "        }\n",
    "    }\n",
    "\n",
    "    printf(\"%.2f\\n\", xs[0][0]);\n",
    "    printf(\"%.2f\\n\", xs[1][2]);\n",
    "\n",
    "    for (int i=0; i<rows; i++) {\n",
    "        free(xs[i]);\n",
    "    }\n",
    "    free(xs);\n",
    "}"
   ]
  },
  {
   "cell_type": "code",
   "execution_count": null,
   "metadata": {
    "collapsed": false
   },
   "outputs": [],
   "source": [
    "%%bash\n",
    "gcc -std=c99 -o ex2d ex2d.c"
   ]
  },
  {
   "cell_type": "code",
   "execution_count": null,
   "metadata": {
    "collapsed": false
   },
   "outputs": [],
   "source": [
    "%%bash\n",
    "./ex2d"
   ]
  },
  {
   "cell_type": "markdown",
   "metadata": {},
   "source": [
    "### Function pointers"
   ]
  },
  {
   "cell_type": "markdown",
   "metadata": {},
   "source": [
    "**Exercise 3**\n",
    "\n",
    "Write and use a function pointer."
   ]
  },
  {
   "cell_type": "markdown",
   "metadata": {},
   "source": [
    "**Solution**"
   ]
  },
  {
   "cell_type": "code",
   "execution_count": null,
   "metadata": {
    "collapsed": false
   },
   "outputs": [],
   "source": [
    "%%file ex3.c\n",
    "#include <stdio.h>\n",
    "#include <stdlib.h>\n",
    "\n",
    "double add(double x, double y) {\n",
    "    return x + y;\n",
    "}\n",
    "\n",
    "\n",
    "double mult(double x, double y) {\n",
    "    return x * y;\n",
    "}\n",
    "\n",
    "int main(int argc, char* argv[])\n",
    "{\n",
    "    double a = 3.0;\n",
    "    double b = 4.0;\n",
    "\n",
    "    double (*f)(double, double) = add;\n",
    "\n",
    "    typedef double (*fp)(double, double);\n",
    "    fp g = mult;\n",
    "\n",
    "    printf(\"%.2f\\n\", add(a, b));\n",
    "    printf(\"%.2f\\n\", f(a, b));\n",
    "    printf(\"%.2f\\n\", g(a, b));\n",
    "\n",
    "}"
   ]
  },
  {
   "cell_type": "code",
   "execution_count": null,
   "metadata": {
    "collapsed": false
   },
   "outputs": [],
   "source": [
    "%%bash\n",
    "gcc -std=c99 -o ex3 ex3.c"
   ]
  },
  {
   "cell_type": "code",
   "execution_count": null,
   "metadata": {
    "collapsed": false
   },
   "outputs": [],
   "source": [
    "%%bash\n",
    "./ex3"
   ]
  },
  {
   "cell_type": "markdown",
   "metadata": {},
   "source": [
    "### Separate compilation"
   ]
  },
  {
   "cell_type": "markdown",
   "metadata": {},
   "source": [
    "**Exercise 4**\n",
    "\n",
    "Write header and implementation files for the add function, and use the function in a separate driver file. Use a makefile to compile the executable."
   ]
  },
  {
   "cell_type": "code",
   "execution_count": null,
   "metadata": {
    "collapsed": true
   },
   "outputs": [],
   "source": [
    "\n",
    "\n",
    "\n"
   ]
  },
  {
   "cell_type": "markdown",
   "metadata": {},
   "source": [
    "**Solution**"
   ]
  },
  {
   "cell_type": "code",
   "execution_count": null,
   "metadata": {
    "collapsed": false
   },
   "outputs": [],
   "source": [
    "%%file ex4.h\n",
    "\n",
    "#pragma once\n",
    "double add(double x, double y);\n"
   ]
  },
  {
   "cell_type": "code",
   "execution_count": null,
   "metadata": {
    "collapsed": false
   },
   "outputs": [],
   "source": [
    "%%file ex4.c\n",
    "#include \"ex4.h\"\n",
    "\n",
    "double add(double x, double y) {\n",
    "    return x + y;\n",
    "}\n"
   ]
  },
  {
   "cell_type": "code",
   "execution_count": null,
   "metadata": {
    "collapsed": false
   },
   "outputs": [],
   "source": [
    "%%file ex4_main.c\n",
    "#include <stdio.h>\n",
    "#include \"ex4.h\"\n",
    "\n",
    "int main() {\n",
    "    double a = 3.0;\n",
    "    double b = 4.0;\n",
    "\n",
    "    printf(\"%.2f\\n\", add(a, b));\n",
    "}\n"
   ]
  },
  {
   "cell_type": "code",
   "execution_count": 236,
   "metadata": {
    "collapsed": false
   },
   "outputs": [
    {
     "name": "stdout",
     "output_type": "stream",
     "text": [
      "Overwriting makefile\n"
     ]
    }
   ],
   "source": [
    "%%file makefile\n",
    "\n",
    "ex4_main: ex4_main.c ex4.o\n",
    " \t gcc -std=c99 -o ex4_main ex4_main.c ex4.o\n",
    "\n",
    "ex4.o: ex4.c\n",
    " \t gcc -std=c99 -c ex4.c"
   ]
  },
  {
   "cell_type": "code",
   "execution_count": 237,
   "metadata": {
    "collapsed": false
   },
   "outputs": [
    {
     "name": "stdout",
     "output_type": "stream",
     "text": [
      "cc    -c -o ex4.o ex4.c\n",
      "cc     ex4_main.c ex4.o   -o ex4_main\n"
     ]
    }
   ],
   "source": [
    "%%bash\n",
    "make"
   ]
  },
  {
   "cell_type": "code",
   "execution_count": 238,
   "metadata": {
    "collapsed": false
   },
   "outputs": [
    {
     "name": "stdout",
     "output_type": "stream",
     "text": [
      "7.00\n"
     ]
    }
   ],
   "source": [
    "%%bash\n",
    "./ex4_main"
   ]
  },
  {
   "cell_type": "code",
   "execution_count": 234,
   "metadata": {
    "collapsed": false
   },
   "outputs": [
    {
     "name": "stdout",
     "output_type": "stream",
     "text": [
      "Overwriting makefile\n"
     ]
    }
   ],
   "source": [
    "%%file makefile\n",
    "TARGET = ex4_main\n",
    "OBJECTS = ex4.o\n",
    "CFLAGS = -O3 -std=c99\n",
    "LDLIBS = -lm\n",
    "CC = gcc\n",
    "\n",
    "all: $(TARGET)\n",
    "    \n",
    "clean:\n",
    "\t rm $(TARGET) $(OBJECTS)\n",
    "\n",
    "$(TARGET): $(OBJECTS)"
   ]
  },
  {
   "cell_type": "code",
   "execution_count": 235,
   "metadata": {
    "collapsed": false
   },
   "outputs": [
    {
     "name": "stdout",
     "output_type": "stream",
     "text": [
      "rm ex4_main ex4.o\n"
     ]
    }
   ],
   "source": [
    "%%bash\n",
    "make clean\n",
    "make"
   ]
  },
  {
   "cell_type": "code",
   "execution_count": null,
   "metadata": {
    "collapsed": false
   },
   "outputs": [],
   "source": [
    "%%bash\n",
    "./ex4_main"
   ]
  },
  {
   "cell_type": "markdown",
   "metadata": {},
   "source": [
    "What you should know about C++\n",
    "----\n",
    "\n",
    "- Anonymous functions\n",
    "- Generalized function pointers\n",
    "- Ranged for\n",
    "- Using the standard template library\n",
    "    - Iterators\n",
    "    - Containers\n",
    "    - Algorithms\n",
    "- The `random` library\n",
    "- Using `amradillo`"
   ]
  },
  {
   "cell_type": "markdown",
   "metadata": {},
   "source": [
    "**Exercise 5**\n",
    "\n",
    "Implement Newton's method in 1D for root finding. Pass in the function and gradient as generalized function pointers. Use the method to find all roots of the polynomial equation $f(x) = x^3 - 7x - 6$"
   ]
  },
  {
   "cell_type": "code",
   "execution_count": null,
   "metadata": {
    "collapsed": true
   },
   "outputs": [],
   "source": [
    "\n",
    "\n",
    "\n"
   ]
  },
  {
   "cell_type": "markdown",
   "metadata": {},
   "source": [
    "**Solution**"
   ]
  },
  {
   "cell_type": "code",
   "execution_count": 266,
   "metadata": {
    "collapsed": false
   },
   "outputs": [
    {
     "name": "stdout",
     "output_type": "stream",
     "text": [
      "Overwriting ex5.cpp\n"
     ]
    }
   ],
   "source": [
    "%%file ex5.cpp\n",
    "#include <iostream>\n",
    "#include <vector>\n",
    "#include <iomanip>\n",
    "#include <cmath>\n",
    "#include <functional> \n",
    "using std::vector;\n",
    "using std::cout;\n",
    "using std::function;\n",
    "\n",
    "using func = function<double(double)>;\n",
    "\n",
    "double newton(double x, func f, func fprime, int max_iter=10) {\n",
    "    for (int i=0; i<max_iter; i++) {\n",
    "        x -= f(x)/fprime(x);\n",
    "    }\n",
    "    return x;\n",
    "};\n",
    "\n",
    "int main()\n",
    "{\n",
    "    auto f = [](double x) { return pow(x, 3) - 7*x - 6; };\n",
    "    auto fprime = [](double x) { return 3.0*pow(x, 2) - 7; };\n",
    "    \n",
    "    vector<double> x = {-5, 0, 5};\n",
    "    for (auto x_: x) {\n",
    "        cout << std::setw(2) << x_ << \": \" \n",
    "             << std::setw(3) << newton(x_, f, fprime) << \"\\n\";\n",
    "    }\n",
    "}"
   ]
  },
  {
   "cell_type": "code",
   "execution_count": 267,
   "metadata": {
    "collapsed": false
   },
   "outputs": [],
   "source": [
    "%%bash\n",
    "g++ -std=c++11 ex5.cpp -o ex5"
   ]
  },
  {
   "cell_type": "code",
   "execution_count": 268,
   "metadata": {
    "collapsed": false
   },
   "outputs": [
    {
     "name": "stdout",
     "output_type": "stream",
     "text": [
      "-5:  -2\n",
      " 0:  -1\n",
      " 5:   3\n"
     ]
    }
   ],
   "source": [
    "%%bash\n",
    "./ex5"
   ]
  },
  {
   "cell_type": "markdown",
   "metadata": {},
   "source": [
    "**Exercise 6**\n",
    "\n",
    "Use the armadillo library to\n",
    "\n",
    "- Generate 10 x-coordinates linearly spaced between 10 and 15\n",
    "- Generate 10 random y-values as $y = 3x^2 - 7x + 2 + \\epsilon$ where $\\epsilon \\sim 10 N(0,1)$\n",
    "- Find the length of $x$ and $y$ and the Euclidean distance between $x$ and $y$\n",
    "- Find the correlation between $x$ and $y$\n",
    "- Solve the linear system to find a quadratic fit for this data"
   ]
  },
  {
   "cell_type": "code",
   "execution_count": null,
   "metadata": {
    "collapsed": true
   },
   "outputs": [],
   "source": [
    "\n",
    "\n",
    "\n"
   ]
  },
  {
   "cell_type": "markdown",
   "metadata": {},
   "source": [
    "**Solution**"
   ]
  },
  {
   "cell_type": "code",
   "execution_count": null,
   "metadata": {
    "collapsed": false
   },
   "outputs": [],
   "source": [
    "%%file ex6.cpp\n",
    "#include <iostream>\n",
    "#include <fstream>\n",
    "#include <armadillo>\n",
    "using std::cout;\n",
    "using std::ofstream;\n",
    "using namespace arma;\n",
    "\n",
    "int main() \n",
    "{\n",
    "    vec x = linspace<vec>(10.0,15.0,10);\n",
    "    vec eps = 10*randn<vec>(10);\n",
    "    vec y = 3*x%x - 7*x + 2 + eps; \n",
    "\n",
    "    cout << \"x:\\n\" << x << \"\\n\";\n",
    "    cout << \"y:\\n\" << y << \"\\n\";\n",
    "\n",
    "    cout << \"Lenght of x is: \" << norm(x) << \"\\n\";\n",
    "    cout << \"Lenght of y is: \" << norm(y) << \"\\n\";\n",
    "\n",
    "    cout << \"Distance(x, y) is: \" << norm(x-y) << \"\\n\";\n",
    "\n",
    "    cout << \"Correlation(x, y) is: \" << cor(x, y) << \"\\n\";\n",
    "\n",
    "    mat A = join_rows(ones<vec>(10), x);\n",
    "    A = join_rows(A, x%x);\n",
    "    cout << \"A:\\n\" << A << \"\\n\";\n",
    "\n",
    "    vec b = solve(A, y);\n",
    "    cout << \"b:\\n\" << b << \"\\n\";\n",
    "\n",
    "    ofstream fout1(\"x.txt\");\n",
    "    x.print(fout1);\n",
    "    ofstream fout2(\"y.txt\");\n",
    "    y.print(fout2);\n",
    "    ofstream fout3(\"b.txt\");\n",
    "    b.print(fout3);\n",
    "}"
   ]
  },
  {
   "cell_type": "code",
   "execution_count": 1,
   "metadata": {
    "collapsed": false
   },
   "outputs": [],
   "source": [
    "%%bash\n",
    "g++ -std=c++11 ex6.cpp -o ex6 -larmadillo"
   ]
  },
  {
   "cell_type": "code",
   "execution_count": 2,
   "metadata": {
    "collapsed": false
   },
   "outputs": [
    {
     "name": "stdout",
     "output_type": "stream",
     "text": [
      "x:\n",
      "   10.0000\n",
      "   10.5556\n",
      "   11.1111\n",
      "   11.6667\n",
      "   12.2222\n",
      "   12.7778\n",
      "   13.3333\n",
      "   13.8889\n",
      "   14.4444\n",
      "   15.0000\n",
      "\n",
      "y:\n",
      "   2.4802e+02\n",
      "   2.6412e+02\n",
      "   2.9157e+02\n",
      "   3.3056e+02\n",
      "   3.4089e+02\n",
      "   3.9573e+02\n",
      "   4.4029e+02\n",
      "   4.7583e+02\n",
      "   5.2827e+02\n",
      "   5.8404e+02\n",
      "\n",
      "Lenght of x is: 39.8493\n",
      "Lenght of y is: 1280.16\n",
      "Distance(x, y) is: 1240.76\n",
      "Correlation(x, y) is:    0.9887\n",
      "\n",
      "A:\n",
      "   1.0000e+00   1.0000e+01   1.0000e+02\n",
      "   1.0000e+00   1.0556e+01   1.1142e+02\n",
      "   1.0000e+00   1.1111e+01   1.2346e+02\n",
      "   1.0000e+00   1.1667e+01   1.3611e+02\n",
      "   1.0000e+00   1.2222e+01   1.4938e+02\n",
      "   1.0000e+00   1.2778e+01   1.6327e+02\n",
      "   1.0000e+00   1.3333e+01   1.7778e+02\n",
      "   1.0000e+00   1.3889e+01   1.9290e+02\n",
      "   1.0000e+00   1.4444e+01   2.0864e+02\n",
      "   1.0000e+00   1.5000e+01   2.2500e+02\n",
      "\n",
      "b:\n",
      "   5.8621e+02\n",
      "  -1.0156e+02\n",
      "   6.7586e+00\n",
      "\n"
     ]
    }
   ],
   "source": [
    "%%bash\n",
    "./ex6"
   ]
  },
  {
   "cell_type": "code",
   "execution_count": 3,
   "metadata": {
    "collapsed": false
   },
   "outputs": [
    {
     "data": {
      "image/png": "[encoded data removed]",
      "text/plain": [
       "<matplotlib.figure.Figure at 0x10b6868d0>"
      ]
     },
     "metadata": {},
     "output_type": "display_data"
    }
   ],
   "source": [
    "x = np.loadtxt('x.txt')\n",
    "y = np.loadtxt('y.txt')\n",
    "b = np.loadtxt('b.txt')\n",
    "\n",
    "plt.scatter(x, y, s=40)\n",
    "plt.plot(x, b[0] + b[1]*x + b[2]*x**2, c='red')\n",
    "pass"
   ]
  },
  {
   "cell_type": "code",
   "execution_count": null,
   "metadata": {
    "collapsed": true
   },
   "outputs": [],
   "source": []
  }
 ],
 "metadata": {
  "kernelspec": {
   "display_name": "Python 3",
   "language": "python",
   "name": "python3"
  },
  "language_info": {
   "codemirror_mode": {
    "name": "ipython",
    "version": 3
   },
   "file_extension": ".py",
   "mimetype": "text/x-python",
   "name": "python",
   "nbconvert_exporter": "python",
   "pygments_lexer": "ipython3",
   "version": "3.5.1"
  }
 },
 "nbformat": 4,
 "nbformat_minor": 0
}
