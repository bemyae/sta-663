{
 "cells": [
  {
   "cell_type": "markdown",
   "metadata": {},
   "source": [
    "Extra Packages\n",
    "====\n",
    "\n",
    "These are packages used in the notebooks that are not part of the standard Anaconda distribution. If you get a package not found error, execute the appropriate installation code cell and restart the kernel in the notebook with the error."
   ]
  },
  {
   "cell_type": "markdown",
   "metadata": {
    "collapsed": true
   },
   "source": [
    "```bash\n",
    "\n",
    "! conda update conda\n",
    "! conda update -y matplotlib pandas scikit-learn seaborn\n",
    "\n",
    "! pip instll version_information\n",
    "! pip install rpy2\n",
    "! pip install ggplot\n",
    "! pip install qgrid\n",
    "! pip install ipython-sql\n",
    "! pip install pandasql\n",
    "! pip install lshash\n",
    "! pip install hat-trie\n",
    "! pip install hyperloglog\n",
    "! pip install git+https://github.com/jaybaird/python-bloomfilter.git\n",
    "```"
   ]
  },
  {
   "cell_type": "code",
   "execution_count": null,
   "metadata": {
    "collapsed": true
   },
   "outputs": [],
   "source": []
  }
 ],
 "metadata": {
  "kernelspec": {
   "display_name": "Python 3",
   "language": "python",
   "name": "python3"
  },
  "language_info": {
   "codemirror_mode": {
    "name": "ipython",
    "version": 3
   },
   "file_extension": ".py",
   "mimetype": "text/x-python",
   "name": "python",
   "nbconvert_exporter": "python",
   "pygments_lexer": "ipython3",
   "version": "3.5.1"
  }
 },
 "nbformat": 4,
 "nbformat_minor": 0
}
