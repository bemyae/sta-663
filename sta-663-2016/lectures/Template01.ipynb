{
 "cells": [
  {
   "cell_type": "markdown",
   "metadata": {},
   "source": [
    "Jupyter notebook\n",
    "----\n",
    "```\n",
    "Quick tour\n",
    "Keyboard shortcuts\n",
    "Markdown cells\n",
    "Code cells\n",
    "Switching kernels\n",
    "```"
   ]
  },
  {
   "cell_type": "code",
   "execution_count": null,
   "metadata": {
    "collapsed": true
   },
   "outputs": [],
   "source": [
    "\n",
    "\n",
    "\n",
    "\n"
   ]
  },
  {
   "cell_type": "markdown",
   "metadata": {},
   "source": [
    "Unix shell\n",
    "-----\n",
    "```\n",
    "Getting information: man, info, Google\n",
    "File and directory naviagtion - pwd, ls, cd, mkdir, rm, cp, mv\n",
    "Pipes and I/O: |, >, <\n",
    "Finding stuff: find, grep, locate\n",
    "```"
   ]
  },
  {
   "cell_type": "code",
   "execution_count": null,
   "metadata": {
    "collapsed": true
   },
   "outputs": [],
   "source": [
    "\n",
    "\n",
    "\n",
    "\n"
   ]
  },
  {
   "cell_type": "markdown",
   "metadata": {},
   "source": [
    "Interactive Python\n",
    "----\n",
    "```\n",
    "help, ?, ??\n",
    "magic functions\n",
    "Calling R from Jupyter\n",
    "Simple calculations\n",
    "Everything is an object\n",
    "```"
   ]
  },
  {
   "cell_type": "code",
   "execution_count": null,
   "metadata": {
    "collapsed": true
   },
   "outputs": [],
   "source": [
    "\n",
    "\n",
    "\n",
    "\n"
   ]
  },
  {
   "cell_type": "markdown",
   "metadata": {},
   "source": [
    "Types and Collections\n",
    "----\n",
    "```\n",
    "bool, int, float, complex\n",
    "string\n",
    "None\n",
    "tuple and named_tuple, tuple unpacking\n",
    "list \n",
    "set\n",
    "dictionarie, ordered_dictionarie, defaultdict\n",
    "numpy.array\n",
    "```"
   ]
  },
  {
   "cell_type": "code",
   "execution_count": null,
   "metadata": {
    "collapsed": true
   },
   "outputs": [],
   "source": [
    "\n",
    "\n",
    "\n"
   ]
  },
  {
   "cell_type": "markdown",
   "metadata": {},
   "source": [
    "Operators\n",
    "----\n",
    "```\n",
    "+, -, *, /, //, **, %\n",
    "==, != , <, >=\n",
    "and, or, not, ~, |, &\n",
    "<<, >>\n",
    "+=, *= etc\n",
    "in\n",
    "Operator overloading - list, set, dict operators\n",
    "```"
   ]
  },
  {
   "cell_type": "code",
   "execution_count": null,
   "metadata": {
    "collapsed": true
   },
   "outputs": [],
   "source": [
    "\n",
    "\n",
    "\n",
    "\n"
   ]
  },
  {
   "cell_type": "markdown",
   "metadata": {},
   "source": [
    "Names, assignment and identity\n",
    "----\n",
    "```\n",
    "=, ==, is, id\n",
    "```"
   ]
  },
  {
   "cell_type": "code",
   "execution_count": null,
   "metadata": {
    "collapsed": true
   },
   "outputs": [],
   "source": [
    "\n",
    "\n",
    "\n"
   ]
  },
  {
   "cell_type": "markdown",
   "metadata": {},
   "source": [
    "Exercise: Word counter\n",
    "----\n",
    "\n",
    "Coutn the number of times each word occurs in the poem Jabberwocky. Ignore case and remove all puncutation."
   ]
  },
  {
   "cell_type": "code",
   "execution_count": null,
   "metadata": {
    "collapsed": true
   },
   "outputs": [],
   "source": [
    "jabberwocky = '''\n",
    "’Twas brillig, and the slithy toves\n",
    "      Did gyre and gimble in the wabe:\n",
    "All mimsy were the borogoves,\n",
    "      And the mome raths outgrabe.\n",
    "\n",
    "“Beware the Jabberwock, my son!\n",
    "      The jaws that bite, the claws that catch!\n",
    "Beware the Jubjub bird, and shun\n",
    "      The frumious Bandersnatch!”\n",
    "\n",
    "He took his vorpal sword in hand;\n",
    "      Long time the manxome foe he sought—\n",
    "So rested he by the Tumtum tree\n",
    "      And stood awhile in thought.\n",
    "\n",
    "And, as in uffish thought he stood,\n",
    "      The Jabberwock, with eyes of flame,\n",
    "Came whiffling through the tulgey wood,\n",
    "      And burbled as it came!\n",
    "\n",
    "One, two! One, two! And through and through\n",
    "      The vorpal blade went snicker-snack!\n",
    "He left it dead, and with its head\n",
    "      He went galumphing back.\n",
    "\n",
    "“And hast thou slain the Jabberwock?\n",
    "      Come to my arms, my beamish boy!\n",
    "O frabjous day! Callooh! Callay!”\n",
    "      He chortled in his joy.\n",
    "\n",
    "’Twas brillig, and the slithy toves\n",
    "      Did gyre and gimble in the wabe:\n",
    "All mimsy were the borogoves,\n",
    "      And the mome raths outgrabe.\n",
    "'''"
   ]
  },
  {
   "cell_type": "code",
   "execution_count": null,
   "metadata": {
    "collapsed": true
   },
   "outputs": [],
   "source": [
    "\n",
    "\n",
    "\n",
    "\n"
   ]
  },
  {
   "cell_type": "markdown",
   "metadata": {},
   "source": [
    "Control Flow\n",
    "----\n",
    "```\n",
    "if, elif, else\n",
    "for\n",
    "while\n",
    "continue\n",
    "break\n",
    "ternary operator\n",
    "```"
   ]
  },
  {
   "cell_type": "code",
   "execution_count": null,
   "metadata": {
    "collapsed": true
   },
   "outputs": [],
   "source": [
    "\n",
    "\n",
    "\n",
    "\n"
   ]
  },
  {
   "cell_type": "markdown",
   "metadata": {},
   "source": [
    "Exercise: FizzBuzz\n",
    "----\n",
    "```\n",
    "The \"Fizz-Buzz test\" is an interview question designed to help filter out the 99.5% of programming job candidates who can't seem to program their way out of a wet paper bag. The text of the programming assignment is as follows:\n",
    "\"Write a program that prints the numbers from 1 to 100. But for multiples of three print “Fizz” instead of the number and for the multiples of five print “Buzz”. For numbers which are multiples of both three and five print “FizzBuzz”.\"\n",
    "```\n",
    "Source: [Using FizzBuzz to Find Developers who Grok Coding](http://tickletux.wordpress.com/2007/01/24/using-fizzbuzz-to-find-developers-who-grok-coding/)"
   ]
  },
  {
   "cell_type": "code",
   "execution_count": null,
   "metadata": {
    "collapsed": true
   },
   "outputs": [],
   "source": [
    "\n",
    "\n",
    "\n",
    "\n"
   ]
  },
  {
   "cell_type": "markdown",
   "metadata": {},
   "source": [
    "Built-in functions\n",
    "----"
   ]
  },
  {
   "cell_type": "code",
   "execution_count": 3,
   "metadata": {
    "collapsed": false
   },
   "outputs": [
    {
     "data": {
      "text/plain": [
       "['abs',\n",
       " 'all',\n",
       " 'any',\n",
       " 'ascii',\n",
       " 'bin',\n",
       " 'bool',\n",
       " 'bytearray',\n",
       " 'bytes',\n",
       " 'callable',\n",
       " 'chr',\n",
       " 'classmethod',\n",
       " 'compile',\n",
       " 'complex',\n",
       " 'copyright',\n",
       " 'credits',\n",
       " 'delattr',\n",
       " 'dict',\n",
       " 'dir',\n",
       " 'divmod',\n",
       " 'dreload',\n",
       " 'enumerate',\n",
       " 'eval',\n",
       " 'exec',\n",
       " 'filter',\n",
       " 'float',\n",
       " 'format',\n",
       " 'frozenset',\n",
       " 'get_ipython',\n",
       " 'getattr',\n",
       " 'globals',\n",
       " 'hasattr',\n",
       " 'hash',\n",
       " 'help',\n",
       " 'hex',\n",
       " 'id',\n",
       " 'input',\n",
       " 'int',\n",
       " 'isinstance',\n",
       " 'issubclass',\n",
       " 'iter',\n",
       " 'len',\n",
       " 'license',\n",
       " 'list',\n",
       " 'locals',\n",
       " 'map',\n",
       " 'max',\n",
       " 'memoryview',\n",
       " 'min',\n",
       " 'next',\n",
       " 'object',\n",
       " 'oct',\n",
       " 'open',\n",
       " 'ord',\n",
       " 'pow',\n",
       " 'print',\n",
       " 'property',\n",
       " 'range',\n",
       " 'repr',\n",
       " 'reversed',\n",
       " 'round',\n",
       " 'set',\n",
       " 'setattr',\n",
       " 'slice',\n",
       " 'sorted',\n",
       " 'staticmethod',\n",
       " 'str',\n",
       " 'sum',\n",
       " 'super',\n",
       " 'tuple',\n",
       " 'type',\n",
       " 'vars',\n",
       " 'zip']"
      ]
     },
     "execution_count": 3,
     "metadata": {},
     "output_type": "execute_result"
    }
   ],
   "source": [
    "([x for x in dir(__builtin__)  if x.islower() and not x.startswith('__')])"
   ]
  },
  {
   "cell_type": "code",
   "execution_count": null,
   "metadata": {
    "collapsed": true
   },
   "outputs": [],
   "source": [
    "\n",
    "\n",
    "\n",
    "\n"
   ]
  },
  {
   "cell_type": "markdown",
   "metadata": {},
   "source": [
    "User-defined functions\n",
    "----\n",
    "```\n",
    "def\n",
    "lambda\n",
    "higher order functions\n",
    "```"
   ]
  },
  {
   "cell_type": "code",
   "execution_count": null,
   "metadata": {
    "collapsed": true
   },
   "outputs": [],
   "source": [
    "\n",
    "\n",
    "\n",
    "\n"
   ]
  },
  {
   "cell_type": "markdown",
   "metadata": {},
   "source": [
    "Functional style\n",
    "----\n",
    "```\n",
    "map, reduce, filter\n",
    "comprehensions - list, set, dictionary\n",
    "generator expressions\n",
    "```"
   ]
  },
  {
   "cell_type": "code",
   "execution_count": null,
   "metadata": {
    "collapsed": true
   },
   "outputs": [],
   "source": [
    "\n",
    "\n",
    "\n",
    "\n"
   ]
  },
  {
   "cell_type": "markdown",
   "metadata": {},
   "source": [
    "Exericse\n",
    "----\n",
    "\n",
    "Write a program to flatten a list of lists into a flat list. For example,\n",
    "```\n",
    "flatten([[1,2,3],[4,5],[6,7,8]]) should return [1,2,3,4,5,6,7,8].\n",
    "```\n",
    "\n",
    "Do this using\n",
    "- a for loop \n",
    "- a list comprehension"
   ]
  },
  {
   "cell_type": "code",
   "execution_count": null,
   "metadata": {
    "collapsed": true
   },
   "outputs": [],
   "source": [
    "\n",
    "\n",
    "\n",
    "\n"
   ]
  },
  {
   "cell_type": "markdown",
   "metadata": {},
   "source": [
    "Modules\n",
    "----\n",
    "```\n",
    "Installing new modules\n",
    "Writing your own module\n",
    "Importing from a modue\n",
    "```"
   ]
  },
  {
   "cell_type": "code",
   "execution_count": null,
   "metadata": {
    "collapsed": true
   },
   "outputs": [],
   "source": [
    "\n",
    "\n",
    "\n"
   ]
  }
 ],
 "metadata": {
  "kernelspec": {
   "display_name": "Python 3",
   "language": "python",
   "name": "python3"
  },
  "language_info": {
   "codemirror_mode": {
    "name": "ipython",
    "version": 3
   },
   "file_extension": ".py",
   "mimetype": "text/x-python",
   "name": "python",
   "nbconvert_exporter": "python",
   "pygments_lexer": "ipython3",
   "version": "3.5.1"
  }
 },
 "nbformat": 4,
 "nbformat_minor": 0
}
