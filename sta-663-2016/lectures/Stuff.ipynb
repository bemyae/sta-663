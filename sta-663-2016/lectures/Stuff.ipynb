{
 "cells": [
  {
   "cell_type": "markdown",
   "metadata": {},
   "source": [
    "Foreign Function Interface\n",
    "===="
   ]
  },
  {
   "cell_type": "markdown",
   "metadata": {
    "collapsed": true
   },
   "source": [
    "Wrapping functions written in C\n",
    "----\n",
    "\n",
    "### Steps \n",
    "\n",
    "- Write the C header and implemntation files\n",
    "- Write the Cython `.pxd` file to decalre C function signatures\n",
    "- Write the Cython `.pyx` file to wrap the C functions for Python\n",
    "- Write `setup.py` to automate buiding of the Python extension module\n",
    "- Run `python setup.py build_ext --inplace` to build the module\n",
    "- Import module in Python like any other Python module"
   ]
  },
  {
   "cell_type": "markdown",
   "metadata": {},
   "source": [
    "### C header file"
   ]
  },
  {
   "cell_type": "code",
   "execution_count": 1,
   "metadata": {
    "collapsed": false
   },
   "outputs": [
    {
     "name": "stdout",
     "output_type": "stream",
     "text": [
      "Overwriting c_math.h\n"
     ]
    }
   ],
   "source": [
    "%%file c_math.h\n",
    "\n",
    "#pragma once\n",
    "double plus(double a, double b);\n",
    "double mult(double a, double b);\n",
    "double square(double a);\n",
    "double acc(double *xs, int size);"
   ]
  },
  {
   "cell_type": "markdown",
   "metadata": {},
   "source": [
    "### C implementation file"
   ]
  },
  {
   "cell_type": "code",
   "execution_count": 2,
   "metadata": {
    "collapsed": false
   },
   "outputs": [
    {
     "name": "stdout",
     "output_type": "stream",
     "text": [
      "Overwriting c_math.c\n"
     ]
    }
   ],
   "source": [
    "%%file c_math.c\n",
    "#include <math.h>\n",
    "#include \"c_math.h\"\n",
    "\n",
    "double plus(double a, double b) {\n",
    "    return a + b;\n",
    "};\n",
    "\n",
    "double mult(double a, double b) {\n",
    "    return a * b;\n",
    "};\n",
    "\n",
    "double square(double a) {\n",
    "    return pow(a, 2);\n",
    "};\n",
    "\n",
    "double acc(double *xs, int size) {\n",
    "    double s = 0;\n",
    "    for (int i=0; i<size; i++) {\n",
    "        s += xs[i];\n",
    "    }\n",
    "    return s;\n",
    "};"
   ]
  },
  {
   "cell_type": "markdown",
   "metadata": {},
   "source": [
    "### Cython \"header\" file\n",
    "\n",
    "The `.pxd` file is similar to a header file for Cython. In ohter words, we can `cimport <filename>.pxd` in the regular Cython `.pyx` files to get access to functions decalred in the `.pxd` files."
   ]
  },
  {
   "cell_type": "code",
   "execution_count": 3,
   "metadata": {
    "collapsed": false
   },
   "outputs": [
    {
     "name": "stdout",
     "output_type": "stream",
     "text": [
      "Overwriting cy_math.pxd\n"
     ]
    }
   ],
   "source": [
    "%%file cy_math.pxd\n",
    "\n",
    "cdef extern from \"c_math.h\":\n",
    "    double plus(double a, double b)\n",
    "    double mult(double a, double b)\n",
    "    double square(double a)\n",
    "    double acc(double *xs, int size)"
   ]
  },
  {
   "cell_type": "markdown",
   "metadata": {},
   "source": [
    "### Cython \"implementation\" file\n",
    "\n",
    "Here is whhere we actaully wrap the C code for use in Python. Note especially how we handle passing in of arrays to a C funciton expecting a pointer to double using `typed memoryviews`."
   ]
  },
  {
   "cell_type": "code",
   "execution_count": 4,
   "metadata": {
    "collapsed": false
   },
   "outputs": [
    {
     "name": "stdout",
     "output_type": "stream",
     "text": [
      "Overwriting cy_math.pyx\n"
     ]
    }
   ],
   "source": [
    "%%file cy_math.pyx\n",
    "\n",
    "cimport cy_math\n",
    "\n",
    "def py_plus(double a, double b):\n",
    "    return cy_math.plus(a, b)\n",
    "\n",
    "def py_mult(double a, double b):\n",
    "    return cy_math.mult(a, b)\n",
    "\n",
    "def py_square(double a):\n",
    "    return cy_math.square(a)\n",
    "\n",
    "def py_sum(double[::1] xs):\n",
    "    return cy_math.acc(&xs[0], len(xs))"
   ]
  },
  {
   "cell_type": "markdown",
   "metadata": {},
   "source": [
    "### Build script `setup.py`\n",
    "\n",
    "This is build script for Python, similar to a Makefile"
   ]
  },
  {
   "cell_type": "code",
   "execution_count": 5,
   "metadata": {
    "collapsed": false
   },
   "outputs": [
    {
     "name": "stdout",
     "output_type": "stream",
     "text": [
      "Overwriting setup.py\n"
     ]
    }
   ],
   "source": [
    "%%file setup.py\n",
    "\n",
    "from distutils.core import setup, Extension\n",
    "from Cython.Build import cythonize\n",
    "import numpy as np\n",
    "\n",
    "ext = Extension(\"cy_math\",\n",
    "                sources=[\"cy_math.pyx\", \"c_math.c\"],\n",
    "                libraries=[\"m\"],\n",
    "                extra_compile_args=[\"-w\"])\n",
    "\n",
    "setup(name = \"Math Funcs\",\n",
    "      ext_modules = cythonize(ext))"
   ]
  },
  {
   "cell_type": "markdown",
   "metadata": {},
   "source": [
    "### Building an extension module"
   ]
  },
  {
   "cell_type": "code",
   "execution_count": 6,
   "metadata": {
    "collapsed": false
   },
   "outputs": [
    {
     "name": "stdout",
     "output_type": "stream",
     "text": [
      "Compiling cy_math.pyx because it changed.\n",
      "[1/1] Cythonizing cy_math.pyx\n",
      "running clean\n"
     ]
    }
   ],
   "source": [
    "! python setup.py clean\n",
    "! python setup.py -q build_ext --inplace"
   ]
  },
  {
   "cell_type": "markdown",
   "metadata": {},
   "source": [
    "### Using the extension module in Python"
   ]
  },
  {
   "cell_type": "code",
   "execution_count": 7,
   "metadata": {
    "collapsed": false
   },
   "outputs": [
    {
     "name": "stdout",
     "output_type": "stream",
     "text": [
      "7.0\n",
      "12.0\n",
      "9.0\n",
      "45.0\n"
     ]
    }
   ],
   "source": [
    "import cy_math\n",
    "\n",
    "print(cy_math.py_plus(3, 4))\n",
    "print(cy_math.py_mult(3, 4))\n",
    "print(cy_math.py_square(3))\n",
    "\n",
    "xs = np.arange(10, dtype='float')\n",
    "print(cy_math.py_sum(xs))"
   ]
  },
  {
   "cell_type": "markdown",
   "metadata": {},
   "source": [
    "### Confirm that we are geting C speedups by comparing with pure Python accumulator"
   ]
  },
  {
   "cell_type": "code",
   "execution_count": 8,
   "metadata": {
    "collapsed": true
   },
   "outputs": [],
   "source": [
    "def acc(xs):\n",
    "    s = 0\n",
    "    for x in xs:\n",
    "        s += x\n",
    "    return s"
   ]
  },
  {
   "cell_type": "code",
   "execution_count": 9,
   "metadata": {
    "collapsed": false
   },
   "outputs": [
    {
     "name": "stdout",
     "output_type": "stream",
     "text": [
      "1 loops, best of 3: 200 ms per loop\n",
      "100 loops, best of 3: 2.1 ms per loop\n"
     ]
    }
   ],
   "source": [
    "xs = np.arange(1000000, dtype='float')\n",
    "%timeit acc(xs)\n",
    "%timeit cy_math.py_sum(xs)"
   ]
  },
  {
   "cell_type": "markdown",
   "metadata": {},
   "source": [
    "Wrap an R function from libRmath¶\n",
    "----\n",
    "\n",
    "R comes with a standalone C library of special functions and distributions, as described in the official documentation. These functions can be wrapped for use in Python."
   ]
  },
  {
   "cell_type": "code",
   "execution_count": 10,
   "metadata": {
    "collapsed": false
   },
   "outputs": [
    {
     "name": "stdout",
     "output_type": "stream",
     "text": [
      "Overwriting rmath.pxd\n"
     ]
    }
   ],
   "source": [
    "%%file rmath.pxd\n",
    "\n",
    "cdef extern from \"Rmath.h\":\n",
    "    double  rnorm(double, double)"
   ]
  },
  {
   "cell_type": "code",
   "execution_count": 11,
   "metadata": {
    "collapsed": false
   },
   "outputs": [
    {
     "name": "stdout",
     "output_type": "stream",
     "text": [
      "Overwriting rmath.pyx\n"
     ]
    }
   ],
   "source": [
    "%%file rmath.pyx\n",
    "\n",
    "cimport rmath\n",
    "\n",
    "def py_norm(double mu, double sd):\n",
    "    return rmath.rnorm(mu, sd)"
   ]
  },
  {
   "cell_type": "code",
   "execution_count": 12,
   "metadata": {
    "collapsed": false
   },
   "outputs": [
    {
     "name": "stdout",
     "output_type": "stream",
     "text": [
      "Overwriting setup.py\n"
     ]
    }
   ],
   "source": [
    "%%file setup.py\n",
    "\n",
    "from distutils.core import setup, Extension\n",
    "from Cython.Build import cythonize\n",
    "import numpy as np\n",
    "\n",
    "ext = Extension(\"rmath\",\n",
    "                sources=[\"rmath.pyx\"],\n",
    "                include_dirs = [\".\"],\n",
    "                library_dirs = [\".\"],\n",
    "                libraries=[\"m\", \"Rmath\"],\n",
    "                extra_compile_args=[\"-w\"])\n",
    "\n",
    "setup(name = \"RMath Funcs\",\n",
    "      ext_modules = cythonize(ext))"
   ]
  },
  {
   "cell_type": "code",
   "execution_count": 13,
   "metadata": {
    "collapsed": false
   },
   "outputs": [
    {
     "name": "stdout",
     "output_type": "stream",
     "text": [
      "Compiling rmath.pyx because it changed.\n",
      "[1/1] Cythonizing rmath.pyx\n",
      "running clean\n",
      "removing 'build/temp.macosx-10.5-x86_64-3.5' (and everything under it)\n",
      "removing 'build'\n",
      "In file included from rmath.c:262:\n",
      "\u001b[1m./Rmath.h:204:11: \u001b[0m\u001b[0;1;31mfatal error: \u001b[0m\u001b[1m'R_ext/Boolean.h' file not found\u001b[0m\n",
      "# include <R_ext/Boolean.h>\n",
      "\u001b[0;1;32m          ^\n",
      "\u001b[0m1 error generated.\n",
      "error: command 'gcc' failed with exit status 1\n"
     ]
    }
   ],
   "source": [
    "! python setup.py clean\n",
    "! python setup.py -q build_ext --inplace"
   ]
  },
  {
   "cell_type": "code",
   "execution_count": 14,
   "metadata": {
    "collapsed": false
   },
   "outputs": [
    {
     "ename": "ImportError",
     "evalue": "dlopen(/Users/cliburn/git/sta-663-2016/lectures/rmath.cpython-35m-darwin.so, 2): Symbol not found: _Rf_rnorm\n  Referenced from: /Users/cliburn/git/sta-663-2016/lectures/rmath.cpython-35m-darwin.so\n  Expected in: dynamic lookup\n",
     "output_type": "error",
     "traceback": [
      "\u001b[0;31m---------------------------------------------------------------------------\u001b[0m",
      "\u001b[0;31mImportError\u001b[0m                               Traceback (most recent call last)",
      "\u001b[0;32m<ipython-input-14-006b39270e7f>\u001b[0m in \u001b[0;36m<module>\u001b[0;34m()\u001b[0m\n\u001b[0;32m----> 1\u001b[0;31m \u001b[0;32mimport\u001b[0m \u001b[0mrmath\u001b[0m\u001b[0;34m\u001b[0m\u001b[0m\n\u001b[0m\u001b[1;32m      2\u001b[0m \u001b[0;34m\u001b[0m\u001b[0m\n\u001b[1;32m      3\u001b[0m \u001b[0mrmath\u001b[0m\u001b[0;34m.\u001b[0m\u001b[0mrnom\u001b[0m\u001b[0;34m(\u001b[0m\u001b[0;36m10\u001b[0m\u001b[0;34m,\u001b[0m \u001b[0;36m1\u001b[0m\u001b[0;34m)\u001b[0m\u001b[0;34m\u001b[0m\u001b[0m\n",
      "\u001b[0;31mImportError\u001b[0m: dlopen(/Users/cliburn/git/sta-663-2016/lectures/rmath.cpython-35m-darwin.so, 2): Symbol not found: _Rf_rnorm\n  Referenced from: /Users/cliburn/git/sta-663-2016/lectures/rmath.cpython-35m-darwin.so\n  Expected in: dynamic lookup\n"
     ]
    }
   ],
   "source": [
    "import rmath\n",
    "\n",
    "rmath.rnom(10, 1)"
   ]
  },
  {
   "cell_type": "code",
   "execution_count": null,
   "metadata": {
    "collapsed": true
   },
   "outputs": [],
   "source": []
  }
 ],
 "metadata": {
  "kernelspec": {
   "display_name": "Python 3",
   "language": "python",
   "name": "python3"
  },
  "language_info": {
   "codemirror_mode": {
    "name": "ipython",
    "version": 3
   },
   "file_extension": ".py",
   "mimetype": "text/x-python",
   "name": "python",
   "nbconvert_exporter": "python",
   "pygments_lexer": "ipython3",
   "version": "3.5.1"
  }
 },
 "nbformat": 4,
 "nbformat_minor": 0
}
