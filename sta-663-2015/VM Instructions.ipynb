{
 "metadata": {
  "name": "",
  "signature": "sha256:67b6b7200d6237aa2185a8b45d0fac0c170a03f662bc64ff458dc4e6e45cd96f"
 },
 "nbformat": 3,
 "nbformat_minor": 0,
 "worksheets": [
  {
   "cells": [
    {
     "cell_type": "markdown",
     "metadata": {},
     "source": [
      "Instructions for VM setup\n",
      "========================================\n",
      "\n",
      "Claiming an instance\n",
      "--------------------\n",
      "\n",
      "* Go to vm-manage.oit.duke.edu\n",
      "* Click on the 'Click here to get your own VM' link\n",
      "* Choose the image labeled 'STA-663'\n",
      "\n",
      "\n",
      "Obtaining Passwords\n",
      "-------------------\n",
      "\n",
      "Once you have claimed an instance, the system will assign you a machine with a name in the form\n",
      "colab-sbx-XX.oit.duke.edu where XX will be a number that is unique to YOUR machine. It will also assign a temporary password.  You can keep this password, or if you prefer (and know how to) you may change it.  \n",
      "\n",
      "Access to the machine\n",
      "---------------------\n",
      "\n",
      "You may access your VM in several ways.\n",
      "\n",
      "* ssh: You may use the command:\n",
      "\tssh bitnami@colab-sbx-XX.oit.duke.edu\n",
      "  You will be prompted for a password.  This is the password you were assigned when you claimed the instance\n",
      "* via a web browser: You may access a very rudimentary web site with the following:\n",
      "\thttp://colab-sbx-XX.oit.duke.edu\n",
      "* via the notebook server it is currently running (we'll talk about this in detail). For this, you must use a secure protocol:\n",
      "\thttps://colab-sbx-XX.oit.duke.edu:9999  \n",
      "  Here, you will also be prompted for a password.  This is the password that will be handed out in class, after we know which instance you have been assigned.\n",
      "\n",
      "The last method (via the notebook) is the main way in which you should be accessing the machine for this course.\n"
     ]
    }
   ],
   "metadata": {}
  }
 ]
}