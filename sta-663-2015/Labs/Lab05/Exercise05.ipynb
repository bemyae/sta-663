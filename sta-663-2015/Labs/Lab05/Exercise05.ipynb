{
 "metadata": {
  "name": "",
  "signature": "sha256:cfc0310690914445bd6034d93d73b537d10cdb902dda569cfbcad62ca37da93d"
 },
 "nbformat": 3,
 "nbformat_minor": 0,
 "worksheets": [
  {
   "cells": [
    {
     "cell_type": "code",
     "collapsed": false,
     "input": [
      "import os\n",
      "import sys\n",
      "import glob\n",
      "import matplotlib.pyplot as plt\n",
      "import numpy as np\n",
      "import pandas as pd\n",
      "%matplotlib inline\n",
      "%precision 4\n",
      "plt.style.use('ggplot')"
     ],
     "language": "python",
     "metadata": {},
     "outputs": [],
     "prompt_number": 1
    },
    {
     "cell_type": "code",
     "collapsed": false,
     "input": [
      "from sympy import Symbol, exp, I, pi, N, expand\n",
      "from sympy import init_printing \n",
      "init_printing()"
     ],
     "language": "python",
     "metadata": {},
     "outputs": [],
     "prompt_number": 2
    },
    {
     "cell_type": "markdown",
     "metadata": {},
     "source": [
      "Background for Exercises 1 and 2\n",
      "----\n",
      "\n",
      "The first 2 exercises are about using Newton's method to find the cube roots of unity - find $z$ such that $z^3 = 1$. From the fundamental theorem of algebra, we know there must be exactly 3 complex roots since this is a degree 3 polynomial.\n",
      "\n",
      "We start with Euler's fabulosu equation\n",
      "$$\n",
      "e^{ix} = \\cos x + i \\sin x\n",
      "$$\n",
      "\n",
      "Raising $e^{ix}$ to the $n$th power where $n$ is an integer, we get from Euler's formula with $nx$ substituting for $x$\n",
      "$$\n",
      "(e^{ix})^n = e^{i(nx)} = \\cos nx + i \\sin nx\n",
      "$$\n",
      "\n",
      "Whenever $nx$ is an integer multiple of $2\\pi$, we have\n",
      "$$\n",
      "\\cos nx + i \\sin nx = 1\n",
      "$$\n",
      "\n",
      "So\n",
      "$$\n",
      "e^{2\\pi i \\frac{k}{n}}\n",
      "$$\n",
      "is a root of 1 whenever $k/n = 0, 1, 2, \\ldots$.\n",
      "\n",
      "So the cube roots of unity are $1, e^{2\\pi i/3}, e^{4\\pi i/3}$. \n",
      "\n",
      "While we can do this analytically, the idea is to use Newton's method to find these roots, and in the process, disover some rather perplexing behavior of Newton's method."
     ]
    },
    {
     "cell_type": "code",
     "collapsed": false,
     "input": [
      "expand(exp(2*pi*I/3), complex=True)"
     ],
     "language": "python",
     "metadata": {},
     "outputs": [
      {
       "latex": [
        "$$- \\frac{1}{2} + \\frac{\\sqrt{3} i}{2}$$"
       ],
       "metadata": {},
       "output_type": "pyout",
       "png": "[encoded data removed]",
       "prompt_number": 3,
       "text": [
        "        ___  \n",
        "  1   \u2572\u2571 3 \u22c5\u2148\n",
        "- \u2500 + \u2500\u2500\u2500\u2500\u2500\u2500\u2500\n",
        "  2      2   "
       ]
      }
     ],
     "prompt_number": 3
    },
    {
     "cell_type": "code",
     "collapsed": false,
     "input": [
      "expand(exp(4*pi*I/3), complex=True)"
     ],
     "language": "python",
     "metadata": {},
     "outputs": [
      {
       "latex": [
        "$$- \\frac{1}{2} - \\frac{\\sqrt{3} i}{2}$$"
       ],
       "metadata": {},
       "output_type": "pyout",
       "png": "[encoded data removed]",
       "prompt_number": 4,
       "text": [
        "        ___  \n",
        "  1   \u2572\u2571 3 \u22c5\u2148\n",
        "- \u2500 - \u2500\u2500\u2500\u2500\u2500\u2500\u2500\n",
        "  2      2   "
       ]
      }
     ],
     "prompt_number": 4
    },
    {
     "cell_type": "code",
     "collapsed": false,
     "input": [
      "plt.figure(figsize=(4,4))\n",
      "roots = np.array([[1,0], [-0.5, np.sqrt(3)/2], [-0.5, -np.sqrt(3)/2]])\n",
      "plt.scatter(roots[:,0], roots[:,1], s=50, c='red')\n",
      "xp = np.linspace(0, 2*np.pi, 100)\n",
      "plt.plot(np.cos(xp), np.sin(xp), c='blue');"
     ],
     "language": "python",
     "metadata": {},
     "outputs": [
      {
       "metadata": {},
       "output_type": "display_data",
       "png": "[encoded data removed]",
       "text": [
        "<matplotlib.figure.Figure at 0x1140c43d0>"
       ]
      }
     ],
     "prompt_number": 5
    },
    {
     "cell_type": "markdown",
     "metadata": {},
     "source": [
      "**Exercise 1 (10 points)**. Netwon's method for functions of complex variables - stability and basins of attraction.\n",
      "\n",
      "1. Write a function with the following function signature `newton(z, f, fprime, max_iter=100, tol=1e-6)` where\n",
      "    - `z` is a starting value (a complex number e.g.  ` 3 + 4j`)\n",
      "    - `f` is a function of `z`\n",
      "    - `fprime` is the derivative of  `f`\n",
      "The function will run until either max_iter is reached or the absolute value of the Newton step is less than tol. In either case, the function should return the number of iterations taken and the final value of `z` as a tuple (`i`, `z`). \n",
      "\n",
      "2. Define the function `f` and `fprime` that will result in Newton's method finding the cube roots of 1. Find 3 starting points that will give different roots, and print both the start and end points. "
     ]
    },
    {
     "cell_type": "code",
     "collapsed": false,
     "input": [
      "# your code here\n",
      "\n",
      "\n",
      "\n"
     ],
     "language": "python",
     "metadata": {},
     "outputs": [],
     "prompt_number": 6
    },
    {
     "cell_type": "markdown",
     "metadata": {},
     "source": [
      "**Exercise 2 (10 points)**. Write the following two plotting functions to see some (pretty) aspects of Newton's algorithm in the complex plane.\n",
      "\n",
      "1. The first function `plot_newton_iters(f, fprime, n=200, extent=[-1,1,-1,1], cmap='hsv')` calculates and stores the number of iterations taken for convergence (or max_iter) for each point in a 2D array. The 2D array limits are given by `extent` - for example, when `extent = [-1,1,-1,1]` the corners of the plot are `(-i, -i), (1, -i), (1, i), (-1, i)`. There are `n` grid points in both the real and imaginary axes. The argument `cmap` specifies the color map to use - the suggested defaults are fine. Finally plot the image using `plt.imshow` - make sure the axis ticks are correctly scaled. Make a plot for the cube roots of 1.\n",
      "\n",
      "2. The second function `plot_newton_basins(f, fprime, n=200, extent=[-1,1,-1,1], cmap='jet')` has the same arguments, but this time the grid stores the identity of the root that the starting point converged to. Make a plot for the cube roots of 1 - since there are 3 roots, there should be only 3 colors in the plot."
     ]
    },
    {
     "cell_type": "code",
     "collapsed": false,
     "input": [
      "# your code here\n",
      "\n",
      "\n",
      "\n",
      "\n"
     ],
     "language": "python",
     "metadata": {},
     "outputs": [],
     "prompt_number": 7
    },
    {
     "cell_type": "markdown",
     "metadata": {},
     "source": [
      "**Exercise 3 (10 points)**. Consider the following function on $\\mathbb{R}^2$:\n",
      "\n",
      "$$f(x_1,x_2) = -x_1x_2e^{-\\frac{(x_1^2+x_2^2)}{2}}$$\n",
      "\n",
      "1. Use `sympy` to compute its gradient.\n",
      "2. Compute the Hessian matrix. \n",
      "3. Find the critical points of $f$.\n",
      "4. Characterize the critical points as max/min or neither. Find the minimum under the constraint \n",
      "$$g(x) = x_1^2+x_2^2 \\leq 10$$\n",
      "and \n",
      "$$h(x) = 2x_1 + 3x_2 = 5$$ using `scipy.optimize.minimize`.\n",
      "5. Plot the function using `matplotlib`."
     ]
    },
    {
     "cell_type": "code",
     "collapsed": false,
     "input": [
      "# your code here\n",
      "\n",
      "\n",
      "\n"
     ],
     "language": "python",
     "metadata": {},
     "outputs": [],
     "prompt_number": 8
    },
    {
     "cell_type": "markdown",
     "metadata": {},
     "source": [
      "**Exercise 4 (20 points)**. Find the maximum likelihood function for a logistic regression. Load the file \"train.csv\" (located in this directory) into python.  This file is data from the survival data from the Titanic (from https://www.kaggle.com/).  You are to use a logistic regression to model survival as a function of gender, age and class (of travel). Find the maximum likelihood estimator of $\\beta$ by numerical optimization using stochastic gradient descent as follows:\n",
      "\n",
      "1. Stochastic gradient descent.  In this method, gradient descent is used essentially by fitting *one data point at a time*.  Recall the usual gradient descent step:\n",
      "\n",
      "$$\\beta_{i+1} = \\beta_i - \\nabla \\ell(\\beta_i)$$\n",
      "\n",
      "where\n",
      "\n",
      "$$\\nabla \\ell(\\beta_i) = \\sum\\limits_{j=1}^n \\nabla\\ell(\\beta_i,x_j,y_j)$$\n",
      "\n",
      "and $\\ell$ is the log-likelihood function.  All of the data is used to make the next step toward the optimal $\\beta$.  In stochastic gradient descent, only one point at a time is used to determine the next $\\beta$:\n",
      "\n",
      "$$\\beta_{i+1} = \\beta_i - \\alpha\\nabla \\ell(\\beta_i,x_j,y_j)$$\n",
      "\n",
      "where $\\alpha$ is the step size.  For simplicity, we'll take a constant $\\alpha=1$.\n",
      "\n",
      "Implement the following stochastic gradient algorithm:\n",
      " \n",
      "   a. Shuffle data points (i.e. randomly permute the order of the $(x_j,y_j)$\n",
      "   \n",
      "   b. Refine beta using the iterative formula above over each data point. \n",
      "   \n",
      "   c. Repeat a and b until convergence is reached.\n",
      " \n",
      "Apply the algorithm to the given data set to find the best-fit logistic regression coefficients.  Do not forget that your optimization should include a tolerance and a limit on the number of iterations."
     ]
    },
    {
     "cell_type": "code",
     "collapsed": false,
     "input": [
      "# your code here\n",
      "\n",
      "\n",
      "\n"
     ],
     "language": "python",
     "metadata": {},
     "outputs": [],
     "prompt_number": 9
    }
   ],
   "metadata": {}
  }
 ]
}